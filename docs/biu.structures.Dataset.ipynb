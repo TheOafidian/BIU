{
 "cells": [
  {
   "cell_type": "code",
   "execution_count": 1,
   "metadata": {},
   "outputs": [],
   "source": [
    "import biu"
   ]
  },
  {
   "cell_type": "code",
   "execution_count": 2,
   "metadata": {},
   "outputs": [],
   "source": [
    "tbi = biu.utils.Acquire().curl(\"ftp://ftp.ncbi.nlm.nih.gov/pub/clinvar/tab_delimited/variant_summary.txt.gz\")\\\n",
    "                   .gunzip()\\\n",
    "                   .sort(\"-t $'\\\\t' -k19,19V -k 20,21n\")\\\n",
    "                   .cmd(\"awk -F $'\\\\t' 'BEGIN {OFS = FS} { if($19 != \\\"na\\\"){ print $0}}'\")\\\n",
    "                   .bgzip()\\\n",
    "                   .tabix(seq=19, start=20, end=21)\n",
    "                    \n",
    "bgz = biu.utils.Acquire().curl(\"ftp://ftp.ncbi.nlm.nih.gov/pub/clinvar/tab_delimited/variant_summary.txt.gz\")\\\n",
    "                   .gunzip()\\\n",
    "                   .sort(\"-t $'\\\\t' -k19,19V -k 20,21n\")\\\n",
    "                   .cmd(\"awk -F $'\\\\t' 'BEGIN {OFS = FS} { if($19 != \\\"na\\\"){ print $0}}'\")\\\n",
    "                   .bgzip()\\\n",
    "                   .tabix(seq=19, start=20, end=21)\n",
    "                    \n",
    "gaf = biu.utils.Acquire().curl(\"http://geneontology.org/gene-associations/goa_human.gaf.gz\")\\\n",
    "                   .gunzip().finalize('~/src/test.gaf')\n",
    "\n",
    "fileIndex = { 'gaf' : gaf}"
   ]
  },
  {
   "cell_type": "code",
   "execution_count": 3,
   "metadata": {},
   "outputs": [],
   "source": [
    "D = biu.structures.Dataset(fileIndex)"
   ]
  },
  {
   "cell_type": "code",
   "execution_count": 4,
   "metadata": {},
   "outputs": [],
   "source": [
    "D._registerObject( 'gaf', biu.formats.GAF, ['gaf'], gaf.path)"
   ]
  },
  {
   "cell_type": "code",
   "execution_count": 5,
   "metadata": {},
   "outputs": [
    {
     "name": "stdout",
     "output_type": "stream",
     "text": [
      "Acquire object.\n",
      " Re-do steps: no\n",
      " Current steps:\n",
      "  * curl\n",
      "  * gunzip\n",
      "  * finalize\n",
      "\n"
     ]
    }
   ],
   "source": [
    "print(gaf)"
   ]
  },
  {
   "cell_type": "code",
   "execution_count": 6,
   "metadata": {},
   "outputs": [
    {
     "name": "stdout",
     "output_type": "stream",
     "text": [
      "/home/tgehrmann/repos/BIU/docs/_downloads/67def37e1c6b755c0cbfb09da6b74203e9192838\n",
      "0\n",
      "0\n"
     ]
    },
    {
     "name": "stderr",
     "output_type": "stream",
     "text": [
      "D: /home/tgehrmann/repos/BIU/docs/_downloads\n",
      "D: 67def37e1c6b755c0cbfb09da6b74203e9192838\n",
      "D: \n",
      "D: cp '/home/tgehrmann/repos/BIU/docs/_downloads/67def37e1c6b755c0cbfb09da6b74203e9192838.gunzipped' '/home/tgehrmann/src/test.gaf'\n"
     ]
    },
    {
     "name": "stdout",
     "output_type": "stream",
     "text": [
      "0\n"
     ]
    },
    {
     "name": "stderr",
     "output_type": "stream",
     "text": [
      "/exports/molepi/tgehrmann/miniconda3/lib/python3.6/site-packages/ipykernel_launcher.py:1: DtypeWarning: Columns (4,5,6,7,8,9,10,11,12,13,14,15) have mixed types. Specify dtype option on import or set low_memory=False.\n",
      "  \"\"\"Entry point for launching an IPython kernel.\n"
     ]
    },
    {
     "data": {
      "text/plain": [
       "<biu.formats.gafUtils.GAF at 0x7fa8192630b8>"
      ]
     },
     "execution_count": 6,
     "metadata": {},
     "output_type": "execute_result"
    }
   ],
   "source": [
    "D._getObject('gaf')"
   ]
  },
  {
   "cell_type": "code",
   "execution_count": 10,
   "metadata": {},
   "outputs": [
    {
     "data": {
      "text/plain": [
       "biu.structures.dataset.Dataset"
      ]
     },
     "execution_count": 10,
     "metadata": {},
     "output_type": "execute_result"
    }
   ],
   "source": [
    "type(D)"
   ]
  },
  {
   "cell_type": "code",
   "execution_count": null,
   "metadata": {},
   "outputs": [],
   "source": []
  }
 ],
 "metadata": {
  "kernelspec": {
   "display_name": "Python 3",
   "language": "python",
   "name": "python3"
  },
  "language_info": {
   "codemirror_mode": {
    "name": "ipython",
    "version": 3
   },
   "file_extension": ".py",
   "mimetype": "text/x-python",
   "name": "python",
   "nbconvert_exporter": "python",
   "pygments_lexer": "ipython3",
   "version": "3.6.3"
  }
 },
 "nbformat": 4,
 "nbformat_minor": 2
}
