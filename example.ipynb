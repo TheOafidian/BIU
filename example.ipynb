{
 "cells": [
  {
   "cell_type": "markdown",
   "metadata": {},
   "source": [
    "# Example BIU Usage\n",
    "\n",
    "BIU is a toolkit I made to gather various datasets and tools that I regularly use.\n",
    "This way, I never need to worry about managing the data in files on my computer, I can simply use this package which has wrapper functions for common queries I perform on the datasets.\n",
    "\n",
    "Currently, it allows me to \n",
    "\n",
    " * Download a number of datasets on the fly - when they are needed (and sub-components of these datasets)\n",
    " * Dynamically load datasets when they are needed (They do not consume memory until a query is performed upon them\n",
    " * Query these datasets\n",
    " * Handle various data formats:\n",
    "   * FASTA\n",
    "   * GFF3\n",
    "   * GAF (GO annotation file)\n",
    "   * SQLite databases\n",
    "   * VCF (using the pyvcf package)\n",
    " * Map IDs between various indexing methods"
   ]
  },
  {
   "cell_type": "code",
   "execution_count": 1,
   "metadata": {},
   "outputs": [],
   "source": [
    "import biu as biu\n",
    "import matplotlib.pylab as plt\n",
    "import seaborn as sns\n",
    "import numpy as np\n",
    "import pandas as pd"
   ]
  },
  {
   "cell_type": "markdown",
   "metadata": {},
   "source": [
    "### Change some default settings\n",
    "We can change the default location for all data storage, and turn off debug messages"
   ]
  },
  {
   "cell_type": "code",
   "execution_count": 2,
   "metadata": {},
   "outputs": [
    {
     "name": "stdout",
     "output_type": "stream",
     "text": [
      "We set the default data directory to be: '/exports/molepi/tgehrmann/data/'\n",
      "Turned OFF debug messages\n",
      "Turned ON debug messages\n"
     ]
    }
   ],
   "source": [
    "where = '/exports/molepi/tgehrmann/data/'\n",
    "biu.config.settings.setWhere(where)\n",
    "print(\"We set the default data directory to be: '%s'\" % biu.config.settings.getWhere())\n",
    "\n",
    "biu.config.settings.setDebugState(False)\n",
    "print(\"Turned OFF debug messages\")\n",
    "biu.config.settings.setDebugState(True)\n",
    "print(\"Turned ON debug messages\")"
   ]
  },
  {
   "cell_type": "markdown",
   "metadata": {},
   "source": [
    "## List the available datasets"
   ]
  },
  {
   "cell_type": "code",
   "execution_count": null,
   "metadata": {},
   "outputs": [],
   "source": [
    "biu.db.list()"
   ]
  },
  {
   "cell_type": "markdown",
   "metadata": {},
   "source": [
    "## Open a genome object and load the GFF file"
   ]
  },
  {
   "cell_type": "markdown",
   "metadata": {},
   "source": [
    "Load the genome, and get the GFF file and parse it"
   ]
  },
  {
   "cell_type": "code",
   "execution_count": null,
   "metadata": {},
   "outputs": [],
   "source": [
    "hg = biu.db.Genome(\"Ensembl_91\")\n",
    "print(hg)"
   ]
  },
  {
   "cell_type": "code",
   "execution_count": null,
   "metadata": {},
   "outputs": [],
   "source": [
    "seqid = list(hg.aa.entries.keys())[1000]\n",
    "print('>%s\\n%s' % (seqid, hg.aa[seqid]))"
   ]
  },
  {
   "cell_type": "code",
   "execution_count": null,
   "metadata": {},
   "outputs": [],
   "source": [
    "print(hg.gff)"
   ]
  },
  {
   "cell_type": "code",
   "execution_count": null,
   "metadata": {},
   "outputs": [],
   "source": [
    "nTranscriptsPerGene = []\n",
    "nExonsPerTranscript = []\n",
    "for gene in hg.gff.topLevel['gene']:\n",
    "    transcripts = [ cid for (i, cid) in hg.gff.index[gene][1] ]\n",
    "    nTranscriptsPerGene.append(len(transcripts))\n",
    "    for trans in transcripts:\n",
    "        nExonsPerTranscript.append(len(hg.gff.index[trans][1]))\n",
    "    #efor\n",
    "#efor\n",
    "\n",
    "fig, axes = plt.subplots(figsize=(12,4), ncols=2, nrows=1)\n",
    "axes = axes.flatten()\n",
    "axes[0].hist(nTranscriptsPerGene, bins=20)\n",
    "axes[0].set_xlabel(\"Number of transcripts\")\n",
    "axes[0].set_ylabel(\"Number of genes\")\n",
    "axes[1].hist(nExonsPerTranscript, bins=20, log=True)\n",
    "axes[1].set_xlabel(\"Number of exons\")\n",
    "axes[1].set_ylabel(\"Number of genes\")\n",
    "plt.show()"
   ]
  },
  {
   "cell_type": "markdown",
   "metadata": {},
   "source": [
    "## Access the Uniprot database"
   ]
  },
  {
   "cell_type": "code",
   "execution_count": null,
   "metadata": {},
   "outputs": [],
   "source": [
    "uniprot = biu.db.UniProt(\"human\")\n",
    "print(uniprot)"
   ]
  },
  {
   "cell_type": "code",
   "execution_count": null,
   "metadata": {},
   "outputs": [],
   "source": [
    "for result in uniprot.getProteinDomains('P42345'):\n",
    "    print(result)"
   ]
  },
  {
   "cell_type": "markdown",
   "metadata": {},
   "source": [
    "## Access the ClinVar database"
   ]
  },
  {
   "cell_type": "code",
   "execution_count": null,
   "metadata": {},
   "outputs": [],
   "source": [
    "cv = biu.db.ClinVar(\"GRCh37\")\n",
    "print(cv)"
   ]
  },
  {
   "cell_type": "code",
   "execution_count": null,
   "metadata": {},
   "outputs": [],
   "source": [
    "alts = { n : 0 for n in 'ACGT'}\n",
    "for record in cv.queryVCF(1, 949422, 1049422):\n",
    "    for alt in record.ALT:\n",
    "        alt = alt.sequence\n",
    "        if alt in alts:\n",
    "            alts[alt] += 1\n",
    "\n",
    "cImpact = {}\n",
    "for record in cv.querySummary(1, 949422, 1049422):\n",
    "    if record.clinicalsignificance not in cImpact:\n",
    "        cImpact[record.clinicalsignificance] = 0\n",
    "    cImpact[record.clinicalsignificance] += 1\n",
    "\n",
    "fig, axes = plt.subplots(figsize=(12,4), ncols=2, nrows=1)\n",
    "axes = axes.flatten()\n",
    "\n",
    "nbars = axes[0].bar([1,2,3,4], alts.values(), tick_label=list(alts.keys()))\n",
    "\n",
    "nbars = axes[1].bar([ x + 1 for x in range(len(cImpact.keys())) ], cImpact.values(), tick_label=list(cImpact.keys()))\n",
    "plt.xticks(rotation=90)\n",
    "plt.show()"
   ]
  },
  {
   "cell_type": "markdown",
   "metadata": {},
   "source": [
    "## Access the CADD database\n",
    "If you have pre-existing files elsewhere, you can tell the system where they are exactly with the \"localCopy\" argument, and it will make a symbolic link to our local copy."
   ]
  },
  {
   "cell_type": "code",
   "execution_count": null,
   "metadata": {},
   "outputs": [],
   "source": [
    "cadd = biu.db.CADD(localCopy = {\"tsv\" : \"/exports/molepi/tgehrmann/GAVIN-reimp/CADD/cadd.tsv.bgz\", \n",
    "                                \"tsv_tbi\" : \"/exports/molepi/tgehrmann/GAVIN-reimp/CADD/cadd.tsv.bgz.tbi\"})\n",
    "print(cadd)"
   ]
  },
  {
   "cell_type": "code",
   "execution_count": null,
   "metadata": {},
   "outputs": [],
   "source": [
    "plt.hist([ float(p) for p in cadd.query(1, 0, 1000000).values() ], bins=200)\n",
    "plt.xlabel(\"CADD score\")\n",
    "plt.show()"
   ]
  },
  {
   "cell_type": "markdown",
   "metadata": {},
   "source": [
    "## Access the GnomAD database"
   ]
  },
  {
   "cell_type": "code",
   "execution_count": null,
   "metadata": {},
   "outputs": [],
   "source": [
    "gnomad = biu.db.Gnomad(localCopy = { \"vcf\" : \"/exports/molepi/tgehrmann/GAVIN-reimp/gnomAD/gnomad.vcf.bgz\",\n",
    "                                     \"vcf_tbi\" : \"/exports/molepi/tgehrmann/GAVIN-reimp/gnomAD/gnomad.vcf.bgz.tbi\"})\n",
    "print(gnomad)"
   ]
  },
  {
   "cell_type": "markdown",
   "metadata": {},
   "source": [
    "### How to query from VCF files.\n",
    "There are different options to filter queries:\n",
    " * filters : Filter Variants based on a list of filters\n",
    " * gtFilters : Filter genotype calls based on a list of filters\n",
    " * types : Filter variants based on variant types\n",
    " * subTypes : Filter variants based on more specific variant types\n",
    " * sampleFilters : Filter sample calls based on a list of sample names. IMPORTANT: THIS WILL SELECT THOSE IN THE LIST, NOT FILTER THEM OUT!!\n",
    " \n",
    "These options can be used in any VCF query structure (e.g. clinVar, GnomAD, COSMIC, LLS, BBMRI)"
   ]
  },
  {
   "cell_type": "code",
   "execution_count": 3,
   "metadata": {},
   "outputs": [
    {
     "ename": "NameError",
     "evalue": "name 'gnomad' is not defined",
     "output_type": "error",
     "traceback": [
      "\u001b[0;31m---------------------------------------------------------------------------\u001b[0m",
      "\u001b[0;31mNameError\u001b[0m                                 Traceback (most recent call last)",
      "\u001b[0;32m<ipython-input-3-4527bde8362a>\u001b[0m in \u001b[0;36m<module>\u001b[0;34m()\u001b[0m\n\u001b[1;32m      2\u001b[0m \u001b[0mtypes\u001b[0m \u001b[0;34m=\u001b[0m \u001b[0;34m[\u001b[0m \u001b[0;34m\"snp\"\u001b[0m \u001b[0;34m]\u001b[0m\u001b[0;34m\u001b[0m\u001b[0m\n\u001b[1;32m      3\u001b[0m \u001b[0;34m\u001b[0m\u001b[0m\n\u001b[0;32m----> 4\u001b[0;31m \u001b[0mprint\u001b[0m\u001b[0;34m(\u001b[0m\u001b[0;34m\"Without snp filter:\"\u001b[0m\u001b[0;34m,\u001b[0m \u001b[0mlen\u001b[0m\u001b[0;34m(\u001b[0m\u001b[0mlist\u001b[0m\u001b[0;34m(\u001b[0m\u001b[0mgnomad\u001b[0m\u001b[0;34m.\u001b[0m\u001b[0mquery\u001b[0m\u001b[0;34m(\u001b[0m\u001b[0;36m1\u001b[0m\u001b[0;34m,\u001b[0m \u001b[0;36m324719\u001b[0m\u001b[0;34m,\u001b[0m \u001b[0;36m324720\u001b[0m\u001b[0;34m,\u001b[0m \u001b[0mfilters\u001b[0m\u001b[0;34m=\u001b[0m\u001b[0mfilters\u001b[0m\u001b[0;34m)\u001b[0m\u001b[0;34m)\u001b[0m\u001b[0;34m)\u001b[0m\u001b[0;34m)\u001b[0m\u001b[0;34m\u001b[0m\u001b[0m\n\u001b[0m\u001b[1;32m      5\u001b[0m \u001b[0mprint\u001b[0m\u001b[0;34m(\u001b[0m\u001b[0;34m\"With snp filter:\"\u001b[0m\u001b[0;34m,\u001b[0m \u001b[0mlen\u001b[0m\u001b[0;34m(\u001b[0m\u001b[0mlist\u001b[0m\u001b[0;34m(\u001b[0m\u001b[0mgnomad\u001b[0m\u001b[0;34m.\u001b[0m\u001b[0mquery\u001b[0m\u001b[0;34m(\u001b[0m\u001b[0;36m1\u001b[0m\u001b[0;34m,\u001b[0m \u001b[0;36m324719\u001b[0m\u001b[0;34m,\u001b[0m \u001b[0;36m324720\u001b[0m\u001b[0;34m,\u001b[0m \u001b[0mfilters\u001b[0m\u001b[0;34m=\u001b[0m\u001b[0mfilters\u001b[0m\u001b[0;34m,\u001b[0m \u001b[0mtypes\u001b[0m\u001b[0;34m=\u001b[0m\u001b[0mtypes\u001b[0m\u001b[0;34m)\u001b[0m\u001b[0;34m)\u001b[0m\u001b[0;34m)\u001b[0m\u001b[0;34m)\u001b[0m\u001b[0;34m\u001b[0m\u001b[0m\n\u001b[1;32m      6\u001b[0m \u001b[0mprint\u001b[0m\u001b[0;34m(\u001b[0m\u001b[0;34m\"With RF filter:\"\u001b[0m\u001b[0;34m,\u001b[0m \u001b[0mlen\u001b[0m\u001b[0;34m(\u001b[0m\u001b[0mlist\u001b[0m\u001b[0;34m(\u001b[0m\u001b[0mgnomad\u001b[0m\u001b[0;34m.\u001b[0m\u001b[0mquery\u001b[0m\u001b[0;34m(\u001b[0m\u001b[0;36m1\u001b[0m\u001b[0;34m,\u001b[0m \u001b[0;36m324719\u001b[0m\u001b[0;34m,\u001b[0m \u001b[0;36m324720\u001b[0m\u001b[0;34m,\u001b[0m \u001b[0mfilters\u001b[0m\u001b[0;34m=\u001b[0m\u001b[0mfilters\u001b[0m \u001b[0;34m+\u001b[0m \u001b[0;34m[\u001b[0m\u001b[0;34m'RF'\u001b[0m\u001b[0;34m]\u001b[0m\u001b[0;34m,\u001b[0m \u001b[0mtypes\u001b[0m\u001b[0;34m=\u001b[0m\u001b[0mtypes\u001b[0m\u001b[0;34m)\u001b[0m\u001b[0;34m)\u001b[0m\u001b[0;34m)\u001b[0m\u001b[0;34m)\u001b[0m\u001b[0;34m\u001b[0m\u001b[0m\n",
      "\u001b[0;31mNameError\u001b[0m: name 'gnomad' is not defined"
     ]
    }
   ],
   "source": [
    "filters = [ \"AMBIGUOUS\",\"VQLOW\",\"NVLOC\",\"CALLRATE\",\"MULTI\",\"RECMULTI\"]\n",
    "types = [ \"snp\" ]\n",
    "\n",
    "print(\"Without snp filter:\", len(list(gnomad.query(1, 324719, 324720, filters=filters))))\n",
    "print(\"With snp filter:\", len(list(gnomad.query(1, 324719, 324720, filters=filters, types=types))))\n",
    "print(\"With RF filter:\", len(list(gnomad.query(1, 324719, 324720, filters=filters + ['RF'], types=types))))"
   ]
  },
  {
   "cell_type": "code",
   "execution_count": 4,
   "metadata": {},
   "outputs": [
    {
     "name": "stdout",
     "output_type": "stream",
     "text": [
      "TESTING\n",
      "TESTING\n"
     ]
    },
    {
     "name": "stderr",
     "output_type": "stream",
     "text": [
      "D: Could not make Symbolic link for 'phen'. Rewriting internal location.\n",
      "D: Initializing the TSVResourceManager object NOW\n",
      "D: Initializing the VCFResourceManager object NOW\n",
      "D: Extract option: None\n",
      "D: Extract option: summary\n"
     ]
    },
    {
     "data": {
      "text/html": [
       "<div>\n",
       "<style scoped>\n",
       "    .dataframe tbody tr th:only-of-type {\n",
       "        vertical-align: middle;\n",
       "    }\n",
       "\n",
       "    .dataframe tbody tr th {\n",
       "        vertical-align: top;\n",
       "    }\n",
       "\n",
       "    .dataframe thead th {\n",
       "        text-align: right;\n",
       "    }\n",
       "</style>\n",
       "<table border=\"1\" class=\"dataframe\">\n",
       "  <thead>\n",
       "    <tr style=\"text-align: right;\">\n",
       "      <th></th>\n",
       "      <th>id</th>\n",
       "      <th>RR</th>\n",
       "      <th>R</th>\n",
       "      <th>RA</th>\n",
       "      <th>A</th>\n",
       "      <th>AA</th>\n",
       "      <th>U</th>\n",
       "    </tr>\n",
       "  </thead>\n",
       "  <tbody>\n",
       "    <tr>\n",
       "      <th>0</th>\n",
       "      <td>1-26883511-A-C</td>\n",
       "      <td>146</td>\n",
       "      <td>0</td>\n",
       "      <td>62</td>\n",
       "      <td>0</td>\n",
       "      <td>10</td>\n",
       "      <td>0</td>\n",
       "    </tr>\n",
       "  </tbody>\n",
       "</table>\n",
       "</div>"
      ],
      "text/plain": [
       "               id   RR  R  RA  A  AA  U\n",
       "0  1-26883511-A-C  146  0  62  0  10  0"
      ]
     },
     "execution_count": 4,
     "metadata": {},
     "output_type": "execute_result"
    }
   ],
   "source": [
    "lls = biu.db.LLS(localCopy={\"phen\" : \"/home/tgehrmann/repos/VAR/phen218.txt\"})\n",
    "\n",
    "# Define the filters we want to use for the Variant calls:\n",
    "varFilters = [ \"AMBIGUOUS\",\"VQLOW\",\"NVLOC\",\"CALLRATE\",\"MULTI\",\"RECMULTI\"]\n",
    "\n",
    "# We are only interested in SNPs\n",
    "varTypes = [ \"snp\" ]\n",
    "\n",
    "# Within the LLS, we are only interested in 218 people, 4 of them we want to exclude (REMINDER: ask Erik why...)\n",
    "varSampleFilters = lls.phenotypes[\"cgID\"].apply(lambda x: x + '_240_37-ASM').values\n",
    "\n",
    "V = lls.query(1, 26883510, 26883511, filters=varFilters, types=varTypes, sampleFilters=varSampleFilters)\n",
    "S = lls.query(1, 26883510, 26883511, filters=varFilters, types=varTypes, sampleFilters=varSampleFilters, extract=\"summary\")\n",
    "\n",
    "biu.formats.VCF.summary(V)\n",
    "S\n"
   ]
  },
  {
   "cell_type": "code",
   "execution_count": 5,
   "metadata": {},
   "outputs": [
    {
     "name": "stdout",
     "output_type": "stream",
     "text": [
      "TESTING\n"
     ]
    },
    {
     "name": "stderr",
     "output_type": "stream",
     "text": [
      "D: Extract option: raw\n"
     ]
    }
   ],
   "source": [
    "V = lls.query(1, 26883510, 26883511, extract=\"raw\")"
   ]
  },
  {
   "cell_type": "code",
   "execution_count": null,
   "metadata": {},
   "outputs": [],
   "source": [
    "alts = { n : 0 for n in 'ACGT'}\n",
    "for record in gnomad.queryVCF(1, 12590, 13000):\n",
    "    for alt in record.ALT:\n",
    "        alt = alt.sequence\n",
    "        if alt in alts:\n",
    "            alts[alt] += 1\n",
    "\n",
    "x = []; y = []\n",
    "for record in gnomad.queryCov(1, 12590, 13000, namedtuple=True):\n",
    "    x.append(int(record.pos))\n",
    "    y.append(float(record.mean))\n",
    "\n",
    "gene = \"gene:ENSG00000146648\"\n",
    "gEntry = hg.gff.getID(gene)\n",
    "genex = []; geney=[]\n",
    "for record in gnomad.queryCov(1, gEntry.start, gEntry.end, namedtuple=True):    \n",
    "    genex.append(int(record.pos))\n",
    "    geney.append(float(record.mean))\n",
    "\n",
    "fig, axes = plt.subplots(figsize=(12,4), ncols=3, nrows=1)\n",
    "axes = axes.flatten()\n",
    "\n",
    "nbars = axes[0].bar([1,2,3,4], alts.values(), tick_label=list(alts.keys()))\n",
    "axes[1].plot(x,y)\n",
    "axes[2].plot(genex,geney)\n",
    "\n",
    "plt.show()"
   ]
  },
  {
   "cell_type": "markdown",
   "metadata": {},
   "source": [
    "## GTeX access\n",
    "Because GTeX is behind this ugly google login, you have to provide the files yourself.\n",
    "This can be done by specifying the exact location of the data.\n",
    "While the other datasets place the files deeper than the 'where' that you specify, GTeX will look EXACTLY for the following files:\n",
    " * `'where'/GTEx_Analysis_2016-01-15_v7_RNASeQCv1.1.8_gene_tpm.gct.gz`\n",
    " * `'where'/GTEx_Analysis_2016-01-15_v7_RSEMv1.2.22_transcript_tpm.txt.gz`\n",
    " * `'where'/GTEx_v7_Annotations_SampleAttributesDS.txt`\n",
    " * `'where'/GTEx_v7_Annotations_SubjectPhenotypesDS.txt`\n"
   ]
  },
  {
   "cell_type": "code",
   "execution_count": null,
   "metadata": {},
   "outputs": [],
   "source": [
    "where = '/exports/molepi/tgehrmann/data/'\n",
    "import biu as biu\n",
    "biu.config.settings.setWhere(where)\n",
    "gtex = biu.db.GTeX(version=\"v7\",\n",
    "                   where=\"/exports/molepi/tgehrmann/data/gtex\")\n",
    "print(gtex)"
   ]
  },
  {
   "cell_type": "code",
   "execution_count": null,
   "metadata": {},
   "outputs": [],
   "source": [
    "print(gtex.getPersonIDSamples(gtex.getPersonIDs()[0]))\n",
    "%time gtex.getGeneExpr(gtex.getPersonIDSamples(gtex.getPersonIDs()[0]))"
   ]
  },
  {
   "cell_type": "code",
   "execution_count": null,
   "metadata": {},
   "outputs": [],
   "source": [
    "pTissues = {}\n",
    "for i, row in gtex.sAttr.iterrows():\n",
    "    if row[\"SMAFRZE\"] != \"RNASEQ\":\n",
    "        continue\n",
    "    #fi\n",
    "    personID = row[\"SAMPID\"].split('-')[1]\n",
    "    sampleType = row[\"SMTSD\"]\n",
    "    if personID not in pTissues:\n",
    "        pTissues[personID] = []\n",
    "    pTissues[personID].append(sampleType)\n",
    "\n",
    "indivTissues = sorted(list(set(gtex.sAttr[\"SMTSD\"])))\n",
    "pairwiseTissueCounts = {}\n",
    "for personID in pTissues:\n",
    "    tissues = list(set(pTissues[personID]))\n",
    "    for i, samplei in enumerate(tissues[:-1]):\n",
    "        for j, samplej in enumerate(tissues[i+1:]):\n",
    "            key = (samplei, samplej)\n",
    "            if key not in pairwiseTissueCounts:\n",
    "                pairwiseTissueCounts[key] = 0\n",
    "            pairwiseTissueCounts[(samplei, samplej)] += 1\n",
    "\n",
    "indivTissuesMap = { t: i for (i,t) in enumerate(list(indivTissues)) }\n",
    "\n",
    "C = np.zeros([len(indivTissues), len(indivTissues)])\n",
    "for (t1,t2) in pairwiseTissueCounts:\n",
    "    C[indivTissuesMap[t1], indivTissuesMap[t2]] = int(pairwiseTissueCounts.get((t1,t2),0) +\n",
    "                                                  pairwiseTissueCounts.get((t2,t1),0))\n",
    "    C[indivTissuesMap[t2], indivTissuesMap[t1]] = int(pairwiseTissueCounts.get((t1,t2),0) +\n",
    "                                                  pairwiseTissueCounts.get((t2,t1),0))"
   ]
  },
  {
   "cell_type": "code",
   "execution_count": null,
   "metadata": {},
   "outputs": [],
   "source": [
    "fig, ax = plt.subplots(figsize=(40,40))\n",
    "sns.heatmap(C, ax = ax, xticklabels=indivTissues, yticklabels=indivTissues, annot=True, fmt='.0f')\n",
    "plt.show()"
   ]
  },
  {
   "cell_type": "code",
   "execution_count": null,
   "metadata": {},
   "outputs": [],
   "source": [
    "interestTissues = [ 'Adipose - Subcutaneous', 'Adipose - Visceral (Omentum)', 'Muscle - Skeletal', \"Whole Blood\" ]\n",
    "interestTissuesIndex = [ indivTissuesMap[t] for t in interestTissues ]\n",
    "\n",
    "fig, ax = plt.subplots(figsize=(10,10))\n",
    "sns.heatmap(C[interestTissuesIndex,:][:,interestTissuesIndex], ax = ax, xticklabels=interestTissues, yticklabels=interestTissues, annot=True, fmt='.1f')\n",
    "plt.show()"
   ]
  },
  {
   "cell_type": "markdown",
   "metadata": {},
   "source": [
    "## Reactome access\n",
    "Doesn't really work yet"
   ]
  },
  {
   "cell_type": "code",
   "execution_count": null,
   "metadata": {},
   "outputs": [],
   "source": [
    "#reactome = biu.db.Reactome(where=where + '/reactome')\n",
    "#print(reactome)\n",
    "#for r in reactome.getPathway(\"R-HSA-1236973\"):\n",
    "#    print(r)"
   ]
  },
  {
   "cell_type": "markdown",
   "metadata": {},
   "source": [
    "## Cosmic access"
   ]
  },
  {
   "cell_type": "code",
   "execution_count": null,
   "metadata": {},
   "outputs": [],
   "source": [
    "cosmic = biu.db.Cosmic(\"t.gehrmann@lumc.nl\", \"cab847t0\")\n",
    "print(cosmic)"
   ]
  },
  {
   "cell_type": "code",
   "execution_count": null,
   "metadata": {},
   "outputs": [],
   "source": [
    "for r in cosmic.vcfCoding.query(1, 1, 69270):\n",
    "    print(r)"
   ]
  },
  {
   "cell_type": "code",
   "execution_count": null,
   "metadata": {},
   "outputs": [],
   "source": [
    "for r in cosmic.vcfNonCoding.query(1, 1, 69270):\n",
    "    print(r)"
   ]
  },
  {
   "cell_type": "markdown",
   "metadata": {},
   "source": [
    "## Gene mapping"
   ]
  },
  {
   "cell_type": "markdown",
   "metadata": {},
   "source": [
    "### Do gene mapping with pickled maps\n",
    "Faster operations, but slow initialization + more memory usage"
   ]
  },
  {
   "cell_type": "code",
   "execution_count": null,
   "metadata": {},
   "outputs": [],
   "source": [
    "import biu\n",
    "hm = biu.maps.Human(where=\"/exports/molepi/tgehrmann/data/\")\n",
    "print(hm)\n",
    "\n",
    "def exampleMapping(GMO):\n",
    "    # GMO : Gene Mapping Object\n",
    "    symbol = \"MTOR\"\n",
    "    geneid = GMO.getSymbolGeneID(symbol)[0]\n",
    "    print(\"%s -> %s\" % (symbol, geneid))\n",
    "    symbol = GMO.getGeneIDSymbol(geneid)[0]\n",
    "    print(\"%s -> %s\" % (geneid, symbol))\n",
    "    ensembl = GMO.getSymbolEnsembl(symbol)[0]\n",
    "    print(\"%s -> %s\" % (symbol, ensembl))\n",
    "    symbol = GMO.getEnsemblSymbol(ensembl)[0]\n",
    "    print(\"%s -> %s\" % (ensembl, symbol))\n",
    "#edef\n",
    "\n",
    "def exampleMappingSilent(GMO):\n",
    "    # GMO : Gene Mapping Object\n",
    "    symbol = \"MTOR\"\n",
    "    geneid = GMO.getSymbolGeneID(symbol)[0]\n",
    "    symbol = GMO.getGeneIDSymbol(geneid)[0]\n",
    "    ensembl = GMO.getSymbolEnsembl(symbol)[0]\n",
    "    symbol = GMO.getEnsemblSymbol(ensembl)[0]\n",
    "#edef"
   ]
  },
  {
   "cell_type": "code",
   "execution_count": null,
   "metadata": {},
   "outputs": [],
   "source": [
    "exampleMapping(hm)"
   ]
  },
  {
   "cell_type": "markdown",
   "metadata": {},
   "source": [
    "### Mapping with SQLite instead of pickled Maps\n",
    "Fast initialization, but slower operations.\n",
    "Because of the high speed initialization, we can perform queries on a larger number of structures, including the gene2refseq index, and the uniprotmap, which is prohibitively large for the map."
   ]
  },
  {
   "cell_type": "code",
   "execution_count": null,
   "metadata": {},
   "outputs": [],
   "source": [
    "where = '/exports/molepi/tgehrmann/data/'\n",
    "import biu as biu\n",
    "biu.config.settings.setWhere(where)\n",
    "print(biu.config.settings.getWhere())\n",
    "hms = biu.maps.HumanS()\n",
    "print(hms)"
   ]
  },
  {
   "cell_type": "code",
   "execution_count": null,
   "metadata": {},
   "outputs": [],
   "source": [
    "exampleMapping(hms)"
   ]
  },
  {
   "cell_type": "markdown",
   "metadata": {},
   "source": [
    "### Compare Map vs SQLite speeds"
   ]
  },
  {
   "cell_type": "code",
   "execution_count": null,
   "metadata": {},
   "outputs": [],
   "source": [
    "print(\"Map Lookup\")\n",
    "%timeit exampleMappingSilent(hm)\n",
    "print(\"SQLite lookup\")\n",
    "%timeit exampleMappingSilent(hms)"
   ]
  },
  {
   "cell_type": "markdown",
   "metadata": {},
   "source": [
    "## HAGR access\n",
    "Unlike others, HAGR is downloaded already entirely when the class is initiated (because they are in ZIP files, and I don't have a nice solution for this yet)"
   ]
  },
  {
   "cell_type": "code",
   "execution_count": null,
   "metadata": {},
   "outputs": [],
   "source": [
    "import biu as biu\n",
    "hagr = biu.db.HAGR(where = '/exports/molepi/tgehrmann/data/')\n",
    "print(hagr)"
   ]
  },
  {
   "cell_type": "code",
   "execution_count": null,
   "metadata": {},
   "outputs": [],
   "source": [
    "hagr.human_genes"
   ]
  },
  {
   "cell_type": "markdown",
   "metadata": {},
   "source": [
    "## Access GO annotations"
   ]
  },
  {
   "cell_type": "code",
   "execution_count": null,
   "metadata": {},
   "outputs": [],
   "source": [
    "where = '/exports/molepi/tgehrmann/data/'\n",
    "import biu as biu\n",
    "biu.config.settings.setWhere(where)\n",
    "print(biu.config.settings.getWhere())\n",
    "go = biu.db.GO()\n",
    "print(go)"
   ]
  },
  {
   "cell_type": "code",
   "execution_count": null,
   "metadata": {},
   "outputs": [],
   "source": [
    "print(\"Number of genes annotated with GO:0002250: %d\" % len(go.getAnnotated(\"GO:0002250\")))\n",
    "\n",
    "print(\"Number of annotations for P78540: %d\" % len(go.getAnnots(\"P78540\")))"
   ]
  },
  {
   "cell_type": "markdown",
   "metadata": {},
   "source": [
    "## Access KEGG annotations"
   ]
  },
  {
   "cell_type": "code",
   "execution_count": null,
   "metadata": {},
   "outputs": [],
   "source": [
    "where = '/exports/molepi/tgehrmann/data/'\n",
    "import biu as biu\n",
    "biu.config.settings.setWhere(where)\n",
    "print(biu.config.settings.getWhere())\n",
    "kegg = biu.db.KEGG()\n",
    "hms = biu.maps.HumanS()"
   ]
  },
  {
   "cell_type": "code",
   "execution_count": null,
   "metadata": {},
   "outputs": [],
   "source": [
    "print(kegg)"
   ]
  },
  {
   "cell_type": "code",
   "execution_count": null,
   "metadata": {},
   "outputs": [],
   "source": [
    "print(\"Number of pathways MTOR is in: %d\" % len(kegg.getGenePathways(hms.getSymbolGeneID(\"MTOR\")[0])))\n",
    "\n",
    "print(\"Number of genes in path:hsa05230: %d\" % len(kegg.getPathwayGenes(\"path:hsa05230\")))"
   ]
  },
  {
   "cell_type": "code",
   "execution_count": null,
   "metadata": {},
   "outputs": [],
   "source": [
    "print(kegg.getPathwayInfo(\"hsa05230\"))"
   ]
  },
  {
   "cell_type": "code",
   "execution_count": null,
   "metadata": {},
   "outputs": [],
   "source": [
    "fig, axes = plt.subplots(figsize=(12,4), ncols=2, nrows=1)\n",
    "axes = axes.flatten()\n",
    "\n",
    "# How many genes are there per kegg pathway?\n",
    "genesPerPathway = [ len(kegg.getPathwayGenes(p)) for p in kegg.getPathways() ]\n",
    "pathwaysPerGene = [ len(kegg.getGenePathways(g)) for g in kegg.getGenes() ]\n",
    "\n",
    "axes[0].hist(genesPerPathway, bins=50)\n",
    "axes[0].set_xlabel(\"Number of genes per pathway\")\n",
    "axes[1].hist(pathwaysPerGene, bins=50)\n",
    "axes[1].set_xlabel(\"Number of pathways per gene\")\n",
    "plt.show()"
   ]
  },
  {
   "cell_type": "markdown",
   "metadata": {},
   "source": [
    "## Access LLS data"
   ]
  },
  {
   "cell_type": "code",
   "execution_count": null,
   "metadata": {},
   "outputs": [],
   "source": [
    "lls = biu.db.LLS()"
   ]
  },
  {
   "cell_type": "code",
   "execution_count": null,
   "metadata": {},
   "outputs": [],
   "source": [
    "for r in lls.queryRegions([ (\"1\", 100, 100000), (\"1\", 100, 100000)]):\n",
    "    print(r)"
   ]
  },
  {
   "cell_type": "markdown",
   "metadata": {},
   "source": [
    "## Access BBMRI data"
   ]
  },
  {
   "cell_type": "code",
   "execution_count": null,
   "metadata": {},
   "outputs": [],
   "source": [
    "bbmri = biu.db.BBMRI()"
   ]
  },
  {
   "cell_type": "markdown",
   "metadata": {},
   "source": [
    "## Store some variables persistently in a SQLite database"
   ]
  },
  {
   "cell_type": "code",
   "execution_count": null,
   "metadata": {},
   "outputs": [],
   "source": [
    "pDict = biu.formats.SQLDict(\"test\")\n",
    "print(pDict)"
   ]
  },
  {
   "cell_type": "code",
   "execution_count": null,
   "metadata": {},
   "outputs": [],
   "source": [
    "pDict[\"test\"] = { 5: \"hello\", \"aha\" : [ 1, 4, \"345\"]}\n",
    "print(\"test -> \", pDict[\"test\"])\n",
    "print(\"yest -> \", pDict[\"yest\"])\n",
    "\n",
    "for x in pDict:\n",
    "    print(x)"
   ]
  },
  {
   "cell_type": "markdown",
   "metadata": {},
   "source": [
    "### Access miRmine database"
   ]
  },
  {
   "cell_type": "code",
   "execution_count": null,
   "metadata": {},
   "outputs": [],
   "source": [
    "import biu\n",
    "where = '/exports/molepi/tgehrmann/data/'\n",
    "biu.config.settings.setWhere(where)"
   ]
  },
  {
   "cell_type": "code",
   "execution_count": null,
   "metadata": {},
   "outputs": [],
   "source": [
    "mir = biu.db.MiRmine()"
   ]
  },
  {
   "cell_type": "code",
   "execution_count": null,
   "metadata": {},
   "outputs": [],
   "source": [
    "print(mir)"
   ]
  },
  {
   "cell_type": "code",
   "execution_count": null,
   "metadata": {},
   "outputs": [],
   "source": [
    "mir.getExpr([\"DRX003170\", \"DRX003171\", \"DRX017209\"])"
   ]
  },
  {
   "cell_type": "code",
   "execution_count": null,
   "metadata": {},
   "outputs": [],
   "source": [
    "set(mir._info[\"Tissue\"][mir._info[\"Tissue\"].apply(lambda x: not(pd.isnull(x)))].values)"
   ]
  },
  {
   "cell_type": "markdown",
   "metadata": {},
   "source": [
    "## Use pipelines"
   ]
  },
  {
   "cell_type": "markdown",
   "metadata": {},
   "source": [
    "### Use the VEP pipeline"
   ]
  },
  {
   "cell_type": "code",
   "execution_count": null,
   "metadata": {},
   "outputs": [],
   "source": [
    "import biu as biu\n",
    "where = '/exports/molepi/tgehrmann/data/'\n",
    "biu.config.settings.setWhere(where)\n",
    "\n",
    "lls = biu.db.LLS()\n",
    "varList = list([ r for r in lls.query(1, 10483, 10495)])\n",
    "vep = biu.pipelines.VEP(varList)\n",
    "vep.getAnnotations()"
   ]
  },
  {
   "cell_type": "markdown",
   "metadata": {},
   "source": [
    "### Use the LiftOver Pipeline"
   ]
  },
  {
   "cell_type": "code",
   "execution_count": null,
   "metadata": {},
   "outputs": [],
   "source": [
    "import biu as biu\n",
    "where = '/exports/molepi/tgehrmann/data/'\n",
    "biu.config.settings.setWhere(where)\n",
    "\n",
    "lls = biu.db.LLS()\n",
    "varList = [ (r.CHROM, r.POS-1, r.POS) for r in lls.query(5, 42423775, 42426000, filt=['VQLOW'])]\n",
    "varLift = biu.pipelines.LiftOver(varList)\n",
    "varLift.getLiftOver()"
   ]
  },
  {
   "cell_type": "code",
   "execution_count": null,
   "metadata": {},
   "outputs": [],
   "source": [
    "varLift.getLiftOver().values"
   ]
  },
  {
   "cell_type": "code",
   "execution_count": null,
   "metadata": {},
   "outputs": [],
   "source": [
    "print(lls)"
   ]
  },
  {
   "cell_type": "code",
   "execution_count": null,
   "metadata": {},
   "outputs": [],
   "source": []
  }
 ],
 "metadata": {
  "kernelspec": {
   "display_name": "Python 3",
   "language": "python",
   "name": "python3"
  },
  "language_info": {
   "codemirror_mode": {
    "name": "ipython",
    "version": 3
   },
   "file_extension": ".py",
   "mimetype": "text/x-python",
   "name": "python",
   "nbconvert_exporter": "python",
   "pygments_lexer": "ipython3",
   "version": "3.6.2"
  }
 },
 "nbformat": 4,
 "nbformat_minor": 2
}
