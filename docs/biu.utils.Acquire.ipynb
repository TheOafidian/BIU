{
 "cells": [
  {
   "cell_type": "markdown",
   "metadata": {},
   "source": [
    "# Acquire files in a specific format\n",
    "\n",
    "If you need to download a file, and perform some standard functions on them, then you can do it with the `Acquire` object.\n",
    "\n",
    "The Acquire object facilitates the acquisition of files and preprocessing.\n",
    "Currently supported functions are:\n",
    "\n",
    " * Acquisition:\n",
    "   * curl\n",
    "   * wget\n",
    "   * lftp\n",
    "   * local\n",
    "   * touch\n",
    "   * merge\n",
    "  \n",
    " * Processing:\n",
    "   * Compression\n",
    "     * unzip\n",
    "     * gunzip\n",
    "     * bunzip\n",
    "     * untar\n",
    "     * gzip\n",
    "     * bzip\n",
    "     * bgzip\n",
    "   \n",
    "   * Commands:\n",
    "     * cat\n",
    "     * ls\n",
    "     * call\n",
    "     * cmd\n",
    "    \n",
    "   * Processing\n",
    "     * sort\n",
    "     * tabix\n",
    "    \n",
    " * Renaming\n",
    "   * finalize\n",
    "   \n",
    "The usage of the `Acquire` object always starts with an acquisition command, followed by some processing commands, followed by the `finalize` command.\n",
    "\n",
    "    biu.utils.Acquire().curl(url).unzip().finalize(finalLocation)\n",
    "\n",
    "The Acquire object follows a lazy evaluation. Acquisition and processing is only performed when the `acquire` command is applied to it.\n",
    "\n",
    "    biu.utils.Acquire().curl(url).unzip().finalize(finalLocation).acquire()"
   ]
  },
  {
   "cell_type": "code",
   "execution_count": 1,
   "metadata": {},
   "outputs": [],
   "source": [
    "import biu"
   ]
  },
  {
   "cell_type": "markdown",
   "metadata": {},
   "source": [
    "## The `Acquire` object\n",
    "The `Acquire` object is an object that allows you to chain commands after each other. these commands are defined above, and exemplified below. To construct an `Acquire` object, one simple creates one with the `biu.utils.Acquire` class. You can also specify to redo each step in the pipeline you create using the `redo=True` argument. You can also specify where the files should be downloaded to with the `where` argument."
   ]
  },
  {
   "cell_type": "code",
   "execution_count": 3,
   "metadata": {},
   "outputs": [
    {
     "name": "stdout",
     "output_type": "stream",
     "text": [
      "Acquire object.\n",
      " Re-do steps: yes\n",
      " Current steps:\n",
      "\n"
     ]
    }
   ],
   "source": [
    "myAcquire = biu.utils.Acquire(redo=True)\n",
    "print(myAcquire)"
   ]
  },
  {
   "cell_type": "markdown",
   "metadata": {},
   "source": [
    "## Acquisition"
   ]
  },
  {
   "cell_type": "markdown",
   "metadata": {},
   "source": [
    "### curl"
   ]
  },
  {
   "cell_type": "code",
   "execution_count": 4,
   "metadata": {},
   "outputs": [
    {
     "name": "stdout",
     "output_type": "stream",
     "text": [
      "Acquire object.\n",
      " Re-do steps: no\n",
      " Current steps:\n",
      "  * curl\n",
      "  * unzip\n",
      "  * call\n",
      "\n",
      "/home/tgehrmann/repos/BIU/docs/_downloads/8f52ad05b4c2ba036683cfedcdedb328eb8c837c\n",
      "0\n",
      "0\n",
      "1 1 0 0 1  1  A A  G T\n",
      "2 1 0 0 1  1  A C  T G\n",
      "3 1 0 0 1  1  C C  G G\n",
      "4 1 0 0 1  2  A C  T T\n",
      "5 1 0 0 1  2  C C  G T\n",
      "6 1 0 0 1  2  C C  T T\n",
      "\n",
      "0\n"
     ]
    },
    {
     "name": "stderr",
     "output_type": "stream",
     "text": [
      "D: cat '/home/tgehrmann/repos/BIU/docs/_downloads/8f52ad05b4c2ba036683cfedcdedb328eb8c837c.unzipped/plink-1.07-i686/test.ped'\n"
     ]
    },
    {
     "data": {
      "text/plain": [
       "'/home/tgehrmann/repos/BIU/docs/_downloads/8f52ad05b4c2ba036683cfedcdedb328eb8c837c.unzipped/plink-1.07-i686/test.ped'"
      ]
     },
     "execution_count": 4,
     "metadata": {},
     "output_type": "execute_result"
    }
   ],
   "source": [
    "ao = biu.utils.Acquire().curl(\"http://zzz.bwh.harvard.edu/plink/dist/plink-1.07-i686.zip\")\\\n",
    "                        .unzip(\"plink-1.07-i686/test.ped\")\\\n",
    "                        .call(\"cat\")\n",
    "\n",
    "print(ao)\n",
    "\n",
    "ao.acquire()"
   ]
  },
  {
   "cell_type": "markdown",
   "metadata": {},
   "source": [
    "### wget"
   ]
  },
  {
   "cell_type": "code",
   "execution_count": 5,
   "metadata": {},
   "outputs": [
    {
     "name": "stderr",
     "output_type": "stream",
     "text": [
      "D: unzip -l /home/tgehrmann/repos/BIU/docs/_downloads/8f52ad05b4c2ba036683cfedcdedb328eb8c837c | head\n"
     ]
    },
    {
     "name": "stdout",
     "output_type": "stream",
     "text": [
      "0\n",
      "Archive:  /home/tgehrmann/repos/BIU/docs/_downloads/8f52ad05b4c2ba036683cfedcdedb328eb8c837c\n",
      "  Length      Date    Time    Name\n",
      "---------  ---------- -----   ----\n",
      "        0  2011-06-21 03:20   plink-1.07-i686/\n",
      "  4589621  2011-06-21 03:20   plink-1.07-i686/plink\n",
      "  1799865  2011-06-21 03:20   plink-1.07-i686/gPLINK.jar\n",
      "      138  2007-07-27 16:51   plink-1.07-i686/test.ped\n",
      "       23  2007-07-27 16:51   plink-1.07-i686/test.map\n",
      "     1287  2007-07-27 16:51   plink-1.07-i686/README.txt\n",
      "    15365  2007-07-27 16:51   plink-1.07-i686/COPYING.txt\n",
      "\n",
      "0\n"
     ]
    }
   ],
   "source": [
    "ao = biu.utils.Acquire().wget(\"http://zzz.bwh.harvard.edu/plink/dist/plink-1.07-i686.zip\")\\\n",
    "                        .call('unzip -l %s | head').acquire()"
   ]
  },
  {
   "cell_type": "markdown",
   "metadata": {},
   "source": [
    "### lftp"
   ]
  },
  {
   "cell_type": "code",
   "execution_count": 6,
   "metadata": {},
   "outputs": [
    {
     "name": "stdout",
     "output_type": "stream",
     "text": [
      "/home/tgehrmann/repos/BIU/docs/_downloads/a5645c178583747883873165eb8b77de6c536924\n",
      "0\n",
      "0\n"
     ]
    },
    {
     "data": {
      "text/plain": [
       "'/home/tgehrmann/repos/BIU/docs/_downloads/a5645c178583747883873165eb8b77de6c536924.gunzipped'"
      ]
     },
     "execution_count": 6,
     "metadata": {},
     "output_type": "execute_result"
    }
   ],
   "source": [
    "biu.utils.Acquire().lftp(\"sftp://sftp-cancer.sanger.ac.uk\",\n",
    "                         \"cosmic/grch38/cosmic/v84/VCF/CosmicCodingMuts.vcf.gz\",\n",
    "                         username=\"t.gehrmann@lumc.nl\", password=\"Cosmic_password1\").gunzip().acquire()"
   ]
  },
  {
   "cell_type": "markdown",
   "metadata": {},
   "source": [
    "### local\n",
    "\n",
    "There are two ways to make use of a local file. One is more or less a shortcut of the other"
   ]
  },
  {
   "cell_type": "code",
   "execution_count": 7,
   "metadata": {},
   "outputs": [
    {
     "name": "stdout",
     "output_type": "stream",
     "text": [
      "0\n",
      "root:x:0:\n",
      "daemon:x:1:\n",
      "bin:x:2:\n",
      "\n",
      "0\n"
     ]
    },
    {
     "name": "stderr",
     "output_type": "stream",
     "text": [
      "D: head -n3 '/etc/group'\n"
     ]
    },
    {
     "data": {
      "text/plain": [
       "'/etc/group'"
      ]
     },
     "execution_count": 7,
     "metadata": {},
     "output_type": "execute_result"
    }
   ],
   "source": [
    "biu.utils.Acquire().local('/etc/group').call(\"head -n3\").acquire()"
   ]
  },
  {
   "cell_type": "markdown",
   "metadata": {},
   "source": [
    "Or you can directly give it as a parameter to the Acquire function:"
   ]
  },
  {
   "cell_type": "code",
   "execution_count": 8,
   "metadata": {},
   "outputs": [
    {
     "name": "stdout",
     "output_type": "stream",
     "text": [
      "root:x:0:\n",
      "daemon:x:1:\n",
      "bin:x:2:\n",
      "\n",
      "0\n"
     ]
    },
    {
     "name": "stderr",
     "output_type": "stream",
     "text": [
      "D: head -n3 '/etc/group'\n"
     ]
    },
    {
     "data": {
      "text/plain": [
       "'/etc/group'"
      ]
     },
     "execution_count": 8,
     "metadata": {},
     "output_type": "execute_result"
    }
   ],
   "source": [
    "biu.utils.Acquire('/etc/group').call(\"head -n3\").acquire()"
   ]
  },
  {
   "cell_type": "markdown",
   "metadata": {},
   "source": [
    "### touch\n",
    "\n",
    "You can also create a file (if you simply need an empty one)."
   ]
  },
  {
   "cell_type": "code",
   "execution_count": 9,
   "metadata": {},
   "outputs": [
    {
     "name": "stdout",
     "output_type": "stream",
     "text": [
      "0\n"
     ]
    },
    {
     "data": {
      "text/plain": [
       "'/home/tgehrmann/repos/BIU/docs/_downloads/touchedFile.ef25e3fd76a375aef44c9f0f79a21f0c5ab188a8'"
      ]
     },
     "execution_count": 9,
     "metadata": {},
     "output_type": "execute_result"
    }
   ],
   "source": [
    "biu.utils.Acquire().touch().acquire()"
   ]
  },
  {
   "cell_type": "markdown",
   "metadata": {},
   "source": [
    "### merge\n",
    "\n",
    "You can merge multiple acquire steps together into one file, using for example cat.\n",
    "\n",
    "Currently available methods:\n",
    "  * cat\n",
    "  * zcat"
   ]
  },
  {
   "cell_type": "code",
   "execution_count": 3,
   "metadata": {},
   "outputs": [
    {
     "name": "stdout",
     "output_type": "stream",
     "text": [
      "/home/tgehrmann/repos/BIU/docs/_downloads/8f52ad05b4c2ba036683cfedcdedb328eb8c837c\n",
      "0\n",
      "0\n",
      "/home/tgehrmann/repos/BIU/docs/_downloads/8f52ad05b4c2ba036683cfedcdedb328eb8c837c\n",
      "0\n",
      "0\n",
      "0\n",
      "9 /home/tgehrmann/repos/BIU/docs/_downloads/01e583e08705ac5d5f859c48ab3b993539e858de.cat\n",
      "\n",
      "0\n"
     ]
    },
    {
     "name": "stderr",
     "output_type": "stream",
     "text": [
      "D: cat '/home/tgehrmann/repos/BIU/docs/_downloads/8f52ad05b4c2ba036683cfedcdedb328eb8c837c.unzipped/plink-1.07-i686/test.ped' '/home/tgehrmann/repos/BIU/docs/_downloads/8f52ad05b4c2ba036683cfedcdedb328eb8c837c.unzipped/plink-1.07-i686/test.map' > '/home/tgehrmann/repos/BIU/docs/_downloads/01e583e08705ac5d5f859c48ab3b993539e858de.cat'\n",
      "D: wc -l '/home/tgehrmann/repos/BIU/docs/_downloads/01e583e08705ac5d5f859c48ab3b993539e858de.cat'\n"
     ]
    }
   ],
   "source": [
    "ao1 = biu.utils.Acquire().curl(\"http://zzz.bwh.harvard.edu/plink/dist/plink-1.07-i686.zip\")\\\n",
    "                        .unzip(\"plink-1.07-i686/test.ped\")\n",
    "    \n",
    "ao2 = biu.utils.Acquire().curl(\"http://zzz.bwh.harvard.edu/plink/dist/plink-1.07-i686.zip\")\\\n",
    "                        .unzip(\"plink-1.07-i686/test.map\")\n",
    "    \n",
    "merged = biu.utils.Acquire().merge([ao1, ao2], method='cat').call(\"wc -l\").acquire()"
   ]
  },
  {
   "cell_type": "markdown",
   "metadata": {},
   "source": [
    "## Processing"
   ]
  },
  {
   "cell_type": "markdown",
   "metadata": {},
   "source": [
    "### Compression"
   ]
  },
  {
   "cell_type": "markdown",
   "metadata": {},
   "source": [
    "#### unzip\n",
    "\n",
    "Unzip a zip file. You can optionally define a specific file from the directory to use for further processing (otherwise a link to the directory is maintained."
   ]
  },
  {
   "cell_type": "code",
   "execution_count": 10,
   "metadata": {},
   "outputs": [
    {
     "name": "stdout",
     "output_type": "stream",
     "text": [
      "/home/tgehrmann/repos/BIU/docs/_downloads/8f52ad05b4c2ba036683cfedcdedb328eb8c837c\n",
      "0\n",
      "0\n",
      "1 1 0 0 1  1  A A  G T\n",
      "2 1 0 0 1  1  A C  T G\n",
      "3 1 0 0 1  1  C C  G G\n",
      "4 1 0 0 1  2  A C  T T\n",
      "5 1 0 0 1  2  C C  G T\n",
      "6 1 0 0 1  2  C C  T T\n",
      "\n",
      "0\n"
     ]
    },
    {
     "name": "stderr",
     "output_type": "stream",
     "text": [
      "D: cat '/home/tgehrmann/repos/BIU/docs/_downloads/8f52ad05b4c2ba036683cfedcdedb328eb8c837c.unzipped/plink-1.07-i686/test.ped'\n"
     ]
    },
    {
     "data": {
      "text/plain": [
       "'/home/tgehrmann/repos/BIU/docs/_downloads/8f52ad05b4c2ba036683cfedcdedb328eb8c837c.unzipped/plink-1.07-i686/test.ped'"
      ]
     },
     "execution_count": 10,
     "metadata": {},
     "output_type": "execute_result"
    }
   ],
   "source": [
    "biu.utils.Acquire().curl(\"http://zzz.bwh.harvard.edu/plink/dist/plink-1.07-i686.zip\")\\\n",
    "                   .unzip(\"plink-1.07-i686/test.ped\")\\\n",
    "                   .call(\"cat\").acquire()"
   ]
  },
  {
   "cell_type": "code",
   "execution_count": 11,
   "metadata": {},
   "outputs": [
    {
     "name": "stdout",
     "output_type": "stream",
     "text": [
      "/home/tgehrmann/repos/BIU/docs/_downloads/8f52ad05b4c2ba036683cfedcdedb328eb8c837c\n",
      "0\n",
      "0\n",
      "plink-1.07-i686\n",
      "\n",
      "0\n"
     ]
    },
    {
     "name": "stderr",
     "output_type": "stream",
     "text": [
      "D: ls '/home/tgehrmann/repos/BIU/docs/_downloads/8f52ad05b4c2ba036683cfedcdedb328eb8c837c.unzipped'\n"
     ]
    },
    {
     "data": {
      "text/plain": [
       "'/home/tgehrmann/repos/BIU/docs/_downloads/8f52ad05b4c2ba036683cfedcdedb328eb8c837c.unzipped'"
      ]
     },
     "execution_count": 11,
     "metadata": {},
     "output_type": "execute_result"
    }
   ],
   "source": [
    "biu.utils.Acquire().curl(\"http://zzz.bwh.harvard.edu/plink/dist/plink-1.07-i686.zip\")\\\n",
    "                   .unzip()\\\n",
    "                   .call(\"ls\").acquire()"
   ]
  },
  {
   "cell_type": "markdown",
   "metadata": {},
   "source": [
    "#### gunzip\n",
    "\n",
    "gunzip a file."
   ]
  },
  {
   "cell_type": "code",
   "execution_count": 12,
   "metadata": {},
   "outputs": [
    {
     "name": "stdout",
     "output_type": "stream",
     "text": [
      "/home/tgehrmann/repos/BIU/docs/_downloads/67def37e1c6b755c0cbfb09da6b74203e9192838\n",
      "0\n",
      "0\n"
     ]
    },
    {
     "name": "stderr",
     "output_type": "stream",
     "text": [
      "D: head -n3 '/home/tgehrmann/repos/BIU/docs/_downloads/67def37e1c6b755c0cbfb09da6b74203e9192838.gunzipped'\n"
     ]
    },
    {
     "name": "stdout",
     "output_type": "stream",
     "text": [
      "!gaf-version: 2.1\n",
      "!\n",
      "!Generated by GO Central\n",
      "\n",
      "0\n"
     ]
    },
    {
     "data": {
      "text/plain": [
       "'/home/tgehrmann/repos/BIU/docs/_downloads/67def37e1c6b755c0cbfb09da6b74203e9192838.gunzipped'"
      ]
     },
     "execution_count": 12,
     "metadata": {},
     "output_type": "execute_result"
    }
   ],
   "source": [
    "biu.utils.Acquire().curl(\"http://geneontology.org/gene-associations/goa_human.gaf.gz\")\\\n",
    "                   .gunzip()\\\n",
    "                   .call(\"head -n3\").acquire()\n"
   ]
  },
  {
   "cell_type": "markdown",
   "metadata": {},
   "source": [
    "#### untar\n",
    "\n",
    "Untar a file. You can optionally define a specific file from the directory to use for further processing (otherwise a link to the directory is maintained."
   ]
  },
  {
   "cell_type": "code",
   "execution_count": 13,
   "metadata": {},
   "outputs": [
    {
     "name": "stdout",
     "output_type": "stream",
     "text": [
      "/home/tgehrmann/repos/BIU/docs/_downloads/25f853a528bed894cebd73b8540c05476fa32639\n",
      "0\n",
      "0\n",
      "0\n",
      "proteny-0.1\n",
      "proteny-0.1.__exists__\n",
      "\n",
      "0\n"
     ]
    },
    {
     "name": "stderr",
     "output_type": "stream",
     "text": [
      "D: ls '/home/tgehrmann/repos/BIU/docs/_downloads/25f853a528bed894cebd73b8540c05476fa32639.gunzipped.untar'\n"
     ]
    },
    {
     "data": {
      "text/plain": [
       "'/home/tgehrmann/repos/BIU/docs/_downloads/25f853a528bed894cebd73b8540c05476fa32639.gunzipped.untar'"
      ]
     },
     "execution_count": 13,
     "metadata": {},
     "output_type": "execute_result"
    }
   ],
   "source": [
    "biu.utils.Acquire().curl(\"https://github.com/thiesgehrmann/proteny/archive/0.1.tar.gz\")\\\n",
    "                   .gunzip()\\\n",
    "                   .untar()\\\n",
    "                   .call(\"ls\").acquire()"
   ]
  },
  {
   "cell_type": "code",
   "execution_count": 14,
   "metadata": {},
   "outputs": [
    {
     "name": "stdout",
     "output_type": "stream",
     "text": [
      "/home/tgehrmann/repos/BIU/docs/_downloads/25f853a528bed894cebd73b8540c05476fa32639\n",
      "0\n",
      "0\n",
      "0\n"
     ]
    },
    {
     "name": "stderr",
     "output_type": "stream",
     "text": [
      "D: head -n5 '/home/tgehrmann/repos/BIU/docs/_downloads/25f853a528bed894cebd73b8540c05476fa32639.gunzipped.untar/proteny-0.1/Snakefile'\n"
     ]
    },
    {
     "name": "stdout",
     "output_type": "stream",
     "text": [
      "import inspect, os\n",
      "__INSTALL_DIR__ = os.path.dirname(os.path.abspath(inspect.getfile(inspect.currentframe())))\n",
      "__PC_DIR__ = \"%s/pipeline_components\" % __INSTALL_DIR__\n",
      "\n",
      "###############################################################################\n",
      "\n",
      "0\n"
     ]
    },
    {
     "data": {
      "text/plain": [
       "'/home/tgehrmann/repos/BIU/docs/_downloads/25f853a528bed894cebd73b8540c05476fa32639.gunzipped.untar/proteny-0.1/Snakefile'"
      ]
     },
     "execution_count": 14,
     "metadata": {},
     "output_type": "execute_result"
    }
   ],
   "source": [
    "biu.utils.Acquire().curl(\"https://github.com/thiesgehrmann/proteny/archive/0.1.tar.gz\")\\\n",
    "                   .gunzip()\\\n",
    "                   .untar(\"proteny-0.1/Snakefile\")\\\n",
    "                   .call(\"head -n5\").acquire()"
   ]
  },
  {
   "cell_type": "markdown",
   "metadata": {},
   "source": [
    "#### gzip\n",
    "gzip a file"
   ]
  },
  {
   "cell_type": "code",
   "execution_count": 15,
   "metadata": {},
   "outputs": [
    {
     "name": "stdout",
     "output_type": "stream",
     "text": [
      "/home/tgehrmann/repos/BIU/docs/_downloads/25f853a528bed894cebd73b8540c05476fa32639\n",
      "0\n",
      "0\n",
      "0\n",
      "0\n"
     ]
    },
    {
     "data": {
      "text/plain": [
       "'/home/tgehrmann/repos/BIU/docs/_downloads/25f853a528bed894cebd73b8540c05476fa32639.gunzipped.untar/proteny-0.1/Snakefile.gz'"
      ]
     },
     "execution_count": 15,
     "metadata": {},
     "output_type": "execute_result"
    }
   ],
   "source": [
    "biu.utils.Acquire().curl(\"https://github.com/thiesgehrmann/proteny/archive/0.1.tar.gz\")\\\n",
    "                   .gunzip()\\\n",
    "                   .untar(\"proteny-0.1/Snakefile\")\\\n",
    "                   .gzip().acquire()"
   ]
  },
  {
   "cell_type": "markdown",
   "metadata": {},
   "source": [
    "#### bgzip\n",
    "\n",
    "bgzip a file."
   ]
  },
  {
   "cell_type": "code",
   "execution_count": 16,
   "metadata": {},
   "outputs": [
    {
     "name": "stdout",
     "output_type": "stream",
     "text": [
      "/home/tgehrmann/repos/BIU/docs/_downloads/25f853a528bed894cebd73b8540c05476fa32639\n",
      "0\n",
      "0\n",
      "0\n",
      "0\n"
     ]
    },
    {
     "data": {
      "text/plain": [
       "'/home/tgehrmann/repos/BIU/docs/_downloads/25f853a528bed894cebd73b8540c05476fa32639.gunzipped.untar/proteny-0.1/Snakefile.bgz'"
      ]
     },
     "execution_count": 16,
     "metadata": {},
     "output_type": "execute_result"
    }
   ],
   "source": [
    "biu.utils.Acquire().curl(\"https://github.com/thiesgehrmann/proteny/archive/0.1.tar.gz\")\\\n",
    "                   .gunzip()\\\n",
    "                   .untar(\"proteny-0.1/Snakefile\")\\\n",
    "                   .bgzip().acquire()"
   ]
  },
  {
   "cell_type": "markdown",
   "metadata": {},
   "source": [
    "### Commands"
   ]
  },
  {
   "cell_type": "markdown",
   "metadata": {},
   "source": [
    "#### cat"
   ]
  },
  {
   "cell_type": "code",
   "execution_count": null,
   "metadata": {},
   "outputs": [],
   "source": []
  },
  {
   "cell_type": "markdown",
   "metadata": {},
   "source": [
    "#### ls"
   ]
  },
  {
   "cell_type": "code",
   "execution_count": null,
   "metadata": {},
   "outputs": [],
   "source": []
  },
  {
   "cell_type": "markdown",
   "metadata": {},
   "source": [
    "#### call"
   ]
  },
  {
   "cell_type": "code",
   "execution_count": null,
   "metadata": {},
   "outputs": [],
   "source": []
  },
  {
   "cell_type": "markdown",
   "metadata": {},
   "source": [
    "#### cmd"
   ]
  },
  {
   "cell_type": "code",
   "execution_count": null,
   "metadata": {},
   "outputs": [],
   "source": []
  },
  {
   "cell_type": "markdown",
   "metadata": {},
   "source": [
    "### Processing"
   ]
  },
  {
   "cell_type": "markdown",
   "metadata": {},
   "source": [
    "#### sort\n",
    "Sort a file. Default is no parameters, but you can provide paramaters to sort the file how you want (posix sort parameters)"
   ]
  },
  {
   "cell_type": "code",
   "execution_count": 17,
   "metadata": {},
   "outputs": [
    {
     "name": "stdout",
     "output_type": "stream",
     "text": [
      "/home/tgehrmann/repos/BIU/docs/_downloads/95e9311620201ce991f6fe93afc95a5471c406ba\n",
      "0\n",
      "0\n",
      "0\n",
      "72684\tcopy number gain\tGRCh38/hg38 1q21.1-21.2(chr1:143965076-149471555)x3\t-1\tsubset of 84 genes:GJA5;GJA8\t-\tPathogenic\t1\tAug 12, 2011\t-1\tnsv530354\tRCV000051832\tna\tSee cases\tnot provided\tnot provided\tGRCh37\tNW_003871056.3\t1\t1\t1676126\tna\tna\t-\tcriteria provided, single submitter\t1\t\tN\tdbVar:nssv578530,dbVar:nsv530354\t2\t58089\n",
      "380521\tcopy number gain\tNCBI36/hg18 1p36.33(chr1:4737-338603)x3\t-1\t-\t-\tUncertain significance\t0\t-\t-1\tnsv2768335\tRCV000453780\tna\tSee cases\tnot provided\tnot provided\tNCBI36\tNC_000001.9\t1\t4737\t358524\tna\tna\t1p36.33\tno assertion criteria provided\t1\t\tN\tdbVar:nssv13638640,dbVar:nsv2768335\t2\t393629\n",
      "385893\tcopy number loss\tNCBI36/hg18 1p36.33-36.23(chr1:4737-7424898)x1\t-1\t-\t-\tPathogenic\t1\t-\t-1\tnsv2771294\tRCV000450793\tna\tSee cases\tnot provided\tnot provided\tNCBI36\tNC_000001.9\t1\t4737\t7449889\tna\tna\t1p36.33-36.23\tno assertion criteria provided\t1\t\tN\tdbVar:nssv13638713,dbVar:nsv2771294\t2\t398920\n",
      "386077\tcopy number loss\tNCBI36/hg18 1p36.33-36.23(chr1:4737-8734404)x1\t-1\t-\t-\tPathogenic\t1\t-\t-1\tnsv2771750\tRCV000451919\tna\tSee cases\tnot provided\tnot provided\tNCBI36\tNC_000001.9\t1\t4737\t8767973\tna\tna\t1p36.33-36.23\tno assertion criteria provided\t1\t\tN\tdbVar:nssv13655807,dbVar:nsv2771750\t2\t399104\n",
      "154959\tcopy number gain\tGRCh37/hg19 1q21.1(chr1:143134063-143284670)x3\t-1\t-\t-\tBenign\t0\tNov 30, 2010\t-1\tnsv497688\tRCV000134610\tna\tSee cases\tnot provided\tnot provided\tGRCh38\tNT_187361.1\t1\t16302\t166909\tna\tna\t-\tno assertion criteria provided\t1\t\tN\tdbVar:nssv584580,dbVar:nsv497688\t2\t145208\n",
      "380792\tcopy number gain\tGRCh37/hg19 1p36.33-36.32(chr1:19225-4401691)x3\t-1\tcovers 81 genes, none of which curated to show dosage sensitivity\t-\tPathogenic\t1\t-\t-1\tnsv2769350\tRCV000447000\tna\tSee cases\tnot provided\tnot provided\tGRCh37\tNC_000001.10\t1\t19225\t4401691\tna\tna\t1p36.33-36.32\tno assertion criteria provided\t1\t\tN\tdbVar:nssv13654953,dbVar:nsv2769350\t2\t393899\n",
      "247379\tcopy number loss\tGRCh37/hg19 1p36.33-36.22(chr1:82154-12699337)x1\t-1\tsubset of 164 genes:CAMTA1\t-\tPathogenic\t1\tJun 06, 2016\t-1\t-\tRCV000239416\tna\tSee cases\tpaternal\tgermline\tGRCh37\tNC_000001.10\t1\t82154\t12699337\tna\tna\t1p36.33-36.22\tcriteria provided, single submitter\t1\t\tN\t-\t2\t252976\n",
      "161087\tcopy number loss\tGRCh38/hg38 1p36.11(chr1:26603706-26641760)x1\t-1\t-\t-\tLikely benign\t0\tApr 30, 2011\t-1\tnsv931220\tRCV000140053\tna\tSee cases\tnot provided\tnot provided\tGRCh38\tNW_009646195.1\t1\t91324\t128277\tna\tna\t-\tno assertion criteria provided\t1\t\tN\tdbVar:nssv1609094,dbVar:nsv931220\t2\t151336\n",
      "388025\tcopy number loss\tNCBI36/hg18 1p36.33(chr1:226027-630876)x1\t-1\t-\t-\tBenign\t0\t-\t-1\tnsv2776602\tRCV000453982\tna\tSee cases\tnot provided\tnot provided\tNCBI36\tNC_000001.9\t1\t218560\t639581\tna\tna\t1p36.33\tno assertion criteria provided\t1\t\tN\tdbVar:nssv13638634,dbVar:nsv2776602\t2\t401052\n",
      "386576\tcopy number loss\tNCBI36/hg18 1p36.33(chr1:358524-582434)x1\t-1\t-\t-\tBenign\t0\t-\t-1\tnsv2773006\tRCV000453296\tna\tSee cases\tnot provided\tnot provided\tNCBI36\tNC_000001.9\t1\t338603\t630817\tna\tna\t1p36.33\tno assertion criteria provided\t1\t\tN\tdbVar:nssv13647753,dbVar:nsv2773006\t2\t399603\n",
      "\n",
      "0\n"
     ]
    },
    {
     "name": "stderr",
     "output_type": "stream",
     "text": [
      "D: head '/home/tgehrmann/repos/BIU/docs/_downloads/95e9311620201ce991f6fe93afc95a5471c406ba.gunzipped.sorted'\n"
     ]
    },
    {
     "data": {
      "text/plain": [
       "'/home/tgehrmann/repos/BIU/docs/_downloads/95e9311620201ce991f6fe93afc95a5471c406ba.gunzipped.sorted'"
      ]
     },
     "execution_count": 17,
     "metadata": {},
     "output_type": "execute_result"
    }
   ],
   "source": [
    "biu.utils.Acquire().curl(\"ftp://ftp.ncbi.nlm.nih.gov/pub/clinvar/tab_delimited/variant_summary.txt.gz\")\\\n",
    "                   .gunzip()\\\n",
    "                   .sort(\"-t $'\\\\t' -k19,19V -k 20,21n\")\\\n",
    "                   .call(\"head\")\\\n",
    "                   .acquire()"
   ]
  },
  {
   "cell_type": "markdown",
   "metadata": {},
   "source": [
    "#### tabix\n",
    "Use tabix to generate an index for a file"
   ]
  },
  {
   "cell_type": "code",
   "execution_count": 18,
   "metadata": {},
   "outputs": [
    {
     "name": "stdout",
     "output_type": "stream",
     "text": [
      "/home/tgehrmann/repos/BIU/docs/_downloads/95e9311620201ce991f6fe93afc95a5471c406ba\n",
      "0\n",
      "0\n",
      "0\n",
      "0\n",
      "0\n",
      "0\n"
     ]
    },
    {
     "data": {
      "text/plain": [
       "'/home/tgehrmann/repos/BIU/docs/_downloads/95e9311620201ce991f6fe93afc95a5471c406ba.gunzipped.sorted.cmd.bgz.tbi'"
      ]
     },
     "execution_count": 18,
     "metadata": {},
     "output_type": "execute_result"
    }
   ],
   "source": [
    "biu.utils.Acquire().curl(\"ftp://ftp.ncbi.nlm.nih.gov/pub/clinvar/tab_delimited/variant_summary.txt.gz\")\\\n",
    "                   .gunzip()\\\n",
    "                   .sort(\"-t $'\\\\t' -k19,19V -k 20,21n\")\\\n",
    "                   .cmd(\"awk -F $'\\\\t' 'BEGIN {OFS = FS} { if($19 != \\\"na\\\"){ print $0}}'\")\\\n",
    "                   .bgzip()\\\n",
    "                   .tabix(seq=19, start=20, end=21)\\\n",
    "                   .acquire()"
   ]
  },
  {
   "cell_type": "code",
   "execution_count": null,
   "metadata": {},
   "outputs": [],
   "source": []
  },
  {
   "cell_type": "code",
   "execution_count": null,
   "metadata": {},
   "outputs": [],
   "source": []
  },
  {
   "cell_type": "markdown",
   "metadata": {},
   "source": [
    "## Finalize"
   ]
  },
  {
   "cell_type": "code",
   "execution_count": null,
   "metadata": {},
   "outputs": [],
   "source": []
  },
  {
   "cell_type": "markdown",
   "metadata": {},
   "source": [
    "## Constructing multiple processes."
   ]
  },
  {
   "cell_type": "code",
   "execution_count": 19,
   "metadata": {},
   "outputs": [],
   "source": [
    "bgzip = biu.utils.Acquire().curl(\"ftp://ftp.ncbi.nlm.nih.gov/pub/clinvar/tab_delimited/variant_summary.txt.gz\")\\\n",
    "                   .gunzip()\\\n",
    "                   .sort(\"-t $'\\\\t' -k19,19V -k 20,21n\")\\\n",
    "                   .cmd(\"awk -F $'\\\\t' 'BEGIN {OFS = FS} { if($19 != \\\"na\\\"){ print $0}}'\")\\\n",
    "                   .bgzip()\n",
    "\n",
    "tbi = bgzip.tabix(seq=19, start=20, end=21)"
   ]
  },
  {
   "cell_type": "code",
   "execution_count": 20,
   "metadata": {},
   "outputs": [
    {
     "name": "stdout",
     "output_type": "stream",
     "text": [
      "Acquire object.\n",
      " Re-do steps: no\n",
      " Current steps:\n",
      "  * curl\n",
      "  * gunzip\n",
      "  * sort\n",
      "  * cmd\n",
      "  * bgzip\n",
      "\n"
     ]
    }
   ],
   "source": [
    "print(bgzip)"
   ]
  },
  {
   "cell_type": "code",
   "execution_count": 21,
   "metadata": {},
   "outputs": [
    {
     "name": "stdout",
     "output_type": "stream",
     "text": [
      "Acquire object.\n",
      " Re-do steps: no\n",
      " Current steps:\n",
      "  * curl\n",
      "  * gunzip\n",
      "  * sort\n",
      "  * cmd\n",
      "  * bgzip\n",
      "  * tabix\n",
      "\n"
     ]
    }
   ],
   "source": [
    "print(tbi)"
   ]
  },
  {
   "cell_type": "code",
   "execution_count": null,
   "metadata": {},
   "outputs": [],
   "source": []
  },
  {
   "cell_type": "code",
   "execution_count": null,
   "metadata": {},
   "outputs": [],
   "source": []
  }
 ],
 "metadata": {
  "kernelspec": {
   "display_name": "Python 3",
   "language": "python",
   "name": "python3"
  },
  "language_info": {
   "codemirror_mode": {
    "name": "ipython",
    "version": 3
   },
   "file_extension": ".py",
   "mimetype": "text/x-python",
   "name": "python",
   "nbconvert_exporter": "python",
   "pygments_lexer": "ipython3",
   "version": "3.6.3"
  }
 },
 "nbformat": 4,
 "nbformat_minor": 2
}
