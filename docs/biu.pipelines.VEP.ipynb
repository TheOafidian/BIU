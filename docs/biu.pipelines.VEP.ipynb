{
 "cells": [
  {
   "cell_type": "markdown",
   "metadata": {},
   "source": [
    "# Using the VEP pipeline"
   ]
  },
  {
   "cell_type": "code",
   "execution_count": 1,
   "metadata": {},
   "outputs": [],
   "source": [
    "import biu as biu\n",
    "where = '/exports/molepi/tgehrmann/data/'\n",
    "biu.config.settings.setWhere(where)\n",
    "\n",
    "lls = biu.db.LLS()"
   ]
  },
  {
   "cell_type": "markdown",
   "metadata": {},
   "source": [
    "## Produce a list of variants, somehow"
   ]
  },
  {
   "cell_type": "code",
   "execution_count": 2,
   "metadata": {},
   "outputs": [
    {
     "name": "stderr",
     "output_type": "stream",
     "text": [
      "D: VCF Input source is tabixed file.\n",
      "D: VCF Input source is list of Records.\n"
     ]
    }
   ],
   "source": [
    "varList = lls.query(1, 10483, 10495)"
   ]
  },
  {
   "cell_type": "markdown",
   "metadata": {},
   "source": [
    "## Execute the VEP pipeline"
   ]
  },
  {
   "cell_type": "code",
   "execution_count": 5,
   "metadata": {},
   "outputs": [
    {
     "name": "stderr",
     "output_type": "stream",
     "text": [
      "Building DAG of jobs...\n",
      "Using shell: /bin/bash\n",
      "Provided cores: 1\n",
      "Rules claiming more threads will be scaled down.\n",
      "Job counts:\n",
      "\tcount\tjobs\n",
      "\t1\toutput\n",
      "\t1\tvep\n",
      "\t2\n",
      "\n",
      "rule vep:\n",
      "    input: /exports/molepi/tgehrmann/pipeline_runs/temporary_input/VEP/digest.cf937c5c6b5e98a66f2843a3a98e7072, /exports/molepi/tgehrmann/pipeline_runs/common/VEP/vep_genomes/homo_sapiens_GRCh37\n",
      "    output: /exports/molepi/tgehrmann/pipeline_runs/VEP/77336778a112a33a1cb7f89291df3513/result.txt\n",
      "    jobid: 1\n",
      "\n",
      "Activating conda environment /exports/molepi/tgehrmann/pipeline_runs/conda/56fa40f0.\n",
      "Finished job 1.\n",
      "1 of 2 steps (50%) done\n",
      "\n",
      "localrule output:\n",
      "    input: /exports/molepi/tgehrmann/pipeline_runs/VEP/77336778a112a33a1cb7f89291df3513/result.txt\n",
      "    output: /exports/molepi/tgehrmann/pipeline_runs/VEP/77336778a112a33a1cb7f89291df3513/vep_annotations.tsv\n",
      "    jobid: 0\n",
      "\n",
      "Finished job 0.\n",
      "2 of 2 steps (100%) done\n",
      "Complete log: /home/tgehrmann/repos/BIU/docs/.snakemake/log/2018-06-28T144034.753037.snakemake.log\n"
     ]
    },
    {
     "name": "stdout",
     "output_type": "stream",
     "text": [
      "VEP Pipeline object\n",
      " Where: /home/tgehrmann/repos/BIU/docs/biu/pipelines/vep/Snakefile\n",
      " Output: /exports/molepi/tgehrmann/pipeline_runs/VEP/77336778a112a33a1cb7f89291df3513\n",
      " Config: /exports/molepi/tgehrmann/pipeline_runs/VEP/77336778a112a33a1cb7f89291df3513/config.json\n",
      " Hash: 77336778a112a33a1cb7f89291df3513\n",
      " Completed: Yes\n",
      "\n"
     ]
    }
   ],
   "source": [
    "vepConfig = {'install_species': 'homo_sapiens', \n",
    "             'install_assembly': 'GRCh37'}\n",
    "\n",
    "vep = biu.pipelines.VEP(varList, config=vepConfig, )\n",
    "print(vep)"
   ]
  },
  {
   "cell_type": "code",
   "execution_count": 4,
   "metadata": {},
   "outputs": [],
   "source": [
    "vep.getAnnotations()"
   ]
  },
  {
   "cell_type": "code",
   "execution_count": null,
   "metadata": {},
   "outputs": [],
   "source": []
  }
 ],
 "metadata": {
  "kernelspec": {
   "display_name": "Python 3",
   "language": "python",
   "name": "python3"
  },
  "language_info": {
   "codemirror_mode": {
    "name": "ipython",
    "version": 3
   },
   "file_extension": ".py",
   "mimetype": "text/x-python",
   "name": "python",
   "nbconvert_exporter": "python",
   "pygments_lexer": "ipython3",
   "version": "3.6.3"
  }
 },
 "nbformat": 4,
 "nbformat_minor": 2
}
