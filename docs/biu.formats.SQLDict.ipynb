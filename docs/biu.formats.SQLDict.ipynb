{
 "cells": [
  {
   "cell_type": "markdown",
   "metadata": {},
   "source": [
    "# Handling SQLite Dictionaries\n",
    "An SQLite dictionary is a dictionary structure that is additionally stored in an SQLite database. This allows us to persistently store data there. Otherwise, it behaves exactly like a dictionary.\n",
    "Queries are cached, so that they do not need to be performed again."
   ]
  },
  {
   "cell_type": "code",
   "execution_count": 1,
   "metadata": {},
   "outputs": [],
   "source": [
    "import biu"
   ]
  },
  {
   "cell_type": "markdown",
   "metadata": {},
   "source": [
    "It is very easy to create an SQLite Dictionary. All you need to do is specify a name.\n",
    "For this example, we also additionally provide a path to where the dictionary should be created, using the `where` argument.\n",
    "\n",
    "For some more information on how to read the structure of this output, look at biu.structures.FileManager"
   ]
  },
  {
   "cell_type": "code",
   "execution_count": 2,
   "metadata": {},
   "outputs": [
    {
     "name": "stdout",
     "output_type": "stream",
     "text": [
      "SQLDict object\n",
      " Where: /home/tgehrmann/repos/BIU/docs/example_files\n",
      " Objects:\n",
      "  * [ ] _sqlDict\n",
      " Files:\n",
      "  * [X] sqlite_db : /home/tgehrmann/repos/BIU/docs/example_files/sqlDict/test.sqlDict.sqlite\n",
      "\n"
     ]
    }
   ],
   "source": [
    "pDict = biu.formats.SQLDict(\"test\", where=\"example_files\")\n",
    "print(pDict)"
   ]
  },
  {
   "cell_type": "markdown",
   "metadata": {},
   "source": [
    "## The SQLDict dictionary behaves just like a dictionary"
   ]
  },
  {
   "cell_type": "code",
   "execution_count": 3,
   "metadata": {},
   "outputs": [
    {
     "name": "stdout",
     "output_type": "stream",
     "text": [
      "test ->  {5: 'hello', 'aha': [1, 4, '345']}\n",
      "yest ->  None\n",
      "test\n",
      "True\n"
     ]
    },
    {
     "name": "stderr",
     "output_type": "stream",
     "text": [
      "D: Initializing the SQLiteResourceManager object NOW\n"
     ]
    }
   ],
   "source": [
    "#Insert items\n",
    "pDict[\"test\"] = { 5: \"hello\", \"aha\" : [ 1, 4, \"345\"]}\n",
    "\n",
    "# Lookup items\n",
    "print(\"test -> \", pDict[\"test\"])\n",
    "print(\"yest -> \", pDict[\"yest\"])\n",
    "\n",
    "#Iterate through keys\n",
    "for x in pDict:\n",
    "    print(x)\n",
    "\n",
    "# Check for presence\n",
    "print(\"test\" in pDict)"
   ]
  },
  {
   "cell_type": "markdown",
   "metadata": {},
   "source": [
    "## Loading from cache at initialization\n",
    "Sometimes you may want to load everything from the SQLite DB into memory. This is more efficient than querying eveything one after the other.\n",
    "This can be done with the `load=True` argument.\n",
    "\n",
    "It can also be done at any time later, with the `load()` function"
   ]
  },
  {
   "cell_type": "code",
   "execution_count": 4,
   "metadata": {},
   "outputs": [
    {
     "name": "stdout",
     "output_type": "stream",
     "text": [
      "SQLDict object\n",
      " Where: /home/tgehrmann/repos/BIU/docs/example_files\n",
      " Objects:\n",
      "  * [X] _sqlDict\n",
      " Files:\n",
      "  * [X] sqlite_db : /home/tgehrmann/repos/BIU/docs/example_files/sqlDict/test.sqlDict.sqlite\n",
      "\n"
     ]
    },
    {
     "name": "stderr",
     "output_type": "stream",
     "text": [
      "D: Initializing the SQLiteResourceManager object NOW\n"
     ]
    }
   ],
   "source": [
    "pDict = biu.formats.SQLDict(\"test\", where=\"example_files\", load=True)\n",
    "print(pDict)"
   ]
  },
  {
   "cell_type": "code",
   "execution_count": 5,
   "metadata": {},
   "outputs": [],
   "source": [
    "pDict.load()"
   ]
  }
 ],
 "metadata": {
  "kernelspec": {
   "display_name": "Python 3",
   "language": "python",
   "name": "python3"
  },
  "language_info": {
   "codemirror_mode": {
    "name": "ipython",
    "version": 3
   },
   "file_extension": ".py",
   "mimetype": "text/x-python",
   "name": "python",
   "nbconvert_exporter": "python",
   "pygments_lexer": "ipython3",
   "version": "3.6.2"
  }
 },
 "nbformat": 4,
 "nbformat_minor": 2
}
