{
 "cells": [
  {
   "cell_type": "markdown",
   "metadata": {},
   "source": [
    "## Access the ClinVar database\n",
    "\n",
    "Access the clinvar database with BIU"
   ]
  },
  {
   "cell_type": "code",
   "execution_count": 1,
   "metadata": {},
   "outputs": [],
   "source": [
    "import biu\n",
    "cv = biu.db.ClinVar()"
   ]
  },
  {
   "cell_type": "markdown",
   "metadata": {},
   "source": [
    "## Inspect the Clinvar Object"
   ]
  },
  {
   "cell_type": "code",
   "execution_count": 2,
   "metadata": {},
   "outputs": [
    {
     "name": "stdout",
     "output_type": "stream",
     "text": [
      "ClinVar object\n",
      " Version: GRCh37\n",
      " Objects:\n",
      "  * [ ] _vcf\n",
      "  * [ ] _summary\n",
      " Files:\n",
      "  * [X] vcf : /home/tgehrmann/repos/BIU/docs/clinvar_GRCh37/clinVar.vcf.bgz\n",
      "  * [X] vcf_tbi : /home/tgehrmann/repos/BIU/docs/clinvar_GRCh37/clinVar.vcf.bgz.tbi\n",
      "  * [X] sum : /home/tgehrmann/repos/BIU/docs/clinvar_GRCh37/summary.tsv.bgz\n",
      "  * [X] sum_tbi : /home/tgehrmann/repos/BIU/docs/clinvar_GRCh37/summary.tsv.bgz.tbi\n",
      "\n"
     ]
    }
   ],
   "source": [
    "print(cv)"
   ]
  },
  {
   "cell_type": "markdown",
   "metadata": {},
   "source": [
    "## Query clinvar"
   ]
  },
  {
   "cell_type": "code",
   "execution_count": 3,
   "metadata": {},
   "outputs": [
    {
     "name": "stdout",
     "output_type": "stream",
     "text": [
      "Record(CHROM=1, POS=1961408, REF=C, ALT=[T])\n",
      "Record(CHROM=1, POS=1961415, REF=C, ALT=[T])\n",
      "Record(CHROM=1, POS=1961427, REF=C, ALT=[G])\n",
      "Record(CHROM=1, POS=1961466, REF=C, ALT=[T])\n",
      "Record(CHROM=1, POS=1961467, REF=G, ALT=[A])\n",
      "Record(CHROM=1, POS=1961469, REF=C, ALT=[A])\n",
      "Record(CHROM=1, POS=1961470, REF=G, ALT=[A])\n",
      "Record(CHROM=1, POS=1961508, REF=C, ALT=[A])\n",
      "Record(CHROM=1, POS=1961512, REF=C, ALT=[T])\n",
      "Record(CHROM=1, POS=1961528, REF=G, ALT=[C])\n",
      "Record(CHROM=1, POS=1961536, REF=A, ALT=[G])\n",
      "Record(CHROM=1, POS=1961564, REF=C, ALT=[T])\n",
      "Record(CHROM=1, POS=1961581, REF=G, ALT=[A])\n",
      "Record(CHROM=1, POS=2160157, REF=G, ALT=[T])\n",
      "Record(CHROM=1, POS=2160164, REF=G, ALT=[A])\n",
      "Record(CHROM=1, POS=2160178, REF=G, ALT=[T])\n",
      "Record(CHROM=1, POS=2160179, REF=G, ALT=[GAGCGGC])\n"
     ]
    },
    {
     "name": "stderr",
     "output_type": "stream",
     "text": [
      "D: VCF Input source is tabixed file.\n",
      "D: VCF Input source is list of Records.\n"
     ]
    }
   ],
   "source": [
    "for record in cv.query(\"1\", 1961169, 2160179):\n",
    "    print(record)"
   ]
  },
  {
   "cell_type": "markdown",
   "metadata": {},
   "source": [
    "## Get a summary"
   ]
  },
  {
   "cell_type": "code",
   "execution_count": 4,
   "metadata": {},
   "outputs": [
    {
     "data": {
      "text/plain": [
       "tabixTsv(alleleid='385893', type='copy number loss', name='NCBI36/hg18 1p36.33-36.23(chr1:4737-7424898)x1', geneid='-1', genesymbol='-', hgnc_id='-', clinicalsignificance='Pathogenic', clinsigsimple='1', lastevaluated='-', rs='-1', nsv_esv='nsv2771294', rcvaccession='RCV000450793', phenotypeids='na', phenotypelist='See cases', origin='not provided', originsimple='not provided', assembly='NCBI36', chromosomeaccession='NC_000001.9', chromosome='1', start='4737', stop='7449889', referenceallele='na', alternateallele='na', cytogenetic='1p36.33-36.23', reviewstatus='no assertion criteria provided', numbersubmitters='1', guidelines='', testedingtr='N', otherids='dbVar:nssv13638713,dbVar:nsv2771294', submittercategories='2')"
      ]
     },
     "execution_count": 4,
     "metadata": {},
     "output_type": "execute_result"
    }
   ],
   "source": [
    "cv.querySummary(\"1\", 1961169, 2160179)[0]"
   ]
  },
  {
   "cell_type": "code",
   "execution_count": null,
   "metadata": {},
   "outputs": [],
   "source": []
  }
 ],
 "metadata": {
  "kernelspec": {
   "display_name": "Python 3",
   "language": "python",
   "name": "python3"
  },
  "language_info": {
   "codemirror_mode": {
    "name": "ipython",
    "version": 3
   },
   "file_extension": ".py",
   "mimetype": "text/x-python",
   "name": "python",
   "nbconvert_exporter": "python",
   "pygments_lexer": "ipython3",
   "version": "3.6.3"
  }
 },
 "nbformat": 4,
 "nbformat_minor": 2
}
