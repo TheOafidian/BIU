{
 "cells": [
  {
   "cell_type": "markdown",
   "metadata": {},
   "source": [
    "# Changing global settings for BIU"
   ]
  },
  {
   "cell_type": "code",
   "execution_count": 1,
   "metadata": {},
   "outputs": [],
   "source": [
    "import biu"
   ]
  },
  {
   "cell_type": "markdown",
   "metadata": {},
   "source": [
    "## Settings overview\n",
    "\n",
    "The object which stores all settings is `biu.config.settings`. You can inspect this object:"
   ]
  },
  {
   "cell_type": "code",
   "execution_count": 2,
   "metadata": {},
   "outputs": [
    {
     "name": "stdout",
     "output_type": "stream",
     "text": [
      "Configuration:\n",
      " where : './biu'\n",
      " download_where : ''\n",
      " debug_messages : 'True'\n",
      " debug_stream : 'stderr'\n",
      " pipeline_where : ''\n",
      " pipelines_base : 'pipelines'\n",
      " pipelines_common_name : 'common'\n",
      " pipelines_temporary_indir_name : 'temporary_input'\n",
      " pipelines_conda_prefix_name : 'conda'\n",
      "\n"
     ]
    }
   ],
   "source": [
    "print(biu.settings)"
   ]
  },
  {
   "cell_type": "markdown",
   "metadata": {},
   "source": [
    "## Default dataset location\n",
    "\n",
    "All datasets are downloaded into a specific location.\n",
    "By default, this location is './'.\n",
    "You can specify an alternative directory using `setWhere`, and then all newly created structures will use that location (in this session)"
   ]
  },
  {
   "cell_type": "code",
   "execution_count": 3,
   "metadata": {},
   "outputs": [
    {
     "name": "stdout",
     "output_type": "stream",
     "text": [
      "KEGG object\n",
      " Version: human\n",
      " Objects:\n",
      " Files:\n",
      "  * [ ] org_map : /another/directory/kegg_human/org_map.tsv\n",
      "  * [ ] feature_data : /another/directory/kegg_human/feature_data.dict.sqlite\n",
      "\n"
     ]
    }
   ],
   "source": [
    "biu.settings.setWhere(\"/another/directory\")\n",
    "dataset = biu.db.KEGG()\n",
    "print(dataset)"
   ]
  },
  {
   "cell_type": "markdown",
   "metadata": {},
   "source": [
    "You can verify the currently set location with `getWhere`"
   ]
  },
  {
   "cell_type": "code",
   "execution_count": 4,
   "metadata": {},
   "outputs": [
    {
     "data": {
      "text/plain": [
       "'/another/directory'"
      ]
     },
     "execution_count": 4,
     "metadata": {},
     "output_type": "execute_result"
    }
   ],
   "source": [
    "biu.settings.getWhere()"
   ]
  },
  {
   "cell_type": "markdown",
   "metadata": {},
   "source": [
    "## Download location\n",
    "When downloading files using the Acquire classes, files are downloaded by default to `where`/`_downloads`. This can be modified with `setDownloadDir`, and `getDownloadDir`."
   ]
  },
  {
   "cell_type": "code",
   "execution_count": 5,
   "metadata": {},
   "outputs": [
    {
     "name": "stdout",
     "output_type": "stream",
     "text": [
      "/another/directory/_downloads\n"
     ]
    }
   ],
   "source": [
    "print(biu.settings.getDownloadDir())\n",
    "biu.settings.setDownloadDir('my/directory/name')"
   ]
  },
  {
   "cell_type": "markdown",
   "metadata": {},
   "source": [
    "## Toggle debug messages"
   ]
  },
  {
   "cell_type": "code",
   "execution_count": 6,
   "metadata": {},
   "outputs": [
    {
     "name": "stdout",
     "output_type": "stream",
     "text": [
      "Print debug messages: True\n",
      "Print debug messages: False\n"
     ]
    }
   ],
   "source": [
    "print(\"Print debug messages: %s\" % biu.settings.getDebugState())\n",
    "\n",
    "biu.settings.setDebugState(False)\n",
    "\n",
    "print(\"Print debug messages: %s\" % biu.settings.getDebugState())"
   ]
  },
  {
   "cell_type": "markdown",
   "metadata": {},
   "source": [
    "## Pipeline execution locations\n",
    "\n",
    "When you run a pipeline, it is executed in a specific location.\n",
    "You can modify this location with "
   ]
  },
  {
   "cell_type": "code",
   "execution_count": 7,
   "metadata": {},
   "outputs": [
    {
     "name": "stdout",
     "output_type": "stream",
     "text": [
      "/another/directory/None\n"
     ]
    }
   ],
   "source": [
    "biu.settings.setPipelineOutdir('another/directory')\n",
    "print(biu.settings.getPipelineOutdir())"
   ]
  },
  {
   "cell_type": "markdown",
   "metadata": {},
   "source": [
    "## Setting any setting value\n",
    "\n",
    "Settings are stored in a dictionary that can be viewed with `biu.config.settings.settings`. Most setting variables have reasonable names. You can set any setting variable (or define new ones) with the `setSettings` function. You can retrieve any value with the `getSetting` function."
   ]
  },
  {
   "cell_type": "code",
   "execution_count": 8,
   "metadata": {},
   "outputs": [
    {
     "data": {
      "text/plain": [
       "{'where': '/another/directory',\n",
       " 'download_where': 'my/directory/name',\n",
       " 'debug_messages': False,\n",
       " 'debug_stream': 'stderr',\n",
       " 'pipeline_where': '',\n",
       " 'pipelines_base': 'pipelines',\n",
       " 'pipelines_common_name': 'common',\n",
       " 'pipelines_temporary_indir_name': 'temporary_input',\n",
       " 'pipelines_conda_prefix_name': 'conda',\n",
       " 'pipelines_outdir_base': 'another/directory'}"
      ]
     },
     "execution_count": 8,
     "metadata": {},
     "output_type": "execute_result"
    }
   ],
   "source": [
    "biu.settings.settings"
   ]
  },
  {
   "cell_type": "code",
   "execution_count": 9,
   "metadata": {},
   "outputs": [
    {
     "data": {
      "text/plain": [
       "'myValue'"
      ]
     },
     "execution_count": 9,
     "metadata": {},
     "output_type": "execute_result"
    }
   ],
   "source": [
    "biu.settings.setSettings(my_arbitrary_setting='myValue')\n",
    "biu.settings.getSetting(\"my_arbitrary_setting\")"
   ]
  },
  {
   "cell_type": "code",
   "execution_count": null,
   "metadata": {},
   "outputs": [],
   "source": []
  }
 ],
 "metadata": {
  "kernelspec": {
   "display_name": "Python [conda env:biu]",
   "language": "python",
   "name": "conda-env-biu-py"
  },
  "language_info": {
   "codemirror_mode": {
    "name": "ipython",
    "version": 3
   },
   "file_extension": ".py",
   "mimetype": "text/x-python",
   "name": "python",
   "nbconvert_exporter": "python",
   "pygments_lexer": "ipython3",
   "version": "3.6.3"
  }
 },
 "nbformat": 4,
 "nbformat_minor": 2
}
