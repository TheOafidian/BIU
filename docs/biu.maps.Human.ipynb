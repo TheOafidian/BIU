{
 "cells": [
  {
   "cell_type": "markdown",
   "metadata": {},
   "source": [
    "# Mapping gene identifiers"
   ]
  },
  {
   "cell_type": "code",
   "execution_count": 1,
   "metadata": {},
   "outputs": [],
   "source": [
    "import biu\n",
    "\n",
    "# Set the default data location\n",
    "where = '/exports/molepi/tgehrmann/data/'\n",
    "biu.config.settings.setWhere(where)\n",
    "hm = biu.maps.Human() # Gene mappings for human genome\n",
    "\n",
    "\n",
    "def exampleMapping(GMO):\n",
    "    # GMO : Gene Mapping Object\n",
    "    symbol = \"MTOR\"\n",
    "    geneid = GMO.getSymbolGeneID(symbol)[0]\n",
    "    print(\"%s -> %s\" % (symbol, geneid))\n",
    "    symbol = GMO.getGeneIDSymbol(geneid)[0]\n",
    "    print(\"%s -> %s\" % (geneid, symbol))\n",
    "    ensembl = GMO.getSymbolEnsembl(symbol)[0]\n",
    "    print(\"%s -> %s\" % (symbol, ensembl))\n",
    "    symbol = GMO.getEnsemblSymbol(ensembl)[0]\n",
    "    print(\"%s -> %s\" % (ensembl, symbol))\n",
    "#edef\n",
    "\n",
    "def exampleMappingSilent(GMO):\n",
    "    # GMO : Gene Mapping Object\n",
    "    symbol = \"MTOR\"\n",
    "    geneid = GMO.getSymbolGeneID(symbol)[0]\n",
    "    symbol = GMO.getGeneIDSymbol(geneid)[0]\n",
    "    ensembl = GMO.getSymbolEnsembl(symbol)[0]\n",
    "    symbol = GMO.getEnsemblSymbol(ensembl)[0]\n",
    "#edef"
   ]
  },
  {
   "cell_type": "markdown",
   "metadata": {},
   "source": [
    "## Mapping between Ensembl/GeneID/Symbols\n",
    "\n",
    "There are several functions defined to switch between the different IDs:\n",
    "\n",
    " * `getSymbolGeneID`\n",
    " * `getSymbolEnsembl`\n",
    " * `getGeneIDSymbol`\n",
    " * `getGeneIDEnsembl`\n",
    " * `getEnsemblSymbol`\n",
    " * `getEnsemblGeneID`"
   ]
  },
  {
   "cell_type": "code",
   "execution_count": 2,
   "metadata": {},
   "outputs": [
    {
     "name": "stderr",
     "output_type": "stream",
     "text": [
      "D: Initializing the TSVMapResourceManager object NOW\n",
      "D: Loading the index from pickle\n"
     ]
    },
    {
     "name": "stdout",
     "output_type": "stream",
     "text": [
      "MTOR -> 2475\n",
      "2475 -> MTOR\n"
     ]
    },
    {
     "name": "stderr",
     "output_type": "stream",
     "text": [
      "D: Initializing the TSVMapResourceManager object NOW\n",
      "D: Loading the index from pickle\n"
     ]
    },
    {
     "name": "stdout",
     "output_type": "stream",
     "text": [
      "MTOR -> ENSG00000198793\n",
      "ENSG00000198793 -> MTOR\n"
     ]
    }
   ],
   "source": [
    "exampleMapping(hm)"
   ]
  },
  {
   "cell_type": "markdown",
   "metadata": {},
   "source": [
    "### Mapping with SQLite instead of pickled Maps\n",
    "Fast initialization, but slower operations.\n",
    "Because of the high speed initialization, we can perform queries on a larger number of structures, including the gene2refseq index, and the uniprotmap, which is prohibitively large for the map."
   ]
  },
  {
   "cell_type": "code",
   "execution_count": 3,
   "metadata": {},
   "outputs": [
    {
     "name": "stderr",
     "output_type": "stream",
     "text": [
      "D: Initializing the SQLiteResourceManager object NOW\n"
     ]
    }
   ],
   "source": [
    "hms = biu.maps.HumanS()"
   ]
  },
  {
   "cell_type": "code",
   "execution_count": 4,
   "metadata": {},
   "outputs": [
    {
     "name": "stdout",
     "output_type": "stream",
     "text": [
      "MTOR -> 2475\n",
      "2475 -> MTOR\n",
      "MTOR -> ENSG00000198793\n",
      "ENSG00000198793 -> MTOR\n"
     ]
    }
   ],
   "source": [
    "exampleMapping(hms)"
   ]
  },
  {
   "cell_type": "code",
   "execution_count": 5,
   "metadata": {},
   "outputs": [
    {
     "name": "stdout",
     "output_type": "stream",
     "text": [
      "Map Lookup\n",
      "22.3 µs ± 76.6 ns per loop (mean ± std. dev. of 7 runs, 10000 loops each)\n",
      "SQLite lookup\n",
      "730 ms ± 4.01 ms per loop (mean ± std. dev. of 7 runs, 1 loop each)\n"
     ]
    }
   ],
   "source": [
    "print(\"Map Lookup\")\n",
    "%timeit exampleMappingSilent(hm)\n",
    "print(\"SQLite lookup\")\n",
    "%timeit exampleMappingSilent(hms)"
   ]
  },
  {
   "cell_type": "markdown",
   "metadata": {},
   "source": [
    "## Get all the mappings\n",
    "\n",
    "If you have one ID, and want the others, use the\n",
    " * `fromEnsembl`\n",
    " * `fromGeneID`\n",
    " * `fromSymbol`\n",
    "\n",
    "functions to return a named tuple of all the IDs"
   ]
  },
  {
   "cell_type": "code",
   "execution_count": 6,
   "metadata": {},
   "outputs": [
    {
     "data": {
      "text/plain": [
       "GeneIDMapping(geneID='2475', ensemblID='ENSG00000198793', symbol='MTOR')"
      ]
     },
     "execution_count": 6,
     "metadata": {},
     "output_type": "execute_result"
    }
   ],
   "source": [
    "hm.fromEnsembl(\"ENSG00000198793\")"
   ]
  },
  {
   "cell_type": "code",
   "execution_count": 7,
   "metadata": {},
   "outputs": [
    {
     "data": {
      "text/plain": [
       "GeneIDMapping(geneID='2475', ensemblID='ENSG00000198793', symbol='MTOR')"
      ]
     },
     "execution_count": 7,
     "metadata": {},
     "output_type": "execute_result"
    }
   ],
   "source": [
    "hm.fromGeneID(\"2475\")"
   ]
  },
  {
   "cell_type": "code",
   "execution_count": 8,
   "metadata": {},
   "outputs": [
    {
     "data": {
      "text/plain": [
       "GeneIDMapping(geneID='2475', ensemblID='M', symbol='MTOR')"
      ]
     },
     "execution_count": 8,
     "metadata": {},
     "output_type": "execute_result"
    }
   ],
   "source": [
    "hm.fromSymbol(\"MTOR\")"
   ]
  },
  {
   "cell_type": "code",
   "execution_count": null,
   "metadata": {},
   "outputs": [],
   "source": []
  }
 ],
 "metadata": {
  "kernelspec": {
   "display_name": "Python 3",
   "language": "python",
   "name": "python3"
  },
  "language_info": {
   "codemirror_mode": {
    "name": "ipython",
    "version": 3
   },
   "file_extension": ".py",
   "mimetype": "text/x-python",
   "name": "python",
   "nbconvert_exporter": "python",
   "pygments_lexer": "ipython3",
   "version": "3.6.3"
  }
 },
 "nbformat": 4,
 "nbformat_minor": 2
}
