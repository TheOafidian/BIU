{
 "cells": [
  {
   "cell_type": "markdown",
   "metadata": {},
   "source": [
    "# Load ABI Trace files\n",
    "\n",
    "Developed by Bow. Code and documentation at: https://github.com/bow/abifpy"
   ]
  },
  {
   "cell_type": "code",
   "execution_count": 1,
   "metadata": {},
   "outputs": [],
   "source": [
    "import biu"
   ]
  },
  {
   "cell_type": "code",
   "execution_count": 3,
   "metadata": {},
   "outputs": [
    {
     "data": {
      "text/plain": [
       "'CGTACGGCCGGCTTCTTCTCAGCCAGGTCCTCGTCGTGCTGGGCCAGCTGCCGGTTCATGGCAATGGCCTCAGCCGCGAAGGACGTGAGGTCTTTGGCACAGCTGTTCCTGGGAAACGGGGTGGGGGTAGGTGGTCACCAAGAGGCACCCCTCAGGGGACCCCTGGGGTCTGTGAAGGCCCTGGGGGAAGGGGCTTCATGCCCCCCTCCCAGCCCCCACCCTGGGGCTCCTCTGAGCACCAGGGCCCCACCGGGAGCTTCACTGAGTCACCAGGAACCCTAAGGGGTGCCTCTCGCTGACCCGTGCCCGCCCTGAAACAGAGAAAAATGCCCAAACAAAGACCGCTGGTAAATAGCCGCGGAAGCCGCAACCGGAAGGGGGGGGGTCCTCGAGGGGGCCTGGGACAAATACGTGTGGTAAGCCCGACGAAAAGACTGCCGTTAAAAATCAGCGGACGTCAAAGGAAGAGAAACGAAAAACCAACAATGCCACGAAACGACAAACAAGGAAATCCTTTTAAATTATCCT'"
      ]
     },
     "execution_count": 3,
     "metadata": {},
     "output_type": "execute_result"
    }
   ],
   "source": [
    "biu.formats.ABI('example_files/example.ab1')"
   ]
  },
  {
   "cell_type": "code",
   "execution_count": null,
   "metadata": {},
   "outputs": [],
   "source": []
  }
 ],
 "metadata": {
  "kernelspec": {
   "display_name": "Python [conda env:biu]",
   "language": "python",
   "name": "conda-env-biu-py"
  },
  "language_info": {
   "codemirror_mode": {
    "name": "ipython",
    "version": 3
   },
   "file_extension": ".py",
   "mimetype": "text/x-python",
   "name": "python",
   "nbconvert_exporter": "python",
   "pygments_lexer": "ipython3",
   "version": "3.6.3"
  }
 },
 "nbformat": 4,
 "nbformat_minor": 2
}
