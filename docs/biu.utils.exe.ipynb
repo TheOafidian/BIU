{
 "cells": [
  {
   "cell_type": "markdown",
   "metadata": {},
   "source": [
    "# Executing commands"
   ]
  },
  {
   "cell_type": "code",
   "execution_count": 1,
   "metadata": {},
   "outputs": [],
   "source": [
    "import biu"
   ]
  },
  {
   "cell_type": "markdown",
   "metadata": {},
   "source": [
    "## Run an arbitrary command\n",
    "\n",
    "You can run any command using the `runCommand` function. This function has several options:\n",
    "\n",
    " * `bg=False` Run in background\n",
    " * `stdin=None` A stream to give as stdin to the command\n",
    " * `stdout=None` A stream to capture the stdout of the command\n",
    " * `stderr=None` A stream to capture the stderr of the command\n",
    " * `shell=None` Is this a composite function? (pipes, redirects, etc?)\n",
    " * `verbose=False` If true, print the command  being executed"
   ]
  },
  {
   "cell_type": "code",
   "execution_count": 2,
   "metadata": {},
   "outputs": [
    {
     "data": {
      "text/plain": [
       "0"
      ]
     },
     "execution_count": 2,
     "metadata": {},
     "output_type": "execute_result"
    }
   ],
   "source": [
    "biu.utils.exe.runCommand('cat example_files/basic2.map | rev | tac > example_files/basic2.map.reversed', shell=True)"
   ]
  },
  {
   "cell_type": "code",
   "execution_count": 3,
   "metadata": {},
   "outputs": [],
   "source": [
    "import subprocess\n",
    "p = biu.utils.runCommand('head example_files/basic2.map.reversed', stdout=subprocess.PIPE, shell=True, bg=True)\n",
    "for line in p.stdout:\n",
    "    print(line.decode(), end='')"
   ]
  },
  {
   "cell_type": "code",
   "execution_count": 4,
   "metadata": {},
   "outputs": [
    {
     "data": {
      "text/plain": [
       "0"
      ]
     },
     "execution_count": 4,
     "metadata": {},
     "output_type": "execute_result"
    }
   ],
   "source": [
    "biu.utils.exe.runCommand('rm example_files/basic2.map.reversed')"
   ]
  },
  {
   "cell_type": "markdown",
   "metadata": {},
   "source": [
    "## Get the output of a command\n",
    "\n",
    "The `getCommandOutput` function allows us to easily get the output of a function."
   ]
  },
  {
   "cell_type": "code",
   "execution_count": 5,
   "metadata": {},
   "outputs": [
    {
     "name": "stdout",
     "output_type": "stream",
     "text": [
      "biu.config.settings.ipynb\n",
      "biu.db.BBMRI.ipynb\n",
      "biu.db.CADD.ipynb\n",
      "biu.db.ClinVar.ipynb\n",
      "biu.db.COSMIC.ipynb\n",
      "biu.db.DBSNP.ipynb\n",
      "biu.db.Genome.ipynb\n",
      "biu.db.Gnomad.ipynb\n",
      "biu.db.GO.ipynb\n",
      "biu.db.GTeX.ipynb\n",
      "\n"
     ]
    }
   ],
   "source": [
    "print(biu.utils.exe.getCommandOutput(\"ls | grep -e 'ipynb$' | sort | head\", shell=True).decode())"
   ]
  },
  {
   "cell_type": "markdown",
   "metadata": {},
   "source": [
    "You can also request to get the stderr also, by specifying `stderr=True`."
   ]
  },
  {
   "cell_type": "code",
   "execution_count": 6,
   "metadata": {},
   "outputs": [
    {
     "name": "stdout",
     "output_type": "stream",
     "text": [
      "/bin/sh: grayham: command not found\n",
      "\n"
     ]
    }
   ],
   "source": [
    "stdout, stderr = biu.utils.exe.getCommandOutput(\"ls | grayham -e 'ipynb$' | sort\", stderr=True, shell=True)\n",
    "print(stderr.decode())"
   ]
  },
  {
   "cell_type": "markdown",
   "metadata": {},
   "source": [
    "## Check which program would be executed\n",
    "\n",
    "You can check which version of the program will be chosen based on the current PATH variable."
   ]
  },
  {
   "cell_type": "code",
   "execution_count": 7,
   "metadata": {},
   "outputs": [
    {
     "data": {
      "text/plain": [
       "'/exports/molepi/tgehrmann/miniconda3/bin/python'"
      ]
     },
     "execution_count": 7,
     "metadata": {},
     "output_type": "execute_result"
    }
   ],
   "source": [
    "biu.utils.exe.which('python')"
   ]
  },
  {
   "cell_type": "markdown",
   "metadata": {},
   "source": [
    "## Check if a command exists"
   ]
  },
  {
   "cell_type": "code",
   "execution_count": 8,
   "metadata": {},
   "outputs": [
    {
     "data": {
      "text/plain": [
       "False"
      ]
     },
     "execution_count": 8,
     "metadata": {},
     "output_type": "execute_result"
    }
   ],
   "source": [
    "biu.utils.exe.exists('lftp')"
   ]
  }
 ],
 "metadata": {
  "kernelspec": {
   "display_name": "Python [conda env:biu]",
   "language": "python",
   "name": "conda-env-biu-py"
  },
  "language_info": {
   "codemirror_mode": {
    "name": "ipython",
    "version": 3
   },
   "file_extension": ".py",
   "mimetype": "text/x-python",
   "name": "python",
   "nbconvert_exporter": "python",
   "pygments_lexer": "ipython3",
   "version": "3.6.3"
  }
 },
 "nbformat": 4,
 "nbformat_minor": 2
}
