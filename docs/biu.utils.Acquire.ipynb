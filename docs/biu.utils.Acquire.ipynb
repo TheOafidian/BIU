{
 "cells": [
  {
   "cell_type": "markdown",
   "metadata": {},
   "source": [
    "# Acquire files in a specific format\n",
    "\n",
    "If you need to download a file, and perform some standard functions on them, then you can do it with the `Acquire` object.\n",
    "\n",
    "The Acquire object facilitates the acquisition of files and preprocessing.\n",
    "Currently supported functions are:\n",
    "\n",
    " * Acquisition:\n",
    "   * curl\n",
    "   * wget\n",
    "   * lftp\n",
    "   * local\n",
    "   * touch\n",
    "   * merge\n",
    "  \n",
    " * Processing:\n",
    "   * Compression\n",
    "     * unzip\n",
    "     * gunzip\n",
    "     * bunzip\n",
    "     * untar\n",
    "     * gzip\n",
    "     * bzip\n",
    "     * bgzip\n",
    "   \n",
    "   * Commands:\n",
    "     * cat\n",
    "     * ls\n",
    "     * call\n",
    "     * cmd\n",
    "    \n",
    "   * Processing\n",
    "     * sort\n",
    "     * tabix\n",
    "    \n",
    " * Renaming\n",
    "   * finalize\n",
    "   \n",
    "The usage of the `Acquire` object always starts with an acquisition command, followed by some processing commands, followed by the `finalize` command.\n",
    "\n",
    "    biu.utils.Acquire().curl(url).unzip().finalize(finalLocation)\n",
    "\n",
    "The Acquire object follows a lazy evaluation. Acquisition and processing is only performed when the `acquire` command is applied to it.\n",
    "\n",
    "    biu.utils.Acquire().curl(url).unzip().finalize(finalLocation).acquire()"
   ]
  },
  {
   "cell_type": "code",
   "execution_count": 1,
   "metadata": {},
   "outputs": [],
   "source": [
    "import biu"
   ]
  },
  {
   "cell_type": "markdown",
   "metadata": {},
   "source": [
    "## The `Acquire` object\n",
    "The `Acquire` object is an object that allows you to chain commands after each other. these commands are defined above, and exemplified below. To construct an `Acquire` object, one simple creates one with the `biu.utils.Acquire` class. You can also specify to redo each step in the pipeline you create using the `redo=True` argument. You can also specify where the files should be downloaded to with the `where` argument."
   ]
  },
  {
   "cell_type": "code",
   "execution_count": 2,
   "metadata": {},
   "outputs": [
    {
     "name": "stdout",
     "output_type": "stream",
     "text": [
      "Acquire object.\n",
      " Re-do steps: yes\n",
      " Current steps:\n",
      "\n"
     ]
    }
   ],
   "source": [
    "myAcquire = biu.utils.Acquire(redo=True)\n",
    "print(myAcquire)"
   ]
  },
  {
   "cell_type": "markdown",
   "metadata": {},
   "source": [
    "## Acquisition"
   ]
  },
  {
   "cell_type": "markdown",
   "metadata": {},
   "source": [
    "### curl"
   ]
  },
  {
   "cell_type": "code",
   "execution_count": 3,
   "metadata": {},
   "outputs": [
    {
     "name": "stdout",
     "output_type": "stream",
     "text": [
      "Acquire object.\n",
      " Re-do steps: no\n",
      " Current steps:\n",
      "  * curl\n",
      "  * unzip\n",
      "  * call\n",
      "\n"
     ]
    },
    {
     "name": "stderr",
     "output_type": "stream",
     "text": [
      "D: curl -L  'http://zzz.bwh.harvard.edu/plink/dist/plink-1.07-i686.zip' > '/home/tgehrmann/repos/BIU/docs/biu/downloads/8f52ad05b4c2ba036683cfedcdedb328eb8c837c'\n",
      "D: unzip -o -d '/home/tgehrmann/repos/BIU/docs/biu/downloads/8f52ad05b4c2ba036683cfedcdedb328eb8c837c.unzipped' '/home/tgehrmann/repos/BIU/docs/biu/downloads/8f52ad05b4c2ba036683cfedcdedb328eb8c837c'\n"
     ]
    },
    {
     "name": "stdout",
     "output_type": "stream",
     "text": [
      "1 1 0 0 1  1  A A  G T\n",
      "2 1 0 0 1  1  A C  T G\n",
      "3 1 0 0 1  1  C C  G G\n",
      "4 1 0 0 1  2  A C  T T\n",
      "5 1 0 0 1  2  C C  G T\n",
      "6 1 0 0 1  2  C C  T T\n",
      "\n"
     ]
    },
    {
     "name": "stderr",
     "output_type": "stream",
     "text": [
      "D: cat '/home/tgehrmann/repos/BIU/docs/biu/downloads/8f52ad05b4c2ba036683cfedcdedb328eb8c837c.unzipped/plink-1.07-i686/test.ped'\n"
     ]
    },
    {
     "data": {
      "text/plain": [
       "'/home/tgehrmann/repos/BIU/docs/biu/downloads/8f52ad05b4c2ba036683cfedcdedb328eb8c837c.unzipped/plink-1.07-i686/test.ped'"
      ]
     },
     "execution_count": 3,
     "metadata": {},
     "output_type": "execute_result"
    }
   ],
   "source": [
    "ao = biu.utils.Acquire().curl(\"http://zzz.bwh.harvard.edu/plink/dist/plink-1.07-i686.zip\")\\\n",
    "                        .unzip(\"plink-1.07-i686/test.ped\")\\\n",
    "                        .call(\"cat\")\n",
    "\n",
    "print(ao)\n",
    "\n",
    "ao.acquire()"
   ]
  },
  {
   "cell_type": "markdown",
   "metadata": {},
   "source": [
    "### wget"
   ]
  },
  {
   "cell_type": "code",
   "execution_count": 4,
   "metadata": {},
   "outputs": [
    {
     "name": "stdout",
     "output_type": "stream",
     "text": [
      "Archive:  /home/tgehrmann/repos/BIU/docs/biu/downloads/8f52ad05b4c2ba036683cfedcdedb328eb8c837c\n",
      "  Length      Date    Time    Name\n",
      "---------  ---------- -----   ----\n",
      "        0  2011-06-21 03:20   plink-1.07-i686/\n",
      "  4589621  2011-06-21 03:20   plink-1.07-i686/plink\n",
      "  1799865  2011-06-21 03:20   plink-1.07-i686/gPLINK.jar\n",
      "      138  2007-07-27 16:51   plink-1.07-i686/test.ped\n",
      "       23  2007-07-27 16:51   plink-1.07-i686/test.map\n",
      "     1287  2007-07-27 16:51   plink-1.07-i686/README.txt\n",
      "    15365  2007-07-27 16:51   plink-1.07-i686/COPYING.txt\n",
      "\n"
     ]
    },
    {
     "name": "stderr",
     "output_type": "stream",
     "text": [
      "D: unzip -l /home/tgehrmann/repos/BIU/docs/biu/downloads/8f52ad05b4c2ba036683cfedcdedb328eb8c837c | head\n"
     ]
    }
   ],
   "source": [
    "ao = biu.utils.Acquire().wget(\"http://zzz.bwh.harvard.edu/plink/dist/plink-1.07-i686.zip\")\\\n",
    "                        .call('unzip -l %s | head').acquire()"
   ]
  },
  {
   "cell_type": "markdown",
   "metadata": {},
   "source": [
    "## ftp"
   ]
  },
  {
   "cell_type": "code",
   "execution_count": 6,
   "metadata": {},
   "outputs": [
    {
     "ename": "error_perm",
     "evalue": "500 Unknown command.",
     "output_type": "error",
     "traceback": [
      "\u001b[0;31m---------------------------------------------------------------------------\u001b[0m",
      "\u001b[0;31merror_perm\u001b[0m                                Traceback (most recent call last)",
      "\u001b[0;32m<ipython-input-6-7406f0b16674>\u001b[0m in \u001b[0;36m<module>\u001b[0;34m()\u001b[0m\n\u001b[0;32m----> 1\u001b[0;31m \u001b[0mprint\u001b[0m\u001b[0;34m(\u001b[0m\u001b[0mbiu\u001b[0m\u001b[0;34m.\u001b[0m\u001b[0mformats\u001b[0m\u001b[0;34m.\u001b[0m\u001b[0mFasta\u001b[0m\u001b[0;34m(\u001b[0m\u001b[0mbiu\u001b[0m\u001b[0;34m.\u001b[0m\u001b[0mutils\u001b[0m\u001b[0;34m.\u001b[0m\u001b[0mAcquire\u001b[0m\u001b[0;34m(\u001b[0m\u001b[0;34m)\u001b[0m\u001b[0;34m.\u001b[0m\u001b[0mftp\u001b[0m\u001b[0;34m(\u001b[0m\u001b[0;34m'ftp.wormbase.org'\u001b[0m\u001b[0;34m,\u001b[0m \u001b[0;34m'/pub/wormbase/releases/WS264/species/c_japonica/PRJNA12591/c_japonica.PRJNA12591.WS264.pseudogenic_transcripts.fa.gz'\u001b[0m\u001b[0;34m)\u001b[0m\u001b[0;34m.\u001b[0m\u001b[0mgunzip\u001b[0m\u001b[0;34m(\u001b[0m\u001b[0;34m)\u001b[0m\u001b[0;34m.\u001b[0m\u001b[0macquire\u001b[0m\u001b[0;34m(\u001b[0m\u001b[0;34m)\u001b[0m\u001b[0;34m)\u001b[0m\u001b[0;34m)\u001b[0m\u001b[0;34m\u001b[0m\u001b[0m\n\u001b[0m\u001b[1;32m      2\u001b[0m \u001b[0;34m\u001b[0m\u001b[0m\n",
      "\u001b[0;32m~/repos/BIU/docs/biu/utils/acquireUtils.py\u001b[0m in \u001b[0;36macquire\u001b[0;34m(self)\u001b[0m\n\u001b[1;32m     85\u001b[0m     \u001b[0;32mfor\u001b[0m \u001b[0mstep\u001b[0m \u001b[0;32min\u001b[0m \u001b[0mself\u001b[0m\u001b[0;34m.\u001b[0m\u001b[0m__steps\u001b[0m\u001b[0;34m:\u001b[0m\u001b[0;34m\u001b[0m\u001b[0m\n\u001b[1;32m     86\u001b[0m       \u001b[0moldFileName\u001b[0m \u001b[0;34m=\u001b[0m \u001b[0mself\u001b[0m\u001b[0;34m.\u001b[0m\u001b[0m__fileName\u001b[0m\u001b[0;34m\u001b[0m\u001b[0m\n\u001b[0;32m---> 87\u001b[0;31m       \u001b[0mstatus\u001b[0m \u001b[0;34m=\u001b[0m \u001b[0mgetattr\u001b[0m\u001b[0;34m(\u001b[0m\u001b[0mself\u001b[0m\u001b[0;34m,\u001b[0m \u001b[0;34m'_'\u001b[0m \u001b[0;34m+\u001b[0m \u001b[0mstep\u001b[0m\u001b[0;34m.\u001b[0m\u001b[0mstep\u001b[0m\u001b[0;34m)\u001b[0m\u001b[0;34m(\u001b[0m\u001b[0;34m*\u001b[0m\u001b[0mstep\u001b[0m\u001b[0;34m.\u001b[0m\u001b[0mpargs\u001b[0m\u001b[0;34m,\u001b[0m \u001b[0;34m**\u001b[0m\u001b[0mstep\u001b[0m\u001b[0;34m.\u001b[0m\u001b[0mkwargs\u001b[0m\u001b[0;34m)\u001b[0m\u001b[0;34m\u001b[0m\u001b[0m\n\u001b[0m\u001b[1;32m     88\u001b[0m       \u001b[0;32mif\u001b[0m \u001b[0mstatus\u001b[0m \u001b[0;34m!=\u001b[0m \u001b[0;36m0\u001b[0m\u001b[0;34m:\u001b[0m\u001b[0;34m\u001b[0m\u001b[0m\n\u001b[1;32m     89\u001b[0m         \u001b[0mmsg\u001b[0m\u001b[0;34m.\u001b[0m\u001b[0merror\u001b[0m\u001b[0;34m(\u001b[0m\u001b[0;34m\"Could not complete step '%s'\"\u001b[0m \u001b[0;34m%\u001b[0m \u001b[0mstep\u001b[0m\u001b[0;34m.\u001b[0m\u001b[0mstep\u001b[0m\u001b[0;34m)\u001b[0m\u001b[0;34m\u001b[0m\u001b[0m\n",
      "\u001b[0;32m~/repos/BIU/docs/biu/utils/acquireUtils.py\u001b[0m in \u001b[0;36m_ftp\u001b[0;34m(self, server, location, username, password, ext)\u001b[0m\n\u001b[1;32m    288\u001b[0m       \u001b[0mconn\u001b[0m\u001b[0;34m.\u001b[0m\u001b[0mlogin\u001b[0m\u001b[0;34m(\u001b[0m\u001b[0;34m)\u001b[0m\u001b[0;34m\u001b[0m\u001b[0m\n\u001b[1;32m    289\u001b[0m     \u001b[0;31m#fi\u001b[0m\u001b[0;34m\u001b[0m\u001b[0;34m\u001b[0m\u001b[0m\n\u001b[0;32m--> 290\u001b[0;31m     \u001b[0mp\u001b[0m \u001b[0;34m=\u001b[0m \u001b[0mconn\u001b[0m\u001b[0;34m.\u001b[0m\u001b[0mretrbinary\u001b[0m\u001b[0;34m(\u001b[0m\u001b[0mlocation\u001b[0m\u001b[0;34m,\u001b[0m \u001b[0mopen\u001b[0m\u001b[0;34m(\u001b[0m\u001b[0mself\u001b[0m\u001b[0;34m.\u001b[0m\u001b[0m__fileName\u001b[0m\u001b[0;34m,\u001b[0m \u001b[0;34m'wb'\u001b[0m\u001b[0;34m)\u001b[0m\u001b[0;34m.\u001b[0m\u001b[0mwrite\u001b[0m\u001b[0;34m)\u001b[0m\u001b[0;34m\u001b[0m\u001b[0m\n\u001b[0m\u001b[1;32m    291\u001b[0m     \u001b[0mp\u001b[0m \u001b[0;34m=\u001b[0m \u001b[0mint\u001b[0m\u001b[0;34m(\u001b[0m\u001b[0mresult\u001b[0m\u001b[0;34m.\u001b[0m\u001b[0msplit\u001b[0m\u001b[0;34m(\u001b[0m\u001b[0;34m' '\u001b[0m\u001b[0;34m)\u001b[0m\u001b[0;34m[\u001b[0m\u001b[0;36m0\u001b[0m\u001b[0;34m]\u001b[0m\u001b[0;34m)\u001b[0m\u001b[0;34m\u001b[0m\u001b[0m\n\u001b[1;32m    292\u001b[0m     \u001b[0;32mif\u001b[0m \u001b[0mp\u001b[0m \u001b[0;34m==\u001b[0m \u001b[0;36m226\u001b[0m\u001b[0;34m:\u001b[0m\u001b[0;34m\u001b[0m\u001b[0m\n",
      "\u001b[0;32m/exports/molepi/tgehrmann/miniconda3/envs/biu/lib/python3.6/ftplib.py\u001b[0m in \u001b[0;36mretrbinary\u001b[0;34m(self, cmd, callback, blocksize, rest)\u001b[0m\n\u001b[1;32m    440\u001b[0m         \"\"\"\n\u001b[1;32m    441\u001b[0m         \u001b[0mself\u001b[0m\u001b[0;34m.\u001b[0m\u001b[0mvoidcmd\u001b[0m\u001b[0;34m(\u001b[0m\u001b[0;34m'TYPE I'\u001b[0m\u001b[0;34m)\u001b[0m\u001b[0;34m\u001b[0m\u001b[0m\n\u001b[0;32m--> 442\u001b[0;31m         \u001b[0;32mwith\u001b[0m \u001b[0mself\u001b[0m\u001b[0;34m.\u001b[0m\u001b[0mtransfercmd\u001b[0m\u001b[0;34m(\u001b[0m\u001b[0mcmd\u001b[0m\u001b[0;34m,\u001b[0m \u001b[0mrest\u001b[0m\u001b[0;34m)\u001b[0m \u001b[0;32mas\u001b[0m \u001b[0mconn\u001b[0m\u001b[0;34m:\u001b[0m\u001b[0;34m\u001b[0m\u001b[0m\n\u001b[0m\u001b[1;32m    443\u001b[0m             \u001b[0;32mwhile\u001b[0m \u001b[0;36m1\u001b[0m\u001b[0;34m:\u001b[0m\u001b[0;34m\u001b[0m\u001b[0m\n\u001b[1;32m    444\u001b[0m                 \u001b[0mdata\u001b[0m \u001b[0;34m=\u001b[0m \u001b[0mconn\u001b[0m\u001b[0;34m.\u001b[0m\u001b[0mrecv\u001b[0m\u001b[0;34m(\u001b[0m\u001b[0mblocksize\u001b[0m\u001b[0;34m)\u001b[0m\u001b[0;34m\u001b[0m\u001b[0m\n",
      "\u001b[0;32m/exports/molepi/tgehrmann/miniconda3/envs/biu/lib/python3.6/ftplib.py\u001b[0m in \u001b[0;36mtransfercmd\u001b[0;34m(self, cmd, rest)\u001b[0m\n\u001b[1;32m    397\u001b[0m     \u001b[0;32mdef\u001b[0m \u001b[0mtransfercmd\u001b[0m\u001b[0;34m(\u001b[0m\u001b[0mself\u001b[0m\u001b[0;34m,\u001b[0m \u001b[0mcmd\u001b[0m\u001b[0;34m,\u001b[0m \u001b[0mrest\u001b[0m\u001b[0;34m=\u001b[0m\u001b[0;32mNone\u001b[0m\u001b[0;34m)\u001b[0m\u001b[0;34m:\u001b[0m\u001b[0;34m\u001b[0m\u001b[0m\n\u001b[1;32m    398\u001b[0m         \u001b[0;34m\"\"\"Like ntransfercmd() but returns only the socket.\"\"\"\u001b[0m\u001b[0;34m\u001b[0m\u001b[0m\n\u001b[0;32m--> 399\u001b[0;31m         \u001b[0;32mreturn\u001b[0m \u001b[0mself\u001b[0m\u001b[0;34m.\u001b[0m\u001b[0mntransfercmd\u001b[0m\u001b[0;34m(\u001b[0m\u001b[0mcmd\u001b[0m\u001b[0;34m,\u001b[0m \u001b[0mrest\u001b[0m\u001b[0;34m)\u001b[0m\u001b[0;34m[\u001b[0m\u001b[0;36m0\u001b[0m\u001b[0;34m]\u001b[0m\u001b[0;34m\u001b[0m\u001b[0m\n\u001b[0m\u001b[1;32m    400\u001b[0m \u001b[0;34m\u001b[0m\u001b[0m\n\u001b[1;32m    401\u001b[0m     \u001b[0;32mdef\u001b[0m \u001b[0mlogin\u001b[0m\u001b[0;34m(\u001b[0m\u001b[0mself\u001b[0m\u001b[0;34m,\u001b[0m \u001b[0muser\u001b[0m \u001b[0;34m=\u001b[0m \u001b[0;34m''\u001b[0m\u001b[0;34m,\u001b[0m \u001b[0mpasswd\u001b[0m \u001b[0;34m=\u001b[0m \u001b[0;34m''\u001b[0m\u001b[0;34m,\u001b[0m \u001b[0macct\u001b[0m \u001b[0;34m=\u001b[0m \u001b[0;34m''\u001b[0m\u001b[0;34m)\u001b[0m\u001b[0;34m:\u001b[0m\u001b[0;34m\u001b[0m\u001b[0m\n",
      "\u001b[0;32m/exports/molepi/tgehrmann/miniconda3/envs/biu/lib/python3.6/ftplib.py\u001b[0m in \u001b[0;36mntransfercmd\u001b[0;34m(self, cmd, rest)\u001b[0m\n\u001b[1;32m    363\u001b[0m                 \u001b[0;32mif\u001b[0m \u001b[0mrest\u001b[0m \u001b[0;32mis\u001b[0m \u001b[0;32mnot\u001b[0m \u001b[0;32mNone\u001b[0m\u001b[0;34m:\u001b[0m\u001b[0;34m\u001b[0m\u001b[0m\n\u001b[1;32m    364\u001b[0m                     \u001b[0mself\u001b[0m\u001b[0;34m.\u001b[0m\u001b[0msendcmd\u001b[0m\u001b[0;34m(\u001b[0m\u001b[0;34m\"REST %s\"\u001b[0m \u001b[0;34m%\u001b[0m \u001b[0mrest\u001b[0m\u001b[0;34m)\u001b[0m\u001b[0;34m\u001b[0m\u001b[0m\n\u001b[0;32m--> 365\u001b[0;31m                 \u001b[0mresp\u001b[0m \u001b[0;34m=\u001b[0m \u001b[0mself\u001b[0m\u001b[0;34m.\u001b[0m\u001b[0msendcmd\u001b[0m\u001b[0;34m(\u001b[0m\u001b[0mcmd\u001b[0m\u001b[0;34m)\u001b[0m\u001b[0;34m\u001b[0m\u001b[0m\n\u001b[0m\u001b[1;32m    366\u001b[0m                 \u001b[0;31m# Some servers apparently send a 200 reply to\u001b[0m\u001b[0;34m\u001b[0m\u001b[0;34m\u001b[0m\u001b[0m\n\u001b[1;32m    367\u001b[0m                 \u001b[0;31m# a LIST or STOR command, before the 150 reply\u001b[0m\u001b[0;34m\u001b[0m\u001b[0;34m\u001b[0m\u001b[0m\n",
      "\u001b[0;32m/exports/molepi/tgehrmann/miniconda3/envs/biu/lib/python3.6/ftplib.py\u001b[0m in \u001b[0;36msendcmd\u001b[0;34m(self, cmd)\u001b[0m\n\u001b[1;32m    271\u001b[0m         \u001b[0;34m'''Send a command and return the response.'''\u001b[0m\u001b[0;34m\u001b[0m\u001b[0m\n\u001b[1;32m    272\u001b[0m         \u001b[0mself\u001b[0m\u001b[0;34m.\u001b[0m\u001b[0mputcmd\u001b[0m\u001b[0;34m(\u001b[0m\u001b[0mcmd\u001b[0m\u001b[0;34m)\u001b[0m\u001b[0;34m\u001b[0m\u001b[0m\n\u001b[0;32m--> 273\u001b[0;31m         \u001b[0;32mreturn\u001b[0m \u001b[0mself\u001b[0m\u001b[0;34m.\u001b[0m\u001b[0mgetresp\u001b[0m\u001b[0;34m(\u001b[0m\u001b[0;34m)\u001b[0m\u001b[0;34m\u001b[0m\u001b[0m\n\u001b[0m\u001b[1;32m    274\u001b[0m \u001b[0;34m\u001b[0m\u001b[0m\n\u001b[1;32m    275\u001b[0m     \u001b[0;32mdef\u001b[0m \u001b[0mvoidcmd\u001b[0m\u001b[0;34m(\u001b[0m\u001b[0mself\u001b[0m\u001b[0;34m,\u001b[0m \u001b[0mcmd\u001b[0m\u001b[0;34m)\u001b[0m\u001b[0;34m:\u001b[0m\u001b[0;34m\u001b[0m\u001b[0m\n",
      "\u001b[0;32m/exports/molepi/tgehrmann/miniconda3/envs/biu/lib/python3.6/ftplib.py\u001b[0m in \u001b[0;36mgetresp\u001b[0;34m(self)\u001b[0m\n\u001b[1;32m    244\u001b[0m             \u001b[0;32mraise\u001b[0m \u001b[0merror_temp\u001b[0m\u001b[0;34m(\u001b[0m\u001b[0mresp\u001b[0m\u001b[0;34m)\u001b[0m\u001b[0;34m\u001b[0m\u001b[0m\n\u001b[1;32m    245\u001b[0m         \u001b[0;32mif\u001b[0m \u001b[0mc\u001b[0m \u001b[0;34m==\u001b[0m \u001b[0;34m'5'\u001b[0m\u001b[0;34m:\u001b[0m\u001b[0;34m\u001b[0m\u001b[0m\n\u001b[0;32m--> 246\u001b[0;31m             \u001b[0;32mraise\u001b[0m \u001b[0merror_perm\u001b[0m\u001b[0;34m(\u001b[0m\u001b[0mresp\u001b[0m\u001b[0;34m)\u001b[0m\u001b[0;34m\u001b[0m\u001b[0m\n\u001b[0m\u001b[1;32m    247\u001b[0m         \u001b[0;32mraise\u001b[0m \u001b[0merror_proto\u001b[0m\u001b[0;34m(\u001b[0m\u001b[0mresp\u001b[0m\u001b[0;34m)\u001b[0m\u001b[0;34m\u001b[0m\u001b[0m\n\u001b[1;32m    248\u001b[0m \u001b[0;34m\u001b[0m\u001b[0m\n",
      "\u001b[0;31merror_perm\u001b[0m: 500 Unknown command."
     ]
    }
   ],
   "source": [
    "print(biu.formats.Fasta(biu.utils.Acquire().ftp('ftp.wormbase.org', '/pub/wormbase/releases/WS264/species/c_japonica/PRJNA12591/c_japonica.PRJNA12591.WS264.pseudogenic_transcripts.fa.gz').gunzip().acquire()))\n",
    "      "
   ]
  },
  {
   "cell_type": "markdown",
   "metadata": {},
   "source": [
    "### lftp\n",
    "\n",
    "You can use lftp for sftp connections etc."
   ]
  },
  {
   "cell_type": "code",
   "execution_count": null,
   "metadata": {},
   "outputs": [],
   "source": [
    "biu.utils.Acquire().lftp(\"sftp-cancer.sanger.ac.uk\",\n",
    "                        \"cosmic/grch38/cosmic/v84/VCF/CosmicCodingMuts.vcf.gz\",\n",
    "                        username=\"t.gehrmann@lumc.nl\", password=\"Cosmic_password1\").gunzip().acquire()"
   ]
  },
  {
   "cell_type": "markdown",
   "metadata": {},
   "source": [
    "### local\n",
    "\n",
    "There are two ways to make use of a local file. One is more or less a shortcut of the other"
   ]
  },
  {
   "cell_type": "code",
   "execution_count": null,
   "metadata": {},
   "outputs": [],
   "source": [
    "biu.utils.Acquire().local('/etc/group').call(\"head -n3\").acquire()"
   ]
  },
  {
   "cell_type": "markdown",
   "metadata": {},
   "source": [
    "Or you can directly give it as a parameter to the Acquire function:"
   ]
  },
  {
   "cell_type": "code",
   "execution_count": null,
   "metadata": {},
   "outputs": [],
   "source": [
    "biu.utils.Acquire('/etc/group').call(\"head -n3\").acquire()"
   ]
  },
  {
   "cell_type": "markdown",
   "metadata": {},
   "source": [
    "### touch\n",
    "\n",
    "You can also create a file (if you simply need an empty one)."
   ]
  },
  {
   "cell_type": "code",
   "execution_count": null,
   "metadata": {},
   "outputs": [],
   "source": [
    "biu.utils.Acquire().touch().acquire()"
   ]
  },
  {
   "cell_type": "markdown",
   "metadata": {},
   "source": [
    "### merge\n",
    "\n",
    "You can merge multiple acquire steps together into one file, using for example cat.\n",
    "\n",
    "Currently available methods:\n",
    "  * cat\n",
    "  * zcat"
   ]
  },
  {
   "cell_type": "code",
   "execution_count": null,
   "metadata": {},
   "outputs": [],
   "source": [
    "ao1 = biu.utils.Acquire().curl(\"http://zzz.bwh.harvard.edu/plink/dist/plink-1.07-i686.zip\")\\\n",
    "                        .unzip(\"plink-1.07-i686/test.ped\")\n",
    "    \n",
    "ao2 = biu.utils.Acquire().curl(\"http://zzz.bwh.harvard.edu/plink/dist/plink-1.07-i686.zip\")\\\n",
    "                        .unzip(\"plink-1.07-i686/test.map\")\n",
    "    \n",
    "merged = biu.utils.Acquire().merge([ao1, ao2], method='cat').call(\"wc -l\").acquire()"
   ]
  },
  {
   "cell_type": "markdown",
   "metadata": {},
   "source": [
    "## Processing"
   ]
  },
  {
   "cell_type": "markdown",
   "metadata": {},
   "source": [
    "### Compression"
   ]
  },
  {
   "cell_type": "markdown",
   "metadata": {},
   "source": [
    "#### unzip\n",
    "\n",
    "Unzip a zip file. You can optionally define a specific file from the directory to use for further processing (otherwise a link to the directory is maintained."
   ]
  },
  {
   "cell_type": "code",
   "execution_count": null,
   "metadata": {},
   "outputs": [],
   "source": [
    "biu.utils.Acquire().curl(\"http://zzz.bwh.harvard.edu/plink/dist/plink-1.07-i686.zip\")\\\n",
    "                   .unzip(\"plink-1.07-i686/test.ped\")\\\n",
    "                   .call(\"cat\").acquire()"
   ]
  },
  {
   "cell_type": "code",
   "execution_count": null,
   "metadata": {},
   "outputs": [],
   "source": [
    "biu.utils.Acquire().curl(\"http://zzz.bwh.harvard.edu/plink/dist/plink-1.07-i686.zip\")\\\n",
    "                   .unzip()\\\n",
    "                   .call(\"ls\").acquire()"
   ]
  },
  {
   "cell_type": "markdown",
   "metadata": {},
   "source": [
    "#### gunzip\n",
    "\n",
    "gunzip a file."
   ]
  },
  {
   "cell_type": "code",
   "execution_count": null,
   "metadata": {},
   "outputs": [],
   "source": [
    "biu.utils.Acquire().curl(\"http://geneontology.org/gene-associations/goa_human.gaf.gz\")\\\n",
    "                   .gunzip()\\\n",
    "                   .call(\"head -n3\").acquire()\n"
   ]
  },
  {
   "cell_type": "markdown",
   "metadata": {},
   "source": [
    "#### untar\n",
    "\n",
    "Untar a file. You can optionally define a specific file from the directory to use for further processing (otherwise a link to the directory is maintained."
   ]
  },
  {
   "cell_type": "code",
   "execution_count": null,
   "metadata": {},
   "outputs": [],
   "source": [
    "biu.utils.Acquire().curl(\"https://github.com/thiesgehrmann/proteny/archive/0.1.tar.gz\")\\\n",
    "                   .gunzip()\\\n",
    "                   .untar()\\\n",
    "                   .call(\"ls\").acquire()"
   ]
  },
  {
   "cell_type": "code",
   "execution_count": null,
   "metadata": {},
   "outputs": [],
   "source": [
    "biu.utils.Acquire().curl(\"https://github.com/thiesgehrmann/proteny/archive/0.1.tar.gz\")\\\n",
    "                   .gunzip()\\\n",
    "                   .untar(\"proteny-0.1/Snakefile\")\\\n",
    "                   .call(\"head -n5\").acquire()"
   ]
  },
  {
   "cell_type": "markdown",
   "metadata": {},
   "source": [
    "#### gzip\n",
    "gzip a file"
   ]
  },
  {
   "cell_type": "code",
   "execution_count": null,
   "metadata": {},
   "outputs": [],
   "source": [
    "biu.utils.Acquire().curl(\"https://github.com/thiesgehrmann/proteny/archive/0.1.tar.gz\")\\\n",
    "                   .gunzip()\\\n",
    "                   .untar(\"proteny-0.1/Snakefile\")\\\n",
    "                   .gzip().acquire()"
   ]
  },
  {
   "cell_type": "markdown",
   "metadata": {},
   "source": [
    "#### bgzip\n",
    "\n",
    "bgzip a file."
   ]
  },
  {
   "cell_type": "code",
   "execution_count": null,
   "metadata": {},
   "outputs": [],
   "source": [
    "biu.utils.Acquire().curl(\"https://github.com/thiesgehrmann/proteny/archive/0.1.tar.gz\")\\\n",
    "                   .gunzip()\\\n",
    "                   .untar(\"proteny-0.1/Snakefile\")\\\n",
    "                   .bgzip().acquire()"
   ]
  },
  {
   "cell_type": "markdown",
   "metadata": {},
   "source": [
    "### Commands"
   ]
  },
  {
   "cell_type": "markdown",
   "metadata": {},
   "source": [
    "#### cat"
   ]
  },
  {
   "cell_type": "code",
   "execution_count": null,
   "metadata": {},
   "outputs": [],
   "source": []
  },
  {
   "cell_type": "markdown",
   "metadata": {},
   "source": [
    "#### ls"
   ]
  },
  {
   "cell_type": "code",
   "execution_count": null,
   "metadata": {},
   "outputs": [],
   "source": []
  },
  {
   "cell_type": "markdown",
   "metadata": {},
   "source": [
    "#### call"
   ]
  },
  {
   "cell_type": "code",
   "execution_count": null,
   "metadata": {},
   "outputs": [],
   "source": []
  },
  {
   "cell_type": "markdown",
   "metadata": {},
   "source": [
    "#### cmd"
   ]
  },
  {
   "cell_type": "code",
   "execution_count": null,
   "metadata": {},
   "outputs": [],
   "source": []
  },
  {
   "cell_type": "markdown",
   "metadata": {},
   "source": [
    "#### func\n",
    "\n",
    "You can call an arbitrary python function on the file to do some processing. The function must take two parameters that describe the input and output file names. The function must also return a success or failure state."
   ]
  },
  {
   "cell_type": "code",
   "execution_count": null,
   "metadata": {},
   "outputs": [],
   "source": [
    "def myfunc(inFile, outFile):"
   ]
  },
  {
   "cell_type": "markdown",
   "metadata": {},
   "source": [
    "### Processing"
   ]
  },
  {
   "cell_type": "markdown",
   "metadata": {},
   "source": [
    "#### sort\n",
    "Sort a file. Default is no parameters, but you can provide paramaters to sort the file how you want (posix sort parameters)"
   ]
  },
  {
   "cell_type": "code",
   "execution_count": null,
   "metadata": {},
   "outputs": [],
   "source": [
    "biu.utils.Acquire().curl(\"ftp://ftp.ncbi.nlm.nih.gov/pub/clinvar/tab_delimited/variant_summary.txt.gz\")\\\n",
    "                   .gunzip()\\\n",
    "                   .sort(\"-t $'\\\\t' -k19,19V -k 20,21n\")\\\n",
    "                   .call(\"head\")\\\n",
    "                   .acquire()"
   ]
  },
  {
   "cell_type": "markdown",
   "metadata": {},
   "source": [
    "#### tabix\n",
    "Use tabix to generate an index for a file"
   ]
  },
  {
   "cell_type": "code",
   "execution_count": null,
   "metadata": {},
   "outputs": [],
   "source": [
    "biu.utils.Acquire().curl(\"ftp://ftp.ncbi.nlm.nih.gov/pub/clinvar/tab_delimited/variant_summary.txt.gz\")\\\n",
    "                   .gunzip()\\\n",
    "                   .sort(\"-t $'\\\\t' -k19,19V -k 20,21n\")\\\n",
    "                   .cmd(\"awk -F $'\\\\t' 'BEGIN {OFS = FS} { if($19 != \\\"na\\\"){ print $0}}'\")\\\n",
    "                   .bgzip()\\\n",
    "                   .tabix(seq=19, start=20, end=21)\\\n",
    "                   .acquire()"
   ]
  },
  {
   "cell_type": "code",
   "execution_count": null,
   "metadata": {},
   "outputs": [],
   "source": []
  },
  {
   "cell_type": "code",
   "execution_count": null,
   "metadata": {},
   "outputs": [],
   "source": []
  },
  {
   "cell_type": "markdown",
   "metadata": {},
   "source": [
    "## Finalize"
   ]
  },
  {
   "cell_type": "code",
   "execution_count": null,
   "metadata": {},
   "outputs": [],
   "source": []
  },
  {
   "cell_type": "markdown",
   "metadata": {},
   "source": [
    "## Constructing multiple processes."
   ]
  },
  {
   "cell_type": "code",
   "execution_count": null,
   "metadata": {},
   "outputs": [],
   "source": [
    "bgzip = biu.utils.Acquire().curl(\"ftp://ftp.ncbi.nlm.nih.gov/pub/clinvar/tab_delimited/variant_summary.txt.gz\")\\\n",
    "                   .gunzip()\\\n",
    "                   .sort(\"-t $'\\\\t' -k19,19V -k 20,21n\")\\\n",
    "                   .cmd(\"awk -F $'\\\\t' 'BEGIN {OFS = FS} { if($19 != \\\"na\\\"){ print $0}}'\")\\\n",
    "                   .bgzip()\n",
    "\n",
    "tbi = bgzip.tabix(seq=19, start=20, end=21)"
   ]
  },
  {
   "cell_type": "code",
   "execution_count": null,
   "metadata": {},
   "outputs": [],
   "source": [
    "print(bgzip)"
   ]
  },
  {
   "cell_type": "code",
   "execution_count": null,
   "metadata": {},
   "outputs": [],
   "source": [
    "print(tbi)"
   ]
  },
  {
   "cell_type": "code",
   "execution_count": null,
   "metadata": {},
   "outputs": [],
   "source": []
  },
  {
   "cell_type": "code",
   "execution_count": null,
   "metadata": {},
   "outputs": [],
   "source": []
  }
 ],
 "metadata": {
  "kernelspec": {
   "display_name": "Python 3",
   "language": "python",
   "name": "python3"
  },
  "language_info": {
   "codemirror_mode": {
    "name": "ipython",
    "version": 3
   },
   "file_extension": ".py",
   "mimetype": "text/x-python",
   "name": "python",
   "nbconvert_exporter": "python",
   "pygments_lexer": "ipython3",
   "version": "3.6.3"
  }
 },
 "nbformat": 4,
 "nbformat_minor": 2
}
