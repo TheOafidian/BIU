{
 "cells": [
  {
   "cell_type": "markdown",
   "metadata": {},
   "source": [
    "# Accessing the KEGG database"
   ]
  },
  {
   "cell_type": "code",
   "execution_count": 1,
   "metadata": {},
   "outputs": [
    {
     "name": "stderr",
     "output_type": "stream",
     "text": [
      "D: Initializing the SQLiteResourceManager object NOW\n"
     ]
    }
   ],
   "source": [
    "import biu as biu\n",
    "import matplotlib.pylab as plt\n",
    "\n",
    "where = '/exports/molepi/tgehrmann/data/'\n",
    "biu.config.settings.setWhere(where)\n",
    "\n",
    "kegg = biu.db.KEGG()\n",
    "hms = biu.maps.HumanS()"
   ]
  },
  {
   "cell_type": "code",
   "execution_count": 2,
   "metadata": {},
   "outputs": [
    {
     "name": "stdout",
     "output_type": "stream",
     "text": [
      "KEGG object\n",
      " Version: human\n",
      " Objects:\n",
      "  * [ ] _orgMap\n",
      "  * [ ] _featureData\n",
      " Files:\n",
      "  * [X] org_map : /exports/molepi/tgehrmann/data/kegg_human/org_map.tsv\n",
      "  * [X] feature_data : /exports/molepi/tgehrmann/data/kegg_human/feature_data.dict.sqlite\n",
      "\n"
     ]
    }
   ],
   "source": [
    "print(kegg)"
   ]
  },
  {
   "cell_type": "markdown",
   "metadata": {},
   "source": [
    "## Get a list of pathways and genes"
   ]
  },
  {
   "cell_type": "code",
   "execution_count": 3,
   "metadata": {},
   "outputs": [
    {
     "name": "stdout",
     "output_type": "stream",
     "text": [
      "/exports/molepi/tgehrmann/data/_downloads/6bd39936ced8f7d59c4b10e795594718d4425360\n",
      "0\n",
      "0\n",
      "/exports/molepi/tgehrmann/data/kegg_human/org_map.tsv\n",
      "Number of pathways: 328\n",
      "Number of genes: 7430\n"
     ]
    },
    {
     "name": "stderr",
     "output_type": "stream",
     "text": [
      "D: /exports/molepi/tgehrmann/data/_downloads\n",
      "D: 6bd39936ced8f7d59c4b10e795594718d4425360\n",
      "D: \n",
      "D: Loading the index from pickle\n"
     ]
    }
   ],
   "source": [
    "print(\"Number of pathways: %d\" % len(kegg.getPathways()))\n",
    "print(\"Number of genes: %d\" % len(kegg.getGenes()))"
   ]
  },
  {
   "cell_type": "markdown",
   "metadata": {},
   "source": [
    "## Get the pathways that a specific gene is in\n",
    "Look up with the geneID"
   ]
  },
  {
   "cell_type": "code",
   "execution_count": 4,
   "metadata": {},
   "outputs": [
    {
     "name": "stdout",
     "output_type": "stream",
     "text": [
      "Number of pathways MTOR is in: 37\n"
     ]
    }
   ],
   "source": [
    "print(\"Number of pathways MTOR is in: %d\" % len(kegg.getGenePathways(hms.getSymbolGeneID(\"MTOR\")[0])))"
   ]
  },
  {
   "cell_type": "markdown",
   "metadata": {},
   "source": [
    "## Get the genes in a pathway\n",
    "Lookup with KEGG pathway ID"
   ]
  },
  {
   "cell_type": "code",
   "execution_count": 5,
   "metadata": {},
   "outputs": [
    {
     "name": "stdout",
     "output_type": "stream",
     "text": [
      "Number of genes in path:hsa05230: 65\n"
     ]
    }
   ],
   "source": [
    "print(\"Number of genes in path:hsa05230: %d\" % len(kegg.getPathwayGenes(\"path:hsa05230\")))"
   ]
  },
  {
   "cell_type": "markdown",
   "metadata": {},
   "source": [
    "## Get information about a specific KEGG pathway"
   ]
  },
  {
   "cell_type": "code",
   "execution_count": 6,
   "metadata": {},
   "outputs": [
    {
     "name": "stdout",
     "output_type": "stream",
     "text": [
      "0\n"
     ]
    },
    {
     "name": "stderr",
     "output_type": "stream",
     "text": [
      "D: Downloading via REST from 'http://rest.kegg.jp/get/path:hsa04740'\n"
     ]
    },
    {
     "name": "stdout",
     "output_type": "stream",
     "text": [
      "Olfactory transduction - Homo sapiens (human)\n"
     ]
    }
   ],
   "source": [
    "print(kegg.getPathwayInfo(\"hsa04740\").split('\\n')[1][4:].strip())"
   ]
  },
  {
   "cell_type": "markdown",
   "metadata": {},
   "source": [
    "## Perform an enrichment analysis with KEGG\n",
    "\n",
    "If you have a gene set, you can easily perform an enrichment on this geneset with the enrich function\n",
    "You can also specify a specific subset of pathways to test using the `pathways=[]` option."
   ]
  },
  {
   "cell_type": "code",
   "execution_count": 7,
   "metadata": {},
   "outputs": [
    {
     "data": {
      "text/html": [
       "<div>\n",
       "<style scoped>\n",
       "    .dataframe tbody tr th:only-of-type {\n",
       "        vertical-align: middle;\n",
       "    }\n",
       "\n",
       "    .dataframe tbody tr th {\n",
       "        vertical-align: top;\n",
       "    }\n",
       "\n",
       "    .dataframe thead th {\n",
       "        text-align: right;\n",
       "    }\n",
       "</style>\n",
       "<table border=\"1\" class=\"dataframe\">\n",
       "  <thead>\n",
       "    <tr style=\"text-align: right;\">\n",
       "      <th></th>\n",
       "      <th>pathway</th>\n",
       "      <th>method</th>\n",
       "      <th>c2statistic</th>\n",
       "      <th>oddsratio</th>\n",
       "      <th>p</th>\n",
       "      <th>q</th>\n",
       "    </tr>\n",
       "  </thead>\n",
       "  <tbody>\n",
       "    <tr>\n",
       "      <th>44</th>\n",
       "      <td>path:hsa04740</td>\n",
       "      <td>fisher</td>\n",
       "      <td>NaN</td>\n",
       "      <td>inf</td>\n",
       "      <td>0.000000e+00</td>\n",
       "      <td>0.000000e+00</td>\n",
       "    </tr>\n",
       "    <tr>\n",
       "      <th>33</th>\n",
       "      <td>path:hsa04744</td>\n",
       "      <td>chi2</td>\n",
       "      <td>42.269287</td>\n",
       "      <td>100.000000</td>\n",
       "      <td>7.953179e-11</td>\n",
       "      <td>7.714583e-09</td>\n",
       "    </tr>\n",
       "    <tr>\n",
       "      <th>91</th>\n",
       "      <td>path:hsa04713</td>\n",
       "      <td>chi2</td>\n",
       "      <td>39.350698</td>\n",
       "      <td>100.000000</td>\n",
       "      <td>3.541262e-10</td>\n",
       "      <td>3.435024e-08</td>\n",
       "    </tr>\n",
       "    <tr>\n",
       "      <th>45</th>\n",
       "      <td>path:hsa04924</td>\n",
       "      <td>chi2</td>\n",
       "      <td>28.208951</td>\n",
       "      <td>100.000000</td>\n",
       "      <td>1.088998e-07</td>\n",
       "      <td>1.056328e-05</td>\n",
       "    </tr>\n",
       "    <tr>\n",
       "      <th>29</th>\n",
       "      <td>path:hsa04720</td>\n",
       "      <td>chi2</td>\n",
       "      <td>26.750044</td>\n",
       "      <td>100.000000</td>\n",
       "      <td>2.315465e-07</td>\n",
       "      <td>2.246001e-05</td>\n",
       "    </tr>\n",
       "    <tr>\n",
       "      <th>65</th>\n",
       "      <td>path:hsa04971</td>\n",
       "      <td>chi2</td>\n",
       "      <td>26.700155</td>\n",
       "      <td>100.000000</td>\n",
       "      <td>2.376024e-07</td>\n",
       "      <td>2.304743e-05</td>\n",
       "    </tr>\n",
       "    <tr>\n",
       "      <th>54</th>\n",
       "      <td>path:hsa05031</td>\n",
       "      <td>chi2</td>\n",
       "      <td>26.055310</td>\n",
       "      <td>100.000000</td>\n",
       "      <td>3.317752e-07</td>\n",
       "      <td>3.218219e-05</td>\n",
       "    </tr>\n",
       "    <tr>\n",
       "      <th>20</th>\n",
       "      <td>path:hsa04151</td>\n",
       "      <td>fisher</td>\n",
       "      <td>NaN</td>\n",
       "      <td>0.137660</td>\n",
       "      <td>2.621877e-06</td>\n",
       "      <td>2.543221e-04</td>\n",
       "    </tr>\n",
       "    <tr>\n",
       "      <th>86</th>\n",
       "      <td>path:hsa04925</td>\n",
       "      <td>chi2</td>\n",
       "      <td>20.175377</td>\n",
       "      <td>100.000000</td>\n",
       "      <td>7.065662e-06</td>\n",
       "      <td>6.853692e-04</td>\n",
       "    </tr>\n",
       "    <tr>\n",
       "      <th>13</th>\n",
       "      <td>path:hsa05165</td>\n",
       "      <td>fisher</td>\n",
       "      <td>NaN</td>\n",
       "      <td>0.152789</td>\n",
       "      <td>1.703370e-05</td>\n",
       "      <td>1.652269e-03</td>\n",
       "    </tr>\n",
       "    <tr>\n",
       "      <th>53</th>\n",
       "      <td>path:hsa05032</td>\n",
       "      <td>chi2</td>\n",
       "      <td>18.348894</td>\n",
       "      <td>100.000000</td>\n",
       "      <td>1.839257e-05</td>\n",
       "      <td>1.784079e-03</td>\n",
       "    </tr>\n",
       "    <tr>\n",
       "      <th>38</th>\n",
       "      <td>path:hsa04728</td>\n",
       "      <td>chi2</td>\n",
       "      <td>18.032779</td>\n",
       "      <td>100.000000</td>\n",
       "      <td>2.171339e-05</td>\n",
       "      <td>2.106199e-03</td>\n",
       "    </tr>\n",
       "    <tr>\n",
       "      <th>10</th>\n",
       "      <td>path:hsa04912</td>\n",
       "      <td>chi2</td>\n",
       "      <td>17.529363</td>\n",
       "      <td>100.000000</td>\n",
       "      <td>2.829046e-05</td>\n",
       "      <td>2.744175e-03</td>\n",
       "    </tr>\n",
       "    <tr>\n",
       "      <th>90</th>\n",
       "      <td>path:hsa04750</td>\n",
       "      <td>chi2</td>\n",
       "      <td>16.006003</td>\n",
       "      <td>100.000000</td>\n",
       "      <td>6.314197e-05</td>\n",
       "      <td>6.124771e-03</td>\n",
       "    </tr>\n",
       "    <tr>\n",
       "      <th>31</th>\n",
       "      <td>path:hsa04916</td>\n",
       "      <td>chi2</td>\n",
       "      <td>14.621661</td>\n",
       "      <td>100.000000</td>\n",
       "      <td>1.313956e-04</td>\n",
       "      <td>1.274537e-02</td>\n",
       "    </tr>\n",
       "    <tr>\n",
       "      <th>35</th>\n",
       "      <td>path:hsa04020</td>\n",
       "      <td>chi2</td>\n",
       "      <td>13.364200</td>\n",
       "      <td>100.000000</td>\n",
       "      <td>2.564733e-04</td>\n",
       "      <td>2.487791e-02</td>\n",
       "    </tr>\n",
       "  </tbody>\n",
       "</table>\n",
       "</div>"
      ],
      "text/plain": [
       "          pathway  method  c2statistic   oddsratio             p             q\n",
       "44  path:hsa04740  fisher          NaN         inf  0.000000e+00  0.000000e+00\n",
       "33  path:hsa04744    chi2    42.269287  100.000000  7.953179e-11  7.714583e-09\n",
       "91  path:hsa04713    chi2    39.350698  100.000000  3.541262e-10  3.435024e-08\n",
       "45  path:hsa04924    chi2    28.208951  100.000000  1.088998e-07  1.056328e-05\n",
       "29  path:hsa04720    chi2    26.750044  100.000000  2.315465e-07  2.246001e-05\n",
       "65  path:hsa04971    chi2    26.700155  100.000000  2.376024e-07  2.304743e-05\n",
       "54  path:hsa05031    chi2    26.055310  100.000000  3.317752e-07  3.218219e-05\n",
       "20  path:hsa04151  fisher          NaN    0.137660  2.621877e-06  2.543221e-04\n",
       "86  path:hsa04925    chi2    20.175377  100.000000  7.065662e-06  6.853692e-04\n",
       "13  path:hsa05165  fisher          NaN    0.152789  1.703370e-05  1.652269e-03\n",
       "53  path:hsa05032    chi2    18.348894  100.000000  1.839257e-05  1.784079e-03\n",
       "38  path:hsa04728    chi2    18.032779  100.000000  2.171339e-05  2.106199e-03\n",
       "10  path:hsa04912    chi2    17.529363  100.000000  2.829046e-05  2.744175e-03\n",
       "90  path:hsa04750    chi2    16.006003  100.000000  6.314197e-05  6.124771e-03\n",
       "31  path:hsa04916    chi2    14.621661  100.000000  1.313956e-04  1.274537e-02\n",
       "35  path:hsa04020    chi2    13.364200  100.000000  2.564733e-04  2.487791e-02"
      ]
     },
     "execution_count": 7,
     "metadata": {},
     "output_type": "execute_result"
    }
   ],
   "source": [
    "myGeneSet = kegg.getPathwayGeneIDs(\"hsa04740\")\n",
    "enrichRes = kegg.enrich(myGeneSet, correctionType='bonferroni')\n",
    "enrichRes[enrichRes.q < 0.05].sort_values(\"q\")"
   ]
  },
  {
   "cell_type": "markdown",
   "metadata": {},
   "source": [
    "## Make a pretty plot"
   ]
  },
  {
   "cell_type": "code",
   "execution_count": 8,
   "metadata": {},
   "outputs": [
    {
     "data": {
      "image/png": "[encoded data removed]",
      "text/plain": [
       "<Figure size 864x288 with 2 Axes>"
      ]
     },
     "metadata": {},
     "output_type": "display_data"
    }
   ],
   "source": [
    "fig, axes = plt.subplots(figsize=(12,4), ncols=2, nrows=1)\n",
    "axes = axes.flatten()\n",
    "\n",
    "# How many genes are there per kegg pathway?\n",
    "genesPerPathway = [ len(kegg.getPathwayGenes(p)) for p in kegg.getPathways() ]\n",
    "pathwaysPerGene = [ len(kegg.getGenePathways(g)) for g in kegg.getGenes() ]\n",
    "\n",
    "axes[0].hist(genesPerPathway, bins=50)\n",
    "axes[0].set_xlabel(\"Number of genes per pathway\")\n",
    "axes[1].hist(pathwaysPerGene, bins=50)\n",
    "axes[1].set_xlabel(\"Number of pathways per gene\")\n",
    "plt.show()"
   ]
  },
  {
   "cell_type": "code",
   "execution_count": null,
   "metadata": {},
   "outputs": [],
   "source": []
  }
 ],
 "metadata": {
  "kernelspec": {
   "display_name": "Python 3",
   "language": "python",
   "name": "python3"
  },
  "language_info": {
   "codemirror_mode": {
    "name": "ipython",
    "version": 3
   },
   "file_extension": ".py",
   "mimetype": "text/x-python",
   "name": "python",
   "nbconvert_exporter": "python",
   "pygments_lexer": "ipython3",
   "version": "3.6.3"
  }
 },
 "nbformat": 4,
 "nbformat_minor": 2
}
