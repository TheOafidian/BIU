{
 "cells": [
  {
   "cell_type": "markdown",
   "metadata": {},
   "source": [
    "# Genomes"
   ]
  },
  {
   "cell_type": "code",
   "execution_count": 16,
   "metadata": {},
   "outputs": [],
   "source": [
    "import biu\n",
    "where = '/exports/molepi/tgehrmann/data/'\n",
    "biu.config.settings.setWhere(where)"
   ]
  },
  {
   "cell_type": "code",
   "execution_count": 17,
   "metadata": {},
   "outputs": [
    {
     "name": "stdout",
     "output_type": "stream",
     "text": [
      "{'gff': <biu.utils.acquireUtils.Acquire object at 0x7f26b249b318>, 'genome': <biu.utils.acquireUtils.Acquire object at 0x7f26b249f408>, 'cds': <biu.utils.acquireUtils.Acquire object at 0x7f26b249f548>, 'aa': <biu.utils.acquireUtils.Acquire object at 0x7f26b249f688>}\n",
      "Ensembl object\n",
      " Genome : ensembl_grch37.92.homo_sapiens\n",
      " Objects:\n",
      "  * [ ] gff\n",
      "  * [ ] genome\n",
      "  * [ ] cds\n",
      "  * [ ] aa\n",
      " Files:\n",
      "  * [ ] gff : /exports/molepi/tgehrmann/data/ensembl_grch37.92.homo_sapiens/genes.gff3\n",
      "  * [ ] genome : /exports/molepi/tgehrmann/data/ensembl_grch37.92.homo_sapiens/dna.fasta\n",
      "  * [ ] cds : /exports/molepi/tgehrmann/data/ensembl_grch37.92.homo_sapiens/cds.fa\n",
      "  * [ ] aa : /exports/molepi/tgehrmann/data/ensembl_grch37.92.homo_sapiens/aa.fa\n",
      "\n"
     ]
    }
   ],
   "source": [
    "hg37 = biu.genomes.Ensembl(basedir='/pub/grch37')\n",
    "print(hg37)"
   ]
  },
  {
   "cell_type": "markdown",
   "metadata": {},
   "source": [
    "## Ensembl Genomes\n",
    "\n",
    "You can access any genome on Ensembl with the EnsemblGenome class.\n",
    "You can specify a release number and an organism name, and it will retrieve the GFF annotations, genome, coding sequences and amino acid Fasta files."
   ]
  },
  {
   "cell_type": "code",
   "execution_count": 3,
   "metadata": {},
   "outputs": [
    {
     "name": "stdout",
     "output_type": "stream",
     "text": [
      "{'gff': <biu.utils.acquireUtils.Acquire object at 0x7f26b64127c8>, 'genome': <biu.utils.acquireUtils.Acquire object at 0x7f26b641da98>, 'cds': <biu.utils.acquireUtils.Acquire object at 0x7f26b641dc28>, 'aa': <biu.utils.acquireUtils.Acquire object at 0x7f26b641dd68>}\n"
     ]
    }
   ],
   "source": [
    "genome = biu.genomes.Ensembl()"
   ]
  },
  {
   "cell_type": "code",
   "execution_count": 4,
   "metadata": {},
   "outputs": [
    {
     "name": "stdout",
     "output_type": "stream",
     "text": [
      "Ensembl object\n",
      " Genome : ensembl_92.homo_sapiens\n",
      " Objects:\n",
      "  * [ ] gff\n",
      "  * [ ] genome\n",
      "  * [ ] cds\n",
      "  * [ ] aa\n",
      " Files:\n",
      "  * [X] gff : /home/tgehrmann/repos/BIU/docs/ensembl_92.homo_sapiens/genes.gff3\n",
      "  * [X] genome : /home/tgehrmann/repos/BIU/docs/ensembl_92.homo_sapiens/dna.fasta\n",
      "  * [ ] cds : /home/tgehrmann/repos/BIU/docs/ensembl_92.homo_sapiens/cds.fa\n",
      "  * [ ] aa : /home/tgehrmann/repos/BIU/docs/ensembl_92.homo_sapiens/aa.fa\n",
      "\n"
     ]
    }
   ],
   "source": [
    "print(genome)"
   ]
  },
  {
   "cell_type": "code",
   "execution_count": 5,
   "metadata": {},
   "outputs": [],
   "source": [
    "#print(genome.genome"
   ]
  },
  {
   "cell_type": "code",
   "execution_count": 6,
   "metadata": {},
   "outputs": [],
   "source": [
    "#print(genome.seq('transcript:ENST00000641515'))"
   ]
  },
  {
   "cell_type": "markdown",
   "metadata": {},
   "source": [
    "## GRCH37 Ensembl Genome\n",
    "Ensembl maintains seperately the GRCH37 build of the human genome. This can be accessed with a special class."
   ]
  },
  {
   "cell_type": "code",
   "execution_count": 7,
   "metadata": {},
   "outputs": [
    {
     "name": "stdout",
     "output_type": "stream",
     "text": [
      "{'gff': <biu.utils.acquireUtils.Acquire object at 0x7f26b6423138>, 'genome': <biu.utils.acquireUtils.Acquire object at 0x7f26b6429278>, 'cds': <biu.utils.acquireUtils.Acquire object at 0x7f26b6429408>, 'aa': <biu.utils.acquireUtils.Acquire object at 0x7f26b6429548>}\n"
     ]
    }
   ],
   "source": [
    "hg37 = biu.genomes.GRCH37Ensembl()"
   ]
  },
  {
   "cell_type": "code",
   "execution_count": 8,
   "metadata": {},
   "outputs": [
    {
     "name": "stdout",
     "output_type": "stream",
     "text": [
      "GRCH37Ensembl object\n",
      " Genome : ensembl_grch37.92.homo_sapiens\n",
      " Objects:\n",
      "  * [ ] gff\n",
      "  * [ ] genome\n",
      "  * [ ] cds\n",
      "  * [ ] aa\n",
      " Files:\n",
      "  * [ ] gff : /home/tgehrmann/repos/BIU/docs/ensembl_grch37.92.homo_sapiens/genes.gff3\n",
      "  * [ ] genome : /home/tgehrmann/repos/BIU/docs/ensembl_grch37.92.homo_sapiens/dna.fasta\n",
      "  * [ ] cds : /home/tgehrmann/repos/BIU/docs/ensembl_grch37.92.homo_sapiens/cds.fa\n",
      "  * [ ] aa : /home/tgehrmann/repos/BIU/docs/ensembl_grch37.92.homo_sapiens/aa.fa\n",
      "\n"
     ]
    }
   ],
   "source": [
    "print(hg37)"
   ]
  },
  {
   "cell_type": "code",
   "execution_count": 9,
   "metadata": {},
   "outputs": [
    {
     "name": "stdout",
     "output_type": "stream",
     "text": [
      "/home/tgehrmann/repos/BIU/docs/_downloads/7a694787ab49b75d81ed89d378150f56718043d3\n"
     ]
    },
    {
     "name": "stderr",
     "output_type": "stream",
     "text": [
      "D: curl -L  'ftp://ftp.ensembl.org//pub/grch37/release-92/fasta/homo_sapiens/pep/Homo_sapiens.GRCh37.pep.all.fa.gz' > '/home/tgehrmann/repos/BIU/docs/_downloads/7a694787ab49b75d81ed89d378150f56718043d3'\n"
     ]
    },
    {
     "name": "stdout",
     "output_type": "stream",
     "text": [
      "0\n"
     ]
    },
    {
     "name": "stderr",
     "output_type": "stream",
     "text": [
      "D: gunzip < '/home/tgehrmann/repos/BIU/docs/_downloads/7a694787ab49b75d81ed89d378150f56718043d3' > '/home/tgehrmann/repos/BIU/docs/_downloads/7a694787ab49b75d81ed89d378150f56718043d3.gunzipped'\n"
     ]
    },
    {
     "name": "stdout",
     "output_type": "stream",
     "text": [
      "0\n"
     ]
    },
    {
     "name": "stderr",
     "output_type": "stream",
     "text": [
      "D: cp '/home/tgehrmann/repos/BIU/docs/_downloads/7a694787ab49b75d81ed89d378150f56718043d3.gunzipped' '/home/tgehrmann/repos/BIU/docs/ensembl_grch37.92.homo_sapiens/aa.fa'\n"
     ]
    },
    {
     "name": "stdout",
     "output_type": "stream",
     "text": [
      "0\n"
     ]
    },
    {
     "name": "stderr",
     "output_type": "stream",
     "text": [
      "D: Fasta input source is file\n"
     ]
    },
    {
     "name": "stdout",
     "output_type": "stream",
     "text": [
      "Fasta object\n",
      " Where: /home/tgehrmann/repos/BIU/docs/ensembl_grch37.92.homo_sapiens/aa.fa\n",
      " Entries: 104763\n",
      " Primary type: prot\n",
      "\n"
     ]
    }
   ],
   "source": [
    "print(hg37.aa)"
   ]
  },
  {
   "cell_type": "code",
   "execution_count": 15,
   "metadata": {},
   "outputs": [
    {
     "data": {
      "text/plain": [
       "<biu.formats.seqUtils.Sequence at 0x7f26b63fa2d0>"
      ]
     },
     "execution_count": 15,
     "metadata": {},
     "output_type": "execute_result"
    }
   ],
   "source": [
    "hg37.aa['ENSP00000456546.1']"
   ]
  },
  {
   "cell_type": "code",
   "execution_count": null,
   "metadata": {},
   "outputs": [],
   "source": []
  }
 ],
 "metadata": {
  "kernelspec": {
   "display_name": "Python 3",
   "language": "python",
   "name": "python3"
  },
  "language_info": {
   "codemirror_mode": {
    "name": "ipython",
    "version": 3
   },
   "file_extension": ".py",
   "mimetype": "text/x-python",
   "name": "python",
   "nbconvert_exporter": "python",
   "pygments_lexer": "ipython3",
   "version": "3.6.3"
  }
 },
 "nbformat": 4,
 "nbformat_minor": 2
}
