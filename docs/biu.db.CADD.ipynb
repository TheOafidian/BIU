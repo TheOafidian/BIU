{
 "cells": [
  {
   "cell_type": "markdown",
   "metadata": {},
   "source": [
    "# Accessing the CADD database"
   ]
  },
  {
   "cell_type": "code",
   "execution_count": 1,
   "metadata": {},
   "outputs": [],
   "source": [
    "import biu as biu\n",
    "import numpy as np\n",
    "# Set the default data location\n",
    "where = '/exports/molepi/tgehrmann/data/'\n",
    "biu.config.settings.setWhere(where)\n",
    "\n",
    "# Which datasets will we use?\n",
    "cadd   = biu.db.CADD() # CADD Scores"
   ]
  },
  {
   "cell_type": "markdown",
   "metadata": {},
   "source": [
    "## Get the CADD scores at a specific base"
   ]
  },
  {
   "cell_type": "code",
   "execution_count": 2,
   "metadata": {},
   "outputs": [
    {
     "name": "stderr",
     "output_type": "stream",
     "text": [
      "D: Initializing the TabixTSVResourceManager object NOW\n"
     ]
    },
    {
     "data": {
      "text/plain": [
       "{'A': 23.0, 'G': 15.47, 'T': 23.3}"
      ]
     },
     "execution_count": 2,
     "metadata": {},
     "output_type": "execute_result"
    }
   ],
   "source": [
    "cadd.query(22, 39917455)"
   ]
  },
  {
   "cell_type": "markdown",
   "metadata": {},
   "source": [
    "## Get the CADD score for a specific variant at a specific base"
   ]
  },
  {
   "cell_type": "code",
   "execution_count": 3,
   "metadata": {},
   "outputs": [
    {
     "data": {
      "text/plain": [
       "23.0"
      ]
     },
     "execution_count": 3,
     "metadata": {},
     "output_type": "execute_result"
    }
   ],
   "source": [
    "cadd.query(22, 39917455, alt='A')"
   ]
  },
  {
   "cell_type": "markdown",
   "metadata": {},
   "source": [
    "## Get the CADD score for a region"
   ]
  },
  {
   "cell_type": "code",
   "execution_count": 4,
   "metadata": {},
   "outputs": [
    {
     "data": {
      "text/plain": [
       "{(39917455, 'A'): 23.0,\n",
       " (39917455, 'G'): 15.47,\n",
       " (39917455, 'T'): 23.3,\n",
       " (39917456, 'A'): 17.69,\n",
       " (39917456, 'G'): 11.54,\n",
       " (39917456, 'T'): 13.95,\n",
       " (39917457, 'A'): 22.2,\n",
       " (39917457, 'C'): 25.0,\n",
       " (39917457, 'T'): 37.0,\n",
       " (39917458, 'C'): 24.5,\n",
       " (39917458, 'G'): 26.2,\n",
       " (39917458, 'T'): 26.0,\n",
       " (39917459, 'C'): 20.7,\n",
       " (39917459, 'G'): 0.334,\n",
       " (39917459, 'T'): 21.5,\n",
       " (39917460, 'C'): 14.27,\n",
       " (39917460, 'G'): 11.57,\n",
       " (39917460, 'T'): 14.28}"
      ]
     },
     "execution_count": 4,
     "metadata": {},
     "output_type": "execute_result"
    }
   ],
   "source": [
    "cadd.query(22, 39917455, 39917460)"
   ]
  },
  {
   "cell_type": "markdown",
   "metadata": {},
   "source": [
    "## Get the CADD score for a specific nucleotide for a region"
   ]
  },
  {
   "cell_type": "code",
   "execution_count": 5,
   "metadata": {},
   "outputs": [
    {
     "data": {
      "text/plain": [
       "{39917455: 23.3,\n",
       " 39917456: 13.95,\n",
       " 39917457: 37.0,\n",
       " 39917458: 26.0,\n",
       " 39917459: 21.5,\n",
       " 39917460: 14.28}"
      ]
     },
     "execution_count": 5,
     "metadata": {},
     "output_type": "execute_result"
    }
   ],
   "source": [
    "cadd.query(22, 39917455, 39917460, alt='T')"
   ]
  },
  {
   "cell_type": "markdown",
   "metadata": {},
   "source": [
    "## Get the CADD scores for several regions"
   ]
  },
  {
   "cell_type": "code",
   "execution_count": 6,
   "metadata": {},
   "outputs": [
    {
     "data": {
      "text/plain": [
       "{(39917455, 'A'): 23.0,\n",
       " (39917455, 'G'): 15.47,\n",
       " (39917455, 'T'): 23.3,\n",
       " (39917456, 'A'): 17.69,\n",
       " (39917456, 'G'): 11.54,\n",
       " (39917456, 'T'): 13.95,\n",
       " (39917457, 'A'): 22.2,\n",
       " (39917457, 'C'): 25.0,\n",
       " (39917457, 'T'): 37.0,\n",
       " (39917470, 'A'): 25.1,\n",
       " (39917470, 'C'): 24.5,\n",
       " (39917470, 'G'): 25.1,\n",
       " (39917471, 'A'): 7.153,\n",
       " (39917471, 'C'): 2.946,\n",
       " (39917471, 'T'): 5.053,\n",
       " (39917472, 'C'): 22.9,\n",
       " (39917472, 'G'): 14.56,\n",
       " (39917472, 'T'): 24.2}"
      ]
     },
     "execution_count": 6,
     "metadata": {},
     "output_type": "execute_result"
    }
   ],
   "source": [
    "cadd.queryRegions([(22, 39917455, 39917457), (22, 39917470, 39917472)])"
   ]
  },
  {
   "cell_type": "markdown",
   "metadata": {},
   "source": [
    "## Get a CADD score percentile threshold for a region\n",
    "This may help you set a region-specific CADD threshold"
   ]
  },
  {
   "cell_type": "code",
   "execution_count": 7,
   "metadata": {},
   "outputs": [
    {
     "data": {
      "text/plain": [
       "26.775000000000002"
      ]
     },
     "execution_count": 7,
     "metadata": {},
     "output_type": "execute_result"
    }
   ],
   "source": [
    "# Default is 95 percentile:\n",
    "cadd.regionThresh(22, 39917455, 39917676)"
   ]
  },
  {
   "cell_type": "code",
   "execution_count": 8,
   "metadata": {},
   "outputs": [
    {
     "data": {
      "text/plain": [
       "20.7"
      ]
     },
     "execution_count": 8,
     "metadata": {},
     "output_type": "execute_result"
    }
   ],
   "source": [
    "# Arbitrary percentile:\n",
    "cadd.regionThresh(22, 39917455, 39917676, 50)"
   ]
  },
  {
   "cell_type": "markdown",
   "metadata": {},
   "source": [
    "## Get a CADD score percentile threshold for several regions"
   ]
  },
  {
   "cell_type": "code",
   "execution_count": 9,
   "metadata": {},
   "outputs": [
    {
     "data": {
      "text/plain": [
       "28.125000000000004"
      ]
     },
     "execution_count": 9,
     "metadata": {},
     "output_type": "execute_result"
    }
   ],
   "source": [
    "cadd.regionsThresh([ (22, 39917455, 39917676),\n",
    "                     (22, 39917778, 39918607)] )"
   ]
  }
 ],
 "metadata": {
  "kernelspec": {
   "display_name": "Python 3",
   "language": "python",
   "name": "python3"
  },
  "language_info": {
   "codemirror_mode": {
    "name": "ipython",
    "version": 3
   },
   "file_extension": ".py",
   "mimetype": "text/x-python",
   "name": "python",
   "nbconvert_exporter": "python",
   "pygments_lexer": "ipython3",
   "version": "3.6.2"
  }
 },
 "nbformat": 4,
 "nbformat_minor": 2
}
