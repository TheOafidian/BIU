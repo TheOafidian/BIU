{
 "cells": [
  {
   "cell_type": "markdown",
   "metadata": {},
   "source": [
    "# Example BIU Usage\n",
    "\n",
    "BIU is a toolkit I made to gather various datasets and tools that I regularly use.\n",
    "This way, I never need to worry about managing the data in files on my computer, I can simply use this package which has wrapper functions for common queries I perform on the datasets.\n",
    "\n",
    "Currently, it allows me to \n",
    "\n",
    " * Download a number of datasets on the fly - when they are needed (and sub-components of these datasets)\n",
    " * Dynamically load datasets when they are needed (They do not consume memory until a query is performed upon them\n",
    " * Query these datasets\n",
    " * Handle various data formats:\n",
    "   * FASTA\n",
    "   * GFF3\n",
    "   * GAF (GO annotation file)\n",
    "   * SQLite databases\n",
    "   * VCF (using the pyvcf package)\n",
    " * Map IDs between various indexing methods"
   ]
  },
  {
   "cell_type": "code",
   "execution_count": 1,
   "metadata": {},
   "outputs": [],
   "source": [
    "import biu as biu\n",
    "import matplotlib.pylab as plt\n",
    "import seaborn as sns\n",
    "import numpy as np\n",
    "import pandas as pd"
   ]
  },
  {
   "cell_type": "markdown",
   "metadata": {},
   "source": [
    "### Change some default settings\n",
    "We can change the default location for all data storage, and turn off debug messages"
   ]
  },
  {
   "cell_type": "code",
   "execution_count": 2,
   "metadata": {},
   "outputs": [
    {
     "name": "stdout",
     "output_type": "stream",
     "text": [
      "We set the default data directory to be: '/exports/molepi/tgehrmann/data/'\n",
      "Turned OFF debug messages\n",
      "Turned ON debug messages\n"
     ]
    }
   ],
   "source": [
    "where = '/exports/molepi/tgehrmann/data/'\n",
    "biu.config.settings.setWhere(where)\n",
    "print(\"We set the default data directory to be: '%s'\" % biu.config.settings.getWhere())\n",
    "\n",
    "biu.config.settings.setDebugState(False)\n",
    "print(\"Turned OFF debug messages\")\n",
    "biu.config.settings.setDebugState(True)\n",
    "print(\"Turned ON debug messages\")"
   ]
  },
  {
   "cell_type": "markdown",
   "metadata": {},
   "source": [
    "## List the available datasets"
   ]
  },
  {
   "cell_type": "code",
   "execution_count": 3,
   "metadata": {},
   "outputs": [
    {
     "name": "stdout",
     "output_type": "stream",
     "text": [
      "Available databases:\n",
      " * BBMRI\n",
      " * CADD\n",
      " * ClinVar\n",
      " * Cosmic\n",
      " * GO\n",
      " * GTeX\n",
      " * Genomes\n",
      " * Gnomad\n",
      " * HAGR\n",
      " * KEGG\n",
      " * LLS\n",
      " * MiRmine\n",
      " * Reactome\n",
      " * UniProt\n"
     ]
    }
   ],
   "source": [
    "biu.db.list()"
   ]
  },
  {
   "cell_type": "markdown",
   "metadata": {},
   "source": [
    "## Open a genome object and load the GFF file"
   ]
  },
  {
   "cell_type": "markdown",
   "metadata": {},
   "source": [
    "Load the genome, and get the GFF file and parse it"
   ]
  },
  {
   "cell_type": "code",
   "execution_count": 4,
   "metadata": {},
   "outputs": [
    {
     "name": "stdout",
     "output_type": "stream",
     "text": [
      "Available versions:\n",
      " * GRCh37\n",
      " * Ensembl_GRCh37\n",
      " * Ensembl_GRCh38_91\n",
      " * RefSeq_GRCh37\n",
      " * RefSeq_GRCh38\n",
      " * WBcel235\n",
      "Genome object\n",
      " Where: /exports/molepi/tgehrmann/data\n",
      " Genome : WBcel235\n",
      " Objects:\n",
      "  * [ ] gff\n",
      "  * [ ] cds\n",
      "  * [ ] aa\n",
      "  * [ ] genome[all]\n",
      " Files:\n",
      "  * [X] gff : /exports/molepi/tgehrmann/data/genome_WBcel235/genome.gff3\n",
      "  * [X] cds : /exports/molepi/tgehrmann/data/genome_WBcel235/cds.fa\n",
      "  * [X] aa : /exports/molepi/tgehrmann/data/genome_WBcel235/aa.fa\n",
      "  * [X] chr_all : /exports/molepi/tgehrmann/data/genome_WBcel235/chrall.fa.gz\n",
      "\n"
     ]
    }
   ],
   "source": [
    "biu.db.listGenomes()\n",
    "hg = biu.db.Genome(\"Ensembl_GRCh37\")\n",
    "ce = biu.db.Genome(\"WBcel235\")\n",
    "print(ce)"
   ]
  },
  {
   "cell_type": "code",
   "execution_count": 9,
   "metadata": {},
   "outputs": [
    {
     "name": "stdout",
     "output_type": "stream",
     "text": [
      "[GFF3Entry(seqid:NC_003279.8, source:RefSeq, feature:exon, start:11641, end:11689, score:., strand:+, phase:., attr:ID=id7;Dbxref=GeneID:171591,Genbank:NM_058259.4,WormBase:WBGene00022276;gbkey=mRNA;gene=nlp-40;partial=true;product=Peptide P4;start_range=.,11641;transcript_id=NM_058259.4), GFF3Entry(seqid:NC_003279.8, source:RefSeq, feature:exon, start:14951, end:15160, score:., strand:+, phase:., attr:ID=id8;Dbxref=GeneID:171591,Genbank:NM_058259.4,WormBase:WBGene00022276;gbkey=mRNA;gene=nlp-40;partial=true;product=Peptide P4;transcript_id=NM_058259.4), GFF3Entry(seqid:NC_003279.8, source:RefSeq, feature:exon, start:16473, end:16585, score:., strand:+, phase:., attr:ID=id9;Dbxref=GeneID:171591,Genbank:NM_058259.4,WormBase:WBGene00022276;end_range=16585,.;gbkey=mRNA;gene=nlp-40;partial=true;product=Peptide P4;transcript_id=NM_058259.4), GFF3Entry(seqid:NC_003279.8, source:RefSeq, feature:CDS, start:11641, end:11689, score:., strand:+, phase:0, attr:ID=cds1;Dbxref=EnsemblGenomes-Gn:WBGene00022276,EnsemblGenomes-Tr:Y74C9A.2a.1,EnsemblGenomes-Tr:Y74C9A.2a.2,EnsemblGenomes-Tr:Y74C9A.2a.3,GOA:Q9N4D8,UniProtKB/Swiss-Prot:Q9N4D8,GeneID:171591,Genbank:NP_490661.1,WormBase:WBGene00022276;Name=NP_490661.1;Note=Confirmed by transcript evidence;gbkey=CDS;gene=nlp-40;product=Peptide P4;protein_id=NP_490661.1;standard_name=Y74C9A.2a), GFF3Entry(seqid:NC_003279.8, source:RefSeq, feature:CDS, start:14951, end:15160, score:., strand:+, phase:2, attr:ID=cds1;Dbxref=EnsemblGenomes-Gn:WBGene00022276,EnsemblGenomes-Tr:Y74C9A.2a.1,EnsemblGenomes-Tr:Y74C9A.2a.2,EnsemblGenomes-Tr:Y74C9A.2a.3,GOA:Q9N4D8,UniProtKB/Swiss-Prot:Q9N4D8,GeneID:171591,Genbank:NP_490661.1,WormBase:WBGene00022276;Name=NP_490661.1;Note=Confirmed by transcript evidence;gbkey=CDS;gene=nlp-40;product=Peptide P4;protein_id=NP_490661.1;standard_name=Y74C9A.2a), GFF3Entry(seqid:NC_003279.8, source:RefSeq, feature:CDS, start:16473, end:16585, score:., strand:+, phase:2, attr:ID=cds1;Dbxref=EnsemblGenomes-Gn:WBGene00022276,EnsemblGenomes-Tr:Y74C9A.2a.1,EnsemblGenomes-Tr:Y74C9A.2a.2,EnsemblGenomes-Tr:Y74C9A.2a.3,GOA:Q9N4D8,UniProtKB/Swiss-Prot:Q9N4D8,GeneID:171591,Genbank:NP_490661.1,WormBase:WBGene00022276;Name=NP_490661.1;Note=Confirmed by transcript evidence;gbkey=CDS;gene=nlp-40;product=Peptide P4;protein_id=NP_490661.1;standard_name=Y74C9A.2a)]\n"
     ]
    },
    {
     "name": "stderr",
     "output_type": "stream",
     "text": [
      "D: GFF input source is list of GFF3Entries.\n"
     ]
    }
   ],
   "source": [
    "print(ce.gff.getChildren('rna2').entries)\n",
    "print(ce.cds[\"NM_058260.4\"] == ce.gff.seq(\"rna1\", ce.genome[\"all\"]))"
   ]
  },
  {
   "cell_type": "code",
   "execution_count": 6,
   "metadata": {},
   "outputs": [
    {
     "name": "stderr",
     "output_type": "stream",
     "text": [
      "D: Initializing the GFF3ResourceManager object NOW\n",
      "D: GFF input source is file.\n",
      "D: GFF input source is list of GFF3Entries.\n",
      "D: Initializing the FastaResourceManager object NOW\n",
      "D: Fasta input source is file\n"
     ]
    },
    {
     "name": "stdout",
     "output_type": "stream",
     "text": [
      "Why doesn't this work?\n",
      "True\n",
      "True\n",
      "True\n"
     ]
    },
    {
     "name": "stderr",
     "output_type": "stream",
     "text": [
      "D: GFF input source is list of GFF3Entries.\n",
      "D: GFF input source is list of GFF3Entries.\n"
     ]
    }
   ],
   "source": [
    "print(ce.cds[\"NM_058260.4\"] == ce.gff.seq(\"rna1\", ce.genome[\"all\"]))\n",
    "\n",
    "print(type(ce.cds[\"NM_058260.4\"]) == type(ce.gff.seq(\"rna1\", ce.genome[\"all\"])))\n",
    "print(ce.gff.seq(\"rna1\", ce.genome[\"all\"]).seq.lower() == ce.cds[\"NM_058260.4\"].seq.lower())\n",
    "\n",
    "#for i, (o,t) in enumerate(zip(ce.cds[\"NM_058260.4\"].seq, ce.gff.seq(\"rna1\", ce.genome[\"all\"]).seq)):\n",
    "#    if o.lower() == t.lower():\n",
    "#        print(i, o, t)"
   ]
  },
  {
   "cell_type": "code",
   "execution_count": 7,
   "metadata": {},
   "outputs": [
    {
     "name": "stderr",
     "output_type": "stream",
     "text": [
      "D: Initializing the GFF3ResourceManager object NOW\n",
      "D: GFF input source is file.\n"
     ]
    },
    {
     "ename": "KeyboardInterrupt",
     "evalue": "",
     "output_type": "error",
     "traceback": [
      "\u001b[0;31m---------------------------------------------------------------------------\u001b[0m",
      "\u001b[0;31mKeyboardInterrupt\u001b[0m                         Traceback (most recent call last)",
      "\u001b[0;32m<ipython-input-7-b445985e5d02>\u001b[0m in \u001b[0;36m<module>\u001b[0;34m()\u001b[0m\n\u001b[1;32m      1\u001b[0m \u001b[0mnTranscriptsPerGene\u001b[0m \u001b[0;34m=\u001b[0m \u001b[0;34m[\u001b[0m\u001b[0;34m]\u001b[0m\u001b[0;34m\u001b[0m\u001b[0m\n\u001b[1;32m      2\u001b[0m \u001b[0mnExonsPerTranscript\u001b[0m \u001b[0;34m=\u001b[0m \u001b[0;34m[\u001b[0m\u001b[0;34m]\u001b[0m\u001b[0;34m\u001b[0m\u001b[0m\n\u001b[0;32m----> 3\u001b[0;31m \u001b[0;32mfor\u001b[0m \u001b[0mgene\u001b[0m \u001b[0;32min\u001b[0m \u001b[0mhg\u001b[0m\u001b[0;34m.\u001b[0m\u001b[0mgff\u001b[0m\u001b[0;34m.\u001b[0m\u001b[0mtopLevel\u001b[0m\u001b[0;34m[\u001b[0m\u001b[0;34m'gene'\u001b[0m\u001b[0;34m]\u001b[0m\u001b[0;34m:\u001b[0m\u001b[0;34m\u001b[0m\u001b[0m\n\u001b[0m\u001b[1;32m      4\u001b[0m     \u001b[0mtranscripts\u001b[0m \u001b[0;34m=\u001b[0m \u001b[0;34m[\u001b[0m \u001b[0mcid\u001b[0m \u001b[0;32mfor\u001b[0m \u001b[0;34m(\u001b[0m\u001b[0mi\u001b[0m\u001b[0;34m,\u001b[0m \u001b[0mcid\u001b[0m\u001b[0;34m)\u001b[0m \u001b[0;32min\u001b[0m \u001b[0mhg\u001b[0m\u001b[0;34m.\u001b[0m\u001b[0mgff\u001b[0m\u001b[0;34m.\u001b[0m\u001b[0mindex\u001b[0m\u001b[0;34m[\u001b[0m\u001b[0mgene\u001b[0m\u001b[0;34m]\u001b[0m\u001b[0;34m[\u001b[0m\u001b[0;36m1\u001b[0m\u001b[0;34m]\u001b[0m \u001b[0;34m]\u001b[0m\u001b[0;34m\u001b[0m\u001b[0m\n\u001b[1;32m      5\u001b[0m     \u001b[0mnTranscriptsPerGene\u001b[0m\u001b[0;34m.\u001b[0m\u001b[0mappend\u001b[0m\u001b[0;34m(\u001b[0m\u001b[0mlen\u001b[0m\u001b[0;34m(\u001b[0m\u001b[0mtranscripts\u001b[0m\u001b[0;34m)\u001b[0m\u001b[0;34m)\u001b[0m\u001b[0;34m\u001b[0m\u001b[0m\n",
      "\u001b[0;32m~/repos/BIU/biu/structures/lazyObject.py\u001b[0m in \u001b[0;36m__getattr__\u001b[0;34m(self, name)\u001b[0m\n\u001b[1;32m     18\u001b[0m   \u001b[0;32mdef\u001b[0m \u001b[0m__getattr__\u001b[0m\u001b[0;34m(\u001b[0m\u001b[0mself\u001b[0m\u001b[0;34m,\u001b[0m \u001b[0mname\u001b[0m\u001b[0;34m)\u001b[0m\u001b[0;34m:\u001b[0m\u001b[0;34m\u001b[0m\u001b[0m\n\u001b[1;32m     19\u001b[0m     \u001b[0;32mif\u001b[0m \u001b[0mself\u001b[0m\u001b[0;34m.\u001b[0m\u001b[0m__dict__\u001b[0m\u001b[0;34m[\u001b[0m\u001b[0;34m\"_obj\"\u001b[0m\u001b[0;34m]\u001b[0m \u001b[0;32mis\u001b[0m \u001b[0;32mNone\u001b[0m\u001b[0;34m:\u001b[0m\u001b[0;34m\u001b[0m\u001b[0m\n\u001b[0;32m---> 20\u001b[0;31m       \u001b[0mself\u001b[0m\u001b[0;34m.\u001b[0m\u001b[0m__init_obj\u001b[0m\u001b[0;34m(\u001b[0m\u001b[0;34m)\u001b[0m\u001b[0;34m\u001b[0m\u001b[0m\n\u001b[0m\u001b[1;32m     21\u001b[0m     \u001b[0;31m#fi\u001b[0m\u001b[0;34m\u001b[0m\u001b[0;34m\u001b[0m\u001b[0m\n\u001b[1;32m     22\u001b[0m     \u001b[0;32mreturn\u001b[0m \u001b[0mgetattr\u001b[0m\u001b[0;34m(\u001b[0m\u001b[0mself\u001b[0m\u001b[0;34m.\u001b[0m\u001b[0m__dict__\u001b[0m\u001b[0;34m[\u001b[0m\u001b[0;34m\"_obj\"\u001b[0m\u001b[0;34m]\u001b[0m\u001b[0;34m,\u001b[0m \u001b[0mname\u001b[0m\u001b[0;34m)\u001b[0m\u001b[0;34m\u001b[0m\u001b[0m\n",
      "\u001b[0;32m~/repos/BIU/biu/structures/lazyObject.py\u001b[0m in \u001b[0;36m__init_obj\u001b[0;34m(self)\u001b[0m\n\u001b[1;32m     13\u001b[0m     \u001b[0mself\u001b[0m\u001b[0;34m.\u001b[0m\u001b[0m__dict__\u001b[0m\u001b[0;34m[\u001b[0m\u001b[0;34m\"_obj\"\u001b[0m\u001b[0;34m]\u001b[0m\u001b[0;34m=\u001b[0m\u001b[0mobject\u001b[0m\u001b[0;34m.\u001b[0m\u001b[0m__new__\u001b[0m\u001b[0;34m(\u001b[0m\u001b[0mself\u001b[0m\u001b[0;34m.\u001b[0m\u001b[0m__dict__\u001b[0m\u001b[0;34m[\u001b[0m\u001b[0;34m\"_cls\"\u001b[0m\u001b[0;34m]\u001b[0m\u001b[0;34m)\u001b[0m\u001b[0;34m\u001b[0m\u001b[0m\n\u001b[1;32m     14\u001b[0m     self.__dict__[\"_obj\"].__init__(*self.__dict__[\"_params\"],\n\u001b[0;32m---> 15\u001b[0;31m                                    **self.__dict__[\"_kwargs\"])\n\u001b[0m\u001b[1;32m     16\u001b[0m   \u001b[0;31m#edef\u001b[0m\u001b[0;34m\u001b[0m\u001b[0;34m\u001b[0m\u001b[0m\n\u001b[1;32m     17\u001b[0m \u001b[0;34m\u001b[0m\u001b[0m\n",
      "\u001b[0;32m~/repos/BIU/biu/structures/resourceManager.py\u001b[0m in \u001b[0;36m__init__\u001b[0;34m(self, fmObject, gff3File, **kwargs)\u001b[0m\n\u001b[1;32m    131\u001b[0m     \u001b[0mResourceManager\u001b[0m\u001b[0;34m.\u001b[0m\u001b[0m__init__\u001b[0m\u001b[0;34m(\u001b[0m\u001b[0mself\u001b[0m\u001b[0;34m,\u001b[0m \u001b[0mfmObject\u001b[0m\u001b[0;34m,\u001b[0m \u001b[0;34m[\u001b[0m \u001b[0mgff3File\u001b[0m \u001b[0;34m]\u001b[0m\u001b[0;34m)\u001b[0m\u001b[0;34m\u001b[0m\u001b[0m\n\u001b[1;32m    132\u001b[0m     \u001b[0;32mif\u001b[0m \u001b[0mself\u001b[0m\u001b[0;34m.\u001b[0m\u001b[0m_initialized\u001b[0m\u001b[0;34m:\u001b[0m\u001b[0;34m\u001b[0m\u001b[0m\n\u001b[0;32m--> 133\u001b[0;31m       \u001b[0mformats\u001b[0m\u001b[0;34m.\u001b[0m\u001b[0mGFF3\u001b[0m\u001b[0;34m.\u001b[0m\u001b[0m__init__\u001b[0m\u001b[0;34m(\u001b[0m\u001b[0mself\u001b[0m\u001b[0;34m,\u001b[0m \u001b[0mself\u001b[0m\u001b[0;34m.\u001b[0m\u001b[0m_fmObject\u001b[0m\u001b[0;34m.\u001b[0m\u001b[0mgetFileName\u001b[0m\u001b[0;34m(\u001b[0m\u001b[0mgff3File\u001b[0m\u001b[0;34m)\u001b[0m\u001b[0;34m,\u001b[0m \u001b[0;34m**\u001b[0m\u001b[0mkwargs\u001b[0m\u001b[0;34m)\u001b[0m\u001b[0;34m\u001b[0m\u001b[0m\n\u001b[0m\u001b[1;32m    134\u001b[0m     \u001b[0;31m#fi\u001b[0m\u001b[0;34m\u001b[0m\u001b[0;34m\u001b[0m\u001b[0m\n\u001b[1;32m    135\u001b[0m   \u001b[0;31m#edef\u001b[0m\u001b[0;34m\u001b[0m\u001b[0;34m\u001b[0m\u001b[0m\n",
      "\u001b[0;32m~/repos/BIU/biu/formats/gff3Utils.py\u001b[0m in \u001b[0;36m__init__\u001b[0;34m(self, data, **kwargs)\u001b[0m\n\u001b[1;32m    137\u001b[0m     \u001b[0;31m#fi\u001b[0m\u001b[0;34m\u001b[0m\u001b[0;34m\u001b[0m\u001b[0m\n\u001b[1;32m    138\u001b[0m     \u001b[0mself\u001b[0m\u001b[0;34m.\u001b[0m\u001b[0mseqids\u001b[0m  \u001b[0;34m=\u001b[0m \u001b[0mset\u001b[0m\u001b[0;34m(\u001b[0m\u001b[0;34m[\u001b[0m \u001b[0me\u001b[0m\u001b[0;34m.\u001b[0m\u001b[0mseqid\u001b[0m \u001b[0;32mfor\u001b[0m \u001b[0me\u001b[0m \u001b[0;32min\u001b[0m \u001b[0mself\u001b[0m\u001b[0;34m.\u001b[0m\u001b[0mentries\u001b[0m\u001b[0;34m]\u001b[0m\u001b[0;34m)\u001b[0m\u001b[0;34m\u001b[0m\u001b[0m\n\u001b[0;32m--> 139\u001b[0;31m     \u001b[0mself\u001b[0m\u001b[0;34m.\u001b[0m\u001b[0m__index\u001b[0m\u001b[0;34m,\u001b[0m \u001b[0mself\u001b[0m\u001b[0;34m.\u001b[0m\u001b[0mtopLevel\u001b[0m \u001b[0;34m=\u001b[0m \u001b[0mself\u001b[0m\u001b[0;34m.\u001b[0m\u001b[0m_index\u001b[0m\u001b[0;34m(\u001b[0m\u001b[0;34m)\u001b[0m\u001b[0;34m\u001b[0m\u001b[0m\n\u001b[0m\u001b[1;32m    140\u001b[0m   \u001b[0;31m#edef\u001b[0m\u001b[0;34m\u001b[0m\u001b[0;34m\u001b[0m\u001b[0m\n\u001b[1;32m    141\u001b[0m \u001b[0;34m\u001b[0m\u001b[0m\n",
      "\u001b[0;32m~/repos/BIU/biu/formats/gff3Utils.py\u001b[0m in \u001b[0;36m_index\u001b[0;34m(self)\u001b[0m\n\u001b[1;32m    169\u001b[0m \u001b[0;34m\u001b[0m\u001b[0m\n\u001b[1;32m    170\u001b[0m       \u001b[0mparent\u001b[0m \u001b[0;34m=\u001b[0m \u001b[0me\u001b[0m\u001b[0;34m.\u001b[0m\u001b[0mparent\u001b[0m\u001b[0;34m\u001b[0m\u001b[0m\n\u001b[0;32m--> 171\u001b[0;31m       \u001b[0;32mif\u001b[0m \u001b[0mID\u001b[0m \u001b[0;32mnot\u001b[0m \u001b[0;32min\u001b[0m \u001b[0midx\u001b[0m\u001b[0;34m:\u001b[0m\u001b[0;34m\u001b[0m\u001b[0m\n\u001b[0m\u001b[1;32m    172\u001b[0m         \u001b[0midx\u001b[0m\u001b[0;34m[\u001b[0m\u001b[0mID\u001b[0m\u001b[0;34m]\u001b[0m \u001b[0;34m=\u001b[0m \u001b[0;34m[\u001b[0m\u001b[0mi\u001b[0m\u001b[0;34m,\u001b[0m \u001b[0;34m[\u001b[0m\u001b[0;34m]\u001b[0m \u001b[0;34m]\u001b[0m\u001b[0;34m\u001b[0m\u001b[0m\n\u001b[1;32m    173\u001b[0m       \u001b[0;32melse\u001b[0m\u001b[0;34m:\u001b[0m\u001b[0;34m\u001b[0m\u001b[0m\n",
      "\u001b[0;31mKeyboardInterrupt\u001b[0m: "
     ]
    }
   ],
   "source": [
    "nTranscriptsPerGene = []\n",
    "nExonsPerTranscript = []\n",
    "for gene in hg.gff.topLevel['gene']:\n",
    "    transcripts = [ cid for (i, cid) in hg.gff.index[gene][1] ]\n",
    "    nTranscriptsPerGene.append(len(transcripts))\n",
    "    for trans in transcripts:\n",
    "        nExonsPerTranscript.append(len(hg.gff.index[trans][1]))\n",
    "    #efor\n",
    "#efor\n",
    "\n",
    "fig, axes = plt.subplots(figsize=(12,4), ncols=2, nrows=1)\n",
    "axes = axes.flatten()\n",
    "axes[0].hist(nTranscriptsPerGene, bins=20)\n",
    "axes[0].set_xlabel(\"Number of transcripts\")\n",
    "axes[0].set_ylabel(\"Number of genes\")\n",
    "axes[1].hist(nExonsPerTranscript, bins=20, log=True)\n",
    "axes[1].set_xlabel(\"Number of exons\")\n",
    "axes[1].set_ylabel(\"Number of genes\")\n",
    "plt.show()"
   ]
  },
  {
   "cell_type": "markdown",
   "metadata": {},
   "source": [
    "## Access the Uniprot database"
   ]
  },
  {
   "cell_type": "code",
   "execution_count": null,
   "metadata": {},
   "outputs": [],
   "source": [
    "uniprot = biu.db.UniProt(\"human\")\n",
    "print(uniprot)"
   ]
  },
  {
   "cell_type": "code",
   "execution_count": null,
   "metadata": {},
   "outputs": [],
   "source": [
    "for result in uniprot.getProteinDomains('P42345'):\n",
    "    print(result)"
   ]
  },
  {
   "cell_type": "markdown",
   "metadata": {},
   "source": [
    "## Access the ClinVar database"
   ]
  },
  {
   "cell_type": "code",
   "execution_count": null,
   "metadata": {},
   "outputs": [],
   "source": [
    "cv = biu.db.ClinVar(\"GRCh37\")\n",
    "print(cv)"
   ]
  },
  {
   "cell_type": "code",
   "execution_count": null,
   "metadata": {},
   "outputs": [],
   "source": [
    "alts = { n : 0 for n in 'ACGT'}\n",
    "for record in cv.queryVCF(1, 949422, 1049422):\n",
    "    for alt in record.ALT:\n",
    "        alt = alt.sequence\n",
    "        if alt in alts:\n",
    "            alts[alt] += 1\n",
    "\n",
    "cImpact = {}\n",
    "for record in cv.querySummary(1, 949422, 1049422):\n",
    "    if record.clinicalsignificance not in cImpact:\n",
    "        cImpact[record.clinicalsignificance] = 0\n",
    "    cImpact[record.clinicalsignificance] += 1\n",
    "\n",
    "fig, axes = plt.subplots(figsize=(12,4), ncols=2, nrows=1)\n",
    "axes = axes.flatten()\n",
    "\n",
    "nbars = axes[0].bar([1,2,3,4], alts.values(), tick_label=list(alts.keys()))\n",
    "\n",
    "nbars = axes[1].bar([ x + 1 for x in range(len(cImpact.keys())) ], cImpact.values(), tick_label=list(cImpact.keys()))\n",
    "plt.xticks(rotation=90)\n",
    "plt.show()"
   ]
  },
  {
   "cell_type": "markdown",
   "metadata": {},
   "source": [
    "## Access the CADD database\n",
    "If you have pre-existing files elsewhere, you can tell the system where they are exactly with the \"localCopy\" argument, and it will make a symbolic link to our local copy."
   ]
  },
  {
   "cell_type": "code",
   "execution_count": null,
   "metadata": {},
   "outputs": [],
   "source": [
    "cadd = biu.db.CADD(localCopy = {\"tsv\" : \"/exports/molepi/tgehrmann/GAVIN-reimp/CADD/cadd.tsv.bgz\", \n",
    "                                \"tsv_tbi\" : \"/exports/molepi/tgehrmann/GAVIN-reimp/CADD/cadd.tsv.bgz.tbi\"})\n",
    "print(cadd)"
   ]
  },
  {
   "cell_type": "code",
   "execution_count": null,
   "metadata": {},
   "outputs": [],
   "source": [
    "plt.hist([ float(p) for p in cadd.query(1, 0, 1000000).values() ], bins=200)\n",
    "plt.xlabel(\"CADD score\")\n",
    "plt.show()"
   ]
  },
  {
   "cell_type": "markdown",
   "metadata": {},
   "source": [
    "## Access the GnomAD database"
   ]
  },
  {
   "cell_type": "code",
   "execution_count": null,
   "metadata": {},
   "outputs": [],
   "source": [
    "gnomad = biu.db.Gnomad(localCopy = { \"vcf\" : \"/exports/molepi/tgehrmann/GAVIN-reimp/gnomAD/gnomad.vcf.bgz\",\n",
    "                                     \"vcf_tbi\" : \"/exports/molepi/tgehrmann/GAVIN-reimp/gnomAD/gnomad.vcf.bgz.tbi\"})\n",
    "print(gnomad)"
   ]
  },
  {
   "cell_type": "markdown",
   "metadata": {},
   "source": [
    "### How to query from VCF files.\n",
    "There are different options to filter queries:\n",
    " * filters : Filter Variants based on a list of filters\n",
    " * gtFilters : Filter genotype calls based on a list of filters\n",
    " * types : Filter variants based on variant types\n",
    " * subTypes : Filter variants based on more specific variant types\n",
    " * sampleFilters : Filter sample calls based on a list of sample names. IMPORTANT: THIS WILL SELECT THOSE IN THE LIST, NOT FILTER THEM OUT!!\n",
    " \n",
    "These options can be used in any VCF query structure (e.g. clinVar, GnomAD, COSMIC, LLS, BBMRI)"
   ]
  },
  {
   "cell_type": "code",
   "execution_count": null,
   "metadata": {},
   "outputs": [],
   "source": [
    "filters = [ \"AMBIGUOUS\",\"VQLOW\",\"NVLOC\",\"CALLRATE\",\"MULTI\",\"RECMULTI\"]\n",
    "types = [ \"snp\" ]\n",
    "\n",
    "print(\"Without snp filter:\", len(list(gnomad.query(1, 324719, 324720, filters=filters))))\n",
    "print(\"With snp filter:\", len(list(gnomad.query(1, 324719, 324720, filters=filters, types=types))))\n",
    "print(\"With RF filter:\", len(list(gnomad.query(1, 324719, 324720, filters=filters + ['RF'], types=types))))"
   ]
  },
  {
   "cell_type": "code",
   "execution_count": null,
   "metadata": {},
   "outputs": [],
   "source": [
    "lls = biu.db.LLS(localCopy={\"phen\" : \"/home/tgehrmann/repos/VAR/phen218.txt\"})\n",
    "\n",
    "# Define the filters we want to use for the Variant calls:\n",
    "varFilters = [ \"AMBIGUOUS\",\"VQLOW\",\"NVLOC\",\"CALLRATE\",\"MULTI\",\"RECMULTI\"]\n",
    "\n",
    "# We are only interested in SNPs\n",
    "varTypes = [ \"snp\" ]\n",
    "\n",
    "# Within the LLS, we are only interested in 218 people, 4 of them we want to exclude (REMINDER: ask Erik why...)\n",
    "varSampleFilters = lls.phenotypes[\"cgID\"].apply(lambda x: x + '_240_37-ASM').values\n",
    "\n",
    "V = lls.query(1, 26883510, 26883511, filters=varFilters, types=varTypes, sampleFilters=varSampleFilters)\n",
    "S = lls.query(1, 26883510, 26883511, filters=varFilters, types=varTypes, sampleFilters=varSampleFilters, extract=\"summary\")\n",
    "\n",
    "biu.formats.VCF.summary(V)\n",
    "S\n"
   ]
  },
  {
   "cell_type": "code",
   "execution_count": null,
   "metadata": {},
   "outputs": [],
   "source": [
    "V = lls.query(1, 26883510, 26883511, extract=\"raw\")"
   ]
  },
  {
   "cell_type": "code",
   "execution_count": null,
   "metadata": {},
   "outputs": [],
   "source": [
    "alts = { n : 0 for n in 'ACGT'}\n",
    "for record in gnomad.queryVCF(1, 12590, 13000):\n",
    "    for alt in record.ALT:\n",
    "        alt = alt.sequence\n",
    "        if alt in alts:\n",
    "            alts[alt] += 1\n",
    "\n",
    "x = []; y = []\n",
    "for record in gnomad.queryCov(1, 12590, 13000, namedtuple=True):\n",
    "    x.append(int(record.pos))\n",
    "    y.append(float(record.mean))\n",
    "\n",
    "gene = \"gene:ENSG00000146648\"\n",
    "gEntry = hg.gff.getID(gene)\n",
    "genex = []; geney=[]\n",
    "for record in gnomad.queryCov(1, gEntry.start, gEntry.end, namedtuple=True):    \n",
    "    genex.append(int(record.pos))\n",
    "    geney.append(float(record.mean))\n",
    "\n",
    "fig, axes = plt.subplots(figsize=(12,4), ncols=3, nrows=1)\n",
    "axes = axes.flatten()\n",
    "\n",
    "nbars = axes[0].bar([1,2,3,4], alts.values(), tick_label=list(alts.keys()))\n",
    "axes[1].plot(x,y)\n",
    "axes[2].plot(genex,geney)\n",
    "\n",
    "plt.show()"
   ]
  },
  {
   "cell_type": "markdown",
   "metadata": {},
   "source": [
    "## GTeX access\n",
    "Because GTeX is behind this ugly google login, you have to provide the files yourself.\n",
    "This can be done by specifying the exact location of the data.\n",
    "While the other datasets place the files deeper than the 'where' that you specify, GTeX will look EXACTLY for the following files:\n",
    " * `'where'/GTEx_Analysis_2016-01-15_v7_RNASeQCv1.1.8_gene_tpm.gct.gz`\n",
    " * `'where'/GTEx_Analysis_2016-01-15_v7_RSEMv1.2.22_transcript_tpm.txt.gz`\n",
    " * `'where'/GTEx_v7_Annotations_SampleAttributesDS.txt`\n",
    " * `'where'/GTEx_v7_Annotations_SubjectPhenotypesDS.txt`\n"
   ]
  },
  {
   "cell_type": "code",
   "execution_count": null,
   "metadata": {},
   "outputs": [],
   "source": [
    "where = '/exports/molepi/tgehrmann/data/'\n",
    "import biu as biu\n",
    "biu.config.settings.setWhere(where)\n",
    "gtex = biu.db.GTeX(version=\"v7\",\n",
    "                   where=\"/exports/molepi/tgehrmann/data/gtex\")\n",
    "print(gtex)"
   ]
  },
  {
   "cell_type": "code",
   "execution_count": null,
   "metadata": {},
   "outputs": [],
   "source": [
    "print(gtex.getPersonIDSamples(gtex.getPersonIDs()[0]))\n",
    "%time gtex.getGeneExpr(gtex.getPersonIDSamples(gtex.getPersonIDs()[0]))"
   ]
  },
  {
   "cell_type": "code",
   "execution_count": null,
   "metadata": {},
   "outputs": [],
   "source": [
    "pTissues = {}\n",
    "for i, row in gtex.sAttr.iterrows():\n",
    "    if row[\"SMAFRZE\"] != \"RNASEQ\":\n",
    "        continue\n",
    "    #fi\n",
    "    personID = row[\"SAMPID\"].split('-')[1]\n",
    "    sampleType = row[\"SMTSD\"]\n",
    "    if personID not in pTissues:\n",
    "        pTissues[personID] = []\n",
    "    pTissues[personID].append(sampleType)\n",
    "\n",
    "indivTissues = sorted(list(set(gtex.sAttr[\"SMTSD\"])))\n",
    "pairwiseTissueCounts = {}\n",
    "for personID in pTissues:\n",
    "    tissues = list(set(pTissues[personID]))\n",
    "    for i, samplei in enumerate(tissues[:-1]):\n",
    "        for j, samplej in enumerate(tissues[i+1:]):\n",
    "            key = (samplei, samplej)\n",
    "            if key not in pairwiseTissueCounts:\n",
    "                pairwiseTissueCounts[key] = 0\n",
    "            pairwiseTissueCounts[(samplei, samplej)] += 1\n",
    "\n",
    "indivTissuesMap = { t: i for (i,t) in enumerate(list(indivTissues)) }\n",
    "\n",
    "C = np.zeros([len(indivTissues), len(indivTissues)])\n",
    "for (t1,t2) in pairwiseTissueCounts:\n",
    "    C[indivTissuesMap[t1], indivTissuesMap[t2]] = int(pairwiseTissueCounts.get((t1,t2),0) +\n",
    "                                                  pairwiseTissueCounts.get((t2,t1),0))\n",
    "    C[indivTissuesMap[t2], indivTissuesMap[t1]] = int(pairwiseTissueCounts.get((t1,t2),0) +\n",
    "                                                  pairwiseTissueCounts.get((t2,t1),0))"
   ]
  },
  {
   "cell_type": "code",
   "execution_count": null,
   "metadata": {},
   "outputs": [],
   "source": [
    "fig, ax = plt.subplots(figsize=(40,40))\n",
    "sns.heatmap(C, ax = ax, xticklabels=indivTissues, yticklabels=indivTissues, annot=True, fmt='.0f')\n",
    "plt.show()"
   ]
  },
  {
   "cell_type": "code",
   "execution_count": null,
   "metadata": {},
   "outputs": [],
   "source": [
    "interestTissues = [ 'Adipose - Subcutaneous', 'Adipose - Visceral (Omentum)', 'Muscle - Skeletal', \"Whole Blood\" ]\n",
    "interestTissuesIndex = [ indivTissuesMap[t] for t in interestTissues ]\n",
    "\n",
    "fig, ax = plt.subplots(figsize=(10,10))\n",
    "sns.heatmap(C[interestTissuesIndex,:][:,interestTissuesIndex], ax = ax, xticklabels=interestTissues, yticklabels=interestTissues, annot=True, fmt='.1f')\n",
    "plt.show()"
   ]
  },
  {
   "cell_type": "markdown",
   "metadata": {},
   "source": [
    "## Reactome access\n",
    "Doesn't really work yet"
   ]
  },
  {
   "cell_type": "code",
   "execution_count": null,
   "metadata": {},
   "outputs": [],
   "source": [
    "#reactome = biu.db.Reactome(where=where + '/reactome')\n",
    "#print(reactome)\n",
    "#for r in reactome.getPathway(\"R-HSA-1236973\"):\n",
    "#    print(r)"
   ]
  },
  {
   "cell_type": "markdown",
   "metadata": {},
   "source": [
    "## Cosmic access"
   ]
  },
  {
   "cell_type": "code",
   "execution_count": null,
   "metadata": {},
   "outputs": [],
   "source": [
    "cosmic = biu.db.Cosmic(\"t.gehrmann@lumc.nl\", \"cab847t0\")\n",
    "print(cosmic)"
   ]
  },
  {
   "cell_type": "code",
   "execution_count": null,
   "metadata": {},
   "outputs": [],
   "source": [
    "for r in cosmic.vcfCoding.query(1, 1, 69270):\n",
    "    print(r)"
   ]
  },
  {
   "cell_type": "code",
   "execution_count": null,
   "metadata": {},
   "outputs": [],
   "source": [
    "for r in cosmic.vcfNonCoding.query(1, 1, 69270):\n",
    "    print(r)"
   ]
  },
  {
   "cell_type": "markdown",
   "metadata": {},
   "source": [
    "## Gene mapping"
   ]
  },
  {
   "cell_type": "markdown",
   "metadata": {},
   "source": [
    "### Do gene mapping with pickled maps\n",
    "Faster operations, but slow initialization + more memory usage"
   ]
  },
  {
   "cell_type": "code",
   "execution_count": null,
   "metadata": {},
   "outputs": [],
   "source": [
    "import biu\n",
    "hm = biu.maps.Human(where=\"/exports/molepi/tgehrmann/data/\")\n",
    "print(hm)\n",
    "\n",
    "def exampleMapping(GMO):\n",
    "    # GMO : Gene Mapping Object\n",
    "    symbol = \"MTOR\"\n",
    "    geneid = GMO.getSymbolGeneID(symbol)[0]\n",
    "    print(\"%s -> %s\" % (symbol, geneid))\n",
    "    symbol = GMO.getGeneIDSymbol(geneid)[0]\n",
    "    print(\"%s -> %s\" % (geneid, symbol))\n",
    "    ensembl = GMO.getSymbolEnsembl(symbol)[0]\n",
    "    print(\"%s -> %s\" % (symbol, ensembl))\n",
    "    symbol = GMO.getEnsemblSymbol(ensembl)[0]\n",
    "    print(\"%s -> %s\" % (ensembl, symbol))\n",
    "#edef\n",
    "\n",
    "def exampleMappingSilent(GMO):\n",
    "    # GMO : Gene Mapping Object\n",
    "    symbol = \"MTOR\"\n",
    "    geneid = GMO.getSymbolGeneID(symbol)[0]\n",
    "    symbol = GMO.getGeneIDSymbol(geneid)[0]\n",
    "    ensembl = GMO.getSymbolEnsembl(symbol)[0]\n",
    "    symbol = GMO.getEnsemblSymbol(ensembl)[0]\n",
    "#edef"
   ]
  },
  {
   "cell_type": "code",
   "execution_count": null,
   "metadata": {},
   "outputs": [],
   "source": [
    "exampleMapping(hm)"
   ]
  },
  {
   "cell_type": "markdown",
   "metadata": {},
   "source": [
    "### Mapping with SQLite instead of pickled Maps\n",
    "Fast initialization, but slower operations.\n",
    "Because of the high speed initialization, we can perform queries on a larger number of structures, including the gene2refseq index, and the uniprotmap, which is prohibitively large for the map."
   ]
  },
  {
   "cell_type": "code",
   "execution_count": null,
   "metadata": {},
   "outputs": [],
   "source": [
    "where = '/exports/molepi/tgehrmann/data/'\n",
    "import biu as biu\n",
    "biu.config.settings.setWhere(where)\n",
    "print(biu.config.settings.getWhere())\n",
    "hms = biu.maps.HumanS()\n",
    "print(hms)"
   ]
  },
  {
   "cell_type": "code",
   "execution_count": null,
   "metadata": {},
   "outputs": [],
   "source": [
    "exampleMapping(hms)"
   ]
  },
  {
   "cell_type": "markdown",
   "metadata": {},
   "source": [
    "### Compare Map vs SQLite speeds"
   ]
  },
  {
   "cell_type": "code",
   "execution_count": null,
   "metadata": {},
   "outputs": [],
   "source": [
    "print(\"Map Lookup\")\n",
    "%timeit exampleMappingSilent(hm)\n",
    "print(\"SQLite lookup\")\n",
    "%timeit exampleMappingSilent(hms)"
   ]
  },
  {
   "cell_type": "markdown",
   "metadata": {},
   "source": [
    "## HAGR access\n",
    "Unlike others, HAGR is downloaded already entirely when the class is initiated (because they are in ZIP files, and I don't have a nice solution for this yet)"
   ]
  },
  {
   "cell_type": "code",
   "execution_count": null,
   "metadata": {},
   "outputs": [],
   "source": [
    "import biu as biu\n",
    "hagr = biu.db.HAGR(where = '/exports/molepi/tgehrmann/data/')\n",
    "print(hagr)"
   ]
  },
  {
   "cell_type": "code",
   "execution_count": null,
   "metadata": {},
   "outputs": [],
   "source": [
    "hagr.human_genes"
   ]
  },
  {
   "cell_type": "markdown",
   "metadata": {},
   "source": [
    "## Access GO annotations"
   ]
  },
  {
   "cell_type": "code",
   "execution_count": null,
   "metadata": {},
   "outputs": [],
   "source": [
    "where = '/exports/molepi/tgehrmann/data/'\n",
    "import biu as biu\n",
    "biu.config.settings.setWhere(where)\n",
    "print(biu.config.settings.getWhere())\n",
    "go = biu.db.GO()\n",
    "print(go)"
   ]
  },
  {
   "cell_type": "code",
   "execution_count": null,
   "metadata": {},
   "outputs": [],
   "source": [
    "print(\"Number of genes annotated with GO:0002250: %d\" % len(go.getAnnotated(\"GO:0002250\")))\n",
    "\n",
    "print(\"Number of annotations for P78540: %d\" % len(go.getAnnots(\"P78540\")))"
   ]
  },
  {
   "cell_type": "markdown",
   "metadata": {},
   "source": [
    "## Access KEGG annotations"
   ]
  },
  {
   "cell_type": "code",
   "execution_count": null,
   "metadata": {},
   "outputs": [],
   "source": [
    "where = '/exports/molepi/tgehrmann/data/'\n",
    "import biu as biu\n",
    "biu.config.settings.setWhere(where)\n",
    "print(biu.config.settings.getWhere())\n",
    "kegg = biu.db.KEGG()\n",
    "hms = biu.maps.HumanS()"
   ]
  },
  {
   "cell_type": "code",
   "execution_count": null,
   "metadata": {},
   "outputs": [],
   "source": [
    "print(kegg)"
   ]
  },
  {
   "cell_type": "code",
   "execution_count": null,
   "metadata": {},
   "outputs": [],
   "source": [
    "print(\"Number of pathways MTOR is in: %d\" % len(kegg.getGenePathways(hms.getSymbolGeneID(\"MTOR\")[0])))\n",
    "\n",
    "print(\"Number of genes in path:hsa05230: %d\" % len(kegg.getPathwayGenes(\"path:hsa05230\")))"
   ]
  },
  {
   "cell_type": "code",
   "execution_count": null,
   "metadata": {},
   "outputs": [],
   "source": [
    "print(kegg.getPathwayInfo(\"hsa05230\"))"
   ]
  },
  {
   "cell_type": "code",
   "execution_count": null,
   "metadata": {},
   "outputs": [],
   "source": [
    "fig, axes = plt.subplots(figsize=(12,4), ncols=2, nrows=1)\n",
    "axes = axes.flatten()\n",
    "\n",
    "# How many genes are there per kegg pathway?\n",
    "genesPerPathway = [ len(kegg.getPathwayGenes(p)) for p in kegg.getPathways() ]\n",
    "pathwaysPerGene = [ len(kegg.getGenePathways(g)) for g in kegg.getGenes() ]\n",
    "\n",
    "axes[0].hist(genesPerPathway, bins=50)\n",
    "axes[0].set_xlabel(\"Number of genes per pathway\")\n",
    "axes[1].hist(pathwaysPerGene, bins=50)\n",
    "axes[1].set_xlabel(\"Number of pathways per gene\")\n",
    "plt.show()"
   ]
  },
  {
   "cell_type": "markdown",
   "metadata": {},
   "source": [
    "## Access LLS data"
   ]
  },
  {
   "cell_type": "code",
   "execution_count": null,
   "metadata": {},
   "outputs": [],
   "source": [
    "lls = biu.db.LLS()"
   ]
  },
  {
   "cell_type": "code",
   "execution_count": null,
   "metadata": {},
   "outputs": [],
   "source": [
    "for r in lls.queryRegions([ (\"1\", 100, 100000), (\"1\", 100, 100000)]):\n",
    "    print(r)"
   ]
  },
  {
   "cell_type": "markdown",
   "metadata": {},
   "source": [
    "## Access BBMRI data"
   ]
  },
  {
   "cell_type": "code",
   "execution_count": null,
   "metadata": {},
   "outputs": [],
   "source": [
    "bbmri = biu.db.BBMRI()"
   ]
  },
  {
   "cell_type": "markdown",
   "metadata": {},
   "source": [
    "## Store some variables persistently in a SQLite database"
   ]
  },
  {
   "cell_type": "code",
   "execution_count": null,
   "metadata": {},
   "outputs": [],
   "source": [
    "pDict = biu.formats.SQLDict(\"test\")\n",
    "print(pDict)"
   ]
  },
  {
   "cell_type": "code",
   "execution_count": null,
   "metadata": {},
   "outputs": [],
   "source": [
    "pDict[\"test\"] = { 5: \"hello\", \"aha\" : [ 1, 4, \"345\"]}\n",
    "print(\"test -> \", pDict[\"test\"])\n",
    "print(\"yest -> \", pDict[\"yest\"])\n",
    "\n",
    "for x in pDict:\n",
    "    print(x)"
   ]
  },
  {
   "cell_type": "markdown",
   "metadata": {},
   "source": [
    "### Access miRmine database"
   ]
  },
  {
   "cell_type": "code",
   "execution_count": null,
   "metadata": {},
   "outputs": [],
   "source": [
    "import biu\n",
    "where = '/exports/molepi/tgehrmann/data/'\n",
    "biu.config.settings.setWhere(where)"
   ]
  },
  {
   "cell_type": "code",
   "execution_count": null,
   "metadata": {},
   "outputs": [],
   "source": [
    "mir = biu.db.MiRmine()"
   ]
  },
  {
   "cell_type": "code",
   "execution_count": null,
   "metadata": {},
   "outputs": [],
   "source": [
    "print(mir)"
   ]
  },
  {
   "cell_type": "code",
   "execution_count": null,
   "metadata": {},
   "outputs": [],
   "source": [
    "mir.getExpr([\"DRX003170\", \"DRX003171\", \"DRX017209\"])"
   ]
  },
  {
   "cell_type": "code",
   "execution_count": null,
   "metadata": {},
   "outputs": [],
   "source": [
    "set(mir._info[\"Tissue\"][mir._info[\"Tissue\"].apply(lambda x: not(pd.isnull(x)))].values)"
   ]
  },
  {
   "cell_type": "markdown",
   "metadata": {},
   "source": [
    "## Use pipelines"
   ]
  },
  {
   "cell_type": "markdown",
   "metadata": {},
   "source": [
    "### Use the VEP pipeline"
   ]
  },
  {
   "cell_type": "code",
   "execution_count": null,
   "metadata": {},
   "outputs": [],
   "source": [
    "import biu as biu\n",
    "where = '/exports/molepi/tgehrmann/data/'\n",
    "biu.config.settings.setWhere(where)\n",
    "\n",
    "lls = biu.db.LLS()\n",
    "varList = list([ r for r in lls.query(1, 10483, 10495)])\n",
    "vep = biu.pipelines.VEP(varList)\n",
    "vep.getAnnotations()"
   ]
  },
  {
   "cell_type": "markdown",
   "metadata": {},
   "source": [
    "### Use the LiftOver Pipeline"
   ]
  },
  {
   "cell_type": "code",
   "execution_count": null,
   "metadata": {},
   "outputs": [],
   "source": [
    "import biu as biu\n",
    "where = '/exports/molepi/tgehrmann/data/'\n",
    "biu.config.settings.setWhere(where)\n",
    "\n",
    "lls = biu.db.LLS()\n",
    "varList = [ (r.CHROM, r.POS-1, r.POS) for r in lls.query(5, 42423775, 42426000, filt=['VQLOW'])]\n",
    "varLift = biu.pipelines.LiftOver(varList)\n",
    "varLift.getLiftOver()"
   ]
  },
  {
   "cell_type": "code",
   "execution_count": null,
   "metadata": {},
   "outputs": [],
   "source": [
    "varLift.getLiftOver().values"
   ]
  },
  {
   "cell_type": "code",
   "execution_count": null,
   "metadata": {},
   "outputs": [],
   "source": [
    "print(lls)"
   ]
  },
  {
   "cell_type": "code",
   "execution_count": null,
   "metadata": {},
   "outputs": [],
   "source": [
    "\n",
    "\n",
    "\n"
   ]
  },
  {
   "cell_type": "code",
   "execution_count": null,
   "metadata": {},
   "outputs": [],
   "source": []
  },
  {
   "cell_type": "code",
   "execution_count": null,
   "metadata": {},
   "outputs": [],
   "source": []
  },
  {
   "cell_type": "code",
   "execution_count": null,
   "metadata": {},
   "outputs": [],
   "source": []
  },
  {
   "cell_type": "code",
   "execution_count": null,
   "metadata": {},
   "outputs": [],
   "source": [
    "import biu as biu\n",
    "import matplotlib.pylab as plt\n",
    "import seaborn as sns\n",
    "import numpy as np\n",
    "import pandas as pd\n",
    "\n",
    "gnomad = biu.db.Gnomad(localCopy = { \"vcf\" : \"/exports/molepi/tgehrmann/GAVIN-reimp/gnomAD/gnomad.vcf.bgz\",\n",
    "                                     \"vcf_tbi\" : \"/exports/molepi/tgehrmann/GAVIN-reimp/gnomAD/gnomad.vcf.bgz.tbi\"})\n",
    "\n",
    "filters = [ \"AMBIGUOUS\",\"VQLOW\",\"NVLOC\",\"CALLRATE\",\"MULTI\",\"RECMULTI\"]\n",
    "types = [ \"snp\" ]\n",
    "\n",
    "print(gnomad.vcf)\n",
    "\n",
    "gnomad.query('Y', 2655002, 2655003)\n",
    "gnomad.query('Y', 2655024, 2655025)\n",
    "v = gnomad.query('Y', 2709618, 2709619)\n",
    "#gnomad.summary(v, [1])\n",
    "\n",
    "print(gnomad.vcf)\n",
    "\n",
    "gnomad.query('1', 2655002, 2709619, extract=\"summary\")\n"
   ]
  },
  {
   "cell_type": "code",
   "execution_count": null,
   "metadata": {},
   "outputs": [],
   "source": [
    "print(gnomad.vcf)"
   ]
  },
  {
   "cell_type": "code",
   "execution_count": null,
   "metadata": {},
   "outputs": [],
   "source": [
    "print(list(r.query(20, 14369, 14371))[0])"
   ]
  },
  {
   "cell_type": "code",
   "execution_count": null,
   "metadata": {},
   "outputs": [],
   "source": [
    "import vcf\n",
    "r = vcf.Reader(open('docs/example_files/example.vcf','r'))\n",
    "for rec in r:\n",
    "    print(rec)"
   ]
  },
  {
   "cell_type": "code",
   "execution_count": null,
   "metadata": {},
   "outputs": [],
   "source": [
    "r.samples"
   ]
  },
  {
   "cell_type": "code",
   "execution_count": null,
   "metadata": {},
   "outputs": [],
   "source": [
    "import intervaltree as it\n",
    "t = it.IntervalTree()"
   ]
  },
  {
   "cell_type": "code",
   "execution_count": null,
   "metadata": {},
   "outputs": [],
   "source": [
    "i = it.Interval(0, 1, 'test')"
   ]
  },
  {
   "cell_type": "code",
   "execution_count": null,
   "metadata": {},
   "outputs": [],
   "source": [
    "t[0:1] = 'test'"
   ]
  },
  {
   "cell_type": "code",
   "execution_count": null,
   "metadata": {},
   "outputs": [],
   "source": [
    "t[0]"
   ]
  },
  {
   "cell_type": "code",
   "execution_count": null,
   "metadata": {},
   "outputs": [],
   "source": [
    "class Parent(object):\n",
    "    def __init__(self, a):\n",
    "        self.__a = a\n",
    "    \n",
    "    def printa(self):\n",
    "        print(self.__a)\n",
    "\n",
    "class Child(Parent):\n",
    "    def __init__(self, a):\n",
    "        Parent.__init__(self, a)\n",
    "\n",
    "        \n",
    "c = Child(6)\n",
    "c.printa()"
   ]
  },
  {
   "cell_type": "code",
   "execution_count": null,
   "metadata": {},
   "outputs": [],
   "source": []
  }
 ],
 "metadata": {
  "kernelspec": {
   "display_name": "Python 3",
   "language": "python",
   "name": "python3"
  }
 },
 "nbformat": 4,
 "nbformat_minor": 2
}
