{
 "cells": [
  {
   "cell_type": "markdown",
   "metadata": {},
   "source": [
    "# BLAST Pipeline"
   ]
  },
  {
   "cell_type": "code",
   "execution_count": 1,
   "metadata": {},
   "outputs": [
    {
     "name": "stderr",
     "output_type": "stream",
     "text": [
      "W: The following dependencies of BIU are missing. Functionality of BIU will be affected.\n",
      "W:   vcf, tabix, intervaltree\n",
      "W: Some optional dependencies of BIU are missing. Functionality of BIU may be affected.\n",
      "W:   xlrd, matplotlib_venn, fastcluster, openpyxl\n"
     ]
    }
   ],
   "source": [
    "import biu\n",
    "# Set the default data location\n",
    "where = '/exports/molepi/tgehrmann/biu/'\n",
    "biu.config.settings.setWhere(where)"
   ]
  },
  {
   "cell_type": "markdown",
   "metadata": {},
   "source": [
    "It is very easy to use the Blast pipeline. Simply prepare two fasta structures, and use the Blast Pipeline.\n",
    "\n",
    "You can also optionally use DIAMOND or BLAT instead of BLAST. "
   ]
  },
  {
   "cell_type": "code",
   "execution_count": 2,
   "metadata": {},
   "outputs": [
    {
     "name": "stderr",
     "output_type": "stream",
     "text": [
      "D: Fasta input source is file\n",
      "D: Fasta input source is file\n"
     ]
    }
   ],
   "source": [
    "dna1 = biu.formats.Fasta('example_files/example.fasta')\n",
    "dna2 = biu.formats.Fasta('example_files/example2.fasta')"
   ]
  },
  {
   "cell_type": "code",
   "execution_count": 17,
   "metadata": {},
   "outputs": [
    {
     "name": "stderr",
     "output_type": "stream",
     "text": [
      "localrules directive specifies rules that are not present in the Snakefile:\n",
      "\tmapping\n",
      "\n",
      "Building DAG of jobs...\n",
      "Nothing to be done.\n",
      "Complete log: /home/tgehrmann/repos/BIU/docs/.snakemake/log/2018-10-09T095804.307777.snakemake.log\n",
      "W: The sequence you are trying to translate is not divisible by 3.\n",
      "D: Fasta input source is a list of sequences.\n",
      "W: The sequence you are trying to translate is not divisible by 3.\n",
      "D: Fasta input source is a list of sequences.\n",
      "localrules directive specifies rules that are not present in the Snakefile:\n",
      "\tmapping\n",
      "\n",
      "Building DAG of jobs...\n",
      "Using shell: /bin/bash\n",
      "Provided cores: 5\n",
      "Rules claiming more threads will be scaled down.\n",
      "Job counts:\n",
      "\tcount\tjobs\n",
      "\t1\tmappingBlastDB\n",
      "\t1\tmappingBlastQuery\n",
      "\t1\toutput\n",
      "\t3\n",
      "\n",
      "localrule mappingBlastDB:\n",
      "    input: /exports/molepi/tgehrmann/biu/pipelines/temporary_input/Blast/digest.28d978d1e0024c2faadd6f80fd44dacc\n",
      "    output: /exports/molepi/tgehrmann/biu/pipelines/Blast/bc6987e609900bd81598d7a862058a89/blastdb.A.db\n",
      "    jobid: 2\n",
      "    wildcards: genome=A\n",
      "\n",
      "Activating conda environment: /exports/molepi/tgehrmann/biu/pipelines/conda/11a31c03\n",
      "Finished job 2.\n",
      "1 of 3 steps (33%) done\n",
      "\n",
      "rule mappingBlastQuery:\n",
      "    input: /exports/molepi/tgehrmann/biu/pipelines/Blast/bc6987e609900bd81598d7a862058a89/blastdb.A.db, /exports/molepi/tgehrmann/biu/pipelines/temporary_input/Blast/digest.eea25a12a3264c7f05f6913bf32acf8a\n",
      "    output: /exports/molepi/tgehrmann/biu/pipelines/Blast/bc6987e609900bd81598d7a862058a89/result.A.B.tsv\n",
      "    jobid: 1\n",
      "    wildcards: genome_db=A, genome_query=B\n",
      "    threads: 5\n",
      "\n",
      "Activating conda environment: /exports/molepi/tgehrmann/biu/pipelines/conda/11a31c03\n",
      "Finished job 1.\n",
      "2 of 3 steps (67%) done\n",
      "\n",
      "localrule output:\n",
      "    input: /exports/molepi/tgehrmann/biu/pipelines/Blast/bc6987e609900bd81598d7a862058a89/result.A.B.tsv, /exports/molepi/tgehrmann/biu/pipelines/temporary_input/Blast/digest.28d978d1e0024c2faadd6f80fd44dacc, /exports/molepi/tgehrmann/biu/pipelines/temporary_input/Blast/digest.eea25a12a3264c7f05f6913bf32acf8a\n",
      "    output: /exports/molepi/tgehrmann/biu/pipelines/Blast/bc6987e609900bd81598d7a862058a89/alignment.tsv\n",
      "    jobid: 0\n",
      "\n",
      "Finished job 0.\n",
      "3 of 3 steps (100%) done\n",
      "Complete log: /home/tgehrmann/repos/BIU/docs/.snakemake/log/2018-10-09T095804.820498.snakemake.log\n",
      "Building DAG of jobs...\n",
      "Nothing to be done.\n",
      "Complete log: /home/tgehrmann/repos/BIU/docs/.snakemake/log/2018-10-09T095808.469777.snakemake.log\n"
     ]
    }
   ],
   "source": [
    "run_blast   = biu.pipelines.Blast(dna1, dna2, cores=5, config={'evalue_threshold':10},)\n",
    "run_diamond = biu.pipelines.Blast(dna1, dna2, cores=5, config={'evalue_threshold':10}, diamond=True)\n",
    "run_blat    = biu.pipelines.Blast(dna1, dna2, cores=5, blat=True)"
   ]
  },
  {
   "cell_type": "markdown",
   "metadata": {},
   "source": [
    "## Inspecting the results\n",
    "\n",
    "The output of the pipeline can be accessed with the `getResult` function. This is a Pandas DataFrame"
   ]
  },
  {
   "cell_type": "code",
   "execution_count": 18,
   "metadata": {},
   "outputs": [
    {
     "name": "stdout",
     "output_type": "stream",
     "text": [
      "('/exports/molepi/tgehrmann/biu/pipelines/Blast/cc0f0e2c4529dd05ecb8722c654deed2', 'alignment.tsv')\n",
      "('/exports/molepi/tgehrmann/biu/pipelines/Blast/e7b5c8f580b3fbd66f4deb9a6661e2e1', 'alignment.tsv')\n",
      "('/exports/molepi/tgehrmann/biu/pipelines/Blast/bc6987e609900bd81598d7a862058a89', 'alignment.tsv')\n"
     ]
    }
   ],
   "source": [
    "blat_res = run_blat.getResult()\n",
    "blast_res = run_blast.getResult()\n",
    "diamond_res = run_diamond.getResult()"
   ]
  },
  {
   "cell_type": "code",
   "execution_count": 19,
   "metadata": {},
   "outputs": [
    {
     "data": {
      "text/html": [
       "<div>\n",
       "<style scoped>\n",
       "    .dataframe tbody tr th:only-of-type {\n",
       "        vertical-align: middle;\n",
       "    }\n",
       "\n",
       "    .dataframe tbody tr th {\n",
       "        vertical-align: top;\n",
       "    }\n",
       "\n",
       "    .dataframe thead th {\n",
       "        text-align: right;\n",
       "    }\n",
       "</style>\n",
       "<table border=\"1\" class=\"dataframe\">\n",
       "  <thead>\n",
       "    <tr style=\"text-align: right;\">\n",
       "      <th></th>\n",
       "      <th>qseqid</th>\n",
       "      <th>sseqid</th>\n",
       "      <th>pident</th>\n",
       "      <th>length</th>\n",
       "      <th>mismatch</th>\n",
       "      <th>gapopen</th>\n",
       "      <th>qstart</th>\n",
       "      <th>qend</th>\n",
       "      <th>sstart</th>\n",
       "      <th>send</th>\n",
       "      <th>evalue</th>\n",
       "      <th>bitscore</th>\n",
       "      <th>slen</th>\n",
       "      <th>qlen</th>\n",
       "    </tr>\n",
       "  </thead>\n",
       "  <tbody>\n",
       "    <tr>\n",
       "      <th>0</th>\n",
       "      <td>Bglap-201</td>\n",
       "      <td>BGLAP</td>\n",
       "      <td>100.0</td>\n",
       "      <td>1231</td>\n",
       "      <td>0</td>\n",
       "      <td>0</td>\n",
       "      <td>1</td>\n",
       "      <td>1231</td>\n",
       "      <td>1</td>\n",
       "      <td>1231</td>\n",
       "      <td>0.0</td>\n",
       "      <td>2274</td>\n",
       "      <td>1231</td>\n",
       "      <td>1231</td>\n",
       "    </tr>\n",
       "    <tr>\n",
       "      <th>1</th>\n",
       "      <td>HBQ1</td>\n",
       "      <td>HSGLTH1</td>\n",
       "      <td>100.0</td>\n",
       "      <td>1020</td>\n",
       "      <td>0</td>\n",
       "      <td>0</td>\n",
       "      <td>1</td>\n",
       "      <td>1020</td>\n",
       "      <td>1</td>\n",
       "      <td>1020</td>\n",
       "      <td>0.0</td>\n",
       "      <td>1884</td>\n",
       "      <td>1020</td>\n",
       "      <td>1020</td>\n",
       "    </tr>\n",
       "  </tbody>\n",
       "</table>\n",
       "</div>"
      ],
      "text/plain": [
       "      qseqid   sseqid  pident  length  mismatch  gapopen  qstart  qend  \\\n",
       "0  Bglap-201    BGLAP   100.0    1231         0        0       1  1231   \n",
       "1       HBQ1  HSGLTH1   100.0    1020         0        0       1  1020   \n",
       "\n",
       "   sstart  send  evalue  bitscore  slen  qlen  \n",
       "0       1  1231     0.0      2274  1231  1231  \n",
       "1       1  1020     0.0      1884  1020  1020  "
      ]
     },
     "execution_count": 19,
     "metadata": {},
     "output_type": "execute_result"
    }
   ],
   "source": [
    "blast_res"
   ]
  },
  {
   "cell_type": "code",
   "execution_count": 24,
   "metadata": {},
   "outputs": [
    {
     "data": {
      "text/plain": [
       "13"
      ]
     },
     "execution_count": 24,
     "metadata": {},
     "output_type": "execute_result"
    }
   ],
   "source": [
    "blat_res.shape[1]"
   ]
  },
  {
   "cell_type": "code",
   "execution_count": 22,
   "metadata": {},
   "outputs": [
    {
     "data": {
      "text/html": [
       "<div>\n",
       "<style scoped>\n",
       "    .dataframe tbody tr th:only-of-type {\n",
       "        vertical-align: middle;\n",
       "    }\n",
       "\n",
       "    .dataframe tbody tr th {\n",
       "        vertical-align: top;\n",
       "    }\n",
       "\n",
       "    .dataframe thead th {\n",
       "        text-align: right;\n",
       "    }\n",
       "</style>\n",
       "<table border=\"1\" class=\"dataframe\">\n",
       "  <thead>\n",
       "    <tr style=\"text-align: right;\">\n",
       "      <th></th>\n",
       "      <th>qseqid</th>\n",
       "      <th>sseqid</th>\n",
       "      <th>pident</th>\n",
       "      <th>length</th>\n",
       "      <th>mismatch</th>\n",
       "      <th>gapopen</th>\n",
       "      <th>qstart</th>\n",
       "      <th>qend</th>\n",
       "      <th>sstart</th>\n",
       "      <th>send</th>\n",
       "      <th>evalue</th>\n",
       "      <th>bitscore</th>\n",
       "      <th>slen</th>\n",
       "      <th>qlen</th>\n",
       "    </tr>\n",
       "  </thead>\n",
       "  <tbody>\n",
       "    <tr>\n",
       "      <th>0</th>\n",
       "      <td>HBQ1</td>\n",
       "      <td>HSGLTH1</td>\n",
       "      <td>100.0</td>\n",
       "      <td>340</td>\n",
       "      <td>0</td>\n",
       "      <td>0</td>\n",
       "      <td>1</td>\n",
       "      <td>340</td>\n",
       "      <td>1</td>\n",
       "      <td>340</td>\n",
       "      <td>2.000000e-197</td>\n",
       "      <td>671.4</td>\n",
       "      <td>340</td>\n",
       "      <td>340</td>\n",
       "    </tr>\n",
       "    <tr>\n",
       "      <th>1</th>\n",
       "      <td>Bglap-201</td>\n",
       "      <td>BGLAP</td>\n",
       "      <td>100.0</td>\n",
       "      <td>411</td>\n",
       "      <td>0</td>\n",
       "      <td>0</td>\n",
       "      <td>1</td>\n",
       "      <td>411</td>\n",
       "      <td>1</td>\n",
       "      <td>411</td>\n",
       "      <td>6.300000e-230</td>\n",
       "      <td>779.6</td>\n",
       "      <td>411</td>\n",
       "      <td>411</td>\n",
       "    </tr>\n",
       "  </tbody>\n",
       "</table>\n",
       "</div>"
      ],
      "text/plain": [
       "      qseqid   sseqid  pident  length  mismatch  gapopen  qstart  qend  \\\n",
       "0       HBQ1  HSGLTH1   100.0     340         0        0       1   340   \n",
       "1  Bglap-201    BGLAP   100.0     411         0        0       1   411   \n",
       "\n",
       "   sstart  send         evalue  bitscore  slen  qlen  \n",
       "0       1   340  2.000000e-197     671.4   340   340  \n",
       "1       1   411  6.300000e-230     779.6   411   411  "
      ]
     },
     "execution_count": 22,
     "metadata": {},
     "output_type": "execute_result"
    }
   ],
   "source": [
    "diamond_res"
   ]
  },
  {
   "cell_type": "code",
   "execution_count": null,
   "metadata": {},
   "outputs": [],
   "source": []
  }
 ],
 "metadata": {
  "kernelspec": {
   "display_name": "Python [default]",
   "language": "python",
   "name": "python3"
  },
  "language_info": {
   "codemirror_mode": {
    "name": "ipython",
    "version": 3
   },
   "file_extension": ".py",
   "mimetype": "text/x-python",
   "name": "python",
   "nbconvert_exporter": "python",
   "pygments_lexer": "ipython3",
   "version": "3.6.5"
  }
 },
 "nbformat": 4,
 "nbformat_minor": 2
}
