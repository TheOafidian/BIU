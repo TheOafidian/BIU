{
 "cells": [
  {
   "cell_type": "markdown",
   "metadata": {},
   "source": [
    "# Filesystem utilities\n",
    "\n",
    "Here, several functions for file system access are defined:\n",
    "    \n",
    " * `mkdirp`\n",
    " * `mkdirname`\n",
    " * `touchFile`\n",
    " * `rmFile`\n",
    " * `gzopen`"
   ]
  },
  {
   "cell_type": "code",
   "execution_count": 1,
   "metadata": {},
   "outputs": [],
   "source": [
    "import biu"
   ]
  },
  {
   "cell_type": "markdown",
   "metadata": {},
   "source": [
    "## Make a directory\n",
    "\n",
    "`mkdirp` makes a directory path, even if preceeding directories don't exist."
   ]
  },
  {
   "cell_type": "code",
   "execution_count": 2,
   "metadata": {},
   "outputs": [
    {
     "data": {
      "text/plain": [
       "0"
      ]
     },
     "execution_count": 2,
     "metadata": {},
     "output_type": "execute_result"
    }
   ],
   "source": [
    "biu.utils.fs.mkdirp('example_files/a/directory/that/dont/exist')"
   ]
  },
  {
   "cell_type": "markdown",
   "metadata": {},
   "source": [
    "If you have a filename, you can create the directory in which that file will exist, using `mkdirname`."
   ]
  },
  {
   "cell_type": "code",
   "execution_count": 3,
   "metadata": {},
   "outputs": [
    {
     "data": {
      "text/plain": [
       "0"
      ]
     },
     "execution_count": 3,
     "metadata": {},
     "output_type": "execute_result"
    }
   ],
   "source": [
    "biu.utils.fs.mkdirname('example_files/another/directory/that/dont/exist/file.txt')"
   ]
  },
  {
   "cell_type": "markdown",
   "metadata": {},
   "source": [
    "## Touch a file\n",
    "\n",
    "You can touch a file (if it doesn't exist, the directory it will be in is created and the file also), using `touchFile`."
   ]
  },
  {
   "cell_type": "code",
   "execution_count": 14,
   "metadata": {},
   "outputs": [
    {
     "data": {
      "text/plain": [
       "0"
      ]
     },
     "execution_count": 14,
     "metadata": {},
     "output_type": "execute_result"
    }
   ],
   "source": [
    "biu.utils.fs.touchFile('example_files/another/directory/that/dont/exist/file.txt')"
   ]
  },
  {
   "cell_type": "markdown",
   "metadata": {},
   "source": [
    "## Delete a file\n",
    "\n",
    "Delete a file using `rmFile`"
   ]
  },
  {
   "cell_type": "code",
   "execution_count": 15,
   "metadata": {},
   "outputs": [
    {
     "data": {
      "text/plain": [
       "0"
      ]
     },
     "execution_count": 15,
     "metadata": {},
     "output_type": "execute_result"
    }
   ],
   "source": [
    "biu.utils.fs.rmFile('example_files/another/directory/that/dont/exist/file.txt')"
   ]
  },
  {
   "cell_type": "markdown",
   "metadata": {},
   "source": [
    "## Open a gzipped file\n",
    "\n",
    "`gzopen` detects, based on the file name, whether a file is gzipped, and returns a file handler, either opened with `open`, or `gzip.open`."
   ]
  },
  {
   "cell_type": "code",
   "execution_count": 6,
   "metadata": {},
   "outputs": [
    {
     "name": "stdout",
     "output_type": "stream",
     "text": [
      "##fileformat=VCFv4.0\n",
      "##fileDate=20090805\n",
      "##source=myImputationProgramV3.1\n",
      "##reference=1000GenomesPilot-NCBI36\n",
      "##phasing=partial\n",
      "##INFO=<ID=NS,Number=1,Type=Integer,Description=\"Number\tof\tSamples\tWith\tData\">\n",
      "##INFO=<ID=DP,Number=1,Type=Integer,Description=\"Total\tDepth\">\n",
      "##INFO=<ID=AF,Number=.,Type=Float,Description=\"Allele\tFrequency\">\n",
      "##INFO=<ID=AA,Number=1,Type=String,Description=\"Ancestral\tAllele\">\n",
      "##INFO=<ID=DB,Number=0,Type=Flag,Description=\"dbSNP\tmembership,\tbuild\t129\">\n",
      "##INFO=<ID=H2,Number=0,Type=Flag,Description=\"HapMap2\tmembership\">\n",
      "##FILTER=<ID=q10,Description=\"Quality\tbelow\t10\">\n",
      "##FILTER=<ID=s50,Description=\"Less\tthan\t50%\tof\tsamples\thave\tdata\">\n",
      "##FORMAT=<ID=GT,Number=1,Type=String,Description=\"Genotype\">\n",
      "##FORMAT=<ID=GQ,Number=1,Type=Integer,Description=\"Genotype\tQuality\">\n",
      "##FORMAT=<ID=DP,Number=1,Type=Integer,Description=\"Read\tDepth\">\n",
      "##FORMAT=<ID=HQ,Number=2,Type=Integer,Description=\"Haplotype\tQuality\">\n",
      "#CHROM\tPOS\tID\tREF\tALT\tQUAL\tFILTER\tINFO\tFORMAT\tNA00001\tNA00002\tNA00003\n",
      "20\t14370\trs6054257\tG\tA\t29\tPASS\tNS=3;DP=14;AF=0.5;DB;H2\tGT:GQ:DP:HQ\t0|0:48:1:51,51\t1|0:48:8:51,51\t1/1:43:5:.,.\n",
      "20\t17330\t.\tT\tA\t3\tq10\tNS=3;DP=11;AF=0.017\tGT:GQ:DP:HQ\t0|0:49:3:58,50\t0|1:3:5:65,3\t0/0:41:3\n",
      "20\t1110696\trs6040355\tA\tG,T\t67\tPASS\tNS=2;DP=10;AF=0.333,0.667;AA=T;DB\tGT:GQ:DP:HQ\t1|2:21:6:23,27\t2|1:2:0:18,2\t2/2:35:4\n",
      "20\t1230237\t.\tT\t.\t47\tPASS\tNS=3;DP=13;AA=T\tGT:GQ:DP:HQ\t0|0:54:7:56,60\t0|0:48:4:51,51\t0/0:61:2\n",
      "20\t1234567\tmicrosat1\tGTCT\tG,GTACT\t50\tPASS\tNS=3;DP=9;AA=G\tGT:GQ:DP\t0/1:35:4\t0/2:17:2\t1/1:40:3\n"
     ]
    }
   ],
   "source": [
    "# Opening a gzipped file\n",
    "\n",
    "ifd = biu.utils.fs.gzopen('example_files/example.vcf.bgz', mode='r')\n",
    "for row in ifd:\n",
    "    print(row, end='')"
   ]
  },
  {
   "cell_type": "code",
   "execution_count": 7,
   "metadata": {},
   "outputs": [
    {
     "name": "stdout",
     "output_type": "stream",
     "text": [
      "##fileformat=VCFv4.0\n",
      "##fileDate=20090805\n",
      "##source=myImputationProgramV3.1\n",
      "##reference=1000GenomesPilot-NCBI36\n",
      "##phasing=partial\n",
      "##INFO=<ID=NS,Number=1,Type=Integer,Description=\"Number\tof\tSamples\tWith\tData\">\n",
      "##INFO=<ID=DP,Number=1,Type=Integer,Description=\"Total\tDepth\">\n",
      "##INFO=<ID=AF,Number=.,Type=Float,Description=\"Allele\tFrequency\">\n",
      "##INFO=<ID=AA,Number=1,Type=String,Description=\"Ancestral\tAllele\">\n",
      "##INFO=<ID=DB,Number=0,Type=Flag,Description=\"dbSNP\tmembership,\tbuild\t129\">\n",
      "##INFO=<ID=H2,Number=0,Type=Flag,Description=\"HapMap2\tmembership\">\n",
      "##FILTER=<ID=q10,Description=\"Quality\tbelow\t10\">\n",
      "##FILTER=<ID=s50,Description=\"Less\tthan\t50%\tof\tsamples\thave\tdata\">\n",
      "##FORMAT=<ID=GT,Number=1,Type=String,Description=\"Genotype\">\n",
      "##FORMAT=<ID=GQ,Number=1,Type=Integer,Description=\"Genotype\tQuality\">\n",
      "##FORMAT=<ID=DP,Number=1,Type=Integer,Description=\"Read\tDepth\">\n",
      "##FORMAT=<ID=HQ,Number=2,Type=Integer,Description=\"Haplotype\tQuality\">\n",
      "#CHROM\tPOS\tID\tREF\tALT\tQUAL\tFILTER\tINFO\tFORMAT\tNA00001\tNA00002\tNA00003\n",
      "20\t14370\trs6054257\tG\tA\t29\tPASS\tNS=3;DP=14;AF=0.5;DB;H2\tGT:GQ:DP:HQ\t0|0:48:1:51,51\t1|0:48:8:51,51\t1/1:43:5:.,.\n",
      "20\t17330\t.\tT\tA\t3\tq10\tNS=3;DP=11;AF=0.017\tGT:GQ:DP:HQ\t0|0:49:3:58,50\t0|1:3:5:65,3\t0/0:41:3\n",
      "20\t1110696\trs6040355\tA\tG,T\t67\tPASS\tNS=2;DP=10;AF=0.333,0.667;AA=T;DB\tGT:GQ:DP:HQ\t1|2:21:6:23,27\t2|1:2:0:18,2\t2/2:35:4\n",
      "20\t1230237\t.\tT\t.\t47\tPASS\tNS=3;DP=13;AA=T\tGT:GQ:DP:HQ\t0|0:54:7:56,60\t0|0:48:4:51,51\t0/0:61:2\n",
      "20\t1234567\tmicrosat1\tGTCT\tG,GTACT\t50\tPASS\tNS=3;DP=9;AA=G\tGT:GQ:DP\t0/1:35:4\t0/2:17:2\t1/1:40:3\n"
     ]
    }
   ],
   "source": [
    "# Opening a regular file\n",
    "\n",
    "ifd = biu.utils.fs.gzopen('example_files/example.vcf', mode='r')\n",
    "for row in ifd:\n",
    "    print(row, end='')"
   ]
  },
  {
   "cell_type": "code",
   "execution_count": null,
   "metadata": {},
   "outputs": [],
   "source": []
  }
 ],
 "metadata": {
  "kernelspec": {
   "display_name": "Python 3",
   "language": "python",
   "name": "python3"
  },
  "language_info": {
   "codemirror_mode": {
    "name": "ipython",
    "version": 3
   },
   "file_extension": ".py",
   "mimetype": "text/x-python",
   "name": "python",
   "nbconvert_exporter": "python",
   "pygments_lexer": "ipython3",
   "version": "3.6.3"
  }
 },
 "nbformat": 4,
 "nbformat_minor": 2
}
