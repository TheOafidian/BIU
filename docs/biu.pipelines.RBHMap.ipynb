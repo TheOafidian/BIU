{
 "cells": [
  {
   "cell_type": "markdown",
   "metadata": {},
   "source": [
    "# Reciprocal Best Blast Hit Pipeline"
   ]
  },
  {
   "cell_type": "code",
   "execution_count": 1,
   "metadata": {},
   "outputs": [],
   "source": [
    "import biu"
   ]
  },
  {
   "cell_type": "code",
   "execution_count": 2,
   "metadata": {},
   "outputs": [
    {
     "name": "stderr",
     "output_type": "stream",
     "text": [
      "D: Fasta input source is file\n"
     ]
    }
   ],
   "source": [
    "fasta = biu.formats.Fasta('example_files/example.fasta')"
   ]
  },
  {
   "cell_type": "code",
   "execution_count": 3,
   "metadata": {},
   "outputs": [
    {
     "name": "stderr",
     "output_type": "stream",
     "text": [
      "Building DAG of jobs...\n",
      "Nothing to be done.\n",
      "Complete log: /home/tgehrmann/repos/BIU/docs/.snakemake/log/2018-06-28T092905.180134.snakemake.log\n"
     ]
    }
   ],
   "source": [
    "rbh = biu.pipelines.RBHMap(fasta, fasta)"
   ]
  },
  {
   "cell_type": "code",
   "execution_count": 4,
   "metadata": {},
   "outputs": [
    {
     "name": "stdout",
     "output_type": "stream",
     "text": [
      "/exports/molepi/tgehrmann/pipeline_runs/RBHMap/06b4ac534c3f7a12787f0d4fcb7c156f/mapping.tsv\n",
      "HSBGPG HSBGPG\n",
      "HSGLTH1 HSGLTH1\n",
      "TSV Map object\n",
      " Filename: /exports/molepi/tgehrmann/pipeline_runs/RBHMap/06b4ac534c3f7a12787f0d4fcb7c156f/mapping.tsv\n",
      " 0 -> 1\n",
      " Pickled: Yes\n",
      " From entries: 2\n",
      " To entries: 2\n",
      "\n"
     ]
    },
    {
     "name": "stderr",
     "output_type": "stream",
     "text": [
      "D: Generating the index\n",
      "D: Pickling the index\n"
     ]
    }
   ],
   "source": [
    "print(rbh.getMapping(overwritePickle=True))"
   ]
  },
  {
   "cell_type": "code",
   "execution_count": 6,
   "metadata": {},
   "outputs": [
    {
     "data": {
      "text/plain": [
       "['HSBGPG']"
      ]
     },
     "execution_count": 6,
     "metadata": {},
     "output_type": "execute_result"
    }
   ],
   "source": [
    "rbh.getMapping()['HSBGPG']"
   ]
  },
  {
   "cell_type": "code",
   "execution_count": null,
   "metadata": {},
   "outputs": [],
   "source": []
  }
 ],
 "metadata": {
  "kernelspec": {
   "display_name": "Python 3",
   "language": "python",
   "name": "python3"
  },
  "language_info": {
   "codemirror_mode": {
    "name": "ipython",
    "version": 3
   },
   "file_extension": ".py",
   "mimetype": "text/x-python",
   "name": "python",
   "nbconvert_exporter": "python",
   "pygments_lexer": "ipython3",
   "version": "3.6.3"
  }
 },
 "nbformat": 4,
 "nbformat_minor": 2
}
