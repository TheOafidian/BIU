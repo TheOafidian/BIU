{
 "cells": [
  {
   "cell_type": "markdown",
   "metadata": {},
   "source": [
    "# Statistical genetics tests"
   ]
  },
  {
   "cell_type": "code",
   "execution_count": 1,
   "metadata": {},
   "outputs": [
    {
     "name": "stderr",
     "output_type": "stream",
     "text": [
      "W: Some optional dependencies of BIU are missing. Functionality of BIU may be affected.\n",
      "W:   matplotlib_venn\n"
     ]
    }
   ],
   "source": [
    "import biu"
   ]
  },
  {
   "cell_type": "markdown",
   "metadata": {},
   "source": [
    "## Hardy Weinberg Disequilibrium testing\n",
    "\n",
    "Given a set of genotypes (array of 0, 1 and 2's), calculate the hardy weinberg equilibrium measure. Default alpha is `0.001`. A significant result means it is in disequilibrium"
   ]
  },
  {
   "cell_type": "code",
   "execution_count": 2,
   "metadata": {},
   "outputs": [
    {
     "data": {
      "text/plain": [
       "HardyWeinbergResult(pvalue=1.1300394859837532e-125, method='chi2', chi2statistic=567.2231382629573, significant=True)"
      ]
     },
     "execution_count": 2,
     "metadata": {},
     "output_type": "execute_result"
    }
   ],
   "source": [
    "data = [2., 2., 2., 1., 2., 1., 2., 2., 2., 1., 2., 2., 2., 2., 2., 1., 1.,\n",
    "       1., 2., 1., 2., 2., 2., 2., 2., 2., 2., 2., 2., 1., 2., 1., 2., 2.,\n",
    "       2., 2., 2., 2., 1., 0., 2., 2., 2., 2., 1., 1., 1., 1., 1., 2., 1.,\n",
    "       2., 2., 2., 2., 1., 2., 1., 2., 2., 1., 2., 0., 0., 2., 0., 2., 2.,\n",
    "       1., 1., 2., 1., 2., 2., 2., 1., 2., 1., 1., 2., 2., 1., 2., 2., 2.,\n",
    "       1., 1., 2., 2., 1., 1., 1., 0., 1., 2., 2., 2., 1., 2., 1., 2., 2.,\n",
    "       1., 1., 1., 2., 1., 2., 2., 1., 1., 2., 1., 2., 2., 2., 2., 2., 1.,\n",
    "       2., 1., 2., 0., 2., 2., 2., 2., 2., 0., 0., 2., 2., 1., 2., 2., 2.,\n",
    "       2., 2., 2., 2., 2., 2., 2., 1., 0., 0., 1., 1., 2., 2., 1., 1., 1.,\n",
    "       2., 1., 2., 1., 2., 2., 1., 2., 2., 2., 2.]\n",
    "\n",
    "biu.stats.genetic.hardyWeinbergEquilibrium(data)"
   ]
  }
 ],
 "metadata": {
  "kernelspec": {
   "display_name": "Python [conda env:biu]",
   "language": "python",
   "name": "conda-env-biu-py"
  },
  "language_info": {
   "codemirror_mode": {
    "name": "ipython",
    "version": 3
   },
   "file_extension": ".py",
   "mimetype": "text/x-python",
   "name": "python",
   "nbconvert_exporter": "python",
   "pygments_lexer": "ipython3",
   "version": "3.6.3"
  }
 },
 "nbformat": 4,
 "nbformat_minor": 2
}
