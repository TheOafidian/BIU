{
 "cells": [
  {
   "cell_type": "markdown",
   "metadata": {},
   "source": [
    "# Accessing the KEGG database"
   ]
  },
  {
   "cell_type": "code",
   "execution_count": 1,
   "metadata": {},
   "outputs": [
    {
     "name": "stderr",
     "output_type": "stream",
     "text": [
      "D: Initializing the SQLiteResourceManager object NOW\n"
     ]
    }
   ],
   "source": [
    "import biu as biu\n",
    "import matplotlib.pylab as plt\n",
    "\n",
    "where = '/exports/molepi/tgehrmann/data/'\n",
    "biu.config.settings.setWhere(where)\n",
    "\n",
    "kegg = biu.db.KEGG()\n",
    "hms = biu.maps.HumanS()"
   ]
  },
  {
   "cell_type": "code",
   "execution_count": 2,
   "metadata": {},
   "outputs": [
    {
     "name": "stdout",
     "output_type": "stream",
     "text": [
      "KEGG object\n",
      " Where: /exports/molepi/tgehrmann/data\n",
      " Version: human\n",
      " Objects:\n",
      "  * [ ] _orgMap\n",
      "  * [ ] _featureData\n",
      " Files:\n",
      "  * [X] org_map : /exports/molepi/tgehrmann/data/kegg_human/org_map.tsv\n",
      "  * [X] feature_data : /exports/molepi/tgehrmann/data/kegg_human/feature_data.sqlite\n",
      "\n"
     ]
    }
   ],
   "source": [
    "print(kegg)"
   ]
  },
  {
   "cell_type": "markdown",
   "metadata": {},
   "source": [
    "## Get a list of pathways and genes"
   ]
  },
  {
   "cell_type": "code",
   "execution_count": 3,
   "metadata": {},
   "outputs": [
    {
     "name": "stdout",
     "output_type": "stream",
     "text": [
      "Number of pathways: 325\n",
      "Number of genes: 7373\n"
     ]
    },
    {
     "name": "stderr",
     "output_type": "stream",
     "text": [
      "D: Initializing the TSVMapResourceManager object NOW\n",
      "D: Loading the index from pickle\n"
     ]
    }
   ],
   "source": [
    "print(\"Number of pathways: %d\" % len(kegg.getPathways()))\n",
    "print(\"Number of genes: %d\" % len(kegg.getGenes()))"
   ]
  },
  {
   "cell_type": "markdown",
   "metadata": {},
   "source": [
    "## Get the pathways that a specific gene is in\n",
    "Look up with the geneID"
   ]
  },
  {
   "cell_type": "code",
   "execution_count": 4,
   "metadata": {},
   "outputs": [
    {
     "name": "stdout",
     "output_type": "stream",
     "text": [
      "Number of pathways MTOR is in: 37\n"
     ]
    }
   ],
   "source": [
    "print(\"Number of pathways MTOR is in: %d\" % len(kegg.getGenePathways(hms.getSymbolGeneID(\"MTOR\")[0])))"
   ]
  },
  {
   "cell_type": "markdown",
   "metadata": {},
   "source": [
    "## Get the genes in a pathway\n",
    "Lookup with KEGG pathway ID"
   ]
  },
  {
   "cell_type": "code",
   "execution_count": 5,
   "metadata": {},
   "outputs": [
    {
     "name": "stdout",
     "output_type": "stream",
     "text": [
      "Number of genes in path:hsa05230: 65\n"
     ]
    }
   ],
   "source": [
    "print(\"Number of genes in path:hsa05230: %d\" % len(kegg.getPathwayGenes(\"path:hsa05230\")))"
   ]
  },
  {
   "cell_type": "markdown",
   "metadata": {},
   "source": [
    "## Get information about a specific KEGG pathway"
   ]
  },
  {
   "cell_type": "code",
   "execution_count": 6,
   "metadata": {},
   "outputs": [
    {
     "name": "stdout",
     "output_type": "stream",
     "text": [
      "Olfactory transduction - Homo sapiens (human)\n"
     ]
    },
    {
     "name": "stderr",
     "output_type": "stream",
     "text": [
      "D: Initializing the SQLDictResourceManager object NOW\n"
     ]
    }
   ],
   "source": [
    "print(kegg.getPathwayInfo(\"hsa04740\").split('\\n')[1][4:].strip())"
   ]
  },
  {
   "cell_type": "markdown",
   "metadata": {},
   "source": [
    "## Perform an enrichment analysis with KEGG\n",
    "\n",
    "If you have a gene set, you can easily perform an enrichment on this geneset with the enrich function\n",
    "You can also specify a specific subset of pathways to test using the `pathways=[]` option."
   ]
  },
  {
   "cell_type": "code",
   "execution_count": 10,
   "metadata": {},
   "outputs": [
    {
     "data": {
      "text/html": [
       "<div>\n",
       "<style scoped>\n",
       "    .dataframe tbody tr th:only-of-type {\n",
       "        vertical-align: middle;\n",
       "    }\n",
       "\n",
       "    .dataframe tbody tr th {\n",
       "        vertical-align: top;\n",
       "    }\n",
       "\n",
       "    .dataframe thead th {\n",
       "        text-align: right;\n",
       "    }\n",
       "</style>\n",
       "<table border=\"1\" class=\"dataframe\">\n",
       "  <thead>\n",
       "    <tr style=\"text-align: right;\">\n",
       "      <th></th>\n",
       "      <th>pathway</th>\n",
       "      <th>method</th>\n",
       "      <th>c2statistic</th>\n",
       "      <th>oddsratio</th>\n",
       "      <th>p</th>\n",
       "      <th>q</th>\n",
       "    </tr>\n",
       "  </thead>\n",
       "  <tbody>\n",
       "    <tr>\n",
       "      <th>208</th>\n",
       "      <td>path:hsa04740</td>\n",
       "      <td>fisher</td>\n",
       "      <td>NaN</td>\n",
       "      <td>inf</td>\n",
       "      <td>0.000000e+00</td>\n",
       "      <td>0.000000e+00</td>\n",
       "    </tr>\n",
       "    <tr>\n",
       "      <th>86</th>\n",
       "      <td>path:hsa01100</td>\n",
       "      <td>fisher</td>\n",
       "      <td>NaN</td>\n",
       "      <td>0.000000</td>\n",
       "      <td>7.883853e-32</td>\n",
       "      <td>2.562252e-29</td>\n",
       "    </tr>\n",
       "    <tr>\n",
       "      <th>292</th>\n",
       "      <td>path:hsa05206</td>\n",
       "      <td>fisher</td>\n",
       "      <td>NaN</td>\n",
       "      <td>0.000000</td>\n",
       "      <td>3.872907e-07</td>\n",
       "      <td>1.258695e-04</td>\n",
       "    </tr>\n",
       "    <tr>\n",
       "      <th>129</th>\n",
       "      <td>path:hsa04080</td>\n",
       "      <td>fisher</td>\n",
       "      <td>NaN</td>\n",
       "      <td>0.000000</td>\n",
       "      <td>8.070172e-07</td>\n",
       "      <td>2.622806e-04</td>\n",
       "    </tr>\n",
       "    <tr>\n",
       "      <th>121</th>\n",
       "      <td>path:hsa04060</td>\n",
       "      <td>fisher</td>\n",
       "      <td>NaN</td>\n",
       "      <td>0.000000</td>\n",
       "      <td>1.219464e-06</td>\n",
       "      <td>3.963258e-04</td>\n",
       "    </tr>\n",
       "    <tr>\n",
       "      <th>259</th>\n",
       "      <td>path:hsa05032</td>\n",
       "      <td>chi2</td>\n",
       "      <td>23.14926</td>\n",
       "      <td>100.000000</td>\n",
       "      <td>1.499009e-06</td>\n",
       "      <td>4.871779e-04</td>\n",
       "    </tr>\n",
       "    <tr>\n",
       "      <th>145</th>\n",
       "      <td>path:hsa04151</td>\n",
       "      <td>fisher</td>\n",
       "      <td>NaN</td>\n",
       "      <td>0.156301</td>\n",
       "      <td>2.491368e-05</td>\n",
       "      <td>8.096945e-03</td>\n",
       "    </tr>\n",
       "    <tr>\n",
       "      <th>212</th>\n",
       "      <td>path:hsa04810</td>\n",
       "      <td>fisher</td>\n",
       "      <td>NaN</td>\n",
       "      <td>0.000000</td>\n",
       "      <td>3.270368e-05</td>\n",
       "      <td>1.062870e-02</td>\n",
       "    </tr>\n",
       "    <tr>\n",
       "      <th>167</th>\n",
       "      <td>path:hsa04510</td>\n",
       "      <td>fisher</td>\n",
       "      <td>NaN</td>\n",
       "      <td>0.000000</td>\n",
       "      <td>4.921592e-05</td>\n",
       "      <td>1.599517e-02</td>\n",
       "    </tr>\n",
       "    <tr>\n",
       "      <th>255</th>\n",
       "      <td>path:hsa05016</td>\n",
       "      <td>fisher</td>\n",
       "      <td>NaN</td>\n",
       "      <td>0.000000</td>\n",
       "      <td>7.416495e-05</td>\n",
       "      <td>2.410361e-02</td>\n",
       "    </tr>\n",
       "    <tr>\n",
       "      <th>282</th>\n",
       "      <td>path:hsa05165</td>\n",
       "      <td>fisher</td>\n",
       "      <td>NaN</td>\n",
       "      <td>0.173480</td>\n",
       "      <td>1.070231e-04</td>\n",
       "      <td>3.478249e-02</td>\n",
       "    </tr>\n",
       "    <tr>\n",
       "      <th>285</th>\n",
       "      <td>path:hsa05168</td>\n",
       "      <td>fisher</td>\n",
       "      <td>NaN</td>\n",
       "      <td>0.000000</td>\n",
       "      <td>1.113865e-04</td>\n",
       "      <td>3.620062e-02</td>\n",
       "    </tr>\n",
       "    <tr>\n",
       "      <th>288</th>\n",
       "      <td>path:hsa05202</td>\n",
       "      <td>fisher</td>\n",
       "      <td>NaN</td>\n",
       "      <td>0.000000</td>\n",
       "      <td>1.120278e-04</td>\n",
       "      <td>3.640902e-02</td>\n",
       "    </tr>\n",
       "  </tbody>\n",
       "</table>\n",
       "</div>"
      ],
      "text/plain": [
       "           pathway  method  c2statistic   oddsratio             p  \\\n",
       "208  path:hsa04740  fisher          NaN         inf  0.000000e+00   \n",
       "86   path:hsa01100  fisher          NaN    0.000000  7.883853e-32   \n",
       "292  path:hsa05206  fisher          NaN    0.000000  3.872907e-07   \n",
       "129  path:hsa04080  fisher          NaN    0.000000  8.070172e-07   \n",
       "121  path:hsa04060  fisher          NaN    0.000000  1.219464e-06   \n",
       "259  path:hsa05032    chi2     23.14926  100.000000  1.499009e-06   \n",
       "145  path:hsa04151  fisher          NaN    0.156301  2.491368e-05   \n",
       "212  path:hsa04810  fisher          NaN    0.000000  3.270368e-05   \n",
       "167  path:hsa04510  fisher          NaN    0.000000  4.921592e-05   \n",
       "255  path:hsa05016  fisher          NaN    0.000000  7.416495e-05   \n",
       "282  path:hsa05165  fisher          NaN    0.173480  1.070231e-04   \n",
       "285  path:hsa05168  fisher          NaN    0.000000  1.113865e-04   \n",
       "288  path:hsa05202  fisher          NaN    0.000000  1.120278e-04   \n",
       "\n",
       "                q  \n",
       "208  0.000000e+00  \n",
       "86   2.562252e-29  \n",
       "292  1.258695e-04  \n",
       "129  2.622806e-04  \n",
       "121  3.963258e-04  \n",
       "259  4.871779e-04  \n",
       "145  8.096945e-03  \n",
       "212  1.062870e-02  \n",
       "167  1.599517e-02  \n",
       "255  2.410361e-02  \n",
       "282  3.478249e-02  \n",
       "285  3.620062e-02  \n",
       "288  3.640902e-02  "
      ]
     },
     "execution_count": 10,
     "metadata": {},
     "output_type": "execute_result"
    }
   ],
   "source": [
    "myGeneSet = kegg.getPathwayGeneIDs(\"hsa04740\")[:-50]\n",
    "enrichRes = kegg.enrich(myGeneSet, correctionType='bonferroni')\n",
    "enrichRes[enrichRes.q < 0.05].sort_values(\"q\")"
   ]
  },
  {
   "cell_type": "markdown",
   "metadata": {},
   "source": [
    "## Make a pretty plot"
   ]
  },
  {
   "cell_type": "code",
   "execution_count": 8,
   "metadata": {},
   "outputs": [
    {
     "data": {
      "image/png": "[encoded data removed]",
      "text/plain": [
       "<Figure size 864x288 with 2 Axes>"
      ]
     },
     "metadata": {},
     "output_type": "display_data"
    }
   ],
   "source": [
    "fig, axes = plt.subplots(figsize=(12,4), ncols=2, nrows=1)\n",
    "axes = axes.flatten()\n",
    "\n",
    "# How many genes are there per kegg pathway?\n",
    "genesPerPathway = [ len(kegg.getPathwayGenes(p)) for p in kegg.getPathways() ]\n",
    "pathwaysPerGene = [ len(kegg.getGenePathways(g)) for g in kegg.getGenes() ]\n",
    "\n",
    "axes[0].hist(genesPerPathway, bins=50)\n",
    "axes[0].set_xlabel(\"Number of genes per pathway\")\n",
    "axes[1].hist(pathwaysPerGene, bins=50)\n",
    "axes[1].set_xlabel(\"Number of pathways per gene\")\n",
    "plt.show()"
   ]
  },
  {
   "cell_type": "code",
   "execution_count": null,
   "metadata": {},
   "outputs": [],
   "source": []
  }
 ],
 "metadata": {
  "kernelspec": {
   "display_name": "Python 3",
   "language": "python",
   "name": "python3"
  },
  "language_info": {
   "codemirror_mode": {
    "name": "ipython",
    "version": 3
   },
   "file_extension": ".py",
   "mimetype": "text/x-python",
   "name": "python",
   "nbconvert_exporter": "python",
   "pygments_lexer": "ipython3",
   "version": "3.6.3"
  }
 },
 "nbformat": 4,
 "nbformat_minor": 2
}
