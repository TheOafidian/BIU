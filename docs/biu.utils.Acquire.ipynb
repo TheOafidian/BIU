{
 "cells": [
  {
   "cell_type": "markdown",
   "metadata": {},
   "source": [
    "# Acquire files in a specific format\n",
    "\n",
    "If you need to download a file, and perform some standard functions on them, then you can do it with the `Acquire` object.\n",
    "\n",
    "The Acquire object facilitates the acquisition of files and preprocessing.\n",
    "Currently supported functions are:\n",
    "\n",
    " * Acquisition:\n",
    "   * curl\n",
    "   * wget\n",
    "   * lftp\n",
    "   * local\n",
    "   * touch\n",
    "   * merge\n",
    "  \n",
    " * Processing:\n",
    "   * Compression\n",
    "     * unzip\n",
    "     * gunzip\n",
    "     * bunzip\n",
    "     * untar\n",
    "     * gzip\n",
    "     * bzip\n",
    "     * bgzip\n",
    "   \n",
    "   * Commands:\n",
    "     * cat\n",
    "     * ls\n",
    "     * call\n",
    "     * cmd\n",
    "    \n",
    "   * Processing\n",
    "     * sort\n",
    "     * tabix\n",
    "    \n",
    " * Renaming\n",
    "   * finalize\n",
    "   \n",
    "The usage of the `Acquire` object always starts with an acquisition command, followed by some processing commands, followed by the `finalize` command.\n",
    "\n",
    "    biu.utils.Acquire().curl(url).unzip().finalize(finalLocation)\n",
    "\n",
    "The Acquire object follows a lazy evaluation. Acquisition and processing is only performed when the `acquire` command is applied to it.\n",
    "\n",
    "    biu.utils.Acquire().curl(url).unzip().finalize(finalLocation).acquire()"
   ]
  },
  {
   "cell_type": "code",
   "execution_count": 2,
   "metadata": {},
   "outputs": [],
   "source": [
    "import biu"
   ]
  },
  {
   "cell_type": "markdown",
   "metadata": {},
   "source": [
    "## The `Acquire` object\n",
    "The `Acquire` object is an object that allows you to chain commands after each other. these commands are defined above, and exemplified below. To construct an `Acquire` object, one simple creates one with the `biu.utils.Acquire` class. You can also specify to redo each step in the pipeline you create using the `redo=True` argument. You can also specify where the files should be downloaded to with the `where` argument."
   ]
  },
  {
   "cell_type": "code",
   "execution_count": null,
   "metadata": {},
   "outputs": [],
   "source": [
    "myAcquire = biu.utils.Acquire(redo=True)\n",
    "print(myAcquire)"
   ]
  },
  {
   "cell_type": "markdown",
   "metadata": {},
   "source": [
    "## Acquisition"
   ]
  },
  {
   "cell_type": "markdown",
   "metadata": {},
   "source": [
    "### curl"
   ]
  },
  {
   "cell_type": "code",
   "execution_count": null,
   "metadata": {},
   "outputs": [],
   "source": [
    "ao = biu.utils.Acquire().curl(\"http://zzz.bwh.harvard.edu/plink/dist/plink-1.07-i686.zip\")\\\n",
    "                        .unzip(\"plink-1.07-i686/test.ped\")\\\n",
    "                        .call(\"cat\")\n",
    "\n",
    "print(ao)\n",
    "\n",
    "ao.acquire()"
   ]
  },
  {
   "cell_type": "markdown",
   "metadata": {},
   "source": [
    "### wget"
   ]
  },
  {
   "cell_type": "code",
   "execution_count": null,
   "metadata": {},
   "outputs": [],
   "source": [
    "ao = biu.utils.Acquire().wget(\"http://zzz.bwh.harvard.edu/plink/dist/plink-1.07-i686.zip\")\\\n",
    "                        .call('unzip -l %s | head').acquire()"
   ]
  },
  {
   "cell_type": "markdown",
   "metadata": {},
   "source": [
    "## ftp"
   ]
  },
  {
   "cell_type": "code",
   "execution_count": null,
   "metadata": {},
   "outputs": [],
   "source": [
    "print(biu.formats.Fasta(biu.utils.Acquire().ftp('ftp.wormbase.org', '/pub/wormbase/releases/WS264/species/c_japonica/PRJNA12591/c_japonica.PRJNA12591.WS264.pseudogenic_transcripts.fa.gz').gunzip().acquire()))\n",
    "      "
   ]
  },
  {
   "cell_type": "markdown",
   "metadata": {},
   "source": [
    "### lftp\n",
    "\n",
    "You can use lftp for sftp connections etc."
   ]
  },
  {
   "cell_type": "code",
   "execution_count": null,
   "metadata": {},
   "outputs": [],
   "source": [
    "biu.utils.Acquire().lftp(\"sftp-cancer.sanger.ac.uk\",\n",
    "                        \"cosmic/grch38/cosmic/v84/VCF/CosmicCodingMuts.vcf.gz\",\n",
    "                        username=\"t.gehrmann@lumc.nl\", password=\"Cosmic_password1\").gunzip().acquire()"
   ]
  },
  {
   "cell_type": "markdown",
   "metadata": {},
   "source": [
    "### local\n",
    "\n",
    "There are two ways to make use of a local file. One is more or less a shortcut of the other"
   ]
  },
  {
   "cell_type": "code",
   "execution_count": null,
   "metadata": {},
   "outputs": [],
   "source": [
    "biu.utils.Acquire().local('/etc/group').call(\"head -n3\").acquire()"
   ]
  },
  {
   "cell_type": "markdown",
   "metadata": {},
   "source": [
    "Or you can directly give it as a parameter to the Acquire function:"
   ]
  },
  {
   "cell_type": "code",
   "execution_count": null,
   "metadata": {},
   "outputs": [],
   "source": [
    "biu.utils.Acquire('/etc/group').call(\"head -n3\").acquire()"
   ]
  },
  {
   "cell_type": "markdown",
   "metadata": {},
   "source": [
    "### touch\n",
    "\n",
    "You can also create a file (if you simply need an empty one)."
   ]
  },
  {
   "cell_type": "code",
   "execution_count": null,
   "metadata": {},
   "outputs": [],
   "source": [
    "biu.utils.Acquire().touch().acquire()"
   ]
  },
  {
   "cell_type": "markdown",
   "metadata": {},
   "source": [
    "### merge\n",
    "\n",
    "You can merge multiple acquire steps together into one file, using for example cat.\n",
    "\n",
    "Currently available methods:\n",
    "  * cat\n",
    "  * zcat"
   ]
  },
  {
   "cell_type": "code",
   "execution_count": null,
   "metadata": {},
   "outputs": [],
   "source": [
    "ao1 = biu.utils.Acquire().curl(\"http://zzz.bwh.harvard.edu/plink/dist/plink-1.07-i686.zip\")\\\n",
    "                        .unzip(\"plink-1.07-i686/test.ped\")\n",
    "    \n",
    "ao2 = biu.utils.Acquire().curl(\"http://zzz.bwh.harvard.edu/plink/dist/plink-1.07-i686.zip\")\\\n",
    "                        .unzip(\"plink-1.07-i686/test.map\")\n",
    "    \n",
    "merged = biu.utils.Acquire().merge([ao1, ao2], method='cat').call(\"wc -l\").acquire()"
   ]
  },
  {
   "cell_type": "markdown",
   "metadata": {},
   "source": [
    "## Processing"
   ]
  },
  {
   "cell_type": "markdown",
   "metadata": {},
   "source": [
    "### Compression"
   ]
  },
  {
   "cell_type": "markdown",
   "metadata": {},
   "source": [
    "#### unzip\n",
    "\n",
    "Unzip a zip file. You can optionally define a specific file from the directory to use for further processing (otherwise a link to the directory is maintained."
   ]
  },
  {
   "cell_type": "code",
   "execution_count": null,
   "metadata": {},
   "outputs": [],
   "source": [
    "biu.utils.Acquire().curl(\"http://zzz.bwh.harvard.edu/plink/dist/plink-1.07-i686.zip\")\\\n",
    "                   .unzip(\"plink-1.07-i686/test.ped\")\\\n",
    "                   .call(\"cat\").acquire()"
   ]
  },
  {
   "cell_type": "code",
   "execution_count": null,
   "metadata": {},
   "outputs": [],
   "source": [
    "biu.utils.Acquire().curl(\"http://zzz.bwh.harvard.edu/plink/dist/plink-1.07-i686.zip\")\\\n",
    "                   .unzip()\\\n",
    "                   .call(\"ls\").acquire()"
   ]
  },
  {
   "cell_type": "markdown",
   "metadata": {},
   "source": [
    "#### gunzip\n",
    "\n",
    "gunzip a file."
   ]
  },
  {
   "cell_type": "code",
   "execution_count": null,
   "metadata": {},
   "outputs": [],
   "source": [
    "biu.utils.Acquire().curl(\"http://geneontology.org/gene-associations/goa_human.gaf.gz\")\\\n",
    "                   .gunzip()\\\n",
    "                   .call(\"head -n3\").acquire()\n"
   ]
  },
  {
   "cell_type": "markdown",
   "metadata": {},
   "source": [
    "#### untar\n",
    "\n",
    "Untar a file. You can optionally define a specific file from the directory to use for further processing (otherwise a link to the directory is maintained."
   ]
  },
  {
   "cell_type": "code",
   "execution_count": null,
   "metadata": {},
   "outputs": [],
   "source": [
    "biu.utils.Acquire().curl(\"https://github.com/thiesgehrmann/proteny/archive/0.1.tar.gz\")\\\n",
    "                   .gunzip()\\\n",
    "                   .untar()\\\n",
    "                   .call(\"ls\").acquire()"
   ]
  },
  {
   "cell_type": "code",
   "execution_count": null,
   "metadata": {},
   "outputs": [],
   "source": [
    "biu.utils.Acquire().curl(\"https://github.com/thiesgehrmann/proteny/archive/0.1.tar.gz\")\\\n",
    "                   .gunzip()\\\n",
    "                   .untar(\"proteny-0.1/Snakefile\")\\\n",
    "                   .call(\"head -n5\").acquire()"
   ]
  },
  {
   "cell_type": "markdown",
   "metadata": {},
   "source": [
    "#### gzip\n",
    "gzip a file"
   ]
  },
  {
   "cell_type": "code",
   "execution_count": null,
   "metadata": {},
   "outputs": [],
   "source": [
    "biu.utils.Acquire().curl(\"https://github.com/thiesgehrmann/proteny/archive/0.1.tar.gz\")\\\n",
    "                   .gunzip()\\\n",
    "                   .untar(\"proteny-0.1/Snakefile\")\\\n",
    "                   .gzip().acquire()"
   ]
  },
  {
   "cell_type": "markdown",
   "metadata": {},
   "source": [
    "#### bgzip\n",
    "\n",
    "bgzip a file."
   ]
  },
  {
   "cell_type": "code",
   "execution_count": null,
   "metadata": {},
   "outputs": [],
   "source": [
    "biu.utils.Acquire().curl(\"https://github.com/thiesgehrmann/proteny/archive/0.1.tar.gz\")\\\n",
    "                   .gunzip()\\\n",
    "                   .untar(\"proteny-0.1/Snakefile\")\\\n",
    "                   .bgzip().acquire()"
   ]
  },
  {
   "cell_type": "markdown",
   "metadata": {},
   "source": [
    "### Commands"
   ]
  },
  {
   "cell_type": "markdown",
   "metadata": {},
   "source": [
    "#### cat"
   ]
  },
  {
   "cell_type": "code",
   "execution_count": null,
   "metadata": {},
   "outputs": [],
   "source": []
  },
  {
   "cell_type": "markdown",
   "metadata": {},
   "source": [
    "#### ls"
   ]
  },
  {
   "cell_type": "code",
   "execution_count": null,
   "metadata": {},
   "outputs": [],
   "source": []
  },
  {
   "cell_type": "markdown",
   "metadata": {},
   "source": [
    "#### call"
   ]
  },
  {
   "cell_type": "code",
   "execution_count": null,
   "metadata": {},
   "outputs": [],
   "source": []
  },
  {
   "cell_type": "markdown",
   "metadata": {},
   "source": [
    "#### cmd"
   ]
  },
  {
   "cell_type": "code",
   "execution_count": null,
   "metadata": {},
   "outputs": [],
   "source": []
  },
  {
   "cell_type": "markdown",
   "metadata": {},
   "source": [
    "#### func\n",
    "\n",
    "You can call an arbitrary python function on the file to do some processing. The function must take two parameters that describe the input and output file names. The function must also return a success or failure state."
   ]
  },
  {
   "cell_type": "code",
   "execution_count": null,
   "metadata": {},
   "outputs": [],
   "source": [
    "def myfunc(inFile, outFile):"
   ]
  },
  {
   "cell_type": "markdown",
   "metadata": {},
   "source": [
    "### Processing"
   ]
  },
  {
   "cell_type": "markdown",
   "metadata": {},
   "source": [
    "#### sort\n",
    "Sort a file. Default is no parameters, but you can provide paramaters to sort the file how you want (posix sort parameters)"
   ]
  },
  {
   "cell_type": "code",
   "execution_count": null,
   "metadata": {},
   "outputs": [],
   "source": [
    "biu.utils.Acquire().curl(\"ftp://ftp.ncbi.nlm.nih.gov/pub/clinvar/tab_delimited/variant_summary.txt.gz\")\\\n",
    "                   .gunzip()\\\n",
    "                   .sort(\"-t $'\\\\t' -k19,19V -k 20,21n\")\\\n",
    "                   .call(\"head\")\\\n",
    "                   .acquire()"
   ]
  },
  {
   "cell_type": "markdown",
   "metadata": {},
   "source": [
    "#### tabix\n",
    "Use tabix to generate an index for a file"
   ]
  },
  {
   "cell_type": "code",
   "execution_count": null,
   "metadata": {},
   "outputs": [],
   "source": [
    "biu.utils.Acquire().curl(\"ftp://ftp.ncbi.nlm.nih.gov/pub/clinvar/tab_delimited/variant_summary.txt.gz\")\\\n",
    "                   .gunzip()\\\n",
    "                   .sort(\"-t $'\\\\t' -k19,19V -k 20,21n\")\\\n",
    "                   .cmd(\"awk -F $'\\\\t' 'BEGIN {OFS = FS} { if($19 != \\\"na\\\"){ print $0}}'\")\\\n",
    "                   .bgzip()\\\n",
    "                   .tabix(seq=19, start=20, end=21)\\\n",
    "                   .acquire()"
   ]
  },
  {
   "cell_type": "code",
   "execution_count": null,
   "metadata": {},
   "outputs": [],
   "source": []
  },
  {
   "cell_type": "code",
   "execution_count": null,
   "metadata": {},
   "outputs": [],
   "source": []
  },
  {
   "cell_type": "markdown",
   "metadata": {},
   "source": [
    "## Finalize"
   ]
  },
  {
   "cell_type": "code",
   "execution_count": null,
   "metadata": {},
   "outputs": [],
   "source": []
  },
  {
   "cell_type": "markdown",
   "metadata": {},
   "source": [
    "## Constructing multiple processes."
   ]
  },
  {
   "cell_type": "code",
   "execution_count": null,
   "metadata": {},
   "outputs": [],
   "source": [
    "bgzip = biu.utils.Acquire().curl(\"ftp://ftp.ncbi.nlm.nih.gov/pub/clinvar/tab_delimited/variant_summary.txt.gz\")\\\n",
    "                   .gunzip()\\\n",
    "                   .sort(\"-t $'\\\\t' -k19,19V -k 20,21n\")\\\n",
    "                   .cmd(\"awk -F $'\\\\t' 'BEGIN {OFS = FS} { if($19 != \\\"na\\\"){ print $0}}'\")\\\n",
    "                   .bgzip()\n",
    "\n",
    "tbi = bgzip.tabix(seq=19, start=20, end=21)"
   ]
  },
  {
   "cell_type": "code",
   "execution_count": null,
   "metadata": {},
   "outputs": [],
   "source": [
    "print(bgzip)"
   ]
  },
  {
   "cell_type": "code",
   "execution_count": null,
   "metadata": {},
   "outputs": [],
   "source": [
    "print(tbi)"
   ]
  },
  {
   "cell_type": "code",
   "execution_count": null,
   "metadata": {},
   "outputs": [],
   "source": []
  },
  {
   "cell_type": "code",
   "execution_count": null,
   "metadata": {},
   "outputs": [],
   "source": []
  }
 ],
 "metadata": {
  "kernelspec": {
   "display_name": "Python [conda env:biu]",
   "language": "python",
   "name": "conda-env-biu-py"
  },
  "language_info": {
   "codemirror_mode": {
    "name": "ipython",
    "version": 3
   },
   "file_extension": ".py",
   "mimetype": "text/x-python",
   "name": "python",
   "nbconvert_exporter": "python",
   "pygments_lexer": "ipython3",
   "version": "3.6.3"
  }
 },
 "nbformat": 4,
 "nbformat_minor": 2
}
