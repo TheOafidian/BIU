{
 "cells": [
  {
   "cell_type": "code",
   "execution_count": 1,
   "metadata": {},
   "outputs": [],
   "source": [
    "import biu"
   ]
  },
  {
   "cell_type": "code",
   "execution_count": 5,
   "metadata": {},
   "outputs": [],
   "source": [
    "tsvi = biu.formats.TSVIndex(\"/home/tgehrmann/src/hgnc_complete_set.txt\", delimiter='\\t')"
   ]
  },
  {
   "cell_type": "code",
   "execution_count": 6,
   "metadata": {},
   "outputs": [
    {
     "data": {
      "text/plain": [
       "[['HGNC:21',\n",
       "  'AATK',\n",
       "  'apoptosis associated tyrosine kinase',\n",
       "  'protein-coding gene',\n",
       "  'gene with protein product',\n",
       "  'Approved',\n",
       "  '17q25.3',\n",
       "  '17q25.3',\n",
       "  'AATYK|KIAA0641|LMTK1|LMR1|AATYK1|PPP1R77',\n",
       "  'lemur tyrosine kinase 1|protein phosphatase 1, regulatory subunit 77',\n",
       "  '',\n",
       "  '',\n",
       "  'Receptor tyrosine kinases|Protein phosphatase 1 regulatory subunits',\n",
       "  '321|694',\n",
       "  '1999-09-16',\n",
       "  '',\n",
       "  '2016-06-09',\n",
       "  '2016-06-29',\n",
       "  '9625',\n",
       "  'ENSG00000181409',\n",
       "  'OTTHUMG00000132717',\n",
       "  'uc010dia.4',\n",
       "  'AB014541',\n",
       "  'NM_004920',\n",
       "  'CCDS45807|CCDS58607',\n",
       "  'Q6ZMQ8',\n",
       "  '9734811|10083745|22573681',\n",
       "  'MGI:1197518',\n",
       "  'RGD:1590980',\n",
       "  '',\n",
       "  'AATK',\n",
       "  '605276',\n",
       "  '',\n",
       "  '',\n",
       "  '',\n",
       "  '',\n",
       "  '',\n",
       "  '',\n",
       "  '',\n",
       "  '',\n",
       "  '',\n",
       "  'objectId:1922',\n",
       "  '',\n",
       "  '',\n",
       "  '',\n",
       "  '',\n",
       "  '',\n",
       "  '',\n",
       "  '']]"
      ]
     },
     "execution_count": 6,
     "metadata": {},
     "output_type": "execute_result"
    }
   ],
   "source": [
    "tsvi['HGNC:21']"
   ]
  },
  {
   "cell_type": "code",
   "execution_count": 4,
   "metadata": {},
   "outputs": [
    {
     "data": {
      "text/plain": [
       "2"
      ]
     },
     "execution_count": 4,
     "metadata": {},
     "output_type": "execute_result"
    }
   ],
   "source": [
    "len({ 1:2, 3:4\n",
    "})"
   ]
  },
  {
   "cell_type": "code",
   "execution_count": null,
   "metadata": {},
   "outputs": [],
   "source": []
  }
 ],
 "metadata": {
  "kernelspec": {
   "display_name": "Python 3",
   "language": "python",
   "name": "python3"
  },
  "language_info": {
   "codemirror_mode": {
    "name": "ipython",
    "version": 3
   },
   "file_extension": ".py",
   "mimetype": "text/x-python",
   "name": "python",
   "nbconvert_exporter": "python",
   "pygments_lexer": "ipython3",
   "version": "3.6.3"
  }
 },
 "nbformat": 4,
 "nbformat_minor": 2
}
