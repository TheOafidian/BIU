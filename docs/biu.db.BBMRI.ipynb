{
 "cells": [
  {
   "cell_type": "markdown",
   "metadata": {},
   "source": [
    "# Accessing the BBMRI dataset"
   ]
  },
  {
   "cell_type": "code",
   "execution_count": 1,
   "metadata": {},
   "outputs": [],
   "source": [
    "import biu"
   ]
  },
  {
   "cell_type": "markdown",
   "metadata": {},
   "source": [
    "## Initializing and examining the structure"
   ]
  },
  {
   "cell_type": "code",
   "execution_count": 2,
   "metadata": {},
   "outputs": [
    {
     "name": "stdout",
     "output_type": "stream",
     "text": [
      "BBMRI object\n",
      " Where: /exports/molepi/BBMRISEQ\n",
      " Version: current\n",
      " Objects:\n",
      "  * [ ] vcf[1]\n",
      "  * [ ] vcf[2]\n",
      "  * [ ] vcf[3]\n",
      "  * [ ] vcf[4]\n",
      "  * [ ] vcf[5]\n",
      "  * [ ] vcf[6]\n",
      "  * [ ] vcf[7]\n",
      "  * [ ] vcf[8]\n",
      "  * [ ] vcf[9]\n",
      "  * [ ] vcf[10]\n",
      "  * [ ] vcf[11]\n",
      "  * [ ] vcf[12]\n",
      "  * [ ] vcf[13]\n",
      "  * [ ] vcf[14]\n",
      "  * [ ] vcf[15]\n",
      "  * [ ] vcf[16]\n",
      "  * [ ] vcf[17]\n",
      "  * [ ] vcf[18]\n",
      "  * [ ] vcf[19]\n",
      "  * [ ] vcf[20]\n",
      "  * [ ] vcf[21]\n",
      "  * [ ] vcf[22]\n",
      "  * [ ] vcf[M]\n",
      "  * [ ] vcf[X]\n",
      "  * [ ] vcf[Y]\n",
      " Files:\n",
      "  * [X] vcf_1 : /exports/molepi/BBMRISEQ/tbx/merged.bbmri.chr1.vcf.bgz\n",
      "  * [X] vcf_1_tbi : /exports/molepi/BBMRISEQ/tbx/merged.bbmri.chr1.vcf.bgz.tbi\n",
      "  * [X] vcf_2 : /exports/molepi/BBMRISEQ/tbx/merged.bbmri.chr2.vcf.bgz\n",
      "  * [X] vcf_2_tbi : /exports/molepi/BBMRISEQ/tbx/merged.bbmri.chr2.vcf.bgz.tbi\n",
      "  * [X] vcf_3 : /exports/molepi/BBMRISEQ/tbx/merged.bbmri.chr3.vcf.bgz\n",
      "  * [X] vcf_3_tbi : /exports/molepi/BBMRISEQ/tbx/merged.bbmri.chr3.vcf.bgz.tbi\n",
      "  * [X] vcf_4 : /exports/molepi/BBMRISEQ/tbx/merged.bbmri.chr4.vcf.bgz\n",
      "  * [X] vcf_4_tbi : /exports/molepi/BBMRISEQ/tbx/merged.bbmri.chr4.vcf.bgz.tbi\n",
      "  * [X] vcf_5 : /exports/molepi/BBMRISEQ/tbx/merged.bbmri.chr5.vcf.bgz\n",
      "  * [X] vcf_5_tbi : /exports/molepi/BBMRISEQ/tbx/merged.bbmri.chr5.vcf.bgz.tbi\n",
      "  * [X] vcf_6 : /exports/molepi/BBMRISEQ/tbx/merged.bbmri.chr6.vcf.bgz\n",
      "  * [X] vcf_6_tbi : /exports/molepi/BBMRISEQ/tbx/merged.bbmri.chr6.vcf.bgz.tbi\n",
      "  * [X] vcf_7 : /exports/molepi/BBMRISEQ/tbx/merged.bbmri.chr7.vcf.bgz\n",
      "  * [X] vcf_7_tbi : /exports/molepi/BBMRISEQ/tbx/merged.bbmri.chr7.vcf.bgz.tbi\n",
      "  * [X] vcf_8 : /exports/molepi/BBMRISEQ/tbx/merged.bbmri.chr8.vcf.bgz\n",
      "  * [X] vcf_8_tbi : /exports/molepi/BBMRISEQ/tbx/merged.bbmri.chr8.vcf.bgz.tbi\n",
      "  * [X] vcf_9 : /exports/molepi/BBMRISEQ/tbx/merged.bbmri.chr9.vcf.bgz\n",
      "  * [X] vcf_9_tbi : /exports/molepi/BBMRISEQ/tbx/merged.bbmri.chr9.vcf.bgz.tbi\n",
      "  * [X] vcf_10 : /exports/molepi/BBMRISEQ/tbx/merged.bbmri.chr10.vcf.bgz\n",
      "  * [X] vcf_10_tbi : /exports/molepi/BBMRISEQ/tbx/merged.bbmri.chr10.vcf.bgz.tbi\n",
      "  * [X] vcf_11 : /exports/molepi/BBMRISEQ/tbx/merged.bbmri.chr11.vcf.bgz\n",
      "  * [X] vcf_11_tbi : /exports/molepi/BBMRISEQ/tbx/merged.bbmri.chr11.vcf.bgz.tbi\n",
      "  * [X] vcf_12 : /exports/molepi/BBMRISEQ/tbx/merged.bbmri.chr12.vcf.bgz\n",
      "  * [X] vcf_12_tbi : /exports/molepi/BBMRISEQ/tbx/merged.bbmri.chr12.vcf.bgz.tbi\n",
      "  * [X] vcf_13 : /exports/molepi/BBMRISEQ/tbx/merged.bbmri.chr13.vcf.bgz\n",
      "  * [X] vcf_13_tbi : /exports/molepi/BBMRISEQ/tbx/merged.bbmri.chr13.vcf.bgz.tbi\n",
      "  * [X] vcf_14 : /exports/molepi/BBMRISEQ/tbx/merged.bbmri.chr14.vcf.bgz\n",
      "  * [X] vcf_14_tbi : /exports/molepi/BBMRISEQ/tbx/merged.bbmri.chr14.vcf.bgz.tbi\n",
      "  * [X] vcf_15 : /exports/molepi/BBMRISEQ/tbx/merged.bbmri.chr15.vcf.bgz\n",
      "  * [X] vcf_15_tbi : /exports/molepi/BBMRISEQ/tbx/merged.bbmri.chr15.vcf.bgz.tbi\n",
      "  * [X] vcf_16 : /exports/molepi/BBMRISEQ/tbx/merged.bbmri.chr16.vcf.bgz\n",
      "  * [X] vcf_16_tbi : /exports/molepi/BBMRISEQ/tbx/merged.bbmri.chr16.vcf.bgz.tbi\n",
      "  * [X] vcf_17 : /exports/molepi/BBMRISEQ/tbx/merged.bbmri.chr17.vcf.bgz\n",
      "  * [X] vcf_17_tbi : /exports/molepi/BBMRISEQ/tbx/merged.bbmri.chr17.vcf.bgz.tbi\n",
      "  * [X] vcf_18 : /exports/molepi/BBMRISEQ/tbx/merged.bbmri.chr18.vcf.bgz\n",
      "  * [X] vcf_18_tbi : /exports/molepi/BBMRISEQ/tbx/merged.bbmri.chr18.vcf.bgz.tbi\n",
      "  * [X] vcf_19 : /exports/molepi/BBMRISEQ/tbx/merged.bbmri.chr19.vcf.bgz\n",
      "  * [X] vcf_19_tbi : /exports/molepi/BBMRISEQ/tbx/merged.bbmri.chr19.vcf.bgz.tbi\n",
      "  * [X] vcf_20 : /exports/molepi/BBMRISEQ/tbx/merged.bbmri.chr20.vcf.bgz\n",
      "  * [X] vcf_20_tbi : /exports/molepi/BBMRISEQ/tbx/merged.bbmri.chr20.vcf.bgz.tbi\n",
      "  * [X] vcf_21 : /exports/molepi/BBMRISEQ/tbx/merged.bbmri.chr21.vcf.bgz\n",
      "  * [X] vcf_21_tbi : /exports/molepi/BBMRISEQ/tbx/merged.bbmri.chr21.vcf.bgz.tbi\n",
      "  * [X] vcf_22 : /exports/molepi/BBMRISEQ/tbx/merged.bbmri.chr22.vcf.bgz\n",
      "  * [X] vcf_22_tbi : /exports/molepi/BBMRISEQ/tbx/merged.bbmri.chr22.vcf.bgz.tbi\n",
      "  * [X] vcf_M : /exports/molepi/BBMRISEQ/tbx/merged.bbmri.chrM.vcf.bgz\n",
      "  * [X] vcf_M_tbi : /exports/molepi/BBMRISEQ/tbx/merged.bbmri.chrM.vcf.bgz.tbi\n",
      "  * [X] vcf_X : /exports/molepi/BBMRISEQ/tbx/merged.bbmri.chrX.vcf.bgz\n",
      "  * [X] vcf_X_tbi : /exports/molepi/BBMRISEQ/tbx/merged.bbmri.chrX.vcf.bgz.tbi\n",
      "  * [X] vcf_Y : /exports/molepi/BBMRISEQ/tbx/merged.bbmri.chrY.vcf.bgz\n",
      "  * [X] vcf_Y_tbi : /exports/molepi/BBMRISEQ/tbx/merged.bbmri.chrY.vcf.bgz.tbi\n",
      "\n"
     ]
    }
   ],
   "source": [
    "bbmri = biu.db.BBMRI()\n",
    "print(bbmri)"
   ]
  },
  {
   "cell_type": "markdown",
   "metadata": {},
   "source": [
    "## Querying the structure\n",
    "\n",
    "The data held in BBMRI are tabix indexed VCF files. Thus, we can make use of the `query` and `queryRegions` functionalities of the VCF structures.\n"
   ]
  },
  {
   "cell_type": "code",
   "execution_count": 3,
   "metadata": {},
   "outputs": [
    {
     "name": "stdout",
     "output_type": "stream",
     "text": [
      "Record(CHROM=1, POS=1000760, REF=G, ALT=[A])\n",
      "Record(CHROM=1, POS=1000894, REF=A, ALT=[T])\n",
      "Record(CHROM=1, POS=1000902, REF=G, ALT=[A])\n",
      "Record(CHROM=1, POS=1000910, REF=C, ALT=[T])\n",
      "Record(CHROM=1, POS=1000930, REF=G, ALT=[T])\n",
      "Record(CHROM=1, POS=1000940, REF=T, ALT=[A])\n"
     ]
    },
    {
     "name": "stderr",
     "output_type": "stream",
     "text": [
      "D: Initializing the VCFResourceManager object NOW\n",
      "D: VCF Input source is tabixed file.\n",
      "D: VCF Input source is list of Records.\n"
     ]
    }
   ],
   "source": [
    "for record in bbmri.query(1, 1000000, 1001000, types=['snp']):\n",
    "    print(record)"
   ]
  },
  {
   "cell_type": "code",
   "execution_count": 4,
   "metadata": {
    "scrolled": false
   },
   "outputs": [],
   "source": [
    "#for record in bbmri.queryRegions([ (1, 1000000, 1111000), (2, 1000000, 1001000)], types=['snp']):\n",
    "#    print(record)"
   ]
  },
  {
   "cell_type": "code",
   "execution_count": 5,
   "metadata": {},
   "outputs": [],
   "source": [
    "#bbmri.queryRegions([ (1, 1000000, 1001000), (2, 1000000, 1001000)], types=['snp'], extract=\"summary\")"
   ]
  },
  {
   "cell_type": "code",
   "execution_count": 6,
   "metadata": {},
   "outputs": [
    {
     "name": "stderr",
     "output_type": "stream",
     "text": [
      "D: Initializing the VCFResourceManager object NOW\n",
      "D: VCF Input source is tabixed file.\n",
      "D: VCF Input source is list of Records.\n"
     ]
    },
    {
     "data": {
      "text/html": [
       "<div>\n",
       "<style scoped>\n",
       "    .dataframe tbody tr th:only-of-type {\n",
       "        vertical-align: middle;\n",
       "    }\n",
       "\n",
       "    .dataframe tbody tr th {\n",
       "        vertical-align: top;\n",
       "    }\n",
       "\n",
       "    .dataframe thead th {\n",
       "        text-align: right;\n",
       "    }\n",
       "</style>\n",
       "<table border=\"1\" class=\"dataframe\">\n",
       "  <thead>\n",
       "    <tr style=\"text-align: right;\">\n",
       "      <th></th>\n",
       "      <th>id</th>\n",
       "      <th>RR</th>\n",
       "      <th>R</th>\n",
       "      <th>RA</th>\n",
       "      <th>A</th>\n",
       "      <th>AA</th>\n",
       "      <th>O</th>\n",
       "    </tr>\n",
       "  </thead>\n",
       "  <tbody>\n",
       "    <tr>\n",
       "      <th>0</th>\n",
       "      <td>12-12630140-T-G</td>\n",
       "      <td>96</td>\n",
       "      <td>0</td>\n",
       "      <td>2</td>\n",
       "      <td>0</td>\n",
       "      <td>0</td>\n",
       "      <td>0</td>\n",
       "    </tr>\n",
       "  </tbody>\n",
       "</table>\n",
       "</div>"
      ],
      "text/plain": [
       "                id  RR  R  RA  A  AA  O\n",
       "0  12-12630140-T-G  96  0   2  0   0  0"
      ]
     },
     "execution_count": 6,
     "metadata": {},
     "output_type": "execute_result"
    }
   ],
   "source": [
    "v = bbmri.queryRegions([ (12, 12630140-1, 12630140)], types=['snp'])[0]\n",
    "biu.formats.VCF.summary([v], altPos=[1])"
   ]
  },
  {
   "cell_type": "code",
   "execution_count": 7,
   "metadata": {},
   "outputs": [
    {
     "name": "stdout",
     "output_type": "stream",
     "text": [
      "GS000018437-ASM\n",
      "GS000018438-ASM\n",
      "GS000018439-ASM\n",
      "GS000018440-ASM\n",
      "GS000018441-ASM\n",
      "GS000018442-ASM\n",
      "GS000018443-ASM\n",
      "GS000018444-ASM\n",
      "GS000018445-ASM\n",
      "GS000018535-ASM\n",
      "GS000018536-ASM\n",
      "GS000018537-ASM\n",
      "GS000018538-ASM\n",
      "GS000018539-ASM\n",
      "GS000018540-ASM\n",
      "GS000018541-ASM\n",
      "GS000018577-ASM\n",
      "GS000018578-ASM\n",
      "GS000018579-ASM\n",
      "GS000018580-ASM\n",
      "GS000018581-ASM\n",
      "GS000018583-ASM\n",
      "GS000018584-ASM\n",
      "GS000018585-ASM\n",
      "GS000018586-ASM\n",
      "GS000018587-ASM\n",
      "GS000018588-ASM\n",
      "GS000018589-ASM\n",
      "GS000018590-ASM\n",
      "GS000018591-ASM\n",
      "GS000018592-ASM\n",
      "GS000018593-ASM\n",
      "GS000018594-ASM\n",
      "GS000018595-ASM\n",
      "GS000018596-ASM\n",
      "GS000018597-ASM\n",
      "GS000018598-ASM\n",
      "GS000018651-ASM\n",
      "GS000018685-ASM\n",
      "GS000018686-ASM\n",
      "GS000018687-ASM\n",
      "GS000018688-ASM\n",
      "GS000018689-ASM\n",
      "GS000018690-ASM\n",
      "GS000018691-ASM\n",
      "GS000018692-ASM\n",
      "GS000018693-ASM\n",
      "GS000018694-ASM\n",
      "GS000018695-ASM\n",
      "GS000018696-ASM\n",
      "GS000018697-ASM\n",
      "GS000018698-ASM\n",
      "GS000018699-ASM\n",
      "GS000018700-ASM\n",
      "GS000018701-ASM\n",
      "GS000018702-ASM\n",
      "GS000018703-ASM\n",
      "GS000018704-ASM\n",
      "GS000018779-ASM\n",
      "GS000018780-ASM\n",
      "GS000018781-ASM\n",
      "GS000018782-ASM\n",
      "GS000018783-ASM\n",
      "GS000018784-ASM\n",
      "GS000018785-ASM\n",
      "GS000018786-ASM\n",
      "GS000018787-ASM\n",
      "GS000018788-ASM\n",
      "GS000018789-ASM\n",
      "GS000018790-ASM\n",
      "GS000018791-ASM\n",
      "GS000018792-ASM\n",
      "GS000018793-ASM\n",
      "GS000018794-ASM\n",
      "GS000018795-ASM\n",
      "GS000018796-ASM\n",
      "GS000018797-ASM\n",
      "GS000018799-ASM\n",
      "GS000018800-ASM\n",
      "GS000018801-ASM\n",
      "GS000018802-ASM\n",
      "GS000018803-ASM\n",
      "GS000018804-ASM\n",
      "GS000018805-ASM\n",
      "GS000018806-ASM\n",
      "GS000018807-ASM\n",
      "GS000018808-ASM\n",
      "GS000018809-ASM\n",
      "GS000018810-ASM\n",
      "GS000018811-ASM\n",
      "GS000018812-ASM\n",
      "GS000018813-ASM\n",
      "GS000018814-ASM\n",
      "GS000018815-ASM\n",
      "GS000020139-ASM\n",
      "GS000020867-ASM\n",
      "GS000020868-ASM\n",
      "GS000020883-ASM\n"
     ]
    }
   ],
   "source": [
    "for sample in v.samples:\n",
    "    print(sample.sample)"
   ]
  },
  {
   "cell_type": "code",
   "execution_count": 8,
   "metadata": {},
   "outputs": [
    {
     "name": "stderr",
     "output_type": "stream",
     "text": [
      "D: VCF Input source is list of Records.\n"
     ]
    },
    {
     "data": {
      "text/html": [
       "<div>\n",
       "<style scoped>\n",
       "    .dataframe tbody tr th:only-of-type {\n",
       "        vertical-align: middle;\n",
       "    }\n",
       "\n",
       "    .dataframe tbody tr th {\n",
       "        vertical-align: top;\n",
       "    }\n",
       "\n",
       "    .dataframe thead th {\n",
       "        text-align: right;\n",
       "    }\n",
       "</style>\n",
       "<table border=\"1\" class=\"dataframe\">\n",
       "  <thead>\n",
       "    <tr style=\"text-align: right;\">\n",
       "      <th></th>\n",
       "      <th>id</th>\n",
       "      <th>RR</th>\n",
       "      <th>R</th>\n",
       "      <th>RA</th>\n",
       "      <th>A</th>\n",
       "      <th>AA</th>\n",
       "      <th>O</th>\n",
       "    </tr>\n",
       "  </thead>\n",
       "  <tbody>\n",
       "    <tr>\n",
       "      <th>0</th>\n",
       "      <td>1-1010065-G-C</td>\n",
       "      <td>96</td>\n",
       "      <td>0</td>\n",
       "      <td>1</td>\n",
       "      <td>0</td>\n",
       "      <td>0</td>\n",
       "      <td>1</td>\n",
       "    </tr>\n",
       "  </tbody>\n",
       "</table>\n",
       "</div>"
      ],
      "text/plain": [
       "              id  RR  R  RA  A  AA  O\n",
       "0  1-1010065-G-C  96  0   1  0   0  1"
      ]
     },
     "execution_count": 8,
     "metadata": {},
     "output_type": "execute_result"
    }
   ],
   "source": [
    "#CHROM=1, POS=1010065, REF=G, ALT=[A, C])\n",
    "var, altPos = bbmri.getVar(1, 1010065, 'C')\n",
    "biu.formats.VCF.summary([var], altPos=[altPos])"
   ]
  },
  {
   "cell_type": "code",
   "execution_count": null,
   "metadata": {},
   "outputs": [],
   "source": []
  }
 ],
 "metadata": {
  "kernelspec": {
   "display_name": "Python 3",
   "language": "python",
   "name": "python3"
  },
  "language_info": {
   "codemirror_mode": {
    "name": "ipython",
    "version": 3
   },
   "file_extension": ".py",
   "mimetype": "text/x-python",
   "name": "python",
   "nbconvert_exporter": "python",
   "pygments_lexer": "ipython3",
   "version": "3.6.3"
  }
 },
 "nbformat": 4,
 "nbformat_minor": 2
}
