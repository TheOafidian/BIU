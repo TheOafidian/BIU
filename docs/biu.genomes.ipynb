{
 "cells": [
  {
   "cell_type": "markdown",
   "metadata": {},
   "source": [
    "# Genomes"
   ]
  },
  {
   "cell_type": "code",
   "execution_count": 1,
   "metadata": {},
   "outputs": [],
   "source": [
    "import biu\n",
    "where = '/exports/molepi/tgehrmann/data/'\n",
    "biu.config.settings.setWhere(where)"
   ]
  },
  {
   "cell_type": "markdown",
   "metadata": {},
   "source": [
    "## Ensembl Genomes\n",
    "\n",
    "You can access any genome on Ensembl with the EnsemblGenome class.\n",
    "You can specify a release number and an organism name, and it will retrieve the GFF annotations, genome, coding sequences and amino acid Fasta files."
   ]
  },
  {
   "cell_type": "markdown",
   "metadata": {},
   "source": [
    "### List available organisms"
   ]
  },
  {
   "cell_type": "code",
   "execution_count": 2,
   "metadata": {},
   "outputs": [
    {
     "name": "stdout",
     "output_type": "stream",
     "text": [
      "Organisms in Ensembl, release 92:\n",
      " * ailuropoda_melanoleuca\n",
      " * anas_platyrhynchos\n",
      " * anolis_carolinensis\n",
      " * aotus_nancymaae\n",
      " * astyanax_mexicanus\n",
      " * bos_taurus\n",
      " * caenorhabditis_elegans\n",
      " * callithrix_jacchus\n",
      " * canis_familiaris\n",
      " * capra_hircus\n",
      " * carlito_syrichta\n",
      " * cavia_aperea\n",
      " * cavia_porcellus\n",
      " * cebus_capucinus\n",
      " * cercocebus_atys\n",
      " * chinchilla_lanigera\n",
      " * chlorocebus_sabaeus\n",
      " * choloepus_hoffmanni\n",
      " * ciona_intestinalis\n",
      " * ciona_savignyi\n",
      " * colobus_angolensis_palliatus\n",
      " * cricetulus_griseus_chok1gshd\n",
      " * cricetulus_griseus_crigri\n",
      " * danio_rerio\n",
      " * dasypus_novemcinctus\n",
      " * dipodomys_ordii\n",
      " * drosophila_melanogaster\n",
      " * echinops_telfairi\n",
      " * equus_caballus\n",
      " * erinaceus_europaeus\n",
      " * felis_catus\n",
      " * ficedula_albicollis\n",
      " * fukomys_damarensis\n",
      " * gadus_morhua\n",
      " * gallus_gallus\n",
      " * gasterosteus_aculeatus\n",
      " * gorilla_gorilla\n",
      " * heterocephalus_glaber_female\n",
      " * heterocephalus_glaber_male\n",
      " * homo_sapiens\n",
      " * ictidomys_tridecemlineatus\n",
      " * jaculus_jaculus\n",
      " * latimeria_chalumnae\n",
      " * lepisosteus_oculatus\n",
      " * loxodonta_africana\n",
      " * macaca_fascicularis\n",
      " * macaca_mulatta\n",
      " * macaca_nemestrina\n",
      " * mandrillus_leucophaeus\n",
      " * meleagris_gallopavo\n",
      " * mesocricetus_auratus\n",
      " * microcebus_murinus\n",
      " * microtus_ochrogaster\n",
      " * monodelphis_domestica\n",
      " * mus_caroli\n",
      " * mus_musculus\n",
      " * mus_musculus_129s1svimj\n",
      " * mus_musculus_aj\n",
      " * mus_musculus_akrj\n",
      " * mus_musculus_balbcj\n",
      " * mus_musculus_c3hhej\n",
      " * mus_musculus_c57bl6nj\n",
      " * mus_musculus_casteij\n",
      " * mus_musculus_cbaj\n",
      " * mus_musculus_dba2j\n",
      " * mus_musculus_fvbnj\n",
      " * mus_musculus_lpj\n",
      " * mus_musculus_nodshiltj\n",
      " * mus_musculus_nzohlltj\n",
      " * mus_musculus_pwkphj\n",
      " * mus_musculus_wsbeij\n",
      " * mus_pahari\n",
      " * mus_spretus\n",
      " * mustela_putorius_furo\n",
      " * myotis_lucifugus\n",
      " * nannospalax_galili\n",
      " * nomascus_leucogenys\n",
      " * notamacropus_eugenii\n",
      " * ochotona_princeps\n",
      " * octodon_degus\n",
      " * oreochromis_niloticus\n",
      " * ornithorhynchus_anatinus\n",
      " * oryctolagus_cuniculus\n",
      " * oryzias_latipes\n",
      " * otolemur_garnettii\n",
      " * ovis_aries\n",
      " * pan_paniscus\n",
      " * pan_troglodytes\n",
      " * papio_anubis\n",
      " * pelodiscus_sinensis\n",
      " * peromyscus_maniculatus_bairdii\n",
      " * petromyzon_marinus\n",
      " * poecilia_formosa\n",
      " * pongo_abelii\n",
      " * procavia_capensis\n",
      " * propithecus_coquereli\n",
      " * pteropus_vampyrus\n",
      " * rattus_norvegicus\n",
      " * rhinopithecus_bieti\n",
      " * rhinopithecus_roxellana\n",
      " * saccharomyces_cerevisiae\n",
      " * saimiri_boliviensis_boliviensis\n",
      " * sarcophilus_harrisii\n",
      " * sorex_araneus\n",
      " * sus_scrofa\n",
      " * taeniopygia_guttata\n",
      " * takifugu_rubripes\n",
      " * tetraodon_nigroviridis\n",
      " * tupaia_belangeri\n",
      " * tursiops_truncatus\n",
      " * vicugna_pacos\n",
      " * xenopus_tropicalis\n",
      " * xiphophorus_maculatus\n"
     ]
    }
   ],
   "source": [
    "biu.genomes.Ensembl.organisms()"
   ]
  },
  {
   "cell_type": "code",
   "execution_count": 3,
   "metadata": {},
   "outputs": [],
   "source": [
    "# Default is the grch38 human genome, release 92\n",
    "genome = biu.genomes.Ensembl()"
   ]
  },
  {
   "cell_type": "code",
   "execution_count": 4,
   "metadata": {},
   "outputs": [
    {
     "name": "stdout",
     "output_type": "stream",
     "text": [
      "Ensembl object\n",
      " Genome : ensembl_92.homo_sapiens\n",
      " Objects:\n",
      "  * [ ] gff\n",
      "  * [ ] genome\n",
      "  * [ ] cds\n",
      "  * [ ] aa\n",
      " Files:\n",
      "  * [ ] gff : /exports/molepi/tgehrmann/data/ensembl_92.homo_sapiens/genes.gff3\n",
      "  * [ ] genome : /exports/molepi/tgehrmann/data/ensembl_92.homo_sapiens/dna.fasta\n",
      "  * [ ] cds : /exports/molepi/tgehrmann/data/ensembl_92.homo_sapiens/cds.fa\n",
      "  * [ ] aa : /exports/molepi/tgehrmann/data/ensembl_92.homo_sapiens/aa.fa\n",
      "\n"
     ]
    }
   ],
   "source": [
    "print(genome)"
   ]
  },
  {
   "cell_type": "markdown",
   "metadata": {},
   "source": [
    "### Other genomes"
   ]
  },
  {
   "cell_type": "code",
   "execution_count": 5,
   "metadata": {},
   "outputs": [
    {
     "name": "stdout",
     "output_type": "stream",
     "text": [
      "Ensembl object\n",
      " Genome : ensembl_92.mus_musculus\n",
      " Objects:\n",
      "  * [ ] gff\n",
      "  * [ ] genome\n",
      "  * [ ] cds\n",
      "  * [ ] aa\n",
      " Files:\n",
      "  * [ ] gff : /exports/molepi/tgehrmann/data/ensembl_92.mus_musculus/genes.gff3\n",
      "  * [ ] genome : /exports/molepi/tgehrmann/data/ensembl_92.mus_musculus/dna.fasta\n",
      "  * [ ] cds : /exports/molepi/tgehrmann/data/ensembl_92.mus_musculus/cds.fa\n",
      "  * [X] aa : /exports/molepi/tgehrmann/data/ensembl_92.mus_musculus/aa.fa\n",
      "\n"
     ]
    }
   ],
   "source": [
    "# Load the mouse genome\n",
    "genome = biu.genomes.Ensembl(organism='mus_musculus')\n",
    "print(genome)"
   ]
  },
  {
   "cell_type": "code",
   "execution_count": 6,
   "metadata": {},
   "outputs": [
    {
     "name": "stdout",
     "output_type": "stream",
     "text": [
      "Ensembl object\n",
      " Genome : ensembl_91.mus_musculus\n",
      " Objects:\n",
      "  * [ ] gff\n",
      "  * [ ] genome\n",
      "  * [ ] cds\n",
      "  * [ ] aa\n",
      " Files:\n",
      "  * [ ] gff : /exports/molepi/tgehrmann/data/ensembl_91.mus_musculus/genes.gff3\n",
      "  * [ ] genome : /exports/molepi/tgehrmann/data/ensembl_91.mus_musculus/dna.fasta\n",
      "  * [ ] cds : /exports/molepi/tgehrmann/data/ensembl_91.mus_musculus/cds.fa\n",
      "  * [ ] aa : /exports/molepi/tgehrmann/data/ensembl_91.mus_musculus/aa.fa\n",
      "\n"
     ]
    }
   ],
   "source": [
    "# Load the mouse genome, release 91\n",
    "genome = biu.genomes.Ensembl(release=91, organism='mus_musculus')\n",
    "print(genome)"
   ]
  },
  {
   "cell_type": "code",
   "execution_count": null,
   "metadata": {},
   "outputs": [],
   "source": []
  },
  {
   "cell_type": "markdown",
   "metadata": {},
   "source": [
    "### GRCH37 Ensembl Genome\n",
    "Ensembl maintains seperately the GRCH37 build of the human genome. This can be accessed with a special class."
   ]
  },
  {
   "cell_type": "code",
   "execution_count": 7,
   "metadata": {},
   "outputs": [],
   "source": [
    "hg37 = biu.genomes.Ensembl(grch37=True)"
   ]
  },
  {
   "cell_type": "code",
   "execution_count": 8,
   "metadata": {},
   "outputs": [
    {
     "name": "stdout",
     "output_type": "stream",
     "text": [
      "Ensembl object\n",
      " Genome : ensembl_grch37.92.homo_sapiens\n",
      " Objects:\n",
      "  * [ ] gff\n",
      "  * [ ] genome\n",
      "  * [ ] cds\n",
      "  * [ ] aa\n",
      " Files:\n",
      "  * [ ] gff : /exports/molepi/tgehrmann/data/ensembl_grch37.92.homo_sapiens/genes.gff3\n",
      "  * [ ] genome : /exports/molepi/tgehrmann/data/ensembl_grch37.92.homo_sapiens/dna.fasta\n",
      "  * [ ] cds : /exports/molepi/tgehrmann/data/ensembl_grch37.92.homo_sapiens/cds.fa\n",
      "  * [X] aa : /exports/molepi/tgehrmann/data/ensembl_grch37.92.homo_sapiens/aa.fa\n",
      "\n"
     ]
    }
   ],
   "source": [
    "print(hg37)"
   ]
  },
  {
   "cell_type": "code",
   "execution_count": 9,
   "metadata": {},
   "outputs": [],
   "source": [
    "#print(hg37.aa)"
   ]
  },
  {
   "cell_type": "code",
   "execution_count": 10,
   "metadata": {},
   "outputs": [],
   "source": [
    "#hg37.aa['ENSP00000456546.1']"
   ]
  },
  {
   "cell_type": "markdown",
   "metadata": {},
   "source": [
    "## Wormbase Genomes\n",
    "\n",
    "You can also download the genomes present on wormbase. It doesn't download the CDS though, so be aware of that... Organisms currently defined in wormbase are:"
   ]
  },
  {
   "cell_type": "code",
   "execution_count": 11,
   "metadata": {},
   "outputs": [
    {
     "name": "stdout",
     "output_type": "stream",
     "text": [
      "Organisms in Wormbase\n",
      "/exports/molepi/tgehrmann/data/_downloads/2a4190087a93236b6560fbb1faee17454ea483bd\n",
      "0\n",
      " * Brugia_malayi\n",
      " * Caenorhabditis_angaria\n",
      " * Caenorhabditis_brenneri\n",
      " * Caenorhabditis_briggsae\n",
      " * Caenorhabditis_elegans\n",
      " * Caenorhabditis_japonica\n",
      " * Caenorhabditis_nigoni\n",
      " * Caenorhabditis_remanei\n",
      " * Caenorhabditis_sinica\n",
      " * Caenorhabditis_tropicalis\n",
      " * Onchocerca_volvulus\n",
      " * Pristionchus_pacificus\n",
      " * Panagrellus_redivivus\n",
      " * Strongyloides_ratti\n",
      " * Trichuris_muris\n",
      " * Romanomermis_culicivorax\n",
      " * Soboliphyme_baturini\n",
      " * Trichinella_britovi\n",
      " * Trichinella_murrelli\n",
      " * Trichinella_nativa\n",
      " * Trichinella_nelsoni\n",
      " * Trichinella_papuae\n",
      " * Trichinella_patagoniensis\n",
      " * Trichinella_pseudospiralis\n",
      " * Trichinella_sp._T6\n",
      " * Trichinella_sp._T8\n",
      " * Trichinella_sp._T9\n",
      " * Trichinella_spiralis\n",
      " * Trichinella_zimbabwensis\n",
      " * Trichuris_suis\n",
      " * Trichuris_trichiura\n",
      " * Acanthocheilonema_viteae\n",
      " * Anisakis_simplex\n",
      " * Ascaris_lumbricoides\n",
      " * Ascaris_suum\n",
      " * Brugia_pahangi\n",
      " * Brugia_timori\n",
      " * Dirofilaria_immitis\n",
      " * Dracunculus_medinensis\n",
      " * Elaeophora_elaphi\n",
      " * Enterobius_vermicularis\n",
      " * Gongylonema_pulchrum\n",
      " * Litomosoides_sigmodontis\n",
      " * Loa_loa\n",
      " * Onchocerca_flexuosa\n",
      " * Onchocerca_ochengi\n",
      " * Parascaris_equorum\n",
      " * Parascaris_univalens\n",
      " * Syphacia_muris\n",
      " * Thelazia_callipaeda\n",
      " * Toxocara_canis\n",
      " * Wuchereria_bancrofti\n",
      " * Bursaphelenchus_xylophilus\n",
      " * Ditylenchus_destructor\n",
      " * Globodera_pallida\n",
      " * Globodera_rostochiensis\n",
      " * Meloidogyne_floridensis\n",
      " * Meloidogyne_hapla\n",
      " * Meloidogyne_incognita\n",
      " * Parastrongyloides_trichosuri\n",
      " * Rhabditophanes_sp._KR3021\n",
      " * Steinernema_carpocapsae\n",
      " * Steinernema_feltiae\n",
      " * Steinernema_glaseri\n",
      " * Steinernema_monticolum\n",
      " * Steinernema_scapterisci\n",
      " * Strongyloides_papillosus\n",
      " * Strongyloides_stercoralis\n",
      " * Strongyloides_venezuelensis\n",
      " * Ancylostoma_caninum\n",
      " * Ancylostoma_ceylanicum\n",
      " * Ancylostoma_duodenale\n",
      " * Angiostrongylus_cantonensis\n",
      " * Angiostrongylus_costaricensis\n",
      " * Cylicostephanus_goldi\n",
      " * Dictyocaulus_viviparus\n",
      " * Diploscapter_coronatus\n",
      " * Diploscapter_pachys\n",
      " * Haemonchus_contortus\n",
      " * Haemonchus_placei\n",
      " * Heligmosomoides_polygyrus\n",
      " * Heterorhabditis_bacteriophora\n",
      " * Necator_americanus\n",
      " * Nippostrongylus_brasiliensis\n",
      " * Oesophagostomum_dentatum\n",
      " * Pristionchus_exspectatus\n",
      " * Strongylus_vulgaris\n",
      " * Teladorsagia_circumcincta\n",
      " * Diphyllobothrium_latum\n",
      " * Echinococcus_canadensis\n",
      " * Echinococcus_granulosus\n",
      " * Echinococcus_multilocularis\n",
      " * Hydatigera_taeniaeformis\n",
      " * Hymenolepis_diminuta\n",
      " * Hymenolepis_microstoma\n",
      " * Hymenolepis_nana\n",
      " * Mesocestoides_corti\n",
      " * Schistocephalus_solidus\n",
      " * Spirometra_erinaceieuropaei\n",
      " * Taenia_asiatica\n",
      " * Taenia_saginata\n",
      " * Taenia_solium\n",
      " * Clonorchis_sinensis\n",
      " * Echinostoma_caproni\n",
      " * Fasciola_hepatica\n",
      " * Opisthorchis_viverrini\n",
      " * Schistosoma_curassoni\n",
      " * Schistosoma_haematobium\n",
      " * Schistosoma_japonicum\n",
      " * Schistosoma_mansoni\n",
      " * Schistosoma_margrebowiei\n",
      " * Schistosoma_mattheei\n",
      " * Schistosoma_rodhaini\n",
      " * Trichobilharzia_regenti\n",
      " * Gyrodactylus_salaris\n",
      " * Protopolystoma_xenopodis\n",
      " * Macrostomum_lignano\n",
      " * Schmidtea_mediterranea\n"
     ]
    }
   ],
   "source": [
    "biu.genomes.Wormbase.organisms()"
   ]
  },
  {
   "cell_type": "code",
   "execution_count": 12,
   "metadata": {},
   "outputs": [
    {
     "name": "stdout",
     "output_type": "stream",
     "text": [
      "/exports/molepi/tgehrmann/data/_downloads/2a4190087a93236b6560fbb1faee17454ea483bd\n",
      "0\n",
      "Wormbase object\n",
      " Genome : wormbase_Caenorhabditis_elegans\n",
      " Objects:\n",
      "  * [ ] gff\n",
      "  * [ ] genome\n",
      "  * [ ] aa\n",
      " Files:\n",
      "  * [ ] gff : /exports/molepi/tgehrmann/data/wormbase_Caenorhabditis_elegans/genes.gff3\n",
      "  * [ ] genome : /exports/molepi/tgehrmann/data/wormbase_Caenorhabditis_elegans/genome.fasta\n",
      "  * [X] aa : /exports/molepi/tgehrmann/data/wormbase_Caenorhabditis_elegans/aa.fasta\n",
      "\n"
     ]
    }
   ],
   "source": [
    "worm = biu.genomes.Wormbase()\n",
    "print(worm)"
   ]
  },
  {
   "cell_type": "code",
   "execution_count": 13,
   "metadata": {},
   "outputs": [
    {
     "name": "stderr",
     "output_type": "stream",
     "text": [
      "D: Fasta input source is file\n"
     ]
    },
    {
     "name": "stdout",
     "output_type": "stream",
     "text": [
      "Fasta object\n",
      " Where: /exports/molepi/tgehrmann/data/wormbase_Caenorhabditis_elegans/aa.fasta\n",
      " Entries: 28178\n",
      " Primary type: prot\n",
      "\n"
     ]
    }
   ],
   "source": [
    "print(worm.aa)"
   ]
  },
  {
   "cell_type": "markdown",
   "metadata": {},
   "source": [
    "## Flybase\n",
    "You can also download the genomes present on Flybase"
   ]
  },
  {
   "cell_type": "code",
   "execution_count": 14,
   "metadata": {},
   "outputs": [
    {
     "name": "stdout",
     "output_type": "stream",
     "text": [
      "Organisms in Flybase, release FB2018_03:\n",
      " * dana_r1.05\n",
      " * dere_r1.05\n",
      " * dgri_r1.05\n",
      " * dmel_r6.22\n",
      " * dmoj_r1.04\n",
      " * dper_r1.3\n",
      " * dpse_r3.04\n",
      " * dsec_r1.3\n",
      " * dsim_r2.02\n",
      " * dvir_r1.06\n",
      " * dwil_r1.05\n",
      " * dyak_r1.05\n"
     ]
    }
   ],
   "source": [
    "biu.genomes.Flybase.organisms()"
   ]
  },
  {
   "cell_type": "code",
   "execution_count": 15,
   "metadata": {},
   "outputs": [
    {
     "name": "stdout",
     "output_type": "stream",
     "text": [
      "Flybase object\n",
      " Genome : flybase_FB2018_03.dmel_r6.22\n",
      " Objects:\n",
      "  * [ ] gff\n",
      "  * [ ] genome\n",
      "  * [ ] cds\n",
      "  * [ ] aa\n",
      " Files:\n",
      "  * [ ] gff : /exports/molepi/tgehrmann/data/flybase_FB2018_03.dmel_r6.22/genes.gff3\n",
      "  * [ ] genome : /exports/molepi/tgehrmann/data/flybase_FB2018_03.dmel_r6.22/dna.fasta\n",
      "  * [ ] cds : /exports/molepi/tgehrmann/data/flybase_FB2018_03.dmel_r6.22/cds.fa\n",
      "  * [X] aa : /exports/molepi/tgehrmann/data/flybase_FB2018_03.dmel_r6.22/aa.fa\n",
      "\n"
     ]
    }
   ],
   "source": [
    "fly = biu.genomes.Flybase()\n",
    "print(fly)"
   ]
  },
  {
   "cell_type": "code",
   "execution_count": null,
   "metadata": {},
   "outputs": [],
   "source": []
  }
 ],
 "metadata": {
  "kernelspec": {
   "display_name": "Python 3",
   "language": "python",
   "name": "python3"
  },
  "language_info": {
   "codemirror_mode": {
    "name": "ipython",
    "version": 3
   },
   "file_extension": ".py",
   "mimetype": "text/x-python",
   "name": "python",
   "nbconvert_exporter": "python",
   "pygments_lexer": "ipython3",
   "version": "3.6.3"
  }
 },
 "nbformat": 4,
 "nbformat_minor": 2
}
