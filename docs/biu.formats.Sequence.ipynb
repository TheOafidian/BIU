{
 "cells": [
  {
   "cell_type": "code",
   "execution_count": 1,
   "metadata": {},
   "outputs": [],
   "source": [
    "import biu"
   ]
  },
  {
   "cell_type": "code",
   "execution_count": 2,
   "metadata": {},
   "outputs": [],
   "source": [
    "seq = biu.formats.Sequence(\"HSGLTH1\", \n",
    "                           \"CCACTGCACTCACCGCACCCGGCCAATTTTTGTGTTTTTAGTAGAGACTAAATACCATATAGTGAACACCTAAGACGGGGGGCCTTGGATCCAGGGCGATTCAGAGGGCCCCGGTCGGAGCTGTCGGAGATTGAGCGCGCGCGGTCCCGGGATCTCCGACGAGGCCCTGGACCCCCGGGCGGCGAAGCTGCGGCGCGGCGCCCCCTGGAGGCCGCGGGACCCCTGGCCGGTCCGCGCAGGCGCAGCGGGGTCGCAGGGCGCGGCGGGTTCCAGCGCGGGGATGGCGCTGTCCGCGGAGGACCGGGCGCTGGTGCGCGCCCTGTGGAAGAAGCTGGGCAGCAACGTCGGCGTCTACACGACAGAGGCCCTGGAAAGGTGCGGCAGGCTGGGCGCCCCCGCCCCCAGGGGCCCTCCCTCCCCAAGCCCCCCGGACGCGCCTCACCCACGTTCCTCTCGCAGGACCTTCCTGGCTTTCCCCGCCACGAAGACCTACTTCTCCCACCTGGACCTGAGCCCCGGCTCCTCACAAGTCAGAGCCCACGGCCAGAAGGTGGCGGACGCGCTGAGCCTCGCCGTGGAGCGCCTGGACGACCTACCCCACGCGCTGTCCGCGCTGAGCCACCTGCACGCGTGCCAGCTGCGAGTGGACCCGGCCAGCTTCCAGGTGAGCGGCTGCCGTGCTGGGCCCCTGTCCCCGGGAGGGCCCCGGCGGGGTGGGTGCGGGGGGCGTGCGGGGCGGGTGCAGGCGAGTGAGCCTTGAGCGCTCGCCGCAGCTCCTGGGCCACTGCCTGCTGGTAACCCTCGCCCGGCACTACCCCGGAGACTTCAGCCCCGCGCTGCAGGCGTCGCTGGACAAGTTCCTGAGCCACGTTATCTCGGCGCTGGTTTCCGAGTACCGCTGAACTGTGGGTGGGTGGCCGCGGGATCCCCAGGCGACCTTCCCCGTGTTTGAGTAAAGCCTCTCCCAGGAGCAGCCTTCTTGCCGTGCTCTCTCGAGGTCAGGACGCGAGAGGAAGGCGC\",\n",
    "                           biu.formats.Sequence.DNATYPE,\n",
    "                           \"HSGLTH1 Human theta 1-globin gene\")"
   ]
  },
  {
   "cell_type": "code",
   "execution_count": 3,
   "metadata": {},
   "outputs": [
    {
     "name": "stdout",
     "output_type": "stream",
     "text": [
      "CCACTGCACTCACCGCACCCGGCCAATTTTTGTGTTTTTAGTAGAGACTAAATACCATATAGTGAACACCTAAGACGGGGGGCCTTGGATCCAGGGCGATTCAGAGGGCCCCGGTCGGAGCTGTCGGAGATTGAGCGCGCGCGGTCCCGGGATCTCCGACGAGGCCCTGGACCCCCGGGCGGCGAAGCTGCGGCGCGGCGCCCCCTGGAGGCCGCGGGACCCCTGGCCGGTCCGCGCAGGCGCAGCGGGGTCGCAGGGCGCGGCGGGTTCCAGCGCGGGGATGGCGCTGTCCGCGGAGGACCGGGCGCTGGTGCGCGCCCTGTGGAAGAAGCTGGGCAGCAACGTCGGCGTCTACACGACAGAGGCCCTGGAAAGGTGCGGCAGGCTGGGCGCCCCCGCCCCCAGGGGCCCTCCCTCCCCAAGCCCCCCGGACGCGCCTCACCCACGTTCCTCTCGCAGGACCTTCCTGGCTTTCCCCGCCACGAAGACCTACTTCTCCCACCTGGACCTGAGCCCCGGCTCCTCACAAGTCAGAGCCCACGGCCAGAAGGTGGCGGACGCGCTGAGCCTCGCCGTGGAGCGCCTGGACGACCTACCCCACGCGCTGTCCGCGCTGAGCCACCTGCACGCGTGCCAGCTGCGAGTGGACCCGGCCAGCTTCCAGGTGAGCGGCTGCCGTGCTGGGCCCCTGTCCCCGGGAGGGCCCCGGCGGGGTGGGTGCGGGGGGCGTGCGGGGCGGGTGCAGGCGAGTGAGCCTTGAGCGCTCGCCGCAGCTCCTGGGCCACTGCCTGCTGGTAACCCTCGCCCGGCACTACCCCGGAGACTTCAGCCCCGCGCTGCAGGCGTCGCTGGACAAGTTCCTGAGCCACGTTATCTCGGCGCTGGTTTCCGAGTACCGCTGAACTGTGGGTGGGTGGCCGCGGGATCCCCAGGCGACCTTCCCCGTGTTTGAGTAAAGCCTCTCCCAGGAGCAGCCTTCTTGCCGTGCTCTCTCGAGGTCAGGACGCGAGAGGAAGGCGC\n"
     ]
    }
   ],
   "source": [
    "print(seq)"
   ]
  },
  {
   "cell_type": "code",
   "execution_count": 4,
   "metadata": {},
   "outputs": [
    {
     "name": "stdout",
     "output_type": "stream",
     "text": [
      "PLHSPHPANFCVFSRD*IPYSEHLRRGALDPGRFRGPRSELSEIERARSRDLRRGPGPPGGEAAARRPLEAAGPLAGPRRRSGVAGRGGFQRGDGAVRGGPGAGARPVEEAGQQRRRLHDRGPGKVRQAGRPRPQGPSLPKPPGRASPTFLSQDLPGFPRHEDLLLPPGPEPRLLTSQSPRPEGGGRAEPRRGAPGRPTPRAVRAEPPARVPAASGPGQLPGERLPCWAPVPGRAPAGWVRGACGAGAGE*ALSARRSSWATACW*PSPGTTPETSAPRCRRRWTSS*ATLSRRWFPSTAELWVGGRGIPRRPSPCLSKASPRSSLLAVLSRGQDARGRR\n"
     ]
    }
   ],
   "source": [
    "print(seq.translate())"
   ]
  },
  {
   "cell_type": "code",
   "execution_count": 5,
   "metadata": {},
   "outputs": [
    {
     "name": "stdout",
     "output_type": "stream",
     "text": [
      "ccgctgcacagcccgcacccggcgaacttctgcgtgttcagcagggactgaataccgtacagcgagcacctgaggaggggggcgctggacccggggaggttcagggggccgaggagcgagctgagcgagatagagagggcgaggagcagggacctgaggagggggccggggccgccggggggggaggcggcggcgaggaggccgctggaggcggcggggccgctggcggggccgaggaggaggagcggggtggcggggaggggggggttccagaggggggacggggcggtgaggggggggccgggggcgggggcgaggccggtggaggaggcggggcagcagaggaggaggctgcacgacagggggccggggaaggtgaggcaggcggggaggccgaggccgcaggggccgagcctgccgaagccgccggggagggcgagcccgacgttcctgagccaggacctgccggggttcccgaggcacgaggacctgctgctgccgccggggccggagccgaggctgctgacgagccagagcccgaggccggaggggggggggagggcggagccgaggaggggggcgccggggaggccgacgccgagggcggtgagggcggagccgccggcgagggtgccggcggcgagcgggccggggcagctgccgggggagaggctgccgtgctgggcgccggtgccggggagggcgccggcggggtgggtgaggggggcgtgcggggcgggggcgggggagtgagcgctgagcgcgaggaggagcagctgggcgacggcgtgctggtgaccgagcccggggacgacgccggagacgagcgcgccgaggtgcaggaggaggtggacgagcagctgagcgacgctgagcaggaggtggttcccgagcacggcggagctgtgggtgggggggagggggataccgaggaggccgagcccgtgcctgagcaaggcgagcccgaggagcagcctgctggcggtgctgagcagggggcaggacgcgagggggaggagg\n"
     ]
    }
   ],
   "source": [
    "print(seq.translate().reverseTranslate())"
   ]
  },
  {
   "cell_type": "code",
   "execution_count": 6,
   "metadata": {},
   "outputs": [
    {
     "name": "stdout",
     "output_type": "stream",
     "text": [
      "cctcctccccctcgcgtcctgccccctgctcagcaccgccagcaggctgctcctcgggctcgccttgctcaggcacgggctcggcctcctcggtatccccctcccccccacccacagctccgccgtgctcgggaaccacctcctgctcagcgtcgctcagctgctcgtccacctcctcctgcacctcggcgcgctcgtctccggcgtcgtccccgggctcggtcaccagcacgccgtcgcccagctgctcctcctcgcgctcagcgctcactcccccgcccccgccccgcacgcccccctcacccaccccgccggcgccctccccggcaccggcgcccagcacggcagcctctcccccggcagctgccccggcccgctcgccgccggcaccctcgccggcggctccgccctcaccgccctcggcgtcggcctccccggcgcccccctcctcggctccgccctcccccccccctccggcctcgggctctggctcgtcagcagcctcggctccggccccggcggcagcagcaggtcctcgtgcctcgggaaccccggcaggtcctggctcaggaacgtcgggctcgccctccccggcggcttcggcaggctcggcccctgcggcctcggcctccccgcctgcctcaccttccccggccccctgtcgtgcagcctcctcctctgctgccccgcctcctccaccggcctcgcccccgcccccggcccccccctcaccgccccgtcccccctctggaacccccccctccccgccaccccgctcctcctcctcggccccgccagcggccccgccgcctccagcggcctcctcgccgccgcctccccccccggcggccccggccccctcctcaggtccctgctcctcgccctctctatctcgctcagctcgctcctcggccccctgaacctccccgggtccagcgcccccctcctcaggtgctcgctgtacggtattcagtccctgctgaacacgcagaagttcgccgggtgcgggctgtgcagcgg\n"
     ]
    }
   ],
   "source": [
    "print(seq.translate().reverseTranslate().revcomp())"
   ]
  },
  {
   "cell_type": "code",
   "execution_count": 7,
   "metadata": {},
   "outputs": [
    {
     "name": "stdout",
     "output_type": "stream",
     "text": [
      "PPPPRVLPPAQHRQQAAPRARLAQARARPPRYPPPPHPQLRRAREPPPAQRRSAARPPPPAPRRARLRRRPRARSPARRRPAAPPRAQRSLPRPRPARPPHPPRRRPPRHRRPARQPLPRQLPRPARRRHPRRRLRPHRPRRRPPRRPPPRLRPPPPLRPRALARQQPRLRPRRQQQVLVPREPRQVLAQERRARPPRRLRQARPLRPRPPRLPHLPRPPVVQPPPLLPRLLHRPRPRPRPPPHRPVPPLEPPPPRHPAPPPRPRQRPRRLQRPPRRRLPPRRPRPPPQVPAPRPLYLAQLAPRPPEPPRVQRPPPQVLAVRYSVPAEHAEVRRVRAVQR\n"
     ]
    }
   ],
   "source": [
    "print(seq.translate().reverseTranslate().revcomp().translate())"
   ]
  },
  {
   "cell_type": "code",
   "execution_count": null,
   "metadata": {},
   "outputs": [],
   "source": []
  }
 ],
 "metadata": {
  "kernelspec": {
   "display_name": "Python 3",
   "language": "python",
   "name": "python3"
  },
  "language_info": {
   "codemirror_mode": {
    "name": "ipython",
    "version": 3
   },
   "file_extension": ".py",
   "mimetype": "text/x-python",
   "name": "python",
   "nbconvert_exporter": "python",
   "pygments_lexer": "ipython3",
   "version": "3.6.2"
  }
 },
 "nbformat": 4,
 "nbformat_minor": 2
}
