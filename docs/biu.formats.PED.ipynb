{
 "cells": [
  {
   "cell_type": "markdown",
   "metadata": {},
   "source": [
    "# Loading a PED file\n",
    "\n",
    "Pedigree files come in multiple parts:\n",
    " * a DAT file, defining the phentypic and genotypic information contained in ...\n",
    " * a PED file, describing the family structure, and the geno/phenotypic information per individual\n",
    " * a MAP file, describing the locations of markers defined in the DAT file\n",
    " \n",
    "For a semi-useful description, see http://csg.sph.umich.edu/abecasis/merlin/tour/input_files.html"
   ]
  },
  {
   "cell_type": "code",
   "execution_count": 1,
   "metadata": {},
   "outputs": [],
   "source": [
    "import biu as biu"
   ]
  },
  {
   "cell_type": "markdown",
   "metadata": {},
   "source": [
    "## Load a PED file, together with a DAT file\n",
    "In the example file, there is a single family defined, and for each:\n",
    " * Affection status: 'some_disease'\n",
    " * Quantitative Trait: 'some_trait'\n",
    " * Marker: 'some_marker'\n",
    " * Marker: 'another_marker'"
   ]
  },
  {
   "cell_type": "code",
   "execution_count": 2,
   "metadata": {},
   "outputs": [],
   "source": [
    "ped = biu.formats.PED('example_files/example_pedigree.ped', 'example_files/example_pedigree.dat')"
   ]
  },
  {
   "cell_type": "code",
   "execution_count": 3,
   "metadata": {},
   "outputs": [
    {
     "name": "stdout",
     "output_type": "stream",
     "text": [
      "PED object\n",
      " Where: example_files/example_pedigree.ped\n",
      " DAT file: example_files/example_pedigree.dat\n",
      " Families: 1\n",
      "  Founders: 3\n",
      "  Total: 6\n",
      " Features: 4\n",
      "  Affections: 1\n",
      "  Covariates: 0\n",
      "  Traits: 1\n",
      "  Markers: 2\n",
      "\n"
     ]
    }
   ],
   "source": [
    "print(ped)"
   ]
  },
  {
   "cell_type": "markdown",
   "metadata": {},
   "source": [
    "## Accessing families in the pedigree"
   ]
  },
  {
   "cell_type": "code",
   "execution_count": 4,
   "metadata": {},
   "outputs": [
    {
     "name": "stdout",
     "output_type": "stream",
     "text": [
      "Pedigree Family\n",
      " Members: 6\n",
      " Founders: 3\n",
      "\n"
     ]
    }
   ],
   "source": [
    "for familyID in ped.families:\n",
    "    print(ped[familyID])"
   ]
  },
  {
   "cell_type": "markdown",
   "metadata": {},
   "source": [
    "## Accessing members of a family"
   ]
  },
  {
   "cell_type": "code",
   "execution_count": 5,
   "metadata": {},
   "outputs": [
    {
     "name": "stdout",
     "output_type": "stream",
     "text": [
      "Pedigree Individual\n",
      " Family ID: 1\n",
      " Individual ID: 1\n",
      " Mother/Father ID: None/None\n",
      " Gender: m\n",
      " Affection status:\n",
      "  some_disease : 1\n",
      "\n",
      "\n",
      "Pedigree Individual\n",
      " Family ID: 1\n",
      " Individual ID: 2\n",
      " Mother/Father ID: None/None\n",
      " Gender: f\n",
      " Affection status:\n",
      "  some_disease : 1\n",
      "\n",
      "\n",
      "Pedigree Individual\n",
      " Family ID: 1\n",
      " Individual ID: 3\n",
      " Mother/Father ID: None/None\n",
      " Gender: m\n",
      " Affection status:\n",
      "  some_disease : 1\n",
      "\n",
      "\n",
      "Pedigree Individual\n",
      " Family ID: 1\n",
      " Individual ID: 4\n",
      " Mother/Father ID: 2/1\n",
      " Gender: f\n",
      " Affection status:\n",
      "  some_disease : 1\n",
      "\n",
      "\n",
      "Pedigree Individual\n",
      " Family ID: 1\n",
      " Individual ID: 5\n",
      " Mother/Father ID: 4/3\n",
      " Gender: f\n",
      " Affection status:\n",
      "  some_disease : 2\n",
      "\n",
      "\n",
      "Pedigree Individual\n",
      " Family ID: 1\n",
      " Individual ID: 6\n",
      " Mother/Father ID: 4/3\n",
      " Gender: m\n",
      " Affection status:\n",
      "  some_disease : 2\n",
      "\n",
      "\n"
     ]
    }
   ],
   "source": [
    "family = ped[\"1\"]\n",
    "for memberID in family:\n",
    "    print(family[memberID])\n",
    "    print('\\n')"
   ]
  },
  {
   "cell_type": "markdown",
   "metadata": {},
   "source": [
    "## Rename family members\n",
    "You can rename family members to something that is easier to read.\n",
    "If the member is a parent, the ID is adjusted also in the other members."
   ]
  },
  {
   "cell_type": "code",
   "execution_count": 6,
   "metadata": {},
   "outputs": [
    {
     "name": "stdout",
     "output_type": "stream",
     "text": [
      "Pedigree Individual\n",
      " Family ID: 1\n",
      " Individual ID: Family_Mother\n",
      " Mother/Father ID: 2/1\n",
      " Gender: f\n",
      " Affection status:\n",
      "  some_disease : 1\n",
      "\n",
      "\n",
      "Pedigree Individual\n",
      " Family ID: 1\n",
      " Individual ID: 5\n",
      " Mother/Father ID: Family_Mother/3\n",
      " Gender: f\n",
      " Affection status:\n",
      "  some_disease : 2\n"
     ]
    }
   ],
   "source": [
    "family.changeMemberID(\"4\", \"Family_Mother\")\n",
    "\n",
    "print(family[\"Family_Mother\"])\n",
    "print(\"\\n\")\n",
    "print(family[\"5\"])"
   ]
  },
  {
   "cell_type": "markdown",
   "metadata": {},
   "source": [
    "## Delete a family member\n",
    "You can remove family members from a family.\n",
    "If the member is a parent, the reference to them is removed also in their children."
   ]
  },
  {
   "cell_type": "code",
   "execution_count": 7,
   "metadata": {},
   "outputs": [
    {
     "name": "stdout",
     "output_type": "stream",
     "text": [
      "Pedigree Individual\n",
      " Family ID: 1\n",
      " Individual ID: 5\n",
      " Mother/Father ID: None/3\n",
      " Gender: f\n",
      " Affection status:\n",
      "  some_disease : 2\n"
     ]
    }
   ],
   "source": [
    "family.delMember(\"Family_Mother\")\n",
    "\n",
    "print(family[\"5\"])"
   ]
  },
  {
   "cell_type": "markdown",
   "metadata": {},
   "source": [
    "## Adding a new family"
   ]
  },
  {
   "cell_type": "code",
   "execution_count": 8,
   "metadata": {},
   "outputs": [
    {
     "name": "stderr",
     "output_type": "stream",
     "text": [
      "E: More DAT features than provided. Filling with unknown values. Verify your PED/DAT file.\n",
      "E: More DAT features than provided. Filling with unknown values. Verify your PED/DAT file.\n",
      "E: More DAT features than provided. Filling with unknown values. Verify your PED/DAT file.\n",
      "E: More DAT features than provided. Filling with unknown values. Verify your PED/DAT file.\n",
      "E: More DAT features than provided. Filling with unknown values. Verify your PED/DAT file.\n",
      "E: More DAT features than provided. Filling with unknown values. Verify your PED/DAT file.\n"
     ]
    }
   ],
   "source": [
    "# Add a new family\n",
    "newFamily   = ped.newFamily(\"Best_Family\")\n",
    "\n",
    "# Populate the family\n",
    "newFather   = newFamily.newMember(\"Father\", None, None, 'm')\n",
    "newMother   = newFamily.newMember(\"Mother\", None, None, 'f')\n",
    "# You can reference the parents with the IDs you provided in the definition\n",
    "newSon      = newFamily.newMember(\"Son\", \"Father\", \"Mother\", 'm')\n",
    "# You can also provide the individual structures that came from the definition\n",
    "newDaughter = newFamily.newMember(\"Daughter\", newFather, newMother, 'f')\n",
    "newSonInLaw = newFamily.newMember(\"SonInLaw\", None, None, 'm')\n",
    "newGrandSon = newFamily.newMember(\"GrandSon\", newSonInLaw, newDaughter, 'm')"
   ]
  },
  {
   "cell_type": "markdown",
   "metadata": {},
   "source": [
    "## Accessing geno/phenotype information for a specific individual"
   ]
  },
  {
   "cell_type": "code",
   "execution_count": 9,
   "metadata": {},
   "outputs": [
    {
     "name": "stdout",
     "output_type": "stream",
     "text": [
      "Genotype and Phenotype Object\n",
      " some_disease: 2\n",
      " some_trait: 4.321\n",
      " some_marker: 2/4\n",
      " another_marker: 2/2\n",
      "\n",
      "2\n",
      "1\n"
     ]
    }
   ],
   "source": [
    "member = family.members[\"6\"]\n",
    "print(member.features)\n",
    "\n",
    "# Access the value\n",
    "print(member.features[\"some_disease\"])\n",
    "\n",
    "# Set the value\n",
    "member.setFeature(\"some_disease\", 1)\n",
    "print(member.features[\"some_disease\"])"
   ]
  },
  {
   "cell_type": "markdown",
   "metadata": {},
   "source": [
    "### Accessing individual values"
   ]
  },
  {
   "cell_type": "code",
   "execution_count": 10,
   "metadata": {},
   "outputs": [
    {
     "name": "stdout",
     "output_type": "stream",
     "text": [
      "1\n",
      "1\n"
     ]
    }
   ],
   "source": [
    "# Access the value\n",
    "print(member.features[\"some_disease\"])\n",
    "\n",
    "# Set the value\n",
    "member.setFeature(\"some_disease\", 1)\n",
    "print(member.features[\"some_disease\"])"
   ]
  },
  {
   "cell_type": "markdown",
   "metadata": {},
   "source": [
    "## Adding a new phenotype to all individuals"
   ]
  },
  {
   "cell_type": "code",
   "execution_count": 11,
   "metadata": {},
   "outputs": [
    {
     "name": "stdout",
     "output_type": "stream",
     "text": [
      "Genotype and Phenotype Object\n",
      " some_disease: 1\n",
      " some_trait: 4.321\n",
      " some_marker: 2/4\n",
      " another_marker: 2/2\n",
      " Some_other_trait: X\n",
      "\n",
      "Genotype and Phenotype Object\n",
      " some_disease: 1\n",
      " some_trait: 4.321\n",
      " some_marker: 2/4\n",
      " another_marker: 2/2\n",
      " Some_other_trait: 123.5\n",
      "\n"
     ]
    }
   ],
   "source": [
    "# Add the feature to all individuals (With missing value as default)\n",
    "ped.addFeature(\"T\", \"Some_other_trait\")\n",
    "# Valid types:\n",
    "# * T : Trait\n",
    "# * C : Covariate\n",
    "# * A : Affection status\n",
    "# * M : Genetic Marker\n",
    "# * S : Column to skip\n",
    "\n",
    "# For a given family member...\n",
    "member = family.members[\"6\"]\n",
    "print(member.features)\n",
    "\n",
    "# Set the feature value.\n",
    "member.setFeature(\"Some_other_trait\", 123.5)\n",
    "print(member.features)"
   ]
  },
  {
   "cell_type": "markdown",
   "metadata": {},
   "source": [
    "## Mask/unmask certain features\n",
    "You can mask and unmask certain columns (In the written file, these will appear as 'S' columns.)"
   ]
  },
  {
   "cell_type": "code",
   "execution_count": 12,
   "metadata": {},
   "outputs": [
    {
     "name": "stdout",
     "output_type": "stream",
     "text": [
      "some_trait\n"
     ]
    }
   ],
   "source": [
    "ped.maskFeature(\"some_trait\")\n",
    "ped.unmaskFeature(\"some_trait\")"
   ]
  },
  {
   "cell_type": "markdown",
   "metadata": {},
   "source": [
    "## Select a subset of families\n",
    "You can make a subset of specific families.\n",
    "The entire structure will be deeply copied, resulting in an entirely independant structure.\n",
    "Changes made to this structure do not affect the previous one."
   ]
  },
  {
   "cell_type": "code",
   "execution_count": 13,
   "metadata": {},
   "outputs": [
    {
     "name": "stdout",
     "output_type": "stream",
     "text": [
      "Value in subped:  2\n",
      "Value in original ped: 1\n"
     ]
    }
   ],
   "source": [
    "# Make subset\n",
    "subped = ped.subset([\"1\"])\n",
    "\n",
    "# Change a value in the subset\n",
    "subped[\"1\"][\"1\"].setFeature(\"some_disease\", 2)\n",
    "\n",
    "# Check the values\n",
    "print(\"Value in subped: \", subped[\"1\"][\"1\"].getFeature(\"some_disease\"))\n",
    "print(\"Value in original ped:\", ped[\"1\"][\"1\"].getFeature(\"some_disease\"))"
   ]
  },
  {
   "cell_type": "code",
   "execution_count": 14,
   "metadata": {},
   "outputs": [],
   "source": [
    "## "
   ]
  },
  {
   "cell_type": "markdown",
   "metadata": {},
   "source": [
    "## Writing PED files\n",
    "\n",
    "Given a PED structure, you can write it to a file using the write command.\n",
    "This will produce two files:\n",
    " * FILENAME.ped\n",
    " * FILENAME.dat"
   ]
  },
  {
   "cell_type": "code",
   "execution_count": 15,
   "metadata": {},
   "outputs": [],
   "source": [
    "ped.write(\"testing.ped\")\n",
    "# Or you can specify both:\n",
    "ped.write(\"testing.ped\", \"testing.dat\")"
   ]
  }
 ],
 "metadata": {
  "kernelspec": {
   "display_name": "Python 3",
   "language": "python",
   "name": "python3"
  },
  "language_info": {
   "codemirror_mode": {
    "name": "ipython",
    "version": 3
   },
   "file_extension": ".py",
   "mimetype": "text/x-python",
   "name": "python",
   "nbconvert_exporter": "python",
   "pygments_lexer": "ipython3",
   "version": "3.6.3"
  }
 },
 "nbformat": 4,
 "nbformat_minor": 2
}
