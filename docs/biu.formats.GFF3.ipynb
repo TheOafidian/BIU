{
 "cells": [
  {
   "cell_type": "markdown",
   "metadata": {},
   "source": [
    "# Handling GFF3 files\n"
   ]
  },
  {
   "cell_type": "code",
   "execution_count": 1,
   "metadata": {},
   "outputs": [],
   "source": [
    "import biu"
   ]
  },
  {
   "cell_type": "code",
   "execution_count": 2,
   "metadata": {},
   "outputs": [
    {
     "name": "stderr",
     "output_type": "stream",
     "text": [
      "D: GFF input source is file.\n"
     ]
    }
   ],
   "source": [
    "gff = biu.formats.GFF3('example_files/example.gff3')"
   ]
  },
  {
   "cell_type": "code",
   "execution_count": 3,
   "metadata": {},
   "outputs": [
    {
     "name": "stdout",
     "output_type": "stream",
     "text": [
      "GFF3 object\n",
      " Where: example_files/example.gff3\n",
      " Entries: 13\n",
      " Top level statistics:\n",
      "  * Gene : 1\n",
      "\n"
     ]
    }
   ],
   "source": [
    "print(gff)"
   ]
  },
  {
   "cell_type": "markdown",
   "metadata": {},
   "source": [
    "## Get Top Level features, by type"
   ]
  },
  {
   "cell_type": "code",
   "execution_count": 4,
   "metadata": {},
   "outputs": [
    {
     "data": {
      "text/plain": [
       "{'Gene': ['gene0001']}"
      ]
     },
     "execution_count": 4,
     "metadata": {},
     "output_type": "execute_result"
    }
   ],
   "source": [
    "gff.topLevel"
   ]
  },
  {
   "cell_type": "markdown",
   "metadata": {},
   "source": [
    "## Get entries from GFF based on ID\n"
   ]
  },
  {
   "cell_type": "code",
   "execution_count": 5,
   "metadata": {},
   "outputs": [
    {
     "data": {
      "text/plain": [
       "GFF3Entry(seqid:ctg123, source:., feature:Gene, start:1300, end:9001, score:., strand:+, phase:., attr:ID=gene0001;Name=sonichedgehog)"
      ]
     },
     "execution_count": 5,
     "metadata": {},
     "output_type": "execute_result"
    }
   ],
   "source": [
    "gff.getIDEntry('gene0001')"
   ]
  },
  {
   "cell_type": "markdown",
   "metadata": {},
   "source": [
    "## Get entries based on parent"
   ]
  },
  {
   "cell_type": "code",
   "execution_count": 6,
   "metadata": {},
   "outputs": [
    {
     "data": {
      "text/plain": [
       "[GFF3Entry(seqid:ctg123, source:., feature:mRNA, start:1300, end:9000, score:., strand:+, phase:., attr:ID=mrna0001.2;Name=sonichedgehog.1),\n",
       " GFF3Entry(seqid:ctg123, source:., feature:mRNA, start:1301, end:9001, score:., strand:+, phase:., attr:ID=mrna0001.2;Name=sonichedgehog.2)]"
      ]
     },
     "execution_count": 6,
     "metadata": {},
     "output_type": "execute_result"
    }
   ],
   "source": [
    "gff.getChildren('gene0001')"
   ]
  },
  {
   "cell_type": "code",
   "execution_count": 7,
   "metadata": {},
   "outputs": [
    {
     "data": {
      "text/plain": [
       "[GFF3Entry(seqid:ctg123, source:., feature:Gene, start:1300, end:9001, score:., strand:+, phase:., attr:ID=gene0001;Name=sonichedgehog),\n",
       " GFF3Entry(seqid:ctg123, source:., feature:mRNA, start:1300, end:9000, score:., strand:+, phase:., attr:ID=mrna0001.2;Name=sonichedgehog.1;Parent=gene0001),\n",
       " GFF3Entry(seqid:ctg123, source:., feature:mRNA, start:1301, end:9001, score:., strand:+, phase:., attr:ID=mrna0001.2;Name=sonichedgehog.2;Parent=gene0001)]"
      ]
     },
     "execution_count": 7,
     "metadata": {},
     "output_type": "execute_result"
    }
   ],
   "source": [
    "gff.getChildren('gene0001', containParent=True)"
   ]
  },
  {
   "cell_type": "markdown",
   "metadata": {},
   "source": [
    "## Create sub-structures"
   ]
  },
  {
   "cell_type": "code",
   "execution_count": 8,
   "metadata": {},
   "outputs": [
    {
     "name": "stdout",
     "output_type": "stream",
     "text": [
      "GFF3 object\n",
      " Where: 0x7f35c1dfe7f0\n",
      " Entries: 2\n",
      " Top level statistics:\n",
      "  * mRNA : 2\n",
      "\n"
     ]
    },
    {
     "name": "stderr",
     "output_type": "stream",
     "text": [
      "D: GFF input source is list of GFF3Entries.\n"
     ]
    }
   ],
   "source": [
    "subgff = biu.formats.GFF3(gff.getChildren('gene0001'))\n",
    "\n",
    "print(subgff)"
   ]
  }
 ],
 "metadata": {
  "kernelspec": {
   "display_name": "Python 3",
   "language": "python",
   "name": "python3"
  },
  "language_info": {
   "codemirror_mode": {
    "name": "ipython",
    "version": 3
   },
   "file_extension": ".py",
   "mimetype": "text/x-python",
   "name": "python",
   "nbconvert_exporter": "python",
   "pygments_lexer": "ipython3",
   "version": "3.6.2"
  }
 },
 "nbformat": 4,
 "nbformat_minor": 2
}
