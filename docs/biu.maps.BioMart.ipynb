{
 "cells": [
  {
   "cell_type": "markdown",
   "metadata": {},
   "source": [
    "# Downloading Mappings from BioMart\n",
    "\n",
    "BioMart maintains a large list of mappings between ensembl IDs. You can access them with the BioMart structure."
   ]
  },
  {
   "cell_type": "code",
   "execution_count": 1,
   "metadata": {},
   "outputs": [],
   "source": [
    "import biu"
   ]
  },
  {
   "cell_type": "markdown",
   "metadata": {},
   "source": [
    "## Predefined Queries"
   ]
  },
  {
   "cell_type": "code",
   "execution_count": 14,
   "metadata": {},
   "outputs": [
    {
     "name": "stdout",
     "output_type": "stream",
     "text": [
      "Pre-defined BioMart queries:\n",
      " * hsapiens_gene_trans_prot_geneid_hgnc\n",
      "  - database: hsapiens_gene_ensembl\n",
      "  - attributes: ensembl_gene_id,ensembl_transcript_id,ensembl_peptide_id,entrezgene,ucsc,hgnc_symbol\n",
      " * mmusculus_gene_trans_prot_hgnc\n",
      "  - database: mmusculus_gene_ensembl\n",
      "  - attributes: ensembl_gene_id,ensembl_transcript_id,ensembl_peptide_id,hgnc_symbol\n"
     ]
    }
   ],
   "source": [
    "biu.maps.BioMart.versions()"
   ]
  },
  {
   "cell_type": "code",
   "execution_count": 3,
   "metadata": {},
   "outputs": [
    {
     "name": "stdout",
     "output_type": "stream",
     "text": [
      "BioMart object\n",
      " Objects:\n",
      "  * [ ] ensembl_gene_id\n",
      "  * [ ] ensembl_transcript_id\n",
      "  * [ ] ensembl_peptide_id\n",
      "  * [ ] hgnc_symbol\n",
      " Files:\n",
      "  * [ ] db : /home/tgehrmann/repos/BIU/docs/bioMart_mmusculus_gene_trans_prot_hgnc/data.tsv\n",
      "\n"
     ]
    }
   ],
   "source": [
    "bmm = biu.maps.BioMart('mmusculus_gene_trans_prot_hgnc')\n",
    "print(bmm)"
   ]
  },
  {
   "cell_type": "markdown",
   "metadata": {},
   "source": [
    "## Accessing mappings in the BioMart response\n",
    "\n",
    "The results of the BioMart response are provided as a `biu.formats.TSVIndex` structure, which is indexed on a specific column. For each column, you can look up the rows that have that value. For example:"
   ]
  },
  {
   "cell_type": "code",
   "execution_count": 4,
   "metadata": {},
   "outputs": [
    {
     "name": "stdout",
     "output_type": "stream",
     "text": [
      "0\n"
     ]
    },
    {
     "name": "stderr",
     "output_type": "stream",
     "text": [
      "D: cp '/home/tgehrmann/repos/BIU/docs/_downloads/df963d55dfb66c984892dc19d33534bc7ed9de97' '/home/tgehrmann/repos/BIU/docs/bioMart_mmusculus_gene_trans_prot_hgnc/data.tsv'\n"
     ]
    },
    {
     "name": "stdout",
     "output_type": "stream",
     "text": [
      "0\n"
     ]
    },
    {
     "data": {
      "text/plain": [
       "[TSVIndexRow(ensembl_gene_id='ENSMUSG00000064372', ensembl_transcript_id='ENSMUST00000082423', ensembl_peptide_id='', hgnc_symbol='')]"
      ]
     },
     "execution_count": 4,
     "metadata": {},
     "output_type": "execute_result"
    }
   ],
   "source": [
    "bmm.ensembl_transcript_id['ENSMUST00000082423']"
   ]
  },
  {
   "cell_type": "code",
   "execution_count": 5,
   "metadata": {},
   "outputs": [
    {
     "data": {
      "text/plain": [
       "[TSVIndexRow(ensembl_gene_id='ENSMUSG00000064372', ensembl_transcript_id='ENSMUST00000082423', ensembl_peptide_id='', hgnc_symbol='')]"
      ]
     },
     "execution_count": 5,
     "metadata": {},
     "output_type": "execute_result"
    }
   ],
   "source": [
    "bmm.ensembl_gene_id['ENSMUSG00000064372']"
   ]
  },
  {
   "cell_type": "markdown",
   "metadata": {},
   "source": [
    "### View all mappings as a table"
   ]
  },
  {
   "cell_type": "code",
   "execution_count": 13,
   "metadata": {},
   "outputs": [
    {
     "data": {
      "text/html": [
       "<div>\n",
       "<style scoped>\n",
       "    .dataframe tbody tr th:only-of-type {\n",
       "        vertical-align: middle;\n",
       "    }\n",
       "\n",
       "    .dataframe tbody tr th {\n",
       "        vertical-align: top;\n",
       "    }\n",
       "\n",
       "    .dataframe thead th {\n",
       "        text-align: right;\n",
       "    }\n",
       "</style>\n",
       "<table border=\"1\" class=\"dataframe\">\n",
       "  <thead>\n",
       "    <tr style=\"text-align: right;\">\n",
       "      <th></th>\n",
       "      <th>ensembl_gene_id</th>\n",
       "      <th>ensembl_transcript_id</th>\n",
       "      <th>ensembl_peptide_id</th>\n",
       "      <th>hgnc_symbol</th>\n",
       "    </tr>\n",
       "  </thead>\n",
       "  <tbody>\n",
       "    <tr>\n",
       "      <th>0</th>\n",
       "      <td>ENSMUSG00000064372</td>\n",
       "      <td>ENSMUST00000082423</td>\n",
       "      <td></td>\n",
       "      <td></td>\n",
       "    </tr>\n",
       "    <tr>\n",
       "      <th>1</th>\n",
       "      <td>ENSMUSG00000064371</td>\n",
       "      <td>ENSMUST00000082422</td>\n",
       "      <td></td>\n",
       "      <td></td>\n",
       "    </tr>\n",
       "    <tr>\n",
       "      <th>2</th>\n",
       "      <td>ENSMUSG00000064370</td>\n",
       "      <td>ENSMUST00000082421</td>\n",
       "      <td>ENSMUSP00000081003</td>\n",
       "      <td></td>\n",
       "    </tr>\n",
       "    <tr>\n",
       "      <th>3</th>\n",
       "      <td>ENSMUSG00000064369</td>\n",
       "      <td>ENSMUST00000082420</td>\n",
       "      <td></td>\n",
       "      <td></td>\n",
       "    </tr>\n",
       "    <tr>\n",
       "      <th>4</th>\n",
       "      <td>ENSMUSG00000064368</td>\n",
       "      <td>ENSMUST00000082419</td>\n",
       "      <td>ENSMUSP00000081002</td>\n",
       "      <td></td>\n",
       "    </tr>\n",
       "    <tr>\n",
       "      <th>5</th>\n",
       "      <td>ENSMUSG00000064367</td>\n",
       "      <td>ENSMUST00000082418</td>\n",
       "      <td>ENSMUSP00000081001</td>\n",
       "      <td></td>\n",
       "    </tr>\n",
       "    <tr>\n",
       "      <th>6</th>\n",
       "      <td>ENSMUSG00000064366</td>\n",
       "      <td>ENSMUST00000082417</td>\n",
       "      <td></td>\n",
       "      <td></td>\n",
       "    </tr>\n",
       "    <tr>\n",
       "      <th>7</th>\n",
       "      <td>ENSMUSG00000064365</td>\n",
       "      <td>ENSMUST00000082416</td>\n",
       "      <td></td>\n",
       "      <td></td>\n",
       "    </tr>\n",
       "    <tr>\n",
       "      <th>8</th>\n",
       "      <td>ENSMUSG00000064364</td>\n",
       "      <td>ENSMUST00000082415</td>\n",
       "      <td></td>\n",
       "      <td></td>\n",
       "    </tr>\n",
       "    <tr>\n",
       "      <th>9</th>\n",
       "      <td>ENSMUSG00000064363</td>\n",
       "      <td>ENSMUST00000082414</td>\n",
       "      <td>ENSMUSP00000081000</td>\n",
       "      <td></td>\n",
       "    </tr>\n",
       "    <tr>\n",
       "      <th>10</th>\n",
       "      <td>ENSMUSG00000065947</td>\n",
       "      <td>ENSMUST00000084013</td>\n",
       "      <td>ENSMUSP00000081021</td>\n",
       "      <td></td>\n",
       "    </tr>\n",
       "    <tr>\n",
       "      <th>11</th>\n",
       "      <td>ENSMUSG00000064361</td>\n",
       "      <td>ENSMUST00000082412</td>\n",
       "      <td></td>\n",
       "      <td></td>\n",
       "    </tr>\n",
       "    <tr>\n",
       "      <th>12</th>\n",
       "      <td>ENSMUSG00000064360</td>\n",
       "      <td>ENSMUST00000082411</td>\n",
       "      <td>ENSMUSP00000080998</td>\n",
       "      <td></td>\n",
       "    </tr>\n",
       "    <tr>\n",
       "      <th>13</th>\n",
       "      <td>ENSMUSG00000064359</td>\n",
       "      <td>ENSMUST00000082410</td>\n",
       "      <td></td>\n",
       "      <td></td>\n",
       "    </tr>\n",
       "    <tr>\n",
       "      <th>14</th>\n",
       "      <td>ENSMUSG00000064358</td>\n",
       "      <td>ENSMUST00000082409</td>\n",
       "      <td>ENSMUSP00000080997</td>\n",
       "      <td></td>\n",
       "    </tr>\n",
       "    <tr>\n",
       "      <th>15</th>\n",
       "      <td>ENSMUSG00000064357</td>\n",
       "      <td>ENSMUST00000082408</td>\n",
       "      <td>ENSMUSP00000080996</td>\n",
       "      <td></td>\n",
       "    </tr>\n",
       "    <tr>\n",
       "      <th>16</th>\n",
       "      <td>ENSMUSG00000064356</td>\n",
       "      <td>ENSMUST00000082407</td>\n",
       "      <td>ENSMUSP00000080995</td>\n",
       "      <td></td>\n",
       "    </tr>\n",
       "    <tr>\n",
       "      <th>17</th>\n",
       "      <td>ENSMUSG00000064355</td>\n",
       "      <td>ENSMUST00000082406</td>\n",
       "      <td></td>\n",
       "      <td></td>\n",
       "    </tr>\n",
       "    <tr>\n",
       "      <th>18</th>\n",
       "      <td>ENSMUSG00000064354</td>\n",
       "      <td>ENSMUST00000082405</td>\n",
       "      <td>ENSMUSP00000080994</td>\n",
       "      <td></td>\n",
       "    </tr>\n",
       "    <tr>\n",
       "      <th>19</th>\n",
       "      <td>ENSMUSG00000064353</td>\n",
       "      <td>ENSMUST00000082404</td>\n",
       "      <td></td>\n",
       "      <td></td>\n",
       "    </tr>\n",
       "  </tbody>\n",
       "</table>\n",
       "</div>"
      ],
      "text/plain": [
       "       ensembl_gene_id ensembl_transcript_id  ensembl_peptide_id hgnc_symbol\n",
       "0   ENSMUSG00000064372    ENSMUST00000082423                                \n",
       "1   ENSMUSG00000064371    ENSMUST00000082422                                \n",
       "2   ENSMUSG00000064370    ENSMUST00000082421  ENSMUSP00000081003            \n",
       "3   ENSMUSG00000064369    ENSMUST00000082420                                \n",
       "4   ENSMUSG00000064368    ENSMUST00000082419  ENSMUSP00000081002            \n",
       "5   ENSMUSG00000064367    ENSMUST00000082418  ENSMUSP00000081001            \n",
       "6   ENSMUSG00000064366    ENSMUST00000082417                                \n",
       "7   ENSMUSG00000064365    ENSMUST00000082416                                \n",
       "8   ENSMUSG00000064364    ENSMUST00000082415                                \n",
       "9   ENSMUSG00000064363    ENSMUST00000082414  ENSMUSP00000081000            \n",
       "10  ENSMUSG00000065947    ENSMUST00000084013  ENSMUSP00000081021            \n",
       "11  ENSMUSG00000064361    ENSMUST00000082412                                \n",
       "12  ENSMUSG00000064360    ENSMUST00000082411  ENSMUSP00000080998            \n",
       "13  ENSMUSG00000064359    ENSMUST00000082410                                \n",
       "14  ENSMUSG00000064358    ENSMUST00000082409  ENSMUSP00000080997            \n",
       "15  ENSMUSG00000064357    ENSMUST00000082408  ENSMUSP00000080996            \n",
       "16  ENSMUSG00000064356    ENSMUST00000082407  ENSMUSP00000080995            \n",
       "17  ENSMUSG00000064355    ENSMUST00000082406                                \n",
       "18  ENSMUSG00000064354    ENSMUST00000082405  ENSMUSP00000080994            \n",
       "19  ENSMUSG00000064353    ENSMUST00000082404                                "
      ]
     },
     "execution_count": 13,
     "metadata": {},
     "output_type": "execute_result"
    }
   ],
   "source": [
    "bmm.ensembl_gene_id.table[:20]"
   ]
  },
  {
   "cell_type": "markdown",
   "metadata": {},
   "source": [
    "## Get the mappings for GRCH37\n",
    "\n",
    "Only the human genome is defined for GRCH37, but you can access it as follows:"
   ]
  },
  {
   "cell_type": "code",
   "execution_count": 7,
   "metadata": {},
   "outputs": [],
   "source": [
    "bm = biu.maps.BioMart(grch37=True)"
   ]
  },
  {
   "cell_type": "code",
   "execution_count": 8,
   "metadata": {},
   "outputs": [
    {
     "name": "stdout",
     "output_type": "stream",
     "text": [
      "BioMart object\n",
      " Objects:\n",
      "  * [ ] ensembl_gene_id\n",
      "  * [ ] ensembl_transcript_id\n",
      "  * [ ] ensembl_peptide_id\n",
      "  * [ ] entrezgene\n",
      "  * [ ] ucsc\n",
      "  * [ ] hgnc_symbol\n",
      " Files:\n",
      "  * [ ] db : /home/tgehrmann/repos/BIU/docs/bioMart_hsapiens_gene_trans_prot_geneid_hgnc/data.tsv\n",
      "\n"
     ]
    }
   ],
   "source": [
    "print(bm)"
   ]
  },
  {
   "cell_type": "code",
   "execution_count": 9,
   "metadata": {},
   "outputs": [
    {
     "name": "stdout",
     "output_type": "stream",
     "text": [
      "0\n"
     ]
    },
    {
     "name": "stderr",
     "output_type": "stream",
     "text": [
      "D: cp '/home/tgehrmann/repos/BIU/docs/_downloads/1ed4b4c0a7c48f851712b95edef1f8077b0ffd14' '/home/tgehrmann/repos/BIU/docs/bioMart_hsapiens_gene_trans_prot_geneid_hgnc/data.tsv'\n"
     ]
    },
    {
     "name": "stdout",
     "output_type": "stream",
     "text": [
      "0\n"
     ]
    },
    {
     "data": {
      "text/plain": [
       "TSVIndexRow(ensembl_gene_id='ENSG00000261657', ensembl_transcript_id='ENST00000566782', ensembl_peptide_id='ENSP00000456546', entrezgene='115286', ucsc='', hgnc_symbol='SLC25A26')"
      ]
     },
     "execution_count": 9,
     "metadata": {},
     "output_type": "execute_result"
    }
   ],
   "source": [
    "bm.ensembl_peptide_id.lookup('ENSP00000456546', singleton=True)"
   ]
  },
  {
   "cell_type": "markdown",
   "metadata": {},
   "source": [
    "## Define your own queries"
   ]
  },
  {
   "cell_type": "code",
   "execution_count": 10,
   "metadata": {},
   "outputs": [],
   "source": [
    "bmDM = biu.maps.BioMart(database='dmelanogaster_gene_ensembl', \n",
    "                       attributes=['ensembl_gene_id','ensembl_transcript_id', 'ensembl_peptide_id'])"
   ]
  },
  {
   "cell_type": "code",
   "execution_count": 11,
   "metadata": {},
   "outputs": [
    {
     "name": "stdout",
     "output_type": "stream",
     "text": [
      "BioMart object\n",
      " Objects:\n",
      "  * [ ] ensembl_gene_id\n",
      "  * [ ] ensembl_transcript_id\n",
      "  * [ ] ensembl_peptide_id\n",
      " Files:\n",
      "  * [ ] db : /home/tgehrmann/repos/BIU/docs/bioMart_dmelanogaster_gene_ensembl.ensembl_gene_id_ensembl_transcript_id_ensembl_peptide_id/data.tsv\n",
      "\n"
     ]
    }
   ],
   "source": [
    "print(bmDM)"
   ]
  }
 ],
 "metadata": {
  "kernelspec": {
   "display_name": "Python 3",
   "language": "python",
   "name": "python3"
  },
  "language_info": {
   "codemirror_mode": {
    "name": "ipython",
    "version": 3
   },
   "file_extension": ".py",
   "mimetype": "text/x-python",
   "name": "python",
   "nbconvert_exporter": "python",
   "pygments_lexer": "ipython3",
   "version": "3.6.3"
  }
 },
 "nbformat": 4,
 "nbformat_minor": 2
}
