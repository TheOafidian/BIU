{
 "cells": [
  {
   "cell_type": "markdown",
   "metadata": {},
   "source": [
    "# Pipelines in BIU\n",
    "There are several pipelines defined in BIU:\n",
    " * VEP: Variant Effect Prediction\n",
    " * RBHMap: Reciprocal Best Blast Hit Mapping between two fasta files"
   ]
  },
  {
   "cell_type": "code",
   "execution_count": 1,
   "metadata": {},
   "outputs": [],
   "source": [
    "import biu\n",
    "biu.config.settings.setWhere('/')"
   ]
  },
  {
   "cell_type": "markdown",
   "metadata": {},
   "source": [
    "## Common parameters for manipulating the pipeline\n",
    "When creating a pipeline instance, there are a few useful parameters:\n",
    " * `rewriteHashedInputFiles = True|False`: Whether or not hashed input files should be re-written\n",
    " * `autorun = True|False`: Whether or not the pipeline should be executed at initialization.\n",
    " * `**snakemakeOptions`: Parameters to pass to the snakemake engine (See http://snakemake.readthedocs.io/en/latest/api_reference/snakemake.html)\n",
    "  * `drmaa=\" -V\"`: Run with drmaa. Submit with e.g. qsub. Default None. Requires drmaa package.\n",
    "  * `cores=10`: Run with 10 cores. Default 1\n",
    "  * `use_conda=True`: Use conda to install dependencies. Default True.\n",
    "  "
   ]
  },
  {
   "cell_type": "markdown",
   "metadata": {},
   "source": [
    "## Making your own pipeline\n",
    "\n",
    "To make your own pipeline, you need to define two things, a class that wraps your pipeline, and a Snakemake file which defines the steps."
   ]
  },
  {
   "cell_type": "markdown",
   "metadata": {},
   "source": [
    "### Making the Snakefile\n",
    "\n",
    "A snakefile takes as input a configuration file. The contents of this file are defined by you, but there are also some additional parameters that help you in the execution of the pipeline:\n",
    "    \n",
    " * `config[\"common_dir\"]`: A common directory for all instances of this pipeline type (e.g. for downloading files that are always constant across all versions of the pipeline.)\n",
    " * `config[\"tmp_dir\"]`: A temporary directory for temporary files exclusively for this pipeline instance\n",
    " * `config[\"outdir\"]`: An output directory exclusively for this pipeline instance.\n",
    " * `config[\"hash\"]`: A hash that is unique to this instance.\n",
    "\n",
    "Your snakefile MUST define an `output` rule, which will be run.\n",
    "\n",
    "Let's define an example snakefile:"
   ]
  },
  {
   "cell_type": "code",
   "execution_count": 10,
   "metadata": {},
   "outputs": [],
   "source": [
    "snakefile = \"\"\"\n",
    "###############################################################################\n",
    "\n",
    "biu.__version__()\n",
    "\n",
    "localrules: download, combine, output\n",
    "rule download:\n",
    "  output:\n",
    "    file = '%s/downloaded_file.fa' % config['outdir']\n",
    "  shell: '''\n",
    "    curl 'http://molb7621.github.io/workshop/_downloads/sample.fa' > '{output.file}'\n",
    "  '''\n",
    "  \n",
    "rule combine:\n",
    "  input:\n",
    "    file   = rules.download.output.file,\n",
    "    myfile = config['input_file']\n",
    "  output:\n",
    "    file = '%s/combined.fa' % config['outdir']\n",
    "  shell: '''\n",
    "    cat '{input.file}' <(echo '') '{input.myfile}' > '{output.file}'\n",
    "  '''\n",
    "  \n",
    "rule output:\n",
    "  input:\n",
    "    file = rules.combine.output.file\n",
    "  output:\n",
    "    file = '%s/%s' % ( config['outdir'], config['output_file_name'])\n",
    "  shell: '''\n",
    "    cp '{input.file}' '{output.file}'\n",
    "  '''\n",
    "\"\"\"\n",
    "\n",
    "snakefilePath = 'example_files/example.Snakefile'\n",
    "\n",
    "with open(snakefilePath, 'w') as ofd:\n",
    "    ofd.write(snakefile)"
   ]
  },
  {
   "cell_type": "markdown",
   "metadata": {},
   "source": [
    "### Making the class\n",
    "\n",
    "The class needs to define some default parameters of this pipeline (such as the name of the output file), and handle the input files and output.\n",
    "\n",
    "Because the hash is generated from the configuration file, we need to have a standard way to ensure that the hash doesn't change "
   ]
  },
  {
   "cell_type": "code",
   "execution_count": 3,
   "metadata": {},
   "outputs": [],
   "source": [
    "class myPipeline(biu.structures.Pipeline):\n",
    "    \n",
    "    # Default parameters\n",
    "    __defaultConfig = {\n",
    "        \"output_file_name\" : \"outfile.fasta\"\n",
    "    }\n",
    "    \n",
    "    def __init__(self, fasta, config={}, **kwargs):\n",
    "        biu.structures.Pipeline.__init__(self, snakefilePath, {**self.__defaultConfig, **config}, **kwargs)\n",
    "        \n",
    "        # Now we need to define the instance specific options\n",
    "        smConfig = {}\n",
    "        smConfig['input_file'] = self.__writeTemporaryFile(fasta)\n",
    "        \n",
    "        self.setConfig(smConfig)\n",
    "        if self.autorun:\n",
    "            self.run([\"output\"])\n",
    "        #fi\n",
    "        \n",
    "    #edef\n",
    "    \n",
    "    def __writeTemporaryFile(self, fasta):\n",
    "        \n",
    "          # _generateInputFileName takes a list of strings as input. By sampling, it quickly makes a hash of the file.\n",
    "        filename, exists = self._generateInputFileName([ fasta[s].seq for s in fasta ])\n",
    "        if not(exists):\n",
    "            fasta.write(filename)\n",
    "        #fi\n",
    "        \n",
    "        return filename\n",
    "    #edef\n",
    "    \n",
    "    def getOutput(self):\n",
    "        if not(self.success): # Check if the pipeline ran successfully\n",
    "            return None\n",
    "        #fi\n",
    "        return biu.formats.Fasta('%s/%s' % (self.config[\"outdir\"], self.config['output_file_name']))\n",
    "    #edef\n",
    "#edef"
   ]
  },
  {
   "cell_type": "markdown",
   "metadata": {},
   "source": [
    "## Running the pipeline"
   ]
  },
  {
   "cell_type": "code",
   "execution_count": 11,
   "metadata": {},
   "outputs": [
    {
     "name": "stderr",
     "output_type": "stream",
     "text": [
      "D: Fasta input source is file\n",
      "Building DAG of jobs...\n"
     ]
    },
    {
     "name": "stdout",
     "output_type": "stream",
     "text": [
      "BIU (Bio Utilities) python module\n",
      "{\"where\": \"/\", \"neo4j_install_dir\": \"/exports/molepi/tgehrmann/src/neo4j\", \"debug_messages\": true, \"debug_stream\": \"stderr\", \"pipelines_base\": \"/exports/molepi/tgehrmann/pipeline_runs\", \"pipelines_common_name\": \"common\", \"pipelines_temporary_indir_name\": \"temporary_input\", \"pipelines_conda_prefix_name\": \"conda\"}\n",
      " Current config hash: 3dd4f4f802236b4fe8bb44ae9106efea\n"
     ]
    },
    {
     "name": "stderr",
     "output_type": "stream",
     "text": [
      "Nothing to be done.\n",
      "Complete log: /home/tgehrmann/repos/BIU/docs/.snakemake/log/2018-06-29T143403.002081.snakemake.log\n"
     ]
    }
   ],
   "source": [
    "mp = myPipeline(biu.formats.Fasta('example_files/example.fasta'))"
   ]
  },
  {
   "cell_type": "code",
   "execution_count": 5,
   "metadata": {},
   "outputs": [
    {
     "data": {
      "text/plain": [
       "{'common_dir': '/exports/molepi/tgehrmann/pipeline_runs/common/myPipeline',\n",
       " 'tmp_dir': '/exports/molepi/tgehrmann/pipeline_runs/temporary_input/myPipeline',\n",
       " 'biu_settings': {'where': '/',\n",
       "  'neo4j_install_dir': '/exports/molepi/tgehrmann/src/neo4j',\n",
       "  'debug_messages': True,\n",
       "  'debug_stream': 'stderr',\n",
       "  'pipelines_base': '/exports/molepi/tgehrmann/pipeline_runs',\n",
       "  'pipelines_common_name': 'common',\n",
       "  'pipelines_temporary_indir_name': 'temporary_input',\n",
       "  'pipelines_conda_prefix_name': 'conda'},\n",
       " 'biu_location': '/home/tgehrmann/repos/BIU/docs',\n",
       " 'outdir': '/exports/molepi/tgehrmann/pipeline_runs/myPipeline/0ce6d6dda4a09b139997a44c62e8a958',\n",
       " 'output_file_name': 'outfile.fasta',\n",
       " 'hash': '0ce6d6dda4a09b139997a44c62e8a958',\n",
       " 'input_file': '/exports/molepi/tgehrmann/pipeline_runs/temporary_input/myPipeline/digest.0484e81d06666d4ca8d63b3a12bc77cc'}"
      ]
     },
     "execution_count": 5,
     "metadata": {},
     "output_type": "execute_result"
    }
   ],
   "source": [
    "mp.config"
   ]
  },
  {
   "cell_type": "code",
   "execution_count": 6,
   "metadata": {},
   "outputs": [
    {
     "name": "stdout",
     "output_type": "stream",
     "text": [
      "Fasta object\n",
      " Where: /exports/molepi/tgehrmann/pipeline_runs/myPipeline/0ce6d6dda4a09b139997a44c62e8a958/outfile.fasta\n",
      " Entries: 6\n",
      " Primary type: dna\n",
      "\n",
      ">HSGLTH1\n",
      "CCACTGCACTCACCGCACCCGGCCAATTTTTGTGTTTTTAGTAGAGACTAAATACCATATAGTGAACACCTAAGACGGGGGGCCTTGGATCCAGGGCGATTCAGAGGGCCCCGGTCGGAGCTGTCGGAGATTGAGCGCGCGCGGTCCCGGGATCTCCGACGAGGCCCTGGACCCCCGGGCGGCGAAGCTGCGGCGCGGCGCCCCCTGGAGGCCGCGGGACCCCTGGCCGGTCCGCGCAGGCGCAGCGGGGTCGCAGGGCGCGGCGGGTTCCAGCGCGGGGATGGCGCTGTCCGCGGAGGACCGGGCGCTGGTGCGCGCCCTGTGGAAGAAGCTGGGCAGCAACGTCGGCGTCTACACGACAGAGGCCCTGGAAAGGTGCGGCAGGCTGGGCGCCCCCGCCCCCAGGGGCCCTCCCTCCCCAAGCCCCCCGGACGCGCCTCACCCACGTTCCTCTCGCAGGACCTTCCTGGCTTTCCCCGCCACGAAGACCTACTTCTCCCACCTGGACCTGAGCCCCGGCTCCTCACAAGTCAGAGCCCACGGCCAGAAGGTGGCGGACGCGCTGAGCCTCGCCGTGGAGCGCCTGGACGACCTACCCCACGCGCTGTCCGCGCTGAGCCACCTGCACGCGTGCCAGCTGCGAGTGGACCCGGCCAGCTTCCAGGTGAGCGGCTGCCGTGCTGGGCCCCTGTCCCCGGGAGGGCCCCGGCGGGGTGGGTGCGGGGGGCGTGCGGGGCGGGTGCAGGCGAGTGAGCCTTGAGCGCTCGCCGCAGCTCCTGGGCCACTGCCTGCTGGTAACCCTCGCCCGGCACTACCCCGGAGACTTCAGCCCCGCGCTGCAGGCGTCGCTGGACAAGTTCCTGAGCCACGTTATCTCGGCGCTGGTTTCCGAGTACCGCTGAACTGTGGGTGGGTGGCCGCGGGATCCCCAGGCGACCTTCCCCGTGTTTGAGTAAAGCCTCTCCCAGGAGCAGCCTTCTTGCCGTGCTCTCTCGAGGTCAGGACGCGAGAGGAAGGCGC\n",
      ">HSBGPG\n",
      "GGCAGATTCCCCCTAGACCCGCCCGCACCATGGTCAGGCATGCCCCTCCTCATCGCTGGGCACAGCCCAGAGGGTATAAACAGTGCTGGAGGCTGGCGGGGCAGGCCAGCTGAGTCCTGAGCAGCAGCCCAGCGCAGCCACCGAGACACCATGAGAGCCCTCACACTCCTCGCCCTATTGGCCCTGGCCGCACTTTGCATCGCTGGCCAGGCAGGTGAGTGCCCCCACCTCCCCTCAGGCCGCATTGCAGTGGGGGCTGAGAGGAGGAAGCACCATGGCCCACCTCTTCTCACCCCTTTGGCTGGCAGTCCCTTTGCAGTCTAACCACCTTGTTGCAGGCTCAATCCATTTGCCCCAGCTCTGCCCTTGCAGAGGGAGAGGAGGGAAGAGCAAGCTGCCCGAGACGCAGGGGAAGGAGGATGAGGGCCCTGGGGATGAGCTGGGGTGAACCAGGCTCCCTTTCCTTTGCAGGTGCGAAGCCCAGCGGTGCAGAGTCCAGCAAAGGTGCAGGTATGAGGATGGACCTGATGGGTTCCTGGACCCTCCCCTCTCACCCTGGTCCCTCAGTCTCATTCCCCCACTCCTGCCACCTCCTGTCTGGCCATCAGGAAGGCCAGCCTGCTCCCCACCTGATCCTCCCAAACCCAGAGCCACCTGATGCCTGCCCCTCTGCTCCACAGCCTTTGTGTCCAAGCAGGAGGGCAGCGAGGTAGTGAAGAGACCCAGGCGCTACCTGTATCAATGGCTGGGGTGAGAGAAAAGGCAGAGCTGGGCCAAGGCCCTGCCTCTCCGGGATGGTCTGTGGGGGAGCTGCAGCAGGGAGTGGCCTCTCTGGGTTGTGGTGGGGGTACAGGCAGCCTGCCCTGGTGGGCACCCTGGAGCCCCATGTGTAGGGAGAGGAGGGATGGGCATTTTGCACGGGGGCTGATGCCACCACGTCGGGTGTCTCAGAGCCCCAGTCCCCTACCCGGATCCCCTGGAGCCCAGGAGGGAGGTGTGTGAGCTCAATCCGGACTGTGACGAGTTGGCTGACCACATCGGCTTTCAGGAGGCCTATCGGCGCTTCTACGGCCCGGTCTAGGGTGTCGCTCTGCTGGCCTGGCCGGCAACCCCAGTTCTGCTCCTCTCCAGGCACCCTTCTTTCCTCTTCCCCTTGCCCTTGCCCTGACCTCCCAGCCCTATGGATGTGGGGTCCCCATCATCCCAGCTGCTCCCAAATAAACTCCAGAAG\n",
      ">yul\n",
      "ATCGATCGATCGTACGATCG\n",
      ">junior\n",
      "CATCGATCGTACGTACGTAG\n",
      ">sanka\n",
      "GCATCGTAGCTAGCTACGAT\n",
      ">derice\n",
      "ACTGACTAGCTAGCTAACTG\n"
     ]
    },
    {
     "name": "stderr",
     "output_type": "stream",
     "text": [
      "D: Fasta input source is file\n"
     ]
    }
   ],
   "source": [
    "newFasta = mp.getOutput()\n",
    "\n",
    "print(newFasta)\n",
    "\n",
    "for seq in newFasta:\n",
    "    print('>%s\\n%s' % (seq, newFasta[seq].seq))"
   ]
  },
  {
   "cell_type": "markdown",
   "metadata": {},
   "source": [
    "## Using BIU in the pipeline\n",
    "You can make use of your running BIU instance in the pipeline.\n"
   ]
  }
 ],
 "metadata": {
  "kernelspec": {
   "display_name": "Python [default]",
   "language": "python",
   "name": "python3"
  },
  "language_info": {
   "codemirror_mode": {
    "name": "ipython",
    "version": 3
   },
   "file_extension": ".py",
   "mimetype": "text/x-python",
   "name": "python",
   "nbconvert_exporter": "python",
   "pygments_lexer": "ipython3",
   "version": "3.6.5"
  }
 },
 "nbformat": 4,
 "nbformat_minor": 2
}
