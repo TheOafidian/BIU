{
 "cells": [
  {
   "cell_type": "markdown",
   "metadata": {},
   "source": [
    "# Accessing the GnomAD dataset\n"
   ]
  },
  {
   "cell_type": "code",
   "execution_count": 8,
   "metadata": {},
   "outputs": [],
   "source": [
    "import biu\n",
    "\n",
    "# Set the default data location\n",
    "where = '/exports/molepi/tgehrmann/data/'\n",
    "biu.config.settings.setWhere(where)"
   ]
  },
  {
   "cell_type": "code",
   "execution_count": 9,
   "metadata": {},
   "outputs": [
    {
     "name": "stdout",
     "output_type": "stream",
     "text": [
      "Gnomad object\n",
      " Where: /exports/molepi/tgehrmann/data\n",
      " Version: GRCh37\n",
      " Objects:\n",
      "  * [ ] vcf\n",
      "  * [ ] cov[1]\n",
      "  * [ ] cov[2]\n",
      "  * [ ] cov[3]\n",
      "  * [ ] cov[4]\n",
      "  * [ ] cov[5]\n",
      "  * [ ] cov[6]\n",
      "  * [ ] cov[7]\n",
      "  * [ ] cov[8]\n",
      "  * [ ] cov[9]\n",
      "  * [ ] cov[10]\n",
      "  * [ ] cov[12]\n",
      "  * [ ] cov[13]\n",
      "  * [ ] cov[14]\n",
      "  * [ ] cov[15]\n",
      "  * [ ] cov[16]\n",
      "  * [ ] cov[17]\n",
      "  * [ ] cov[18]\n",
      "  * [ ] cov[19]\n",
      "  * [ ] cov[20]\n",
      "  * [ ] cov[21]\n",
      "  * [ ] cov[22]\n",
      "  * [ ] cov[X]\n",
      "  * [ ] cov[Y]\n",
      " Files:\n",
      "  * [X] vcf : /exports/molepi/tgehrmann/data/gnomad_GRCh37/gnomad.vcf.bgz\n",
      "  * [X] vcf_tbi : /exports/molepi/tgehrmann/data/gnomad_GRCh37/gnomad.vcf.bgz.tbi\n",
      "  * [X] chr_1_cov : /exports/molepi/tgehrmann/data/gnomad_GRCh37/gnomad.coverage.chr.1.tsv.bgz\n",
      "  * [X] chr_1_cov_tbi : /exports/molepi/tgehrmann/data/gnomad_GRCh37/gnomad.coverage.chr.1.tsv.bgz.tbi\n",
      "  * [ ] chr_2_cov : /exports/molepi/tgehrmann/data/gnomad_GRCh37/gnomad.coverage.chr.2.tsv.bgz\n",
      "  * [ ] chr_2_cov_tbi : /exports/molepi/tgehrmann/data/gnomad_GRCh37/gnomad.coverage.chr.2.tsv.bgz.tbi\n",
      "  * [ ] chr_3_cov : /exports/molepi/tgehrmann/data/gnomad_GRCh37/gnomad.coverage.chr.3.tsv.bgz\n",
      "  * [ ] chr_3_cov_tbi : /exports/molepi/tgehrmann/data/gnomad_GRCh37/gnomad.coverage.chr.3.tsv.bgz.tbi\n",
      "  * [ ] chr_4_cov : /exports/molepi/tgehrmann/data/gnomad_GRCh37/gnomad.coverage.chr.4.tsv.bgz\n",
      "  * [ ] chr_4_cov_tbi : /exports/molepi/tgehrmann/data/gnomad_GRCh37/gnomad.coverage.chr.4.tsv.bgz.tbi\n",
      "  * [ ] chr_5_cov : /exports/molepi/tgehrmann/data/gnomad_GRCh37/gnomad.coverage.chr.5.tsv.bgz\n",
      "  * [ ] chr_5_cov_tbi : /exports/molepi/tgehrmann/data/gnomad_GRCh37/gnomad.coverage.chr.5.tsv.bgz.tbi\n",
      "  * [ ] chr_6_cov : /exports/molepi/tgehrmann/data/gnomad_GRCh37/gnomad.coverage.chr.6.tsv.bgz\n",
      "  * [ ] chr_6_cov_tbi : /exports/molepi/tgehrmann/data/gnomad_GRCh37/gnomad.coverage.chr.6.tsv.bgz.tbi\n",
      "  * [ ] chr_7_cov : /exports/molepi/tgehrmann/data/gnomad_GRCh37/gnomad.coverage.chr.7.tsv.bgz\n",
      "  * [ ] chr_7_cov_tbi : /exports/molepi/tgehrmann/data/gnomad_GRCh37/gnomad.coverage.chr.7.tsv.bgz.tbi\n",
      "  * [ ] chr_8_cov : /exports/molepi/tgehrmann/data/gnomad_GRCh37/gnomad.coverage.chr.8.tsv.bgz\n",
      "  * [ ] chr_8_cov_tbi : /exports/molepi/tgehrmann/data/gnomad_GRCh37/gnomad.coverage.chr.8.tsv.bgz.tbi\n",
      "  * [ ] chr_9_cov : /exports/molepi/tgehrmann/data/gnomad_GRCh37/gnomad.coverage.chr.9.tsv.bgz\n",
      "  * [ ] chr_9_cov_tbi : /exports/molepi/tgehrmann/data/gnomad_GRCh37/gnomad.coverage.chr.9.tsv.bgz.tbi\n",
      "  * [ ] chr_10_cov : /exports/molepi/tgehrmann/data/gnomad_GRCh37/gnomad.coverage.chr.10.tsv.bgz\n",
      "  * [ ] chr_10_cov_tbi : /exports/molepi/tgehrmann/data/gnomad_GRCh37/gnomad.coverage.chr.10.tsv.bgz.tbi\n",
      "  * [ ] chr_12_cov : /exports/molepi/tgehrmann/data/gnomad_GRCh37/gnomad.coverage.chr.12.tsv.bgz\n",
      "  * [ ] chr_12_cov_tbi : /exports/molepi/tgehrmann/data/gnomad_GRCh37/gnomad.coverage.chr.12.tsv.bgz.tbi\n",
      "  * [ ] chr_13_cov : /exports/molepi/tgehrmann/data/gnomad_GRCh37/gnomad.coverage.chr.13.tsv.bgz\n",
      "  * [ ] chr_13_cov_tbi : /exports/molepi/tgehrmann/data/gnomad_GRCh37/gnomad.coverage.chr.13.tsv.bgz.tbi\n",
      "  * [ ] chr_14_cov : /exports/molepi/tgehrmann/data/gnomad_GRCh37/gnomad.coverage.chr.14.tsv.bgz\n",
      "  * [ ] chr_14_cov_tbi : /exports/molepi/tgehrmann/data/gnomad_GRCh37/gnomad.coverage.chr.14.tsv.bgz.tbi\n",
      "  * [ ] chr_15_cov : /exports/molepi/tgehrmann/data/gnomad_GRCh37/gnomad.coverage.chr.15.tsv.bgz\n",
      "  * [ ] chr_15_cov_tbi : /exports/molepi/tgehrmann/data/gnomad_GRCh37/gnomad.coverage.chr.15.tsv.bgz.tbi\n",
      "  * [ ] chr_16_cov : /exports/molepi/tgehrmann/data/gnomad_GRCh37/gnomad.coverage.chr.16.tsv.bgz\n",
      "  * [ ] chr_16_cov_tbi : /exports/molepi/tgehrmann/data/gnomad_GRCh37/gnomad.coverage.chr.16.tsv.bgz.tbi\n",
      "  * [ ] chr_17_cov : /exports/molepi/tgehrmann/data/gnomad_GRCh37/gnomad.coverage.chr.17.tsv.bgz\n",
      "  * [ ] chr_17_cov_tbi : /exports/molepi/tgehrmann/data/gnomad_GRCh37/gnomad.coverage.chr.17.tsv.bgz.tbi\n",
      "  * [ ] chr_18_cov : /exports/molepi/tgehrmann/data/gnomad_GRCh37/gnomad.coverage.chr.18.tsv.bgz\n",
      "  * [ ] chr_18_cov_tbi : /exports/molepi/tgehrmann/data/gnomad_GRCh37/gnomad.coverage.chr.18.tsv.bgz.tbi\n",
      "  * [ ] chr_19_cov : /exports/molepi/tgehrmann/data/gnomad_GRCh37/gnomad.coverage.chr.19.tsv.bgz\n",
      "  * [ ] chr_19_cov_tbi : /exports/molepi/tgehrmann/data/gnomad_GRCh37/gnomad.coverage.chr.19.tsv.bgz.tbi\n",
      "  * [ ] chr_20_cov : /exports/molepi/tgehrmann/data/gnomad_GRCh37/gnomad.coverage.chr.20.tsv.bgz\n",
      "  * [ ] chr_20_cov_tbi : /exports/molepi/tgehrmann/data/gnomad_GRCh37/gnomad.coverage.chr.20.tsv.bgz.tbi\n",
      "  * [ ] chr_21_cov : /exports/molepi/tgehrmann/data/gnomad_GRCh37/gnomad.coverage.chr.21.tsv.bgz\n",
      "  * [ ] chr_21_cov_tbi : /exports/molepi/tgehrmann/data/gnomad_GRCh37/gnomad.coverage.chr.21.tsv.bgz.tbi\n",
      "  * [ ] chr_22_cov : /exports/molepi/tgehrmann/data/gnomad_GRCh37/gnomad.coverage.chr.22.tsv.bgz\n",
      "  * [ ] chr_22_cov_tbi : /exports/molepi/tgehrmann/data/gnomad_GRCh37/gnomad.coverage.chr.22.tsv.bgz.tbi\n",
      "  * [ ] chr_X_cov : /exports/molepi/tgehrmann/data/gnomad_GRCh37/gnomad.coverage.chr.X.tsv.bgz\n",
      "  * [ ] chr_X_cov_tbi : /exports/molepi/tgehrmann/data/gnomad_GRCh37/gnomad.coverage.chr.X.tsv.bgz.tbi\n",
      "  * [ ] chr_Y_cov : /exports/molepi/tgehrmann/data/gnomad_GRCh37/gnomad.coverage.chr.Y.tsv.bgz\n",
      "  * [ ] chr_Y_cov_tbi : /exports/molepi/tgehrmann/data/gnomad_GRCh37/gnomad.coverage.chr.Y.tsv.bgz.tbi\n",
      "\n"
     ]
    }
   ],
   "source": [
    "gnomad = biu.db.Gnomad() #GnoMAD dataset\n",
    "print(gnomad)"
   ]
  },
  {
   "cell_type": "code",
   "execution_count": 7,
   "metadata": {},
   "outputs": [
    {
     "name": "stdout",
     "output_type": "stream",
     "text": [
      "Record(CHROM=1, POS=324720, REF=C, ALT=[T])\n"
     ]
    },
    {
     "name": "stderr",
     "output_type": "stream",
     "text": [
      "D: VCF Input source is list of Records.\n",
      "D: VCF Input source is list of Records.\n"
     ]
    }
   ],
   "source": [
    "for record in gnomad.query(1, 324719, 324720, types=['snp']):\n",
    "    print(record)"
   ]
  },
  {
   "cell_type": "code",
   "execution_count": null,
   "metadata": {},
   "outputs": [],
   "source": []
  }
 ],
 "metadata": {
  "kernelspec": {
   "display_name": "Python 3",
   "language": "python",
   "name": "python3"
  },
  "language_info": {
   "codemirror_mode": {
    "name": "ipython",
    "version": 3
   },
   "file_extension": ".py",
   "mimetype": "text/x-python",
   "name": "python",
   "nbconvert_exporter": "python",
   "pygments_lexer": "ipython3",
   "version": "3.6.2"
  }
 },
 "nbformat": 4,
 "nbformat_minor": 2
}
