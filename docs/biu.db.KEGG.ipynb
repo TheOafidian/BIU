{
 "cells": [
  {
   "cell_type": "markdown",
   "metadata": {},
   "source": [
    "# Accessing the KEGG database"
   ]
  },
  {
   "cell_type": "code",
   "execution_count": 11,
   "metadata": {},
   "outputs": [
    {
     "name": "stderr",
     "output_type": "stream",
     "text": [
      "D: Initializing the SQLiteResourceManager object NOW\n"
     ]
    }
   ],
   "source": [
    "import biu as biu\n",
    "import matplotlib.pylab as plt\n",
    "\n",
    "where = '/exports/molepi/tgehrmann/data/'\n",
    "biu.config.settings.setWhere(where)\n",
    "\n",
    "kegg = biu.db.KEGG()\n",
    "hms = biu.maps.HumanS()"
   ]
  },
  {
   "cell_type": "code",
   "execution_count": 8,
   "metadata": {},
   "outputs": [
    {
     "name": "stdout",
     "output_type": "stream",
     "text": [
      "KEGG object\n",
      " Where: /exports/molepi/tgehrmann/data\n",
      " Version: human\n",
      " Objects:\n",
      "  * [ ] _orgMap\n",
      "  * [ ] _featureData\n",
      " Files:\n",
      "  * [X] org_map : /exports/molepi/tgehrmann/data/kegg_human/org_map.tsv\n",
      "  * [ ] feature_data : /exports/molepi/tgehrmann/data/kegg_human/feature_data.sqlite\n",
      "\n"
     ]
    }
   ],
   "source": [
    "print(kegg)"
   ]
  },
  {
   "cell_type": "markdown",
   "metadata": {},
   "source": [
    "## Get a list of pathways and genes"
   ]
  },
  {
   "cell_type": "code",
   "execution_count": 16,
   "metadata": {},
   "outputs": [
    {
     "name": "stdout",
     "output_type": "stream",
     "text": [
      "Number of pathways: 325\n",
      "Number of genes: 7373\n"
     ]
    }
   ],
   "source": [
    "print(\"Number of pathways: %d\" % len(kegg.getPathways()))\n",
    "print(\"Number of genes: %d\" % len(kegg.getGenes()))"
   ]
  },
  {
   "cell_type": "markdown",
   "metadata": {},
   "source": [
    "## Get the pathways that a specific gene is in\n",
    "Look up with the geneID"
   ]
  },
  {
   "cell_type": "code",
   "execution_count": 13,
   "metadata": {},
   "outputs": [
    {
     "name": "stdout",
     "output_type": "stream",
     "text": [
      "Number of pathways MTOR is in: 37\n"
     ]
    }
   ],
   "source": [
    "print(\"Number of pathways MTOR is in: %d\" % len(kegg.getGenePathways(hms.getSymbolGeneID(\"MTOR\")[0])))"
   ]
  },
  {
   "cell_type": "markdown",
   "metadata": {},
   "source": [
    "## Get the genes in a pathway\n",
    "Lookup with KEGG pathway ID"
   ]
  },
  {
   "cell_type": "code",
   "execution_count": 14,
   "metadata": {},
   "outputs": [
    {
     "name": "stdout",
     "output_type": "stream",
     "text": [
      "Number of genes in path:hsa05230: 65\n"
     ]
    }
   ],
   "source": [
    "print(\"Number of genes in path:hsa05230: %d\" % len(kegg.getPathwayGenes(\"path:hsa05230\")))"
   ]
  },
  {
   "cell_type": "markdown",
   "metadata": {},
   "source": [
    "## Get information about a specific KEGG pathway"
   ]
  },
  {
   "cell_type": "code",
   "execution_count": 9,
   "metadata": {},
   "outputs": [
    {
     "name": "stderr",
     "output_type": "stream",
     "text": [
      "D: Initializing the SQLDictResourceManager object NOW\n",
      "D: Downloading via REST from 'http://rest.kegg.jp/get/path:hsa05230'\n"
     ]
    },
    {
     "name": "stdout",
     "output_type": "stream",
     "text": [
      "ENTRY       hsa05230                    Pathway\n",
      "NAME        Central carbon metabolism in cancer - Homo sapiens (human)\n",
      "DESCRIPTION Malignant transformation of cells requires specific adaptations of cellular metabolism to support growth and survival. In the early twentieth century, Otto Warburg established that there are fundamental differences in the central metabolic pathways operating in malignant tissue. He showed that cancer cells consume a large amount of glucose, maintain high rate of glycolysis and convert a majority of glucose into lactic acid even under normal oxygen concentrations (Warburg's Effects). More recently, it has been recognized that the 'Warburg effect' encompasses a similarly increased utilization of glutamine. From the intermediate molecules provided by enhanced glycolysis and glutaminolysis, cancer cells synthesize most of the macromolecules required for the duplication of their biomass and genome. These cancer-specific alterations represent a major consequence of genetic mutations and the ensuing changes of signalling pathways in cancer cells. Three transcription factors, c-MYC, HIF-1 and p53, are key regulators and coordinate regulation of cancer metabolism in different ways, and many other oncogenes and tumor suppressor genes cluster along the signaling pathways that regulate c-MYC, HIF-1 and p53.\n",
      "CLASS       Human Diseases; Cancers\n",
      "PATHWAY_MAP hsa05230  Central carbon metabolism in cancer\n",
      "DRUG        D07257  Lonidamine (INN)\n",
      "ORGANISM    Homo sapiens (human) [GN:hsa]\n",
      "GENE        6513  SLC2A1; solute carrier family 2 member 1 [KO:K07299]\n",
      "            6514  SLC2A2; solute carrier family 2 member 2 [KO:K07593]\n",
      "            2645  GCK; glucokinase [KO:K12407] [EC:2.7.1.2]\n",
      "            5315  PKM; pyruvate kinase M1/2 [KO:K00873] [EC:2.7.1.40]\n",
      "            5161  PDHA2; pyruvate dehydrogenase E1 alpha 2 subunit [KO:K00161] [EC:1.2.4.1]\n",
      "            5160  PDHA1; pyruvate dehydrogenase E1 alpha 1 subunit [KO:K00161] [EC:1.2.4.1]\n",
      "            5162  PDHB; pyruvate dehydrogenase E1 beta subunit [KO:K00162] [EC:1.2.4.1]\n",
      "            5163  PDK1; pyruvate dehydrogenase kinase 1 [KO:K12077] [EC:2.7.11.2]\n",
      "            7157  TP53; tumor protein p53 [KO:K04451]\n",
      "            6510  SLC1A5; solute carrier family 1 member 5 [KO:K05616]\n",
      "            23410  SIRT3; sirtuin 3 [KO:K11413] [EC:3.5.1.-]\n",
      "            9123  SLC16A3; solute carrier family 16 member 3 [KO:K08180]\n",
      "            51548  SIRT6; sirtuin 6 [KO:K11416] [EC:2.4.2.31]\n",
      "            4609  MYC; MYC proto-oncogene, bHLH transcription factor [KO:K04377]\n",
      "            3091  HIF1A; hypoxia inducible factor 1 alpha subunit [KO:K08268]\n",
      "            3815  KIT; KIT proto-oncogene receptor tyrosine kinase [KO:K05091] [EC:2.7.10.1]\n",
      "            4233  MET; MET proto-oncogene, receptor tyrosine kinase [KO:K05099] [EC:2.7.10.1]\n",
      "            5979  RET; ret proto-oncogene [KO:K05126] [EC:2.7.10.1]\n",
      "            1956  EGFR; epidermal growth factor receptor [KO:K04361] [EC:2.7.10.1]\n",
      "            2064  ERBB2; erb-b2 receptor tyrosine kinase 2 [KO:K05083] [EC:2.7.10.1]\n",
      "            4914  NTRK1; neurotrophic receptor tyrosine kinase 1 [KO:K03176] [EC:2.7.10.1]\n",
      "            4916  NTRK3; neurotrophic receptor tyrosine kinase 3 [KO:K05101] [EC:2.7.10.1]\n",
      "            5156  PDGFRA; platelet derived growth factor receptor alpha [KO:K04363] [EC:2.7.10.1]\n",
      "            5159  PDGFRB; platelet derived growth factor receptor beta [KO:K05089] [EC:2.7.10.1]\n",
      "            2260  FGFR1; fibroblast growth factor receptor 1 [KO:K04362] [EC:2.7.10.1]\n",
      "            2263  FGFR2; fibroblast growth factor receptor 2 [KO:K05093] [EC:2.7.10.1]\n",
      "            2261  FGFR3; fibroblast growth factor receptor 3 [KO:K05094] [EC:2.7.10.1]\n",
      "            2322  FLT3; fms related tyrosine kinase 3 [KO:K05092] [EC:2.7.10.1]\n",
      "            3265  HRAS; HRas proto-oncogene, GTPase [KO:K02833]\n",
      "            3845  KRAS; KRAS proto-oncogene, GTPase [KO:K07827]\n",
      "            4893  NRAS; NRAS proto-oncogene, GTPase [KO:K07828]\n",
      "            5894  RAF1; Raf-1 proto-oncogene, serine/threonine kinase [KO:K04366] [EC:2.7.11.1]\n",
      "            5604  MAP2K1; mitogen-activated protein kinase kinase 1 [KO:K04368] [EC:2.7.12.2]\n",
      "            5605  MAP2K2; mitogen-activated protein kinase kinase 2 [KO:K04369] [EC:2.7.12.2]\n",
      "            5594  MAPK1; mitogen-activated protein kinase 1 [KO:K04371] [EC:2.7.11.24]\n",
      "            5595  MAPK3; mitogen-activated protein kinase 3 [KO:K04371] [EC:2.7.11.24]\n",
      "            27165  GLS2; glutaminase 2 [KO:K01425] [EC:3.5.1.2]\n",
      "            2744  GLS; glutaminase [KO:K01425] [EC:3.5.1.2]\n",
      "            2539  G6PD; glucose-6-phosphate dehydrogenase [KO:K00036] [EC:1.1.1.363 1.1.1.49]\n",
      "            3101  HK3; hexokinase 3 [KO:K00844] [EC:2.7.1.1]\n",
      "            3098  HK1; hexokinase 1 [KO:K00844] [EC:2.7.1.1]\n",
      "            3099  HK2; hexokinase 2 [KO:K00844] [EC:2.7.1.1]\n",
      "            80201  HKDC1; hexokinase domain containing 1 [KO:K00844] [EC:2.7.1.1]\n",
      "            5213  PFKM; phosphofructokinase, muscle [KO:K00850] [EC:2.7.1.11]\n",
      "            5214  PFKP; phosphofructokinase, platelet [KO:K00850] [EC:2.7.1.11]\n",
      "            5211  PFKL; phosphofructokinase, liver type [KO:K00850] [EC:2.7.1.11]\n",
      "            5223  PGAM1; phosphoglycerate mutase 1 [KO:K01834] [EC:5.4.2.11]\n",
      "            5224  PGAM2; phosphoglycerate mutase 2 [KO:K01834] [EC:5.4.2.11]\n",
      "            441531  PGAM4; phosphoglycerate mutase family member 4 [KO:K01834] [EC:5.4.2.11]\n",
      "            57103  TIGAR; TP53 induced glycolysis regulatory phosphatase [KO:K14634] [EC:3.1.3.46]\n",
      "            5728  PTEN; phosphatase and tensin homolog [KO:K01110] [EC:3.1.3.67 3.1.3.48 3.1.3.16]\n",
      "            5290  PIK3CA; phosphatidylinositol-4,5-bisphosphate 3-kinase catalytic subunit alpha [KO:K00922] [EC:2.7.1.153]\n",
      "            5293  PIK3CD; phosphatidylinositol-4,5-bisphosphate 3-kinase catalytic subunit delta [KO:K00922] [EC:2.7.1.153]\n",
      "            5291  PIK3CB; phosphatidylinositol-4,5-bisphosphate 3-kinase catalytic subunit beta [KO:K00922] [EC:2.7.1.153]\n",
      "            5295  PIK3R1; phosphoinositide-3-kinase regulatory subunit 1 [KO:K02649]\n",
      "            5296  PIK3R2; phosphoinositide-3-kinase regulatory subunit 2 [KO:K02649]\n",
      "            8503  PIK3R3; phosphoinositide-3-kinase regulatory subunit 3 [KO:K02649]\n",
      "            207  AKT1; AKT serine/threonine kinase 1 [KO:K04456] [EC:2.7.11.1]\n",
      "            208  AKT2; AKT serine/threonine kinase 2 [KO:K04456] [EC:2.7.11.1]\n",
      "            10000  AKT3; AKT serine/threonine kinase 3 [KO:K04456] [EC:2.7.11.1]\n",
      "            2475  MTOR; mechanistic target of rapamycin kinase [KO:K07203] [EC:2.7.11.1]\n",
      "            8140  SLC7A5; solute carrier family 7 member 5 [KO:K13780]\n",
      "            3417  IDH1; isocitrate dehydrogenase (NADP(+)) 1, cytosolic [KO:K00031] [EC:1.1.1.42]\n",
      "            3939  LDHA; lactate dehydrogenase A [KO:K00016] [EC:1.1.1.27]\n",
      "            9997  SCO2; SCO2, cytochrome c oxidase assembly protein [KO:K07152]\n",
      "COMPOUND    C00022  Pyruvate\n",
      "            C00024  Acetyl-CoA\n",
      "            C00025  L-Glutamate\n",
      "            C00026  2-Oxoglutarate\n",
      "            C00031  D-Glucose\n",
      "            C00036  Oxaloacetate\n",
      "            C00037  Glycine\n",
      "            C00041  L-Alanine\n",
      "            C00042  Succinate\n",
      "            C00049  L-Aspartate\n",
      "            C00062  L-Arginine\n",
      "            C00064  L-Glutamine\n",
      "            C00065  L-Serine\n",
      "            C00073  L-Methionine\n",
      "            C00074  Phosphoenolpyruvate\n",
      "            C00078  L-Tryptophan\n",
      "            C00079  L-Phenylalanine\n",
      "            C00082  L-Tyrosine\n",
      "            C00085  D-Fructose 6-phosphate\n",
      "            C00092  D-Glucose 6-phosphate\n",
      "            C00097  L-Cysteine\n",
      "            C00122  Fumarate\n",
      "            C00123  L-Leucine\n",
      "            C00135  L-Histidine\n",
      "            C00148  L-Proline\n",
      "            C00149  (S)-Malate\n",
      "            C00152  L-Asparagine\n",
      "            C00158  Citrate\n",
      "            C00183  L-Valine\n",
      "            C00186  (S)-Lactate\n",
      "            C00197  3-Phospho-D-glycerate\n",
      "            C00311  Isocitrate\n",
      "            C00354  D-Fructose 1,6-bisphosphate\n",
      "            C00407  L-Isoleucine\n",
      "            C00631  2-Phospho-D-glycerate\n",
      "            C00665  beta-D-Fructose 2,6-bisphosphate\n",
      "            C00704  O2.-\n",
      "REFERENCE   PMID:23279446\n",
      "  AUTHORS   Soga T\n",
      "  TITLE     Cancer metabolism: key players in metabolic reprogramming.\n",
      "  JOURNAL   Cancer Sci 104:275-81 (2013)\n",
      "            DOI:10.1111/cas.12085\n",
      "REFERENCE   PMID:19460998\n",
      "  AUTHORS   Vander Heiden MG, Cantley LC, Thompson CB\n",
      "  TITLE     Understanding the Warburg effect: the metabolic requirements of cell proliferation.\n",
      "  JOURNAL   Science 324:1029-33 (2009)\n",
      "            DOI:10.1126/science.1160809\n",
      "REFERENCE   PMID:23071355\n",
      "  AUTHORS   Teicher BA, Linehan WM, Helman LJ\n",
      "  TITLE     Targeting cancer metabolism.\n",
      "  JOURNAL   Clin Cancer Res 18:5537-45 (2012)\n",
      "            DOI:10.1158/1078-0432.CCR-12-2587\n",
      "REFERENCE   PMID:21127244\n",
      "  AUTHORS   Levine AJ, Puzio-Kuter AM\n",
      "  TITLE     The control of the metabolic switch in cancers by oncogenes and tumor suppressor genes.\n",
      "  JOURNAL   Science 330:1340-4 (2010)\n",
      "            DOI:10.1126/science.1193494\n",
      "REFERENCE   PMID:24079832\n",
      "  AUTHORS   Amoedo ND, Valencia JP, Rodrigues MF, Galina A, Rumjanek FD\n",
      "  TITLE     How does the metabolism of tumour cells differ from that of normal cells.\n",
      "  JOURNAL   Biosci Rep 33:e00080 (2013)\n",
      "            DOI:10.1042/BSR20130066\n",
      "REFERENCE   PMID:21258394\n",
      "  AUTHORS   Cairns RA, Harris IS, Mak TW\n",
      "  TITLE     Regulation of cancer cell metabolism.\n",
      "  JOURNAL   Nat Rev Cancer 11:85-95 (2011)\n",
      "            DOI:10.1038/nrc2981\n",
      "REFERENCE   PMID:22237205\n",
      "  AUTHORS   Munoz-Pinedo C, El Mjiyad N, Ricci JE\n",
      "  TITLE     Cancer metabolism: current perspectives and future directions.\n",
      "  JOURNAL   Cell Death Dis 3:e248 (2012)\n",
      "            DOI:10.1038/cddis.2011.123\n",
      "REFERENCE   PMID:22156302\n",
      "  AUTHORS   Cairns RA, Harris I, McCracken S, Mak TW\n",
      "  TITLE     Cancer cell metabolism.\n",
      "  JOURNAL   Cold Spring Harb Symp Quant Biol 76:299-311 (2011)\n",
      "            DOI:10.1101/sqb.2011.76.012856\n",
      "REFERENCE   PMID:18538731\n",
      "  AUTHORS   Kroemer G, Pouyssegur J\n",
      "  TITLE     Tumor cell metabolism: cancer's Achilles' heel.\n",
      "  JOURNAL   Cancer Cell 13:472-82 (2008)\n",
      "            DOI:10.1016/j.ccr.2008.05.005\n",
      "REFERENCE   PMID:18177721\n",
      "  AUTHORS   DeBerardinis RJ, Lum JJ, Hatzivassiliou G, Thompson CB\n",
      "  TITLE     The biology of cancer: metabolic reprogramming fuels cell growth and proliferation.\n",
      "  JOURNAL   Cell Metab 7:11-20 (2008)\n",
      "            DOI:10.1016/j.cmet.2007.10.002\n",
      "REFERENCE   PMID:21508971\n",
      "  AUTHORS   Koppenol WH, Bounds PL, Dang CV\n",
      "  TITLE     Otto Warburg's contributions to current concepts of cancer metabolism.\n",
      "  JOURNAL   Nat Rev Cancer 11:325-37 (2011)\n",
      "            DOI:10.1038/nrc3038\n",
      "REFERENCE   PMID:21801601\n",
      "  AUTHORS   Fogg VC, Lanning NJ, Mackeigan JP\n",
      "  TITLE     Mitochondria in cancer: at the crossroads of life and death.\n",
      "  JOURNAL   Chin J Cancer 30:526-39 (2011)\n",
      "            DOI:10.5732/cjc.011.10018\n",
      "REFERENCE   PMID:16982728\n",
      "  AUTHORS   Kim JW, Dang CV\n",
      "  TITLE     Cancer's molecular sweet tooth and the Warburg effect.\n",
      "  JOURNAL   Cancer Res 66:8927-30 (2006)\n",
      "            DOI:10.1158/0008-5472.CAN-06-1501\n",
      "REFERENCE   PMID:18766298\n",
      "  AUTHORS   Yeung SJ, Pan J, Lee MH\n",
      "  TITLE     Roles of p53, MYC and HIF-1 in regulating glycolysis - the seventh hallmark of cancer.\n",
      "  JOURNAL   Cell Mol Life Sci 65:3981-99 (2008)\n",
      "            DOI:10.1007/s00018-008-8224-x\n",
      "REFERENCE   PMID:23897900\n",
      "  AUTHORS   Li B, Simon MC\n",
      "  TITLE     Molecular Pathways: Targeting MYC-induced metabolic reprogramming and oncogenic stress in cancer.\n",
      "  JOURNAL   Clin Cancer Res 19:5835-41 (2013)\n",
      "            DOI:10.1158/1078-0432.CCR-12-3629\n",
      "REFERENCE   PMID:22307140\n",
      "  AUTHORS   Shen L, Sun X, Fu Z, Yang G, Li J, Yao L\n",
      "  TITLE     The fundamental role of the p53 pathway in tumor metabolism and its implication in tumor therapy.\n",
      "  JOURNAL   Clin Cancer Res 18:1561-7 (2012)\n",
      "            DOI:10.1158/1078-0432.CCR-11-3040\n",
      "REFERENCE   PMID:19270154\n",
      "  AUTHORS   Jones RG, Thompson CB\n",
      "  TITLE     Tumor suppressors and cell metabolism: a recipe for cancer growth.\n",
      "  JOURNAL   Genes Dev 23:537-48 (2009)\n",
      "            DOI:10.1101/gad.1756509\n",
      "REFERENCE   PMID:21340684\n",
      "  AUTHORS   Maddocks OD, Vousden KH\n",
      "  TITLE     Metabolic regulation by p53.\n",
      "  JOURNAL   J Mol Med (Berl) 89:237-45 (2011)\n",
      "            DOI:10.1007/s00109-011-0735-5\n",
      "REFERENCE   PMID:22750268\n",
      "  AUTHORS   Chen JQ, Russo J\n",
      "  TITLE     Dysregulation of glucose transport, glycolysis, TCA cycle and glutaminolysis by oncogenes and tumor suppressors in cancer cells.\n",
      "  JOURNAL   Biochim Biophys Acta 1826:370-84 (2012)\n",
      "            DOI:10.1016/j.bbcan.2012.06.004\n",
      "REFERENCE   PMID:20520704\n",
      "  AUTHORS   Kaelin WG Jr, Thompson CB\n",
      "  TITLE     Q&amp;A: Cancer: clues from cell metabolism.\n",
      "  JOURNAL   Nature 465:562-4 (2010)\n",
      "            DOI:10.1038/465562a\n",
      "REFERENCE   PMID:24113830\n",
      "  AUTHORS   Galluzzi L, Kepp O, Vander Heiden MG, Kroemer G\n",
      "  TITLE     Metabolic targets for cancer therapy.\n",
      "  JOURNAL   Nat Rev Drug Discov 12:829-46 (2013)\n",
      "            DOI:10.1038/nrd4145\n",
      "REFERENCE   PMID:24738035\n",
      "  AUTHORS   Phan LM, Yeung SC, Lee MH\n",
      "  TITLE     Cancer metabolic reprogramming: importance, main features, and potentials for precise targeted anti-cancer therapies.\n",
      "  JOURNAL   Cancer Biol Med 11:1-19 (2014)\n",
      "            DOI:10.7497/j.issn.2095-3941.2014.01.001\n",
      "REFERENCE   PMID:22101401\n",
      "  AUTHORS   Icard P, Poulain L, Lincet H\n",
      "  TITLE     Understanding the central role of citrate in the metabolism of cancer cells.\n",
      "  JOURNAL   Biochim Biophys Acta 1825:111-6 (2012)\n",
      "            DOI:10.1016/j.bbcan.2011.10.007\n",
      "REFERENCE   PMID:22349059\n",
      "  AUTHORS   Daye D, Wellen KE\n",
      "  TITLE     Metabolic reprogramming in cancer: unraveling the role of glutamine in tumorigenesis.\n",
      "  JOURNAL   Semin Cell Dev Biol 23:362-9 (2012)\n",
      "            DOI:10.1016/j.semcdb.2012.02.002\n",
      "REFERENCE   PMID:23018234\n",
      "  AUTHORS   Chiarugi A, Dolle C, Felici R, Ziegler M\n",
      "  TITLE     The NAD metabolome--a key determinant of cancer cell biology.\n",
      "  JOURNAL   Nat Rev Cancer 12:741-52 (2012)\n",
      "            DOI:10.1038/nrc3340\n",
      "REFERENCE   PMID:24398961\n",
      "  AUTHORS   Guarente L\n",
      "  TITLE     The many faces of sirtuins: Sirtuins and the Warburg effect.\n",
      "  JOURNAL   Nat Med 20:24-5 (2014)\n",
      "            DOI:10.1038/nm.3438\n",
      "REFERENCE   PMID:15916903\n",
      "  AUTHORS   Fuchs BC, Bode BP\n",
      "  TITLE     Amino acid transporters ASCT2 and LAT1 in cancer: partners in crime?\n",
      "  JOURNAL   Semin Cancer Biol 15:254-66 (2005)\n",
      "            DOI:10.1016/j.semcancer.2005.04.005\n",
      "KO_PATHWAY  ko05230\n",
      "///\n",
      "\n"
     ]
    }
   ],
   "source": [
    "print(kegg.getPathwayInfo(\"hsa05230\"))"
   ]
  },
  {
   "cell_type": "markdown",
   "metadata": {},
   "source": [
    "## Make a pretty plot"
   ]
  },
  {
   "cell_type": "code",
   "execution_count": 12,
   "metadata": {},
   "outputs": [
    {
     "name": "stderr",
     "output_type": "stream",
     "text": [
      "D: Initializing the TSVMapResourceManager object NOW\n",
      "D: Loading the index from pickle\n"
     ]
    },
    {
     "data": {
      "image/png": "[encoded data removed]",
      "text/plain": [
       "<matplotlib.figure.Figure at 0x7fc0bb3ea5c0>"
      ]
     },
     "metadata": {},
     "output_type": "display_data"
    }
   ],
   "source": [
    "fig, axes = plt.subplots(figsize=(12,4), ncols=2, nrows=1)\n",
    "axes = axes.flatten()\n",
    "\n",
    "# How many genes are there per kegg pathway?\n",
    "genesPerPathway = [ len(kegg.getPathwayGenes(p)) for p in kegg.getPathways() ]\n",
    "pathwaysPerGene = [ len(kegg.getGenePathways(g)) for g in kegg.getGenes() ]\n",
    "\n",
    "axes[0].hist(genesPerPathway, bins=50)\n",
    "axes[0].set_xlabel(\"Number of genes per pathway\")\n",
    "axes[1].hist(pathwaysPerGene, bins=50)\n",
    "axes[1].set_xlabel(\"Number of pathways per gene\")\n",
    "plt.show()"
   ]
  },
  {
   "cell_type": "code",
   "execution_count": null,
   "metadata": {},
   "outputs": [],
   "source": []
  }
 ],
 "metadata": {
  "kernelspec": {
   "display_name": "Python 3",
   "language": "python",
   "name": "python3"
  },
  "language_info": {
   "codemirror_mode": {
    "name": "ipython",
    "version": 3
   },
   "file_extension": ".py",
   "mimetype": "text/x-python",
   "name": "python",
   "nbconvert_exporter": "python",
   "pygments_lexer": "ipython3",
   "version": "3.6.2"
  }
 },
 "nbformat": 4,
 "nbformat_minor": 2
}
