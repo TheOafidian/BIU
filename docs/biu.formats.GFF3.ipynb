{
 "cells": [
  {
   "cell_type": "markdown",
   "metadata": {},
   "source": [
    "# Handling GFF3 files\n"
   ]
  },
  {
   "cell_type": "code",
   "execution_count": 1,
   "metadata": {},
   "outputs": [],
   "source": [
    "import biu"
   ]
  },
  {
   "cell_type": "code",
   "execution_count": 2,
   "metadata": {},
   "outputs": [
    {
     "name": "stderr",
     "output_type": "stream",
     "text": [
      "D: GFF input source is file.\n"
     ]
    }
   ],
   "source": [
    "gff = biu.formats.GFF3('example_files/example.gff3')"
   ]
  },
  {
   "cell_type": "code",
   "execution_count": 3,
   "metadata": {},
   "outputs": [
    {
     "name": "stdout",
     "output_type": "stream",
     "text": [
      "GFF3 object\n",
      " Where: example_files/example.gff3\n",
      " Entries: 13\n",
      " Top level statistics:\n",
      "  * Gene : 1\n",
      "\n"
     ]
    }
   ],
   "source": [
    "print(gff)"
   ]
  },
  {
   "cell_type": "markdown",
   "metadata": {},
   "source": [
    "## Get Top Level features, by type"
   ]
  },
  {
   "cell_type": "code",
   "execution_count": 4,
   "metadata": {},
   "outputs": [
    {
     "data": {
      "text/plain": [
       "{'Gene': ['gene0001']}"
      ]
     },
     "execution_count": 4,
     "metadata": {},
     "output_type": "execute_result"
    }
   ],
   "source": [
    "gff.topLevel"
   ]
  },
  {
   "cell_type": "markdown",
   "metadata": {},
   "source": [
    "## Get entries from GFF based on ID\n"
   ]
  },
  {
   "cell_type": "code",
   "execution_count": 5,
   "metadata": {},
   "outputs": [
    {
     "data": {
      "text/plain": [
       "GFF3Entry(seqid:ctg123, source:., feature:Gene, start:1300, end:9001, score:., strand:+, phase:., attr:ID=gene0001;Name=sonichedgehog)"
      ]
     },
     "execution_count": 5,
     "metadata": {},
     "output_type": "execute_result"
    }
   ],
   "source": [
    "gff.getIDEntry('gene0001')"
   ]
  },
  {
   "cell_type": "markdown",
   "metadata": {},
   "source": [
    "## Get entries based on parent"
   ]
  },
  {
   "cell_type": "code",
   "execution_count": 6,
   "metadata": {},
   "outputs": [
    {
     "data": {
      "text/plain": [
       "[GFF3Entry(seqid:ctg123, source:., feature:mRNA, start:1300, end:9000, score:., strand:+, phase:., attr:ID=mrna0001.2;Name=sonichedgehog.1),\n",
       " GFF3Entry(seqid:ctg123, source:., feature:mRNA, start:1301, end:9001, score:., strand:+, phase:., attr:ID=mrna0001.2;Name=sonichedgehog.2)]"
      ]
     },
     "execution_count": 6,
     "metadata": {},
     "output_type": "execute_result"
    }
   ],
   "source": [
    "gff.getChildren('gene0001')"
   ]
  },
  {
   "cell_type": "code",
   "execution_count": 7,
   "metadata": {},
   "outputs": [
    {
     "data": {
      "text/plain": [
       "[GFF3Entry(seqid:ctg123, source:., feature:Gene, start:1300, end:9001, score:., strand:+, phase:., attr:ID=gene0001;Name=sonichedgehog),\n",
       " GFF3Entry(seqid:ctg123, source:., feature:mRNA, start:1300, end:9000, score:., strand:+, phase:., attr:ID=mrna0001.2;Name=sonichedgehog.1;Parent=gene0001),\n",
       " GFF3Entry(seqid:ctg123, source:., feature:mRNA, start:1301, end:9001, score:., strand:+, phase:., attr:ID=mrna0001.2;Name=sonichedgehog.2;Parent=gene0001)]"
      ]
     },
     "execution_count": 7,
     "metadata": {},
     "output_type": "execute_result"
    }
   ],
   "source": [
    "gff.getChildren('gene0001', containParent=True)"
   ]
  },
  {
   "cell_type": "markdown",
   "metadata": {},
   "source": [
    "## Create sub-structures"
   ]
  },
  {
   "cell_type": "code",
   "execution_count": 8,
   "metadata": {},
   "outputs": [
    {
     "name": "stdout",
     "output_type": "stream",
     "text": [
      "GFF3 object\n",
      " Where: 0x7f7f22bf0780\n",
      " Entries: 2\n",
      " Top level statistics:\n",
      "  * mRNA : 2\n",
      "\n"
     ]
    },
    {
     "name": "stderr",
     "output_type": "stream",
     "text": [
      "D: GFF input source is list of GFF3Entries.\n"
     ]
    }
   ],
   "source": [
    "subgff = biu.formats.GFF3(gff.getChildren('gene0001'))\n",
    "\n",
    "print(subgff)"
   ]
  },
  {
   "cell_type": "markdown",
   "metadata": {},
   "source": [
    "# C elegans genome"
   ]
  },
  {
   "cell_type": "code",
   "execution_count": 9,
   "metadata": {},
   "outputs": [],
   "source": [
    "ce = biu.db.Genome(\"WBcel235\")"
   ]
  },
  {
   "cell_type": "code",
   "execution_count": 10,
   "metadata": {},
   "outputs": [
    {
     "name": "stderr",
     "output_type": "stream",
     "text": [
      "D: Initializing the GFF3ResourceManager object NOW\n",
      "D: GFF input source is file.\n"
     ]
    },
    {
     "name": "stdout",
     "output_type": "stream",
     "text": [
      "GFF3 object\n",
      " Where: /home/tgehrmann/repos/BIU/docs/genome_WBcel235/genome.gff3\n",
      " Entries: 517453\n",
      " Top level statistics:\n",
      "  * region : 7\n",
      "  * gene : 44830\n",
      "  * pseudogene : 1901\n",
      "  * primary_transcript : 14\n",
      "  * tRNA : 22\n",
      "  * rRNA : 2\n",
      "  * sequence_feature : 2\n",
      "\n"
     ]
    }
   ],
   "source": [
    "print(ce.gff)"
   ]
  },
  {
   "cell_type": "code",
   "execution_count": 11,
   "metadata": {},
   "outputs": [
    {
     "data": {
      "text/plain": [
       "'gene0'"
      ]
     },
     "execution_count": 11,
     "metadata": {},
     "output_type": "execute_result"
    }
   ],
   "source": [
    "ce.gff.topLevel[\"gene\"][0]"
   ]
  },
  {
   "cell_type": "code",
   "execution_count": 12,
   "metadata": {},
   "outputs": [
    {
     "name": "stdout",
     "output_type": "stream",
     "text": [
      "[GFF3Entry(seqid:NC_003279.8, source:RefSeq, feature:exon, start:26733, end:26778, score:., strand:-, phase:., attr:ID=id12;Dbxref=GeneID:171592,Genbank:NM_058262.4,WormBase:WBGene00022278;end_range=26778,.;gbkey=mRNA;gene=rcor-1;partial=true;product=RCOR (REST CO-Repressor) homolog;transcript_id=NM_058262.4), GFF3Entry(seqid:NC_003279.8, source:RefSeq, feature:exon, start:26590, end:26681, score:., strand:-, phase:., attr:ID=id13;Dbxref=GeneID:171592,Genbank:NM_058262.4,WormBase:WBGene00022278;gbkey=mRNA;gene=rcor-1;partial=true;product=RCOR (REST CO-Repressor) homolog;transcript_id=NM_058262.4), GFF3Entry(seqid:NC_003279.8, source:RefSeq, feature:exon, start:26371, end:26524, score:., strand:-, phase:., attr:ID=id14;Dbxref=GeneID:171592,Genbank:NM_058262.4,WormBase:WBGene00022278;gbkey=mRNA;gene=rcor-1;partial=true;product=RCOR (REST CO-Repressor) homolog;transcript_id=NM_058262.4), GFF3Entry(seqid:NC_003279.8, source:RefSeq, feature:exon, start:25273, end:25472, score:., strand:-, phase:., attr:ID=id15;Dbxref=GeneID:171592,Genbank:NM_058262.4,WormBase:WBGene00022278;gbkey=mRNA;gene=rcor-1;partial=true;product=RCOR (REST CO-Repressor) homolog;transcript_id=NM_058262.4), GFF3Entry(seqid:NC_003279.8, source:RefSeq, feature:exon, start:24929, end:25090, score:., strand:-, phase:., attr:ID=id16;Dbxref=GeneID:171592,Genbank:NM_058262.4,WormBase:WBGene00022278;gbkey=mRNA;gene=rcor-1;partial=true;product=RCOR (REST CO-Repressor) homolog;transcript_id=NM_058262.4), GFF3Entry(seqid:NC_003279.8, source:RefSeq, feature:exon, start:24651, end:24845, score:., strand:-, phase:., attr:ID=id17;Dbxref=GeneID:171592,Genbank:NM_058262.4,WormBase:WBGene00022278;gbkey=mRNA;gene=rcor-1;partial=true;product=RCOR (REST CO-Repressor) homolog;transcript_id=NM_058262.4), GFF3Entry(seqid:NC_003279.8, source:RefSeq, feature:exon, start:21013, end:21139, score:., strand:-, phase:., attr:ID=id18;Dbxref=GeneID:171592,Genbank:NM_058262.4,WormBase:WBGene00022278;gbkey=mRNA;gene=rcor-1;partial=true;product=RCOR (REST CO-Repressor) homolog;transcript_id=NM_058262.4), GFF3Entry(seqid:NC_003279.8, source:RefSeq, feature:exon, start:20848, end:20964, score:., strand:-, phase:., attr:ID=id19;Dbxref=GeneID:171592,Genbank:NM_058262.4,WormBase:WBGene00022278;gbkey=mRNA;gene=rcor-1;partial=true;product=RCOR (REST CO-Repressor) homolog;transcript_id=NM_058262.4), GFF3Entry(seqid:NC_003279.8, source:RefSeq, feature:exon, start:20271, end:20478, score:., strand:-, phase:., attr:ID=id20;Dbxref=GeneID:171592,Genbank:NM_058262.4,WormBase:WBGene00022278;gbkey=mRNA;gene=rcor-1;partial=true;product=RCOR (REST CO-Repressor) homolog;transcript_id=NM_058262.4), GFF3Entry(seqid:NC_003279.8, source:RefSeq, feature:exon, start:19015, end:19241, score:., strand:-, phase:., attr:ID=id21;Dbxref=GeneID:171592,Genbank:NM_058262.4,WormBase:WBGene00022278;gbkey=mRNA;gene=rcor-1;partial=true;product=RCOR (REST CO-Repressor) homolog;transcript_id=NM_058262.4), GFF3Entry(seqid:NC_003279.8, source:RefSeq, feature:exon, start:18006, end:18115, score:., strand:-, phase:., attr:ID=id22;Dbxref=GeneID:171592,Genbank:NM_058262.4,WormBase:WBGene00022278;gbkey=mRNA;gene=rcor-1;partial=true;product=RCOR (REST CO-Repressor) homolog;transcript_id=NM_058262.4), GFF3Entry(seqid:NC_003279.8, source:RefSeq, feature:exon, start:17911, end:17958, score:., strand:-, phase:., attr:ID=id23;Dbxref=GeneID:171592,Genbank:NM_058262.4,WormBase:WBGene00022278;gbkey=mRNA;gene=rcor-1;partial=true;product=RCOR (REST CO-Repressor) homolog;start_range=.,17911;transcript_id=NM_058262.4)]\n"
     ]
    },
    {
     "name": "stderr",
     "output_type": "stream",
     "text": [
      "D: Initializing the FastaResourceManager object NOW\n",
      "D: Fasta input source is file\n"
     ]
    },
    {
     "data": {
      "text/plain": [
       "'gtcaatcgACACGTATCGCGCCGAGCTCAAGTCAAAACTCGGCAAATA'"
      ]
     },
     "execution_count": 12,
     "metadata": {},
     "output_type": "execute_result"
    }
   ],
   "source": [
    "# For negative stranded feature\n",
    "print(ce.gff.getChildren(\"rna4\", feature=\"exon\"))#\n",
    "ce.gff.getChildren(\"rna4\", feature=\"exon\")[-1].seq(ce.genome[\"all\"]).seq"
   ]
  },
  {
   "cell_type": "code",
   "execution_count": 13,
   "metadata": {},
   "outputs": [
    {
     "data": {
      "text/plain": [
       "'ATGGTCGCGTGGCAGCCGATGAAGCGGTCGATGATCAATGAGGATTCTAGAGCTCCATGTAAGTTAGTGGTGGTGGCCggaaaagagaaaactcggccaagCTGCTcggagtttttgaatttttgataatccgaaataaaaattgattgctCGAAAAGGAACaatcttttggaaaaaaacgaattttgtcatttttttcagcaaaaattgattttcgaatttttccaataaaaaatcgataatttctccCCGTGCAGTGGAAaacaaacaatatttttttgttgatcgTTCTCTTCCAAACCCGGAATAGGTACACACATTCCTGCGTCATCCCATTCTCttatcacacttttttttcgaaaataaaagtgTAGAGACGGAAAAGTGAGAAAGGAGTCAATTTTATGCGAAATTTTGCATGATAATAcactcaaattaaaaaaactgcgtggcgtgcactgcagaaaacctcatatttaggccccgcctttttctcgtccactcacggagaaaaggcaaaaatttggggaccaaccaatatcaggccgccgacatcctacgggttccgcgcgccgctatgtttaactcgctgtgggtgtggcgagctgtctccgcccgctgcgagttaaacatagcggcgcgcggaacccgtaggaagtcggcggcctgatattgttggtccccaaattttttccttttctccgtgagtggacgagaaaaaggcggggcctaattatgaggttttctgcagtacacgccacgcagtttttttattttgagtgtatagGTCTCGATTCTCGAAAGTATGACAGTTATTTAAATGATGAACTCGTGATGactgttaaatttttggaaatttcgggggaattatatcgatttttcgataaatttacaggaaaaaagtccaaaatctAGGTAttccatggtaggcaggcgcgaTTTCTTGACGCCTGCCTGGAATCTGTCCGCCTCAcaccaaaaaatgtcaatcattttgctgaaaaccaaattaagaaatgaaaaagtgcACTTAGAGATGATGACGGAGGTCGCCTTAAGGTCAGACAGGttaaaaaaccgattttagTTGagttttcccgaaattttctgaacaaccGAATTAGAAATATGCTGCTTGtcatttttgagtaaaaattaacgaaaactTCGACCAAAACcacgaaaaaaatgaagaaaataaagatttttcgagaaaataacaacaaaatccagcaaatagtgaaaaatagttttatccGAGAAAAAGTAGTTTAGACGCTATGAACTCtcgaaaatcagattttttcaatctaaaagccataaaattatcgattttttaaaaattctcactgAAAACCGGCGAATTTCAGTGCTCCACGCAATCGAAGCCCGCTTGGCCGAAGTGTTGAGAGCCGGAGAACGCCTCGGAGTCAACCCGGAGGAAGTTTTGGCGGATCTTCGTGCTCGTAATCAATTCCAATAA'"
      ]
     },
     "execution_count": 13,
     "metadata": {},
     "output_type": "execute_result"
    }
   ],
   "source": [
    "# For positively stranded feature\n",
    "ce.gff.getChildren(\"gene2\")[1].seq(ce.genome[\"all\"]).seq"
   ]
  },
  {
   "cell_type": "code",
   "execution_count": null,
   "metadata": {},
   "outputs": [],
   "source": []
  }
 ],
 "metadata": {
  "kernelspec": {
   "display_name": "Python 3",
   "language": "python",
   "name": "python3"
  },
  "language_info": {
   "codemirror_mode": {
    "name": "ipython",
    "version": 3
   },
   "file_extension": ".py",
   "mimetype": "text/x-python",
   "name": "python",
   "nbconvert_exporter": "python",
   "pygments_lexer": "ipython3",
   "version": "3.6.2"
  }
 },
 "nbformat": 4,
 "nbformat_minor": 2
}
