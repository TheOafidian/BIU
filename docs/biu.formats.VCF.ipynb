{
 "cells": [
  {
   "cell_type": "markdown",
   "metadata": {},
   "source": [
    "# Handling VCF files"
   ]
  },
  {
   "cell_type": "code",
   "execution_count": 1,
   "metadata": {},
   "outputs": [],
   "source": [
    "import biu"
   ]
  },
  {
   "cell_type": "markdown",
   "metadata": {},
   "source": [
    "## Loading VCF files\n",
    "You can load VCF files, with or without a tabix index.\n",
    "If you do not provide a tabix index, then the whole VCF file is loaded into memory and they are index into an interval tree for efficient queries."
   ]
  },
  {
   "cell_type": "code",
   "execution_count": 2,
   "metadata": {},
   "outputs": [
    {
     "name": "stderr",
     "output_type": "stream",
     "text": [
      "D: VCF Input source is unindexed file.\n",
      "D: Building VCF Index. May take a while.\n",
      "D: VCF Input source is tabixed file.\n"
     ]
    }
   ],
   "source": [
    "vcf = biu.formats.VCF('example_files/example.vcf')\n",
    "\n",
    "vcfTabix = biu.formats.VCF('example_files/example.vcf.bgz', tabix=True)"
   ]
  },
  {
   "cell_type": "markdown",
   "metadata": {},
   "source": [
    "## Inspecting the VCF structure\n",
    "\n",
    "You can inspect the VCF structure to get some basic information.\n",
    "In a tabixed file, you cannot determine the number of entries."
   ]
  },
  {
   "cell_type": "code",
   "execution_count": 3,
   "metadata": {},
   "outputs": [
    {
     "name": "stdout",
     "output_type": "stream",
     "text": [
      "VCF object\n",
      " Where: example_files/example.vcf\n",
      "Entries: 5\n",
      "Number of genotypes: 3\n",
      "Tabix: No\n",
      "\n",
      "---\n",
      "\n",
      "VCF object\n",
      " Where: example_files/example.vcf.bgz\n",
      "Number of genotypes: 3\n",
      "Tabix: Yes\n",
      "\n"
     ]
    }
   ],
   "source": [
    "print(vcf)\n",
    "\n",
    "print('---\\n')\n",
    "\n",
    "print(vcfTabix)"
   ]
  },
  {
   "cell_type": "code",
   "execution_count": 4,
   "metadata": {},
   "outputs": [
    {
     "name": "stdout",
     "output_type": "stream",
     "text": [
      "NA00001\n",
      "NA00002\n",
      "NA00003\n"
     ]
    }
   ],
   "source": [
    "#Get a list of samples:\n",
    "for sample in vcf.samples:\n",
    "    print(sample)"
   ]
  },
  {
   "cell_type": "markdown",
   "metadata": {},
   "source": [
    "## Querying VCF files\n",
    "Regardless of how you loaded the file, you can query them the same way. There are several filtering options available.\n",
    "\n",
    "\n",
    " * filters : Remove variants that match a list of filters. e.g.:  [ \"AMBIGUOUS\",\"VQLOW\",\"NVLOC\",\"CALLRATE\",\"MULTI\",\"RECMULTI\"]\n",
    " * types : Remove variants that do not match a list of variant types (e.g. snp, indel, sv)\n",
    " * subTypes : Remove variants that do not match a list of variant subTypes (see pyVCF documentation)\n",
    " * sampleFilters : Remove samples from the genotype columns (We will get to this later)"
   ]
  },
  {
   "cell_type": "code",
   "execution_count": 5,
   "metadata": {},
   "outputs": [
    {
     "name": "stdout",
     "output_type": "stream",
     "text": [
      "Record(CHROM=20, POS=14370, REF=G, ALT=[A])\n",
      "Record(CHROM=20, POS=17330, REF=T, ALT=[A])\n",
      "Record(CHROM=20, POS=1234567, REF=GTCT, ALT=[G, GTACT])\n",
      "Record(CHROM=20, POS=1230237, REF=T, ALT=[None])\n",
      "Record(CHROM=20, POS=1110696, REF=A, ALT=[G, T])\n"
     ]
    }
   ],
   "source": [
    "for record in vcf.query(20, 14369, 1234567):\n",
    "    print(record)"
   ]
  },
  {
   "cell_type": "code",
   "execution_count": 6,
   "metadata": {},
   "outputs": [
    {
     "name": "stdout",
     "output_type": "stream",
     "text": [
      "Record(CHROM=20, POS=14370, REF=G, ALT=[A])\n",
      "Record(CHROM=20, POS=17330, REF=T, ALT=[A])\n",
      "Record(CHROM=20, POS=1110696, REF=A, ALT=[G, T])\n"
     ]
    }
   ],
   "source": [
    "for record in vcf.query(20, 14369, 1234567, types=['snp']):\n",
    "    print(record)"
   ]
  },
  {
   "cell_type": "code",
   "execution_count": 7,
   "metadata": {},
   "outputs": [
    {
     "name": "stdout",
     "output_type": "stream",
     "text": [
      "Record(CHROM=20, POS=14370, REF=G, ALT=[A])\n",
      "Record(CHROM=20, POS=1110696, REF=A, ALT=[G, T])\n"
     ]
    }
   ],
   "source": [
    "for record in vcf.query(20, 14369, 1234567, types=['snp'], filters=['q10']):\n",
    "    print(record)"
   ]
  },
  {
   "cell_type": "markdown",
   "metadata": {},
   "source": [
    "## Summarizing a query\n",
    "You can also get a summary of genotypes from the query.\n",
    "\n",
    "This is given by the extract='summary' option."
   ]
  },
  {
   "cell_type": "code",
   "execution_count": 8,
   "metadata": {},
   "outputs": [
    {
     "data": {
      "text/html": [
       "<div>\n",
       "<style scoped>\n",
       "    .dataframe tbody tr th:only-of-type {\n",
       "        vertical-align: middle;\n",
       "    }\n",
       "\n",
       "    .dataframe tbody tr th {\n",
       "        vertical-align: top;\n",
       "    }\n",
       "\n",
       "    .dataframe thead th {\n",
       "        text-align: right;\n",
       "    }\n",
       "</style>\n",
       "<table border=\"1\" class=\"dataframe\">\n",
       "  <thead>\n",
       "    <tr style=\"text-align: right;\">\n",
       "      <th></th>\n",
       "      <th>id</th>\n",
       "      <th>RR</th>\n",
       "      <th>R</th>\n",
       "      <th>RA</th>\n",
       "      <th>A</th>\n",
       "      <th>AA</th>\n",
       "      <th>U</th>\n",
       "    </tr>\n",
       "  </thead>\n",
       "  <tbody>\n",
       "    <tr>\n",
       "      <th>0</th>\n",
       "      <td>20-14370-G-A</td>\n",
       "      <td>1</td>\n",
       "      <td>0</td>\n",
       "      <td>1</td>\n",
       "      <td>0</td>\n",
       "      <td>1</td>\n",
       "      <td>0</td>\n",
       "    </tr>\n",
       "    <tr>\n",
       "      <th>1</th>\n",
       "      <td>20-1110696-A-G</td>\n",
       "      <td>0</td>\n",
       "      <td>0</td>\n",
       "      <td>0</td>\n",
       "      <td>0</td>\n",
       "      <td>0</td>\n",
       "      <td>3</td>\n",
       "    </tr>\n",
       "  </tbody>\n",
       "</table>\n",
       "</div>"
      ],
      "text/plain": [
       "               id  RR  R  RA  A  AA  U\n",
       "0    20-14370-G-A   1  0   1  0   1  0\n",
       "1  20-1110696-A-G   0  0   0  0   0  3"
      ]
     },
     "execution_count": 8,
     "metadata": {},
     "output_type": "execute_result"
    }
   ],
   "source": [
    "vcf.query(20, 14369, 1234567, types=['snp'], filters=['q10'], extract='summary')\n"
   ]
  },
  {
   "cell_type": "markdown",
   "metadata": {},
   "source": [
    "## Subquerying VCF files\n",
    "You can additionally create substructures from the results of your queries.\n",
    "These are loaded as if you had read them from a non-tabixed VCF file, and can be queried further just as if they had been loaded from a file.\n",
    "\n",
    "The location of this structure is now given as a location in memory, to indicate that it is not a file."
   ]
  },
  {
   "cell_type": "code",
   "execution_count": 9,
   "metadata": {},
   "outputs": [
    {
     "name": "stdout",
     "output_type": "stream",
     "text": [
      "VCF object\n",
      " Where: 0x7f779029ef98\n",
      "Entries: 3\n",
      "Number of genotypes: 3\n",
      "Tabix: No\n",
      "\n"
     ]
    },
    {
     "name": "stderr",
     "output_type": "stream",
     "text": [
      "D: VCF Input source is list of Records.\n",
      "D: Building VCF Index. May take a while.\n"
     ]
    }
   ],
   "source": [
    "subvcf = biu.formats.VCF(vcf.query(20, 14369, 1234567, types=['snp']))\n",
    "\n",
    "print(subvcf)"
   ]
  },
  {
   "cell_type": "code",
   "execution_count": 10,
   "metadata": {},
   "outputs": [
    {
     "name": "stdout",
     "output_type": "stream",
     "text": [
      "Record(CHROM=20, POS=14370, REF=G, ALT=[A])\n",
      "Record(CHROM=20, POS=1110696, REF=A, ALT=[G, T])\n"
     ]
    }
   ],
   "source": [
    "for record in subvcf.query(20, 14369, 1234567, filters=['q10']):\n",
    "    print(record)"
   ]
  },
  {
   "cell_type": "markdown",
   "metadata": {},
   "source": [
    "### Filtering samples\n",
    "If we select a subset of samples to work with, we will see them removed from the structure in later queries"
   ]
  },
  {
   "cell_type": "code",
   "execution_count": 11,
   "metadata": {},
   "outputs": [
    {
     "name": "stdout",
     "output_type": "stream",
     "text": [
      "['NA00001', 'NA00002']\n"
     ]
    },
    {
     "name": "stderr",
     "output_type": "stream",
     "text": [
      "D: VCF Input source is list of Records.\n",
      "D: Building VCF Index. May take a while.\n"
     ]
    }
   ],
   "source": [
    "subvcf = biu.formats.VCF(vcf.query(20, 14369, 1234567, sampleFilters=['NA00001', 'NA00002']))\n",
    "print(subvcf.samples)"
   ]
  },
  {
   "cell_type": "markdown",
   "metadata": {},
   "source": [
    "## Static methods\n",
    "If you have previously made a query, you can also access the internal parts of the query function with static methods of the VCF class."
   ]
  },
  {
   "cell_type": "code",
   "execution_count": 12,
   "metadata": {},
   "outputs": [
    {
     "data": {
      "text/html": [
       "<div>\n",
       "<style scoped>\n",
       "    .dataframe tbody tr th:only-of-type {\n",
       "        vertical-align: middle;\n",
       "    }\n",
       "\n",
       "    .dataframe tbody tr th {\n",
       "        vertical-align: top;\n",
       "    }\n",
       "\n",
       "    .dataframe thead th {\n",
       "        text-align: right;\n",
       "    }\n",
       "</style>\n",
       "<table border=\"1\" class=\"dataframe\">\n",
       "  <thead>\n",
       "    <tr style=\"text-align: right;\">\n",
       "      <th></th>\n",
       "      <th>id</th>\n",
       "      <th>RR</th>\n",
       "      <th>R</th>\n",
       "      <th>RA</th>\n",
       "      <th>A</th>\n",
       "      <th>AA</th>\n",
       "      <th>U</th>\n",
       "    </tr>\n",
       "  </thead>\n",
       "  <tbody>\n",
       "    <tr>\n",
       "      <th>0</th>\n",
       "      <td>20-14370-G-A</td>\n",
       "      <td>1</td>\n",
       "      <td>0</td>\n",
       "      <td>1</td>\n",
       "      <td>0</td>\n",
       "      <td>0</td>\n",
       "      <td>0</td>\n",
       "    </tr>\n",
       "    <tr>\n",
       "      <th>1</th>\n",
       "      <td>20-17330-T-A</td>\n",
       "      <td>1</td>\n",
       "      <td>0</td>\n",
       "      <td>1</td>\n",
       "      <td>0</td>\n",
       "      <td>0</td>\n",
       "      <td>0</td>\n",
       "    </tr>\n",
       "    <tr>\n",
       "      <th>2</th>\n",
       "      <td>20-1234567-GTCT-G</td>\n",
       "      <td>0</td>\n",
       "      <td>0</td>\n",
       "      <td>1</td>\n",
       "      <td>0</td>\n",
       "      <td>0</td>\n",
       "      <td>1</td>\n",
       "    </tr>\n",
       "    <tr>\n",
       "      <th>3</th>\n",
       "      <td>20-1230237-T--</td>\n",
       "      <td>2</td>\n",
       "      <td>0</td>\n",
       "      <td>0</td>\n",
       "      <td>0</td>\n",
       "      <td>0</td>\n",
       "      <td>0</td>\n",
       "    </tr>\n",
       "    <tr>\n",
       "      <th>4</th>\n",
       "      <td>20-1110696-A-G</td>\n",
       "      <td>0</td>\n",
       "      <td>0</td>\n",
       "      <td>0</td>\n",
       "      <td>0</td>\n",
       "      <td>0</td>\n",
       "      <td>2</td>\n",
       "    </tr>\n",
       "  </tbody>\n",
       "</table>\n",
       "</div>"
      ],
      "text/plain": [
       "                  id  RR  R  RA  A  AA  U\n",
       "0       20-14370-G-A   1  0   1  0   0  0\n",
       "1       20-17330-T-A   1  0   1  0   0  0\n",
       "2  20-1234567-GTCT-G   0  0   1  0   0  1\n",
       "3     20-1230237-T--   2  0   0  0   0  0\n",
       "4     20-1110696-A-G   0  0   0  0   0  2"
      ]
     },
     "execution_count": 12,
     "metadata": {},
     "output_type": "execute_result"
    }
   ],
   "source": [
    "queryResult = vcf.query(20, 14369, 1234567)\n",
    "\n",
    "# Extract the summary\n",
    "biu.formats.VCF.extract(queryResult, 'summary')"
   ]
  },
  {
   "cell_type": "code",
   "execution_count": 13,
   "metadata": {},
   "outputs": [
    {
     "name": "stdout",
     "output_type": "stream",
     "text": [
      "Record(CHROM=20, POS=14370, REF=G, ALT=[A])\n",
      "Record(CHROM=20, POS=1234567, REF=GTCT, ALT=[G, GTACT])\n",
      "Record(CHROM=20, POS=1230237, REF=T, ALT=[None])\n",
      "Record(CHROM=20, POS=1110696, REF=A, ALT=[G, T])\n"
     ]
    }
   ],
   "source": [
    "# Filter the results of the query\n",
    "for record in biu.formats.VCF.filter(queryResult, ['q10']):\n",
    "    print(record)"
   ]
  },
  {
   "cell_type": "code",
   "execution_count": 14,
   "metadata": {},
   "outputs": [
    {
     "name": "stdout",
     "output_type": "stream",
     "text": [
      "Record(CHROM=20, POS=14370, REF=G, ALT=[A])\n",
      "Record(CHROM=20, POS=17330, REF=T, ALT=[A])\n",
      "Record(CHROM=20, POS=1110696, REF=A, ALT=[G, T])\n"
     ]
    }
   ],
   "source": [
    "# Filter on the type of variant\n",
    "for record in biu.formats.VCF.filterType(queryResult, ['snp']):\n",
    "    print(record)"
   ]
  },
  {
   "cell_type": "code",
   "execution_count": 15,
   "metadata": {},
   "outputs": [
    {
     "name": "stdout",
     "output_type": "stream",
     "text": [
      "NA00001\n",
      "NA00002\n"
     ]
    },
    {
     "name": "stderr",
     "output_type": "stream",
     "text": [
      "D: VCF Input source is list of Records.\n",
      "D: Building VCF Index. May take a while.\n"
     ]
    }
   ],
   "source": [
    "# Filter in the sample ID\n",
    "for sampleid in biu.formats.VCF(biu.formats.VCF.filterSamples(queryResult, ['NA00001', 'NA00002'])).samples:\n",
    "    print(sampleid)"
   ]
  }
 ],
 "metadata": {
  "kernelspec": {
   "display_name": "Python 3",
   "language": "python",
   "name": "python3"
  },
  "language_info": {
   "codemirror_mode": {
    "name": "ipython",
    "version": 3
   },
   "file_extension": ".py",
   "mimetype": "text/x-python",
   "name": "python",
   "nbconvert_exporter": "python",
   "pygments_lexer": "ipython3",
   "version": "3.6.2"
  }
 },
 "nbformat": 4,
 "nbformat_minor": 2
}
