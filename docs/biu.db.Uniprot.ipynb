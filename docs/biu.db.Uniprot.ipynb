{
 "cells": [
  {
   "cell_type": "code",
   "execution_count": 4,
   "metadata": {},
   "outputs": [],
   "source": [
    "import biu\n",
    "\n",
    "# Set the default data location\n",
    "where = '/exports/molepi/tgehrmann/biu/'\n",
    "biu.config.settings.setWhere(where)\n",
    "\n",
    "uniprot = biu.db.UniProt()"
   ]
  },
  {
   "cell_type": "code",
   "execution_count": 5,
   "metadata": {},
   "outputs": [
    {
     "name": "stdout",
     "output_type": "stream",
     "text": [
      "UniProt object\n",
      " Version: human\n",
      " Objects:\n",
      " Files:\n",
      "  * [ ] gff : /exports/molepi/tgehrmann/biu/data/uniprot/human/gff.gff3\n",
      "\n"
     ]
    }
   ],
   "source": [
    "print(uniprot)"
   ]
  },
  {
   "cell_type": "code",
   "execution_count": 10,
   "metadata": {},
   "outputs": [
    {
     "name": "stdout",
     "output_type": "stream",
     "text": [
      "GFF3Entry(seqid:P18848, source:UniProtKB, feature:Domain, start:278, end:341, score:., strand:., phase:., attr:Note=bZIP;Ontology_term=ECO:0000255;evidence=ECO:0000255|PROSITE-ProRule:PRU00978)\n"
     ]
    },
    {
     "name": "stderr",
     "output_type": "stream",
     "text": [
      "D: GFF input source is list of GFF3Entries.\n"
     ]
    }
   ],
   "source": [
    "from matplotlib.patches import Rectangle\n",
    "\n",
    "for domain in uniprot.getProteinDomains('P18848'):\n",
    "    print(domain)"
   ]
  },
  {
   "cell_type": "code",
   "execution_count": null,
   "metadata": {},
   "outputs": [],
   "source": []
  }
 ],
 "metadata": {
  "kernelspec": {
   "display_name": "Python [conda env:biu]",
   "language": "python",
   "name": "conda-env-biu-py"
  },
  "language_info": {
   "codemirror_mode": {
    "name": "ipython",
    "version": 3
   },
   "file_extension": ".py",
   "mimetype": "text/x-python",
   "name": "python",
   "nbconvert_exporter": "python",
   "pygments_lexer": "ipython3",
   "version": "3.6.3"
  }
 },
 "nbformat": 4,
 "nbformat_minor": 2
}
