{
 "cells": [
  {
   "cell_type": "markdown",
   "metadata": {},
   "source": [
    "# Pipelines in BIU\n",
    "There are several pipelines defined in BIU:\n",
    " * VEP: Variant Effect Prediction\n",
    " * RBHMap: Reciprocal Best Blast Hit Mapping between two fasta files"
   ]
  },
  {
   "cell_type": "code",
   "execution_count": 2,
   "metadata": {},
   "outputs": [],
   "source": [
    "import biu"
   ]
  },
  {
   "cell_type": "markdown",
   "metadata": {},
   "source": [
    "## Common parameters for the pipeline\n",
    "When creating a pipeline instance, there are a few useful parameters:\n",
    " * `rewriteHashedInputFiles = True|False`: Whether or not hashed input files should be re-written\n",
    " * `autorun = True|False`: Whether or not the pipeline should be executed at initialization.\n",
    " * `snakemakeOptions = dict`: Parameters to pass to the snakemake engine (See http://snakemake.readthedocs.io/en/latest/api_reference/snakemake.html)"
   ]
  },
  {
   "cell_type": "code",
   "execution_count": null,
   "metadata": {},
   "outputs": [],
   "source": []
  }
 ],
 "metadata": {
  "kernelspec": {
   "display_name": "Python 3",
   "language": "python",
   "name": "python3"
  },
  "language_info": {
   "codemirror_mode": {
    "name": "ipython",
    "version": 3
   },
   "file_extension": ".py",
   "mimetype": "text/x-python",
   "name": "python",
   "nbconvert_exporter": "python",
   "pygments_lexer": "ipython3",
   "version": "3.6.3"
  }
 },
 "nbformat": 4,
 "nbformat_minor": 2
}
