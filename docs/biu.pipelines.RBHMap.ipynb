{
 "cells": [
  {
   "cell_type": "markdown",
   "metadata": {},
   "source": [
    "# Reciprocal Best Blast Hit Pipeline"
   ]
  },
  {
   "cell_type": "code",
   "execution_count": 1,
   "metadata": {},
   "outputs": [],
   "source": [
    "import biu"
   ]
  },
  {
   "cell_type": "code",
   "execution_count": 2,
   "metadata": {},
   "outputs": [
    {
     "name": "stderr",
     "output_type": "stream",
     "text": [
      "D: Fasta input source is file\n"
     ]
    }
   ],
   "source": [
    "fasta = biu.formats.Fasta('example_files/example.fasta')"
   ]
  },
  {
   "cell_type": "code",
   "execution_count": 3,
   "metadata": {},
   "outputs": [
    {
     "name": "stderr",
     "output_type": "stream",
     "text": [
      "Building DAG of jobs...\n",
      "Using shell: /bin/bash\n",
      "Provided cluster nodes: 1\n",
      "Job counts:\n",
      "\tcount\tjobs\n",
      "\t1\tmapping\n",
      "\t2\tmappingBlastDB\n",
      "\t2\tmappingBlastQuery\n",
      "\t1\toutput\n",
      "\t6\n",
      "\n",
      "localrule mappingBlastDB:\n",
      "    input: /exports/molepi/tgehrmann/pipeline_runs/temporary_input/RBHMap/digest.0484e81d06666d4ca8d63b3a12bc77cc\n",
      "    output: /exports/molepi/tgehrmann/pipeline_runs/RBHMap/06b4ac534c3f7a12787f0d4fcb7c156f/blastdb.B.db\n",
      "    jobid: 5\n",
      "    wildcards: genome=B\n",
      "\n",
      "Activating conda environment /exports/molepi/tgehrmann/pipeline_runs/conda/505946fd.\n",
      "Finished job 5.\n",
      "1 of 6 steps (17%) done\n",
      "\n",
      "localrule mappingBlastDB:\n",
      "    input: /exports/molepi/tgehrmann/pipeline_runs/temporary_input/RBHMap/digest.0484e81d06666d4ca8d63b3a12bc77cc\n",
      "    output: /exports/molepi/tgehrmann/pipeline_runs/RBHMap/06b4ac534c3f7a12787f0d4fcb7c156f/blastdb.A.db\n",
      "    jobid: 4\n",
      "    wildcards: genome=A\n",
      "\n",
      "Activating conda environment /exports/molepi/tgehrmann/pipeline_runs/conda/505946fd.\n",
      "Finished job 4.\n",
      "2 of 6 steps (33%) done\n",
      "\n",
      "rule mappingBlastQuery:\n",
      "    input: /exports/molepi/tgehrmann/pipeline_runs/RBHMap/06b4ac534c3f7a12787f0d4fcb7c156f/blastdb.A.db, /exports/molepi/tgehrmann/pipeline_runs/temporary_input/RBHMap/digest.0484e81d06666d4ca8d63b3a12bc77cc\n",
      "    output: /exports/molepi/tgehrmann/pipeline_runs/RBHMap/06b4ac534c3f7a12787f0d4fcb7c156f/result.A.B.tsv\n",
      "    jobid: 2\n",
      "    wildcards: genome_1=A, genome_2=B\n",
      "    threads: 5\n",
      "\n",
      "Error submitting jobscript (exit code 14):\n",
      "\n",
      "Shutting down, this might take some time.\n",
      "Exiting because a job execution failed. Look above for error message\n",
      "Complete log: /home/tgehrmann/repos/BIU/docs/.snakemake/log/2018-06-28T144215.937268.snakemake.log\n"
     ]
    }
   ],
   "source": [
    "rbh = biu.pipelines.RBHMap(fasta, fasta, cluster=\"qsub {threads}\")"
   ]
  },
  {
   "cell_type": "code",
   "execution_count": 4,
   "metadata": {},
   "outputs": [
    {
     "name": "stdout",
     "output_type": "stream",
     "text": [
      "None\n"
     ]
    }
   ],
   "source": [
    "print(rbh.getMapping(overwritePickle=True))"
   ]
  },
  {
   "cell_type": "code",
   "execution_count": 5,
   "metadata": {},
   "outputs": [
    {
     "ename": "TypeError",
     "evalue": "'NoneType' object is not subscriptable",
     "output_type": "error",
     "traceback": [
      "\u001b[0;31m---------------------------------------------------------------------------\u001b[0m",
      "\u001b[0;31mTypeError\u001b[0m                                 Traceback (most recent call last)",
      "\u001b[0;32m<ipython-input-5-8fbdbba1c641>\u001b[0m in \u001b[0;36m<module>\u001b[0;34m()\u001b[0m\n\u001b[0;32m----> 1\u001b[0;31m \u001b[0mrbh\u001b[0m\u001b[0;34m.\u001b[0m\u001b[0mgetMapping\u001b[0m\u001b[0;34m(\u001b[0m\u001b[0;34m)\u001b[0m\u001b[0;34m[\u001b[0m\u001b[0;34m'HSBGPG'\u001b[0m\u001b[0;34m]\u001b[0m\u001b[0;34m\u001b[0m\u001b[0m\n\u001b[0m",
      "\u001b[0;31mTypeError\u001b[0m: 'NoneType' object is not subscriptable"
     ]
    }
   ],
   "source": [
    "rbh.getMapping()['HSBGPG']"
   ]
  },
  {
   "cell_type": "code",
   "execution_count": null,
   "metadata": {},
   "outputs": [],
   "source": [
    "rbh.getMappingDetails()"
   ]
  },
  {
   "cell_type": "code",
   "execution_count": null,
   "metadata": {},
   "outputs": [],
   "source": []
  }
 ],
 "metadata": {
  "kernelspec": {
   "display_name": "Python 3",
   "language": "python",
   "name": "python3"
  },
  "language_info": {
   "codemirror_mode": {
    "name": "ipython",
    "version": 3
   },
   "file_extension": ".py",
   "mimetype": "text/x-python",
   "name": "python",
   "nbconvert_exporter": "python",
   "pygments_lexer": "ipython3",
   "version": "3.6.3"
  }
 },
 "nbformat": 4,
 "nbformat_minor": 2
}
