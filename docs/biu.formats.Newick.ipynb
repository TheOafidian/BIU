{
 "cells": [
  {
   "cell_type": "markdown",
   "metadata": {},
   "source": [
    "# Reading newick Files"
   ]
  },
  {
   "cell_type": "code",
   "execution_count": 1,
   "metadata": {},
   "outputs": [],
   "source": [
    "import biu"
   ]
  },
  {
   "cell_type": "markdown",
   "metadata": {},
   "source": [
    "## Load a Newick file"
   ]
  },
  {
   "cell_type": "code",
   "execution_count": 2,
   "metadata": {},
   "outputs": [],
   "source": [
    "newick = biu.formats.Newick(\"example_files/newick_example.newick\")"
   ]
  },
  {
   "cell_type": "markdown",
   "metadata": {},
   "source": [
    "## Inspect the newick file\n",
    "If there is only one tree in the newick file, then there will be information about the nodes"
   ]
  },
  {
   "cell_type": "code",
   "execution_count": 3,
   "metadata": {},
   "outputs": [
    {
     "name": "stdout",
     "output_type": "stream",
     "text": [
      "Newick object\n",
      " Where: example_files/newick_example.newick\n",
      " Trees: 3\n",
      "\n"
     ]
    }
   ],
   "source": [
    "print(newick)"
   ]
  },
  {
   "cell_type": "markdown",
   "metadata": {},
   "source": [
    "## Extract and print trees"
   ]
  },
  {
   "cell_type": "code",
   "execution_count": 4,
   "metadata": {},
   "outputs": [
    {
     "name": "stdout",
     "output_type": "stream",
     "text": [
      "Root node of tree 0: NewickNode( None : ? [3 children])\n",
      "                      ┌─raccoon\n",
      "           ┌──────────┤\n",
      "           │          └─bear\n",
      "           │                     ┌─sea_lion\n",
      "           │          ┌──────────┤\n",
      "           │          │          └─seal\n",
      "───────────┼──────────┤\n",
      "           │          │                     ┌─monkey\n",
      "           │          │          ┌──────────┤\n",
      "           │          └──────────┤          └─cat\n",
      "           │                     └─weasel\n",
      "           └─dog\n",
      "\n",
      "Root node of tree 1: NewickNode( None : 0.10 [3 children])\n",
      "          ┌─Bovine\n",
      "          │         ┌─Gibbon\n",
      "          ├─────────┤\n",
      "          │         │         ┌─Orang\n",
      "          │         └─────────┤\n",
      "──────────┤                   │         ┌─Gorilla\n",
      "          │                   └─────────┤\n",
      "          │                             │         ┌─Chimp\n",
      "          │                             └─────────┤\n",
      "          │                                       └─Human\n",
      "          └─Mouse\n",
      "\n",
      "Root node of tree 2: NewickNode( None : ? [3 children])\n",
      "              ┌─Bovine\n",
      "              │             ┌─Hylobates\n",
      "              ├─────────────┤\n",
      "              │             │             ┌─Pongo\n",
      "              │             └─────────────┤\n",
      "──────────────┤                           │             ┌─G._Gorilla\n",
      "              │                           └─────────────┤\n",
      "              │                                         │             ┌─P._paniscus\n",
      "              │                                         └─────────────┤\n",
      "              │                                                       └─H._sapiens\n",
      "              └─Rodent\n",
      "\n"
     ]
    }
   ],
   "source": [
    "for i, tree in enumerate(newick):\n",
    "    print(\"Root node of tree %d: %s\" % (i, tree) )\n",
    "    \n",
    "    # You can also access like this\n",
    "    tree_i = newick[i]\n",
    "    print(tree_i.ascii_art(show_internal=True))\n",
    "    print()"
   ]
  },
  {
   "cell_type": "markdown",
   "metadata": {},
   "source": [
    "## Name internal nodes"
   ]
  },
  {
   "cell_type": "code",
   "execution_count": 5,
   "metadata": {},
   "outputs": [
    {
     "name": "stdout",
     "output_type": "stream",
     "text": [
      "              ┌─Bovine\n",
      "              │             ┌─Hylobates\n",
      "              ├─internal_2──┤\n",
      "              │             │             ┌─Pongo\n",
      "              │             └─internal_3──┤\n",
      "──internal_1──┤                           │             ┌─G._Gorilla\n",
      "              │                           └─internal_4──┤\n",
      "              │                                         │             ┌─P._paniscus\n",
      "              │                                         └─internal_5──┤\n",
      "              │                                                       └─H._sapiens\n",
      "              └─Rodent\n"
     ]
    }
   ],
   "source": [
    "tree.name_internal()\n",
    "\n",
    "print(tree.ascii_art())"
   ]
  },
  {
   "cell_type": "markdown",
   "metadata": {},
   "source": [
    "## Extract a single branch from a tree"
   ]
  },
  {
   "cell_type": "code",
   "execution_count": 6,
   "metadata": {},
   "outputs": [
    {
     "name": "stdout",
     "output_type": "stream",
     "text": [
      "              ┌─Hylobates\n",
      "──internal_2──┤\n",
      "              │             ┌─Pongo\n",
      "              └─internal_3──┤\n",
      "                            │             ┌─G._Gorilla\n",
      "                            └─internal_4──┤\n",
      "                                          │             ┌─P._paniscus\n",
      "                                          └─internal_5──┤\n",
      "                                                        └─H._sapiens\n"
     ]
    }
   ],
   "source": [
    "subtree = tree[\"internal_2\"]\n",
    "print(subtree.ascii_art())"
   ]
  },
  {
   "cell_type": "markdown",
   "metadata": {},
   "source": [
    "## Traverse a tree\n",
    "You can do a depth first traverse of the tree"
   ]
  },
  {
   "cell_type": "code",
   "execution_count": 10,
   "metadata": {},
   "outputs": [
    {
     "name": "stdout",
     "output_type": "stream",
     "text": [
      "NewickNode( None_haha_haha_haha : 0.10 [3 children])\n",
      "NewickNode( Bovine_haha_haha_haha : 0.69395 [0 children])\n",
      "NewickNode( None_haha_haha_haha : 0.54939 [2 children])\n",
      "NewickNode( Gibbon_haha_haha_haha : 0.36079 [0 children])\n",
      "NewickNode( None_haha_haha_haha : 0.15057 [2 children])\n",
      "NewickNode( Orang_haha_haha_haha : 0.33636 [0 children])\n",
      "NewickNode( None_haha_haha_haha : 0.06124 [2 children])\n",
      "NewickNode( Gorilla_haha_haha_haha : 0.17147 [0 children])\n",
      "NewickNode( None_haha_haha_haha : 0.08386 [2 children])\n",
      "NewickNode( Chimp_haha_haha_haha : 0.19268 [0 children])\n",
      "NewickNode( Human_haha_haha_haha : 0.11927 [0 children])\n",
      "NewickNode( Mouse_haha_haha_haha : 1.21460 [0 children])\n"
     ]
    }
   ],
   "source": [
    "tree = newick[1]\n",
    "for node in tree:\n",
    "    node.setName(\"%s_haha\" % node.name)\n",
    "    print(node)"
   ]
  }
 ],
 "metadata": {
  "kernelspec": {
   "display_name": "Python 3",
   "language": "python",
   "name": "python3"
  },
  "language_info": {
   "codemirror_mode": {
    "name": "ipython",
    "version": 3
   },
   "file_extension": ".py",
   "mimetype": "text/x-python",
   "name": "python",
   "nbconvert_exporter": "python",
   "pygments_lexer": "ipython3",
   "version": "3.6.3"
  }
 },
 "nbformat": 4,
 "nbformat_minor": 2
}
