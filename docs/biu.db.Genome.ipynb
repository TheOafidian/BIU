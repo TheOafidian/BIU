{
 "cells": [
  {
   "cell_type": "markdown",
   "metadata": {},
   "source": [
    "# Genome databases\n",
    "A genome is described by several files.\n",
    " * Genome Fasta files\n",
    " * Genome GFF gene model descriptions\n",
    " * Transcriptome nucleotide Fasta file\n",
    " * Proteome amino acid Fasta file\n",
    " \n",
    "The Genome structure of BIU organizes these files into a comprehensive structure, and provides functionality centered around them.\n",
    "\n",
    "Several genomes are available in BIU:"
   ]
  },
  {
   "cell_type": "code",
   "execution_count": 1,
   "metadata": {},
   "outputs": [],
   "source": [
    "import biu"
   ]
  },
  {
   "cell_type": "code",
   "execution_count": 2,
   "metadata": {},
   "outputs": [
    {
     "name": "stdout",
     "output_type": "stream",
     "text": [
      "Available versions:\n",
      " * GRCh37\n",
      " * Ensembl_GRCh37\n",
      " * Ensembl_GRCh38_91\n",
      " * RefSeq_GRCh37\n",
      " * RefSeq_GRCh38\n"
     ]
    }
   ],
   "source": [
    "biu.db.listGenomes()"
   ]
  },
  {
   "cell_type": "markdown",
   "metadata": {},
   "source": [
    "## Initializing and inspecting the Genome structure\n",
    "\n",
    "There are several types of data available:\n",
    "\n",
    " * `Genome.gff` : A GFF3 Structure\n",
    " * `Genome.cds` : A Fasta structure of transcript sequences\n",
    " * `Genome.aa`  : A Fasta structure of protein sequences\n",
    " * `Genome.genome[c]` : An array of genome sequences in FASTA format."
   ]
  },
  {
   "cell_type": "code",
   "execution_count": 3,
   "metadata": {},
   "outputs": [
    {
     "name": "stdout",
     "output_type": "stream",
     "text": [
      "Genome object\n",
      " Where: /home/tgehrmann/repos/BIU/docs\n",
      " Genome : Ensembl_GRCh38_91\n",
      " Objects:\n",
      "  * [ ] gff\n",
      "  * [ ] cds\n",
      "  * [ ] aa\n",
      "  * [ ] genome[1]\n",
      "  * [ ] genome[2]\n",
      "  * [ ] genome[3]\n",
      "  * [ ] genome[4]\n",
      "  * [ ] genome[5]\n",
      "  * [ ] genome[6]\n",
      "  * [ ] genome[7]\n",
      "  * [ ] genome[8]\n",
      "  * [ ] genome[9]\n",
      "  * [ ] genome[10]\n",
      "  * [ ] genome[11]\n",
      "  * [ ] genome[12]\n",
      "  * [ ] genome[13]\n",
      "  * [ ] genome[14]\n",
      "  * [ ] genome[15]\n",
      "  * [ ] genome[16]\n",
      "  * [ ] genome[17]\n",
      "  * [ ] genome[18]\n",
      "  * [ ] genome[19]\n",
      "  * [ ] genome[20]\n",
      "  * [ ] genome[21]\n",
      "  * [ ] genome[22]\n",
      "  * [ ] genome[MT]\n",
      "  * [ ] genome[X]\n",
      "  * [ ] genome[Y]\n",
      " Files:\n",
      "  * [X] gff : /home/tgehrmann/repos/BIU/docs/genome_Ensembl_GRCh38_91/genome.gff3\n",
      "  * [X] cds : /home/tgehrmann/repos/BIU/docs/genome_Ensembl_GRCh38_91/cds.fa\n",
      "  * [X] aa : /home/tgehrmann/repos/BIU/docs/genome_Ensembl_GRCh38_91/aa.fa\n",
      "  * [X] chr_1 : /home/tgehrmann/repos/BIU/docs/genome_Ensembl_GRCh38_91/chr1.fa.gz\n",
      "  * [ ] chr_2 : /home/tgehrmann/repos/BIU/docs/genome_Ensembl_GRCh38_91/chr2.fa.gz\n",
      "  * [ ] chr_3 : /home/tgehrmann/repos/BIU/docs/genome_Ensembl_GRCh38_91/chr3.fa.gz\n",
      "  * [ ] chr_4 : /home/tgehrmann/repos/BIU/docs/genome_Ensembl_GRCh38_91/chr4.fa.gz\n",
      "  * [ ] chr_5 : /home/tgehrmann/repos/BIU/docs/genome_Ensembl_GRCh38_91/chr5.fa.gz\n",
      "  * [ ] chr_6 : /home/tgehrmann/repos/BIU/docs/genome_Ensembl_GRCh38_91/chr6.fa.gz\n",
      "  * [ ] chr_7 : /home/tgehrmann/repos/BIU/docs/genome_Ensembl_GRCh38_91/chr7.fa.gz\n",
      "  * [ ] chr_8 : /home/tgehrmann/repos/BIU/docs/genome_Ensembl_GRCh38_91/chr8.fa.gz\n",
      "  * [ ] chr_9 : /home/tgehrmann/repos/BIU/docs/genome_Ensembl_GRCh38_91/chr9.fa.gz\n",
      "  * [ ] chr_10 : /home/tgehrmann/repos/BIU/docs/genome_Ensembl_GRCh38_91/chr10.fa.gz\n",
      "  * [ ] chr_11 : /home/tgehrmann/repos/BIU/docs/genome_Ensembl_GRCh38_91/chr11.fa.gz\n",
      "  * [ ] chr_12 : /home/tgehrmann/repos/BIU/docs/genome_Ensembl_GRCh38_91/chr12.fa.gz\n",
      "  * [ ] chr_13 : /home/tgehrmann/repos/BIU/docs/genome_Ensembl_GRCh38_91/chr13.fa.gz\n",
      "  * [ ] chr_14 : /home/tgehrmann/repos/BIU/docs/genome_Ensembl_GRCh38_91/chr14.fa.gz\n",
      "  * [ ] chr_15 : /home/tgehrmann/repos/BIU/docs/genome_Ensembl_GRCh38_91/chr15.fa.gz\n",
      "  * [ ] chr_16 : /home/tgehrmann/repos/BIU/docs/genome_Ensembl_GRCh38_91/chr16.fa.gz\n",
      "  * [ ] chr_17 : /home/tgehrmann/repos/BIU/docs/genome_Ensembl_GRCh38_91/chr17.fa.gz\n",
      "  * [ ] chr_18 : /home/tgehrmann/repos/BIU/docs/genome_Ensembl_GRCh38_91/chr18.fa.gz\n",
      "  * [ ] chr_19 : /home/tgehrmann/repos/BIU/docs/genome_Ensembl_GRCh38_91/chr19.fa.gz\n",
      "  * [ ] chr_20 : /home/tgehrmann/repos/BIU/docs/genome_Ensembl_GRCh38_91/chr20.fa.gz\n",
      "  * [ ] chr_21 : /home/tgehrmann/repos/BIU/docs/genome_Ensembl_GRCh38_91/chr21.fa.gz\n",
      "  * [ ] chr_22 : /home/tgehrmann/repos/BIU/docs/genome_Ensembl_GRCh38_91/chr22.fa.gz\n",
      "  * [ ] chr_MT : /home/tgehrmann/repos/BIU/docs/genome_Ensembl_GRCh38_91/chrMT.fa.gz\n",
      "  * [ ] chr_X : /home/tgehrmann/repos/BIU/docs/genome_Ensembl_GRCh38_91/chrX.fa.gz\n",
      "  * [ ] chr_Y : /home/tgehrmann/repos/BIU/docs/genome_Ensembl_GRCh38_91/chrY.fa.gz\n",
      "\n"
     ]
    }
   ],
   "source": [
    "hg = biu.db.Genome(\"Ensembl_GRCh38_91\")\n",
    "print(hg)"
   ]
  },
  {
   "cell_type": "markdown",
   "metadata": {},
   "source": [
    "## Accessing the Fasta Sequences"
   ]
  },
  {
   "cell_type": "code",
   "execution_count": 4,
   "metadata": {},
   "outputs": [
    {
     "name": "stderr",
     "output_type": "stream",
     "text": [
      "D: Initializing the FastaResourceManager object NOW\n",
      "D: Fasta input source is file\n"
     ]
    },
    {
     "name": "stdout",
     "output_type": "stream",
     "text": [
      "Fasta object\n",
      " Where: /home/tgehrmann/repos/BIU/docs/genome_Ensembl_GRCh38_91/cds.fa\n",
      " Entries: 104817\n",
      " Primary type: dna\n",
      "\n"
     ]
    },
    {
     "name": "stderr",
     "output_type": "stream",
     "text": [
      "D: Initializing the FastaResourceManager object NOW\n",
      "D: Fasta input source is file\n"
     ]
    },
    {
     "name": "stdout",
     "output_type": "stream",
     "text": [
      "Fasta object\n",
      " Where: /home/tgehrmann/repos/BIU/docs/genome_Ensembl_GRCh38_91/aa.fa\n",
      " Entries: 104817\n",
      " Primary type: prot\n",
      "\n"
     ]
    }
   ],
   "source": [
    "print(hg.cds)\n",
    "print(hg.aa)"
   ]
  },
  {
   "cell_type": "code",
   "execution_count": 5,
   "metadata": {},
   "outputs": [
    {
     "name": "stdout",
     "output_type": "stream",
     "text": [
      ">ENST00000640941.1\n",
      "ATGTCGCTCATGGTCATCATCATGGCGTGTGTTGGGTTCTTCTTGCTGCAGGGGGCCTGGCCACAGGAGGGAGTCCACAGAAAACCTTCCTTCCTGGCCCTCCCAGGTCACCTGGTGAAATCAGAAGAGACAGTCATCCTGCAATGTTGGTCGGATGTCATGTTTGAGCACTTCCTTCTGCACAGAGAGGGGAAGTTTAACAACACTTTGCACCTCATTGGAGAGCACCATGATGGGGTTTCCAAGGCCAACTTCTCCATTGGTCCCATGATGCCTGTCCTTGCAGGAACCTACAGATGCTACGGTTCTGTTCCTCACTCCCCCTATCAGTTGTCAGCTCCCAGTGACCCTCTGGACATGGTGATCATAGGTCTATATGAGAAACCTTCTCTCTCAGCCCAGCCGGGCCCCACGGTTCAGGCAGGAGAGAATGTGACCTTGTCCTGCAGCTCCCGGAGCTCCTATGACATGTACCATCTATCCAGGGAAGGGGAGGCCCATGAACGTAGGCTCCCTGCAGTGCGCAGCATCAACGGAACATTCCAGGCCGACTTTCCTCTGGGCCCTGCCACCCACGGAGGGACCTACAGATGCTTCGGCTCTTTCCGTGACGCTCCCTACGAGTGGTCAAACTCGAGTGATCCACTGCTTGTTTCCGTCACAGGAAACCCTTCAAATAGTTGGCCTTCACCCACTGAACCAAGCTCCAAAACCGGTAACCCCAGACACCTACATGTTCTGATTGGGACCTCAGTGGTCAAAATCCCTTTCACCATCCTCCTCTTCTTTCTCCTTCATCGCTGGTGCTCCGACAAAAAAAATGCTGCTGTAATGGACCAAGAGCCTGCAGGGAACAGAACAGTGAACAGCGAGGATTCTGATGAACAAGACCATCAGGAGGTGTCATACGCA\n",
      ">ENST00000638726.1\n",
      "ATGTCGCTCACTGTCGTCAGCATGGCGTGCGTTGGGTTCTTCTTGCTGCAGGGGGCCTGGCCACTCATGGGTGGTCAGGACAAACCCTTCCTGTCTGCCCGGCCCAGCACTGTGGTGCCTCGAGGAGGACACGTGGCTCTTCAGTGTCACTATCGTCGTGGGTTTAACAATTTCATGCTGTACAAAGAAGACAGAAGCCACGTTCCCATCTTCCACGGCAGAATATTCCAGGAGAGCTTCATCATGGGCCCTGTGACCCCAGCACATGCAGGGACCTACAGATGTCGGGGTTCACGCCCACACTCCCTCACTGGGTGGTCGGCACCCAGCAACCCCCTGGTGATCATGGTCACAGGAAACCACAGAAAACCTTCCCTCCTGGCCCACCCAGGGCCCCTGCTGAAATCAGGAGAGACAGTCATCCTGCAATGTTGGTCAGATGTCATGTTTGAGCACTTCTTTCTGCACAGAGAGGGGATCTCTGAGGACCCCTCACGCCTCGTTGGACAGATCCATGATGGGGTCTCCAAGGCCAACTTCTCCATCGGTCCCTTGATGCCTGTCCTTGCAGGAACCTACAGATGTTATGGTTCTGTTCCTCACTCCCCCTATCAGTTGTCAGCTCCCAGTGACCCCCTGGACATCGTGATCACAGGTCTATATGAGAAACCTTCTCTCTCAGCCCAGCCGGGCCCCACGGTTCAGGCAGGAGAGAACGTGACCTTGTCCTGTAGCTCCTGGAGCTCCTATGACATCTACCATCTGTCCAGGGAAGGGGAGGCCCATGAACGTAGGCTCCGTGCAGTGCCCAAGGTCAACAGAACATTCCAGGCAGACTTTCCTCTGGGCCCTGCCACCCACGGAGGGACCTACAGATGCTTCGGCTCTTTCCGTGCCCTGCCCTGCGTGTGGTCAAACTCAAGTGACCCACTGCTTGTTTCTGTCACAGGTATCTGCAGACACCTGCATGTTCTGATTGGGACCTCAGTGGTCATCTTCCTCTTCATCCTCCTCCTCTTCTTTCTCCTTTATCGCTGGTGCTCCAACAAAAAGAATGCTGCTGTAATGGACCAAGAGCCTGCGGGGGACAGAACAGTGAATAGGCAGGACTCTGATGAACAAGACCCTCAGGAGGTGACGTACGCACAGTTGGATCACTGCGTTTTCATACAGAGAAAAATCAGTCGCCCTTCTCAGAGGCCCAAGACACCCCTAACAGATACCAGCGTGTACACGGAACTTCCAAATGCTGAGCCCAGATCCAAAGTTGTCTCCTGCCCACGAGCACCACAGTCAGGTCTTGAGGGGGTTTTCTAG\n",
      ">ENST00000640782.1\n",
      "ATGTCGCTCACTGTCGTCAGCATGGCGTGCGTTGGGTTCTTCTTGCTGCAGGGGGCCTGGCCACTCATGGGTGGTCAGGACAAACCCTTCCTGTCTGCCCGGCCCAGCACTGTGGTGCCTCGAGGAGGACACGTGGCTCTTCAGTGTCACTATCGTCGTGGGTTTAACAATTTCATGCTGTACAAAGAAGACAGAAGCCACGTTCCCATCTTCCACGGCAGAATATTCCAGGAGAGCTTCATCATGGGCCCTGTGACCCCAGCACATGCAGGGACCTACAGATGTCGGGGTTCACGCCCACACTCCCTCACTGGGTGGTCGGCACCCAGCAACCCCCTGGTGATCATGGTCACAGGAAACCACAGAAAACCTTCCCTCCTGGCCCACCCAGGGCCCCTGCTGAAATCAGGAGAGACAGTCATCCTGCAATGTTGGTCAGATGTCATGTTTGAGCACTTCTTTCTGCACAGAGAGGGGATCTCTGAGGACCCCTCACGCCTCGTTGGACAGATCCATGATGGGGTCTCCAAGGCCAACTTCTCCATCGGTCCCTTGATGCCTGTCCTTGCAGGAACCTACAGATGTTATGGTTCTGTTCCTCACTCCCCCTATCAGTTGTCAGCTCCCAGTGACCCCCTGGACATCGTGATCACAGGTCTATATGAGAAACCTTCTCTCTCAGCCCAGCCGGGCCCCACGGTTCAGGCAGGAGAGAACGTGACCTTGTCCTGTAGCTCCTGGAGCTCCTATGACATCTACCATCTGTCCAGGGAAGGGGAGGCCCATGAACGTAGGCTCCGTGCAGTGCCCAAGGTCAACAGAACATTCCAGGCAGACTTTCCTCTGGGCCCTGCCACCCACGGAGGGACCTACAGATGCTTCGGCTCTTTCCGTGCCCTGCCCTGCGTGTGGTCAAACTCAAGTGACCCACTGCTTGTTTCTGTCACAGGAAACCCTTCAAGTAGTTGGCCTTCACCCACAGAACCAAGCTCCAAATCTGGTATCTGCAGACACCTGCATGTTCTGATTGGGACCTCAGTGGTCATCTTCCTCTTCATCCTCCTCCTCTTCTTTCTCCTTTATCGCTGGTGCTCCAACAAAAAGAATGCTGCTGTAATGGACCAAGAGCCTGCGGGGGACAGAACAGTGAATAGGCAGGACTCTGATGAACAAGACCCTCAGGAGGTGACGTACGCACAGTTGGATCACTGCGTTTTCATACAGAGAAAAATCAGTCGCCCTTCTCAGAGGCCCAAGACACCCCTAACAGATACCAGCGTGTACACGGAACTTCCAAATGCTGAGCCCAGATCCAAAGTTGTCTCCTGCCCACGAGCACCACAGTCAGGTCTTGAGGGGGTTTTCTAG\n"
     ]
    },
    {
     "name": "stderr",
     "output_type": "stream",
     "text": [
      "D: Set iterkeys: 104817\n"
     ]
    }
   ],
   "source": [
    "for i, seqid in enumerate(hg.cds):\n",
    "    seq = hg.cds[seqid]\n",
    "    print(\">%s\\n%s\" % (seq.name, seq.seq))\n",
    "    if i > 1:\n",
    "        break"
   ]
  },
  {
   "cell_type": "code",
   "execution_count": 6,
   "metadata": {},
   "outputs": [
    {
     "name": "stdout",
     "output_type": "stream",
     "text": [
      ">ENSP00000492546.1\n",
      "MSLMVIIMACVGFFLLQGAWPQEGVHRKPSFLALPGHLVKSEETVILQCWSDVMFEHFLLHREGKFNNTLHLIGEHHDGVSKANFSIGPMMPVLAGTYRCYGSVPHSPYQLSAPSDPLDMVIIGLYEKPSLSAQPGPTVQAGENVTLSCSSRSSYDMYHLSREGEAHERRLPAVRSINGTFQADFPLGPATHGGTYRCFGSFRDAPYEWSNSSDPLLVSVTGNPSNSWPSPTEPSSKTGNPRHLHVLIGTSVVKIPFTILLFFLLHRWCSDKKNAAVMDQEPAGNRTVNSEDSDEQDHQEVSYA\n",
      ">ENSP00000492117.1\n",
      "MSLTVVSMACVGFFLLQGAWPLMGGQDKPFLSARPSTVVPRGGHVALQCHYRRGFNNFMLYKEDRSHVPIFHGRIFQESFIMGPVTPAHAGTYRCRGSRPHSLTGWSAPSNPLVIMVTGNHRKPSLLAHPGPLLKSGETVILQCWSDVMFEHFFLHREGISEDPSRLVGQIHDGVSKANFSIGPLMPVLAGTYRCYGSVPHSPYQLSAPSDPLDIVITGLYEKPSLSAQPGPTVQAGENVTLSCSSWSSYDIYHLSREGEAHERRLRAVPKVNRTFQADFPLGPATHGGTYRCFGSFRALPCVWSNSSDPLLVSVTGICRHLHVLIGTSVVIFLFILLLFFLLYRWCSNKKNAAVMDQEPAGDRTVNRQDSDEQDPQEVTYAQLDHCVFIQRKISRPSQRPKTPLTDTSVYTELPNAEPRSKVVSCPRAPQSGLEGVF\n",
      ">ENSP00000491436.1\n",
      "MSLTVVSMACVGFFLLQGAWPLMGGQDKPFLSARPSTVVPRGGHVALQCHYRRGFNNFMLYKEDRSHVPIFHGRIFQESFIMGPVTPAHAGTYRCRGSRPHSLTGWSAPSNPLVIMVTGNHRKPSLLAHPGPLLKSGETVILQCWSDVMFEHFFLHREGISEDPSRLVGQIHDGVSKANFSIGPLMPVLAGTYRCYGSVPHSPYQLSAPSDPLDIVITGLYEKPSLSAQPGPTVQAGENVTLSCSSWSSYDIYHLSREGEAHERRLRAVPKVNRTFQADFPLGPATHGGTYRCFGSFRALPCVWSNSSDPLLVSVTGNPSSSWPSPTEPSSKSGICRHLHVLIGTSVVIFLFILLLFFLLYRWCSNKKNAAVMDQEPAGDRTVNRQDSDEQDPQEVTYAQLDHCVFIQRKISRPSQRPKTPLTDTSVYTELPNAEPRSKVVSCPRAPQSGLEGVF\n"
     ]
    },
    {
     "name": "stderr",
     "output_type": "stream",
     "text": [
      "D: Set iterkeys: 104817\n"
     ]
    }
   ],
   "source": [
    "for i, seqid in enumerate(hg.aa):\n",
    "    seq = hg.aa[seqid]\n",
    "    print(\">%s\\n%s\" % (seq.name, seq.seq))\n",
    "    if i > 1:\n",
    "        break"
   ]
  },
  {
   "cell_type": "code",
   "execution_count": 7,
   "metadata": {},
   "outputs": [
    {
     "name": "stderr",
     "output_type": "stream",
     "text": [
      "D: Initializing the FastaResourceManager object NOW\n",
      "D: Fasta input source is file\n"
     ]
    },
    {
     "name": "stdout",
     "output_type": "stream",
     "text": [
      "AGGTATCCTCTCATCTCAGCTTCCCTAGTAGTTGGAACTCTAGGTGCACAA\n"
     ]
    }
   ],
   "source": [
    "print(hg.genome['1']['1'][500000:500051])"
   ]
  },
  {
   "cell_type": "markdown",
   "metadata": {},
   "source": [
    "## Accessing the GFF structure"
   ]
  },
  {
   "cell_type": "code",
   "execution_count": 8,
   "metadata": {},
   "outputs": [
    {
     "name": "stderr",
     "output_type": "stream",
     "text": [
      "D: Initializing the GFF3ResourceManager object NOW\n",
      "D: GFF input source is file.\n"
     ]
    },
    {
     "name": "stdout",
     "output_type": "stream",
     "text": [
      "GFF3 object\n",
      " Where: /home/tgehrmann/repos/BIU/docs/genome_Ensembl_GRCh38_91/genome.gff3\n",
      " Entries: 2636880\n",
      " Top level statistics:\n",
      "  * chromosome : 25\n",
      "  * pseudogene : 14627\n",
      "  * ncRNA_gene : 22239\n",
      "  * gene : 21436\n",
      "  * supercontig : 169\n",
      "\n"
     ]
    }
   ],
   "source": [
    "print(hg.gff)"
   ]
  },
  {
   "cell_type": "code",
   "execution_count": 9,
   "metadata": {},
   "outputs": [
    {
     "data": {
      "text/plain": [
       "[GFF3Entry(seqid:1, source:havana, feature:exon, start:34554, end:35174, score:., strand:-, phase:., attr:Name=ENSE00001727627;constitutive=0;ensembl_end_phase=-1;ensembl_phase=-1;exon_id=ENSE00001727627;rank=3;version=1),\n",
       " GFF3Entry(seqid:1, source:havana, feature:exon, start:35277, end:35481, score:., strand:-, phase:., attr:Name=ENSE00001669267;constitutive=0;ensembl_end_phase=-1;ensembl_phase=-1;exon_id=ENSE00001669267;rank=2;version=1),\n",
       " GFF3Entry(seqid:1, source:havana, feature:exon, start:35721, end:36081, score:., strand:-, phase:., attr:Name=ENSE00001656588;constitutive=0;ensembl_end_phase=-1;ensembl_phase=-1;exon_id=ENSE00001656588;rank=1;version=1)]"
      ]
     },
     "execution_count": 9,
     "metadata": {},
     "output_type": "execute_result"
    }
   ],
   "source": [
    "hg.gff.getChildren('transcript:ENST00000417324')"
   ]
  },
  {
   "cell_type": "code",
   "execution_count": null,
   "metadata": {},
   "outputs": [],
   "source": []
  }
 ],
 "metadata": {
  "kernelspec": {
   "display_name": "Python 3",
   "language": "python",
   "name": "python3"
  },
  "language_info": {
   "codemirror_mode": {
    "name": "ipython",
    "version": 3
   },
   "file_extension": ".py",
   "mimetype": "text/x-python",
   "name": "python",
   "nbconvert_exporter": "python",
   "pygments_lexer": "ipython3",
   "version": "3.6.2"
  }
 },
 "nbformat": 4,
 "nbformat_minor": 2
}
