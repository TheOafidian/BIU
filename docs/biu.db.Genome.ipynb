{
 "cells": [
  {
   "cell_type": "markdown",
   "metadata": {},
   "source": [
    "# Genome databases\n",
    "A genome is described by several files.\n",
    " * Genome Fasta files\n",
    " * Genome GFF gene model descriptions\n",
    " * Transcriptome nucleotide Fasta file\n",
    " * Proteome amino acid Fasta file\n",
    " \n",
    "The Genome structure of BIU organizes these files into a comprehensive structure, and provides functionality centered around them.\n",
    "\n",
    "Several genomes are available in BIU:"
   ]
  },
  {
   "cell_type": "code",
   "execution_count": 1,
   "metadata": {},
   "outputs": [],
   "source": [
    "import biu"
   ]
  },
  {
   "cell_type": "code",
   "execution_count": 2,
   "metadata": {},
   "outputs": [
    {
     "name": "stdout",
     "output_type": "stream",
     "text": [
      "Available versions:\n",
      " * GRCh37\n",
      " * Ensembl_GRCh37\n",
      " * Ensembl_GRCh38_91\n",
      " * RefSeq_GRCh37\n",
      " * RefSeq_GRCh38\n",
      " * WBcel235\n"
     ]
    }
   ],
   "source": [
    "biu.db.listGenomes()"
   ]
  },
  {
   "cell_type": "markdown",
   "metadata": {},
   "source": [
    "## Initializing and inspecting the Genome structure\n",
    "\n",
    "There are several types of data available:\n",
    "\n",
    " * `Genome.gff` : A GFF3 Structure\n",
    " * `Genome.cds` : A Fasta structure of transcript sequences\n",
    " * `Genome.aa`  : A Fasta structure of protein sequences\n",
    " * `Genome.genome[c]` : An array of genome sequences in FASTA format."
   ]
  },
  {
   "cell_type": "code",
   "execution_count": 3,
   "metadata": {},
   "outputs": [
    {
     "name": "stdout",
     "output_type": "stream",
     "text": [
      "Genome object\n",
      " Where: /home/tgehrmann/repos/BIU/docs\n",
      " Genome : WBcel235\n",
      " Objects:\n",
      "  * [ ] gff\n",
      "  * [ ] cds\n",
      "  * [ ] aa\n",
      "  * [ ] genome[all]\n",
      " Files:\n",
      "  * [X] gff : /home/tgehrmann/repos/BIU/docs/genome_WBcel235/genome.gff3\n",
      "  * [X] cds : /home/tgehrmann/repos/BIU/docs/genome_WBcel235/cds.fa\n",
      "  * [X] aa : /home/tgehrmann/repos/BIU/docs/genome_WBcel235/aa.fa\n",
      "  * [X] chr_all : /home/tgehrmann/repos/BIU/docs/genome_WBcel235/chrall.fa.gz\n",
      "\n"
     ]
    }
   ],
   "source": [
    "ce = biu.db.Genome(\"WBcel235\")\n",
    "print(ce)"
   ]
  },
  {
   "cell_type": "markdown",
   "metadata": {},
   "source": [
    "## Accessing the Fasta Sequences"
   ]
  },
  {
   "cell_type": "code",
   "execution_count": 4,
   "metadata": {},
   "outputs": [
    {
     "name": "stderr",
     "output_type": "stream",
     "text": [
      "D: Initializing the FastaResourceManager object NOW\n",
      "D: Fasta input source is file\n"
     ]
    },
    {
     "name": "stdout",
     "output_type": "stream",
     "text": [
      "Fasta object\n",
      " Where: /home/tgehrmann/repos/BIU/docs/genome_WBcel235/cds.fa\n",
      " Entries: 53146\n",
      " Primary type: dna\n",
      "\n"
     ]
    },
    {
     "name": "stderr",
     "output_type": "stream",
     "text": [
      "D: Initializing the FastaResourceManager object NOW\n",
      "D: Fasta input source is file\n"
     ]
    },
    {
     "name": "stdout",
     "output_type": "stream",
     "text": [
      "Fasta object\n",
      " Where: /home/tgehrmann/repos/BIU/docs/genome_WBcel235/aa.fa\n",
      " Entries: 28310\n",
      " Primary type: prot\n",
      "\n"
     ]
    }
   ],
   "source": [
    "print(ce.cds)\n",
    "print(ce.aa)"
   ]
  },
  {
   "cell_type": "code",
   "execution_count": 5,
   "metadata": {},
   "outputs": [
    {
     "name": "stdout",
     "output_type": "stream",
     "text": [
      ">NR_155259.1\n",
      "TCGCCGGTGTTCTATGTCTAAAACTGCAATTTGAACCACTTTTTGTACTTGTACAGTTGGATTTTTTCGTGTAGTTTTTTGAAAAAATAGGTTTTGCAAGAGCTCTGTGGTTATTGATTTTTCCTAAAAATACACATTTTCTGCTCAGTTTTGCCCACATTTCGAA\n",
      ">NR_155258.1\n",
      "ACTTCGTCGAATCGAGGGACCATCAAAATTGCACGGATGAAACAAGGATGTGCTTCTCCAGTCCACCTACATCCGCCCGAGCTGCTCATCCTCCAAATTCTTCCGTTTTCATGACAAATTATTGTTTTTTTTGTTGAAATTATGTAATTCATTAAATGTAATATTATCCTTATCTGTAAATAATTATCATGATCAATAAAATATCGCTCTTAATGTTCAATGAATAGC\n",
      ">NR_155257.1\n",
      "AGGACGGAAGGGGCGTCAGGTCGTTGTACCTCATTACCAGTATGGAGAGGGTCTCATTTATCATAAAATCAAAAAAGTTGAAAAAAGAAACCTCACTCGGTTCGCAAGAACCATCAAACCCTCTCTGAAGGGTCATCACCAGC\n"
     ]
    }
   ],
   "source": [
    "for i, seqid in enumerate(ce.cds):\n",
    "    seq = ce.cds[seqid]\n",
    "    print(\">%s\\n%s\" % (seq.name, seq.seq))\n",
    "    if i > 1:\n",
    "        break"
   ]
  },
  {
   "cell_type": "code",
   "execution_count": 6,
   "metadata": {},
   "outputs": [
    {
     "name": "stdout",
     "output_type": "stream",
     "text": [
      ">NP_872268.1\n",
      "MSRSIFIQMSDSKQLENEASSLRRVAFVGVVVSFTATLVCIIAAPMLYNYMQHMQSVMQSEVDFCRSRSGNIWKEVTRTQVLSKVSGGAIRSRRQTEYENLGVEGSSSQGGCCGCGTSAAGPPGSPGPDGQEGSNGRPGAPGTNGPDGRPATQASASDFCFDCPPGPPGPAGSIGPKGPNGNPGFDGQPGAPGNNGFAGGPGAPGLGGKDGQSGNAGVPGAPGKITNIQRPAGLPGVPGPIGPVGSAGTPGSPGNPGSQGPQGSAGDNGGDGFPGQPGANGDNGPDGETGVSGGCDHCPPPRTAPGY\n",
      ">NP_872267.1\n",
      "MSDIKQLENEASSLRRVALVGVAVSFTATLVCVIAAPMLYNYMQHMQSVMQSEVDFCRSRSGNIWREVTRTQVLAKVSGGAVRSRRQAGYESAGVEGNSFSQGGCCGCGVSAAGPPGAPGQDGEDGADGQPGAPGNDGPDGPAATPAPAHEFCFDCPAGPPGPAGPAGPKGPNGNSGSDGQPGAPGNNGNAGGPGAPGQAGQDGHPGNAGAPGAPGKVNEVPGPAGAPGAPGPDGPAGPAGSPGAPGNPGSQGPQGPAGDNGGAGSPGQPGANGDNGADGETGAPGGCDHCPPPRTAPGY\n",
      ">NP_872265.1\n",
      "MLGAPARFPRISGVTVARKVRKHRDYSNPETPNFTAQLFTIIVLGGLLLGGSGEEEQTLNQLLVEMDRMGSGNGAVVVLASTNRADVLDKALLRPGRFDRHISIDLPTVLERKDMFELYMRKIKLDHAPQEYSQRLAVLTPSFTGADIMNVCNESAIRAASNKCHVVTIKDMEYALDRVLAGSEKRSRSLVEEEREVVAYHEAGHALVGWMLEHTDALLKVLRGDSEKMLKWKFSGEK\n"
     ]
    }
   ],
   "source": [
    "for i, seqid in enumerate(ce.aa):\n",
    "    seq = ce.aa[seqid]\n",
    "    print(\">%s\\n%s\" % (seq.name, seq.seq))\n",
    "    if i > 1:\n",
    "        break"
   ]
  },
  {
   "cell_type": "code",
   "execution_count": 7,
   "metadata": {},
   "outputs": [
    {
     "name": "stderr",
     "output_type": "stream",
     "text": [
      "D: Initializing the FastaResourceManager object NOW\n",
      "D: Fasta input source is file\n"
     ]
    },
    {
     "name": "stdout",
     "output_type": "stream",
     "text": [
      "GATGAGCTGCAGCGGAAGCTTTCATTGGGATCTGTGCAGTACGTTGGAACC\n"
     ]
    }
   ],
   "source": [
    "print(ce.genome['all']['NC_003279.8'][500000:500051])"
   ]
  },
  {
   "cell_type": "markdown",
   "metadata": {},
   "source": [
    "## Accessing the GFF structure"
   ]
  },
  {
   "cell_type": "code",
   "execution_count": 8,
   "metadata": {},
   "outputs": [
    {
     "name": "stderr",
     "output_type": "stream",
     "text": [
      "D: Initializing the GFF3ResourceManager object NOW\n",
      "D: GFF input source is file.\n"
     ]
    },
    {
     "name": "stdout",
     "output_type": "stream",
     "text": [
      "GFF3 object\n",
      " Where: /home/tgehrmann/repos/BIU/docs/genome_WBcel235/genome.gff3\n",
      " Entries: 517453\n",
      " Indexed: Yes\n",
      " Feature statistics:\n",
      "  * region : 7\n",
      "  * gene : 44830\n",
      "  * snoRNA : 345\n",
      "  * exon : 219765\n",
      "  * mRNA : 28134\n",
      "  * CDS : 196662\n",
      "  * pseudogene : 1901\n",
      "  * piRNA : 15364\n",
      "  * ncRNA : 7769\n",
      "  * transcript : 667\n",
      "  * pseudogenic_tRNA : 209\n",
      "  * tRNA : 634\n",
      "  * antisense_RNA : 104\n",
      "  * lnc_RNA : 181\n",
      "  * primary_transcript : 271\n",
      "  * miRNA : 454\n",
      "  * snRNA : 130\n",
      "  * rRNA : 22\n",
      "  * pseudogenic_rRNA : 1\n",
      "  * scRNA : 1\n",
      "  * sequence_feature : 2\n",
      "\n"
     ]
    }
   ],
   "source": [
    "print(ce.gff)"
   ]
  },
  {
   "cell_type": "code",
   "execution_count": 9,
   "metadata": {
    "scrolled": true
   },
   "outputs": [
    {
     "name": "stdout",
     "output_type": "stream",
     "text": [
      "GFF3Entry(seqid:NC_003279.8, source:RefSeq, feature:exon, start:20271, end:20478, score:., strand:-, phase:., attr:ID=id20;Dbxref=GeneID:171592,Genbank:NM_058262.4,WormBase:WBGene00022278;gbkey=mRNA;gene=rcor-1;partial=true;product=RCOR (REST CO-Repressor) homolog;transcript_id=NM_058262.4)\n"
     ]
    },
    {
     "name": "stderr",
     "output_type": "stream",
     "text": [
      "D: GFF input source is list of GFF3Entries.\n",
      "D: GFF input source is list of GFF3Entries.\n"
     ]
    }
   ],
   "source": [
    "for entry in ce.gff.getChildren('rna4', feature='exon').query('NC_003279.8', 19241, 20848):\n",
    "    print(entry)"
   ]
  },
  {
   "cell_type": "markdown",
   "metadata": {},
   "source": [
    "## Get sequences of GFF entries"
   ]
  },
  {
   "cell_type": "code",
   "execution_count": 10,
   "metadata": {},
   "outputs": [
    {
     "name": "stdout",
     "output_type": "stream",
     "text": [
      "atggATTCGTACACGTCATCTGACGAAGACGCCTCTCGAAAAGAAAACGAAGGCTTGAATATGTTGAATGCATCGCCGGAGCCAATGGAGGAAGATGATCCAGAGGAGCAGGCggaacaagaagaagaaaccAGCAGAATGGCTCGTCCTATAAGATCCATGAGAAAACGCGAAACAACGTCTGGGGAATCAATGGGCGATGAGGATGAAGATTTGGAGGATGAAGAGGACGAAGATGAAGAAGCTGAAGCTCGTGAGCATCATGAAAGTGGTGCTCATGACACATCTTTCTCAAATCCACTTTCCAACGTCGACAATCTAATCCACGTGGGAACCGAATATCAGGCGATTATACAGCCAACTGCAGAGCAATTGGAAAAAGAACCGTGCAGAGATCAACAAATTTGGGCGTTTCCAGACGAAATGAACGAGAATCGGCTTACAGAATACATTTCAGAAGCTACTGGACGATATCAATTACCTATAGATAGGGCTCTGTTCATTCTGAACAAACAGTCAAATGATTTCGACGCTGCGATGGTTCAAGCgatgagaagaaaagaaattcaTGATGATTGGACGGCAGAAGAAATTAGTCTTTTCTCCACTTGCTTCTTTCATTTCGGAAAACGGTTCAAGAAGATTCATGCGGCTatgcccCAACGCTCGCTTTCTTCCATTATCCAATACTATTACAACacgaaaaaagtgcaaaactatAAAACAATGATTAATGTGCATTTGAATGAAACCGACACTTATGATGAACTATTCAAAGAGGTCAATCATTTGGAGAGGGTTCCGTCGGGATATTGTGAGAATTGCAATGCAAAAAGTGATCTGTTGATTcTAAATCGTGTAATGTCGCGTCACGAATGTAAACCGTGTATCCTTTATTTCCGTTTGATGCGTGTTCCACGTCCGGCAAGCCTCCGTGCACTGACAAAACGACGGCAACGAGTTTTATGTCCAGAATaCATGAAAATTTATGTATACGGATATCTTGAGCTCATGGAGCCAGCCAACGGAAAAGCGATCAAACGGCTTggaattggaaaagaaaaagaagaagacgatgatATTATGGTGGTCGACGACTGCCTTCTCCGTAAACCATCAGGCCCCTACATTGTGGAGCAATCGATTGAAGCTGATCCAATCGATGAGAATACGTGCAGAATGACACGGTGCTTCGATACACCGGCTGCACTGGCATTAATTGATAATATCAAGAGAAAACATCATATGTGTGTTCCACTTGTTTGGAGAGTTAAACAAACGAAATGTATGGAGGAGAACGAaattctgAATGAAGAAGCCCGTCAACAAATGTTCCGTGCAACAATGACATACAGCCGTGTACCAAAAGGAGAAATTGCAAATTGGAAGAAAGATATGATGGCGTTGAAGGGAAGATTCGAGAGATTTACTCCTGAACTAGATACTACTGCAACAAATGGCAATCGATCTGGAAAAGTCAGGATAAATTATGGTTGGAGTCCTGAGGAAAAGAAGAATGCTATTAGATGTTTCCACTGGTACAAGGACAATTTCGAGTTGATCGCCGAGTTGATGGCCACAAAAACTGTGgaacaaatcaaaaagttcTATATGGACAATGAAAAGCTAATTTTGGAGtcaatcgACACGTATCGCGCCGAGCTCAAGTCAAAACTCGGCAAATAA\n"
     ]
    },
    {
     "name": "stderr",
     "output_type": "stream",
     "text": [
      "D: GFF input source is list of GFF3Entries.\n"
     ]
    }
   ],
   "source": [
    "print(ce.seq('rna4'))"
   ]
  },
  {
   "cell_type": "code",
   "execution_count": 11,
   "metadata": {},
   "outputs": [
    {
     "name": "stdout",
     "output_type": "stream",
     "text": [
      "MDSYTSSDEDASRKENEGLNMLNASPEPMEEDDPEEQAEQEEETSRMARPIRSMRKRETTSGESMGDEDEDLEDEEDEDEEAEAREHHESGAHDTSFSNPLSNVDNLIHVGTEYQAIIQPTAEQLEKEPCRDQQIWAFPDEMNENRLTEYISEATGRYQLPIDRALFILNKQSNDFDAAMVQAMRRKEIHDDWTAEEISLFSTCFFHFGKRFKKIHAAMPQRSLSSIIQYYYNTKKVQNYKTMINVHLNETDTYDELFKEVNHLERVPSGYCENCNAKSDLLILNRVMSRHECKPCILYFRLMRVPRPASLRALTKRRQRVLCPEYMKIYVYGYLELMEPANGKAIKRLGIGKEKEEDDDIMVVDDCLLRKPSGPYIVEQSIEADPIDENTCRMTRCFDTPAALALIDNIKRKHHMCVPLVWRVKQTKCMEENEILNEEARQQMFRATMTYSRVPKGEIANWKKDMMALKGRFERFTPELDTTATNGNRSGKVRINYGWSPEEKKNAIRCFHWYKDNFELIAELMATKTVEQIKKFYMDNEKLILESIDTYRAELKSKLGK*\n"
     ]
    },
    {
     "name": "stderr",
     "output_type": "stream",
     "text": [
      "D: GFF input source is list of GFF3Entries.\n"
     ]
    }
   ],
   "source": [
    "print(ce.seq('rna4').translate())"
   ]
  },
  {
   "cell_type": "markdown",
   "metadata": {},
   "source": [
    "### Convert several sequences to a Fasta structure"
   ]
  },
  {
   "cell_type": "code",
   "execution_count": 12,
   "metadata": {},
   "outputs": [
    {
     "name": "stderr",
     "output_type": "stream",
     "text": [
      "D: GFF input source is list of GFF3Entries.\n",
      "D: GFF input source is list of GFF3Entries.\n",
      "D: GFF input source is list of GFF3Entries.\n",
      "D: GFF input source is list of GFF3Entries.\n",
      "D: GFF input source is list of GFF3Entries.\n",
      "D: GFF input source is list of GFF3Entries.\n",
      "D: GFF input source is list of GFF3Entries.\n",
      "D: GFF input source is list of GFF3Entries.\n",
      "D: GFF input source is list of GFF3Entries.\n",
      "D: GFF input source is list of GFF3Entries.\n",
      "D: GFF input source is list of GFF3Entries.\n",
      "D: GFF input source is list of GFF3Entries.\n",
      "D: GFF input source is list of GFF3Entries.\n",
      "D: GFF input source is list of GFF3Entries.\n",
      "D: GFF input source is list of GFF3Entries.\n",
      "D: GFF input source is list of GFF3Entries.\n",
      "D: GFF input source is list of GFF3Entries.\n",
      "D: GFF input source is list of GFF3Entries.\n",
      "D: GFF input source is list of GFF3Entries.\n",
      "D: GFF input source is list of GFF3Entries.\n",
      "D: Fasta input source is a list of sequences.\n"
     ]
    }
   ],
   "source": [
    "mRNASequences = biu.formats.Fasta([ ce.seq(mrna) for mrna in ce.gff.features['mRNA'][:20]])\n",
    "print(mRNASequences)"
   ]
  }
 ],
 "metadata": {
  "kernelspec": {
   "display_name": "Python 3",
   "language": "python",
   "name": "python3"
  },
  "language_info": {
   "codemirror_mode": {
    "name": "ipython",
    "version": 3
   },
   "file_extension": ".py",
   "mimetype": "text/x-python",
   "name": "python",
   "nbconvert_exporter": "python",
   "pygments_lexer": "ipython3",
   "version": "3.6.2"
  }
 },
 "nbformat": 4,
 "nbformat_minor": 2
}
