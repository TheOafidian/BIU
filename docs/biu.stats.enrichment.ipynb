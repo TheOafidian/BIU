{
 "cells": [
  {
   "cell_type": "markdown",
   "metadata": {},
   "source": [
    "# Enrichment analyses"
   ]
  },
  {
   "cell_type": "code",
   "execution_count": 1,
   "metadata": {},
   "outputs": [],
   "source": [
    "import biu"
   ]
  },
  {
   "cell_type": "markdown",
   "metadata": {},
   "source": [
    "## Set enrichment analyses"
   ]
  },
  {
   "cell_type": "markdown",
   "metadata": {},
   "source": [
    "### Fisher's exact test/Chi-squared test\n",
    "\n",
    "To test the enrichment of one set in another against a certain background set, you can use the `setEnrichment` function. It will use a fisher's exact test if any of the numbers in the contingency table are less than 5. Otherwise it will use a Chi-squared test."
   ]
  },
  {
   "cell_type": "code",
   "execution_count": 2,
   "metadata": {},
   "outputs": [
    {
     "data": {
      "text/plain": [
       "setEnrichmentResult(oddsratio=100, c2statistic=2741.2704081632655, pvalue=0.0, table=[[2000, 1000], [1000, 6000]], method='chi2')"
      ]
     },
     "execution_count": 2,
     "metadata": {},
     "output_type": "execute_result"
    }
   ],
   "source": [
    "setAll = list(range(10000))\n",
    "setOne = set(setAll[1000:4000])\n",
    "setTwo = set(setAll[2000:5000])\n",
    "setAll = set(setAll)\n",
    "\n",
    "biu.stats.enrichment.setEnrichment(setOne, setTwo, setAll)"
   ]
  }
 ],
 "metadata": {
  "kernelspec": {
   "display_name": "Python 3",
   "language": "python",
   "name": "python3"
  },
  "language_info": {
   "codemirror_mode": {
    "name": "ipython",
    "version": 3
   },
   "file_extension": ".py",
   "mimetype": "text/x-python",
   "name": "python",
   "nbconvert_exporter": "python",
   "pygments_lexer": "ipython3",
   "version": "3.6.3"
  }
 },
 "nbformat": 4,
 "nbformat_minor": 2
}
