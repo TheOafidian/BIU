{
 "cells": [
  {
   "cell_type": "markdown",
   "metadata": {},
   "source": [
    "# Handling GFF3 files\n"
   ]
  },
  {
   "cell_type": "code",
   "execution_count": 3,
   "metadata": {},
   "outputs": [],
   "source": [
    "import biu"
   ]
  },
  {
   "cell_type": "code",
   "execution_count": 4,
   "metadata": {},
   "outputs": [
    {
     "name": "stderr",
     "output_type": "stream",
     "text": [
      "D: GFF input source is file.\n"
     ]
    }
   ],
   "source": [
    "gff = biu.formats.GFF3('example_files/example.gff3')"
   ]
  },
  {
   "cell_type": "code",
   "execution_count": 5,
   "metadata": {},
   "outputs": [
    {
     "name": "stdout",
     "output_type": "stream",
     "text": [
      "GFF3 object\n",
      " Where: example_files/example.gff3\n",
      " Entries: 13\n",
      " Indexed: Yes\n",
      " Feature statistics:\n",
      "  * Gene : 1\n",
      "  * mRNA : 2\n",
      "  * exon : 10\n",
      "\n"
     ]
    }
   ],
   "source": [
    "print(gff)"
   ]
  },
  {
   "cell_type": "code",
   "execution_count": 4,
   "metadata": {},
   "outputs": [
    {
     "name": "stdout",
     "output_type": "stream",
     "text": [
      "GFF3Entry(seqid:ctg123, source:., feature:Gene, start:1300, end:9001, score:., strand:+, phase:., attr:ID=gene0001;Name=sonichedgehog)\n",
      "GFF3Entry(seqid:ctg123, source:., feature:mRNA, start:1300, end:9000, score:., strand:+, phase:., attr:ID=mrna0001.1;Name=sonichedgehog.1;Parent=gene0001)\n",
      "GFF3Entry(seqid:ctg123, source:., feature:exon, start:1300, end:1500, score:., strand:+, phase:., attr:ID=exon00001.1;Parent=mrna0001.1)\n",
      "GFF3Entry(seqid:ctg123, source:., feature:exon, start:1050, end:1500, score:., strand:+, phase:., attr:ID=exon00002.1;Parent=mrna0001.1)\n",
      "GFF3Entry(seqid:ctg123, source:., feature:exon, start:3000, end:3902, score:., strand:+, phase:., attr:ID=exon00003.1;Parent=mrna0001.1)\n",
      "GFF3Entry(seqid:ctg123, source:., feature:exon, start:5000, end:5500, score:., strand:+, phase:., attr:ID=exon00004.1;Parent=mrna0001.1)\n",
      "GFF3Entry(seqid:ctg123, source:., feature:exon, start:7000, end:9000, score:., strand:+, phase:., attr:ID=exon00005.1;Parent=mrna0001.1)\n",
      "GFF3Entry(seqid:ctg123, source:., feature:mRNA, start:1301, end:9001, score:., strand:+, phase:., attr:ID=mrna0001.2;Name=sonichedgehog.2;Parent=gene0001)\n",
      "GFF3Entry(seqid:ctg123, source:., feature:exon, start:1301, end:1501, score:., strand:+, phase:., attr:ID=exon00001.2;Parent=mrna0001.2)\n",
      "GFF3Entry(seqid:ctg123, source:., feature:exon, start:1051, end:1501, score:., strand:+, phase:., attr:ID=exon00002.2;Parent=mrna0001.2)\n",
      "GFF3Entry(seqid:ctg123, source:., feature:exon, start:3001, end:3901, score:., strand:+, phase:., attr:ID=exon00003.2;Parent=mrna0001.2)\n",
      "GFF3Entry(seqid:ctg123, source:., feature:exon, start:5001, end:5501, score:., strand:+, phase:., attr:ID=exon00004.2;Parent=mrna0001.2)\n",
      "GFF3Entry(seqid:ctg123, source:., feature:exon, start:7001, end:9001, score:., strand:+, phase:., attr:ID=exon00005.2;Parent=mrna0001.2)\n"
     ]
    }
   ],
   "source": [
    "for entry in gff:\n",
    "    print(entry)"
   ]
  },
  {
   "cell_type": "markdown",
   "metadata": {},
   "source": [
    "## Get feature IDs, by type"
   ]
  },
  {
   "cell_type": "code",
   "execution_count": 5,
   "metadata": {},
   "outputs": [
    {
     "data": {
      "text/plain": [
       "{'Gene': ['gene0001'],\n",
       " 'mRNA': ['mrna0001.1', 'mrna0001.2'],\n",
       " 'exon': ['exon00001.1',\n",
       "  'exon00002.1',\n",
       "  'exon00003.1',\n",
       "  'exon00004.1',\n",
       "  'exon00005.1',\n",
       "  'exon00001.2',\n",
       "  'exon00002.2',\n",
       "  'exon00003.2',\n",
       "  'exon00004.2',\n",
       "  'exon00005.2']}"
      ]
     },
     "execution_count": 5,
     "metadata": {},
     "output_type": "execute_result"
    }
   ],
   "source": [
    "gff.features"
   ]
  },
  {
   "cell_type": "markdown",
   "metadata": {},
   "source": [
    "## Get entries from GFF based on ID"
   ]
  },
  {
   "cell_type": "code",
   "execution_count": 6,
   "metadata": {},
   "outputs": [
    {
     "data": {
      "text/plain": [
       "GFF3Entry(seqid:ctg123, source:., feature:Gene, start:1300, end:9001, score:., strand:+, phase:., attr:ID=gene0001;Name=sonichedgehog)"
      ]
     },
     "execution_count": 6,
     "metadata": {},
     "output_type": "execute_result"
    }
   ],
   "source": [
    "gff['gene0001']"
   ]
  },
  {
   "cell_type": "markdown",
   "metadata": {},
   "source": [
    "## Get GFF entries from GFF based on integer index"
   ]
  },
  {
   "cell_type": "code",
   "execution_count": 7,
   "metadata": {},
   "outputs": [
    {
     "data": {
      "text/plain": [
       "GFF3Entry(seqid:ctg123, source:., feature:mRNA, start:1300, end:9000, score:., strand:+, phase:., attr:ID=mrna0001.1;Name=sonichedgehog.1;Parent=gene0001)"
      ]
     },
     "execution_count": 7,
     "metadata": {},
     "output_type": "execute_result"
    }
   ],
   "source": [
    "gff[1]"
   ]
  },
  {
   "cell_type": "markdown",
   "metadata": {},
   "source": [
    "## Get entries based on parent"
   ]
  },
  {
   "cell_type": "code",
   "execution_count": 8,
   "metadata": {},
   "outputs": [
    {
     "name": "stdout",
     "output_type": "stream",
     "text": [
      "GFF3 object\n",
      " Where: 0x7f9b0683b288\n",
      " Entries: 6\n",
      " Indexed: Yes\n",
      " Feature statistics:\n",
      "  * mRNA : 1\n",
      "  * exon : 5\n",
      "\n"
     ]
    },
    {
     "name": "stderr",
     "output_type": "stream",
     "text": [
      "D: GFF input source is list of GFF3Entries.\n"
     ]
    }
   ],
   "source": [
    "children = gff.getChildren('mrna0001.1', containParent=True)\n",
    "print(children)"
   ]
  },
  {
   "cell_type": "code",
   "execution_count": 9,
   "metadata": {},
   "outputs": [
    {
     "name": "stdout",
     "output_type": "stream",
     "text": [
      "GFF3Entry(seqid:ctg123, source:., feature:mRNA, start:1300, end:9000, score:., strand:+, phase:., attr:ID=mrna0001.1;Name=sonichedgehog.1)\n",
      "GFF3Entry(seqid:ctg123, source:., feature:exon, start:1300, end:1500, score:., strand:+, phase:., attr:ID=exon00001.1;Parent=mrna0001.1)\n",
      "GFF3Entry(seqid:ctg123, source:., feature:exon, start:1050, end:1500, score:., strand:+, phase:., attr:ID=exon00002.1;Parent=mrna0001.1)\n",
      "GFF3Entry(seqid:ctg123, source:., feature:exon, start:3000, end:3902, score:., strand:+, phase:., attr:ID=exon00003.1;Parent=mrna0001.1)\n",
      "GFF3Entry(seqid:ctg123, source:., feature:exon, start:5000, end:5500, score:., strand:+, phase:., attr:ID=exon00004.1;Parent=mrna0001.1)\n",
      "GFF3Entry(seqid:ctg123, source:., feature:exon, start:7000, end:9000, score:., strand:+, phase:., attr:ID=exon00005.1;Parent=mrna0001.1)\n"
     ]
    }
   ],
   "source": [
    "for child in children:\n",
    "    print(child)"
   ]
  },
  {
   "cell_type": "code",
   "execution_count": 10,
   "metadata": {},
   "outputs": [
    {
     "name": "stdout",
     "output_type": "stream",
     "text": [
      "GFF3Entry(seqid:ctg123, source:., feature:mRNA, start:1301, end:9001, score:., strand:+, phase:., attr:ID=mrna0001.2;Name=sonichedgehog.2)\n",
      "GFF3Entry(seqid:ctg123, source:., feature:exon, start:1301, end:1501, score:., strand:+, phase:., attr:ID=exon00001.2;Parent=mrna0001.2)\n",
      "GFF3Entry(seqid:ctg123, source:., feature:exon, start:1051, end:1501, score:., strand:+, phase:., attr:ID=exon00002.2;Parent=mrna0001.2)\n",
      "GFF3Entry(seqid:ctg123, source:., feature:exon, start:3001, end:3901, score:., strand:+, phase:., attr:ID=exon00003.2;Parent=mrna0001.2)\n",
      "GFF3Entry(seqid:ctg123, source:., feature:exon, start:5001, end:5501, score:., strand:+, phase:., attr:ID=exon00004.2;Parent=mrna0001.2)\n",
      "GFF3Entry(seqid:ctg123, source:., feature:exon, start:7001, end:9001, score:., strand:+, phase:., attr:ID=exon00005.2;Parent=mrna0001.2)\n"
     ]
    },
    {
     "name": "stderr",
     "output_type": "stream",
     "text": [
      "D: GFF input source is list of GFF3Entries.\n"
     ]
    }
   ],
   "source": [
    "for child in gff.getChildren('mrna0001.2', containParent=True, depth=None):\n",
    "    print(child)"
   ]
  },
  {
   "cell_type": "markdown",
   "metadata": {},
   "source": [
    "## Create sub-structures\n",
    "\n",
    "By default, the result of getChildren, or query, returns another GFF3 object that can be queried in the same way.\n",
    "\n",
    "Sometimes, you are only interested in the raw GFF3 entries. These can be retrieved with the `raw=True` option.\n"
   ]
  },
  {
   "cell_type": "code",
   "execution_count": 7,
   "metadata": {},
   "outputs": [
    {
     "name": "stdout",
     "output_type": "stream",
     "text": [
      "<class 'list'> <class 'biu.formats.gff3Utils.GFF3Entry'>\n"
     ]
    }
   ],
   "source": [
    "entries = gff.getChildren('mrna0001.1', containParent=True, raw=True)\n",
    "print(type(entries), type(entries[0]))"
   ]
  },
  {
   "cell_type": "markdown",
   "metadata": {},
   "source": [
    "You can envelop these in another GFF3 structure if you wish:"
   ]
  },
  {
   "cell_type": "code",
   "execution_count": 9,
   "metadata": {},
   "outputs": [
    {
     "name": "stdout",
     "output_type": "stream",
     "text": [
      "GFF3 object\n",
      " Where: 0x7fc004be45e8\n",
      " Entries: 6\n",
      " Indexed: Yes\n",
      " Feature statistics:\n",
      "  * mRNA : 1\n",
      "  * exon : 5\n",
      "\n"
     ]
    },
    {
     "name": "stderr",
     "output_type": "stream",
     "text": [
      "D: GFF input source is list of GFF3Entries.\n"
     ]
    }
   ],
   "source": [
    "subgff = biu.formats.GFF3(entries)\n",
    "print(subgff)"
   ]
  },
  {
   "cell_type": "markdown",
   "metadata": {},
   "source": [
    "## Query based on intervals\n",
    "\n",
    "You can also use the `raw=True` option here"
   ]
  },
  {
   "cell_type": "code",
   "execution_count": 12,
   "metadata": {},
   "outputs": [
    {
     "name": "stdout",
     "output_type": "stream",
     "text": [
      "GFF3 object\n",
      " Where: 0x7f9b0683b348\n",
      " Entries: 3\n",
      " Indexed: Yes\n",
      " Feature statistics:\n",
      "  * exon : 2\n",
      "  * mRNA : 1\n",
      "\n",
      "GFF3Entry(seqid:ctg123, source:., feature:exon, start:1300, end:1500, score:., strand:+, phase:., attr:ID=exon00001.1;Parent=mrna0001.1)\n",
      "GFF3Entry(seqid:ctg123, source:., feature:exon, start:1050, end:1500, score:., strand:+, phase:., attr:ID=exon00002.1;Parent=mrna0001.1)\n",
      "GFF3Entry(seqid:ctg123, source:., feature:mRNA, start:1300, end:9000, score:., strand:+, phase:., attr:ID=mrna0001.1;Name=sonichedgehog.1)\n"
     ]
    },
    {
     "name": "stderr",
     "output_type": "stream",
     "text": [
      "D: GFF input source is list of GFF3Entries.\n",
      "D: GFF input source is list of GFF3Entries.\n"
     ]
    }
   ],
   "source": [
    "print(subgff.query(\"ctg123\", 1301, 1500))\n",
    "for e in subgff.query(\"ctg123\", 1301, 1500):\n",
    "    print(e)"
   ]
  },
  {
   "cell_type": "code",
   "execution_count": 13,
   "metadata": {},
   "outputs": [
    {
     "name": "stdout",
     "output_type": "stream",
     "text": [
      "GFF3 object\n",
      " Where: 0x7f9b0683b5e8\n",
      " Entries: 6\n",
      " Indexed: Yes\n",
      " Interval Indexes:\n",
      "  * exon,mrna\n",
      " Feature statistics:\n",
      "  * mRNA : 1\n",
      "  * exon : 5\n",
      "\n"
     ]
    }
   ],
   "source": [
    "print(subgff)"
   ]
  },
  {
   "cell_type": "markdown",
   "metadata": {},
   "source": [
    "## Get gene/transcript/protein sequences from the GFF file.\n",
    "We examine this in the C elegans genome"
   ]
  },
  {
   "cell_type": "code",
   "execution_count": 14,
   "metadata": {},
   "outputs": [],
   "source": [
    "ce = biu.db.Genome(\"WBcel235\")"
   ]
  },
  {
   "cell_type": "code",
   "execution_count": 15,
   "metadata": {},
   "outputs": [
    {
     "name": "stderr",
     "output_type": "stream",
     "text": [
      "D: Initializing the GFF3ResourceManager object NOW\n",
      "D: GFF input source is file.\n"
     ]
    },
    {
     "name": "stdout",
     "output_type": "stream",
     "text": [
      "GFF3 object\n",
      " Where: /home/tgehrmann/repos/BIU/docs/genome_WBcel235/genome.gff3\n",
      " Entries: 517453\n",
      " Indexed: Yes\n",
      " Feature statistics:\n",
      "  * region : 7\n",
      "  * gene : 44830\n",
      "  * snoRNA : 345\n",
      "  * exon : 219765\n",
      "  * mRNA : 28134\n",
      "  * CDS : 196662\n",
      "  * pseudogene : 1901\n",
      "  * piRNA : 15364\n",
      "  * ncRNA : 7769\n",
      "  * transcript : 667\n",
      "  * pseudogenic_tRNA : 209\n",
      "  * tRNA : 634\n",
      "  * antisense_RNA : 104\n",
      "  * lnc_RNA : 181\n",
      "  * primary_transcript : 271\n",
      "  * miRNA : 454\n",
      "  * snRNA : 130\n",
      "  * rRNA : 22\n",
      "  * pseudogenic_rRNA : 1\n",
      "  * scRNA : 1\n",
      "  * sequence_feature : 2\n",
      "\n"
     ]
    }
   ],
   "source": [
    "print(ce.gff)"
   ]
  },
  {
   "cell_type": "code",
   "execution_count": 16,
   "metadata": {},
   "outputs": [
    {
     "data": {
      "text/plain": [
       "'gene0'"
      ]
     },
     "execution_count": 16,
     "metadata": {},
     "output_type": "execute_result"
    }
   ],
   "source": [
    "ce.gff.features[\"gene\"][0]"
   ]
  },
  {
   "cell_type": "code",
   "execution_count": 17,
   "metadata": {},
   "outputs": [
    {
     "name": "stdout",
     "output_type": "stream",
     "text": [
      "GFF3Entry(seqid:NC_003279.8, source:RefSeq, feature:exon, start:26733, end:26778, score:., strand:-, phase:., attr:ID=id12;Dbxref=GeneID:171592,Genbank:NM_058262.4,WormBase:WBGene00022278;end_range=26778,.;gbkey=mRNA;gene=rcor-1;partial=true;product=RCOR (REST CO-Repressor) homolog;transcript_id=NM_058262.4)\n",
      "\n",
      ">rna4\n"
     ]
    },
    {
     "name": "stderr",
     "output_type": "stream",
     "text": [
      "D: GFF input source is list of GFF3Entries.\n",
      "D: GFF input source is list of GFF3Entries.\n",
      "D: Initializing the FastaResourceManager object NOW\n",
      "D: Fasta input source is file\n"
     ]
    },
    {
     "name": "stdout",
     "output_type": "stream",
     "text": [
      "MDSYTSSDEDASRKENEGLNMLNASPEPMEEDDPEEQAEQEEETSRMARPIRSMRKRETTSGESMGDEDEDLEDEEDEDEEAEAREHHESGAHDTSFSNPLSNVDNLIHVGTEYQAIIQPTAEQLEKEPCRDQQIWAFPDEMNENRLTEYISEATGRYQLPIDRALFILNKQSNDFDAAMVQAMRRKEIHDDWTAEEISLFSTCFFHFGKRFKKIHAAMPQRSLSSIIQYYYNTKKVQNYKTMINVHLNETDTYDELFKEVNHLERVPSGYCENCNAKSDLLILNRVMSRHECKPCILYFRLMRVPRPASLRALTKRRQRVLCPEYMKIYVYGYLELMEPANGKAIKRLGIGKEKEEDDDIMVVDDCLLRKPSGPYIVEQSIEADPIDENTCRMTRCFDTPAALALIDNIKRKHHMCVPLVWRVKQTKCMEENEILNEEARQQMFRATMTYSRVPKGEIANWKKDMMALKGRFERFTPELDTTATNGNRSGKVRINYGWSPEEKKNAIRCFHWYKDNFELIAELMATKTVEQIKKFYMDNEKLILESIDTYRAELKSKLGK*\n"
     ]
    }
   ],
   "source": [
    "# For negative stranded feature\n",
    "print(ce.gff.getChildren(\"rna4\", feature=\"exon\")[0])#\n",
    "\n",
    "print(\"\\n>rna4\")\n",
    "print(ce.gff.seq(\"rna4\", ce.genome[\"all\"]).translate())"
   ]
  },
  {
   "cell_type": "code",
   "execution_count": 18,
   "metadata": {},
   "outputs": [
    {
     "name": "stdout",
     "output_type": "stream",
     "text": [
      "GFF3Entry(seqid:NC_003279.8, source:RefSeq, feature:mRNA, start:11641, end:16585, score:., strand:+, phase:., attr:ID=rna2;Dbxref=GeneID:171591,Genbank:NM_058259.4,WormBase:WBGene00022276;Name=NM_058259.4;end_range=16585,.;gbkey=mRNA;gene=nlp-40;partial=true;product=Peptide P4;start_range=.,11641;transcript_id=NM_058259.4)\n",
      "\n",
      ">gene2\n",
      "MKLVILLSFVATVAVFAAPSAPAGLEEKLRALQEQLYSLEKENGVDVKQKEQPAAADTFLGFVPQKRMVAWQPMKRSMINEDSRAPYGRVAADEAVDDQ*GF*SSIAPRNRSPLGRSVESRRTPRSQPGGSFGGSSCS*SIPIMLHAIEARLAEVLRAGERLGVNPEEVLADLRARNQFQ*\n"
     ]
    },
    {
     "name": "stderr",
     "output_type": "stream",
     "text": [
      "D: GFF input source is list of GFF3Entries.\n",
      "D: GFF input source is list of GFF3Entries.\n"
     ]
    }
   ],
   "source": [
    "# For positively stranded feature\n",
    "print(ce.gff.getChildren(\"gene2\")[0])\n",
    "\n",
    "print(\"\\n>gene2\")\n",
    "print(ce.gff.seq(\"gene2\", ce.genome[\"all\"]).translate().seq)"
   ]
  },
  {
   "cell_type": "code",
   "execution_count": 19,
   "metadata": {},
   "outputs": [
    {
     "data": {
      "text/plain": [
       "{'Gene': ['gene0001'],\n",
       " 'mRNA': ['mrna0001.1', 'mrna0001.2'],\n",
       " 'exon': ['exon00001.1',\n",
       "  'exon00002.1',\n",
       "  'exon00003.1',\n",
       "  'exon00004.1',\n",
       "  'exon00005.1',\n",
       "  'exon00001.2',\n",
       "  'exon00002.2',\n",
       "  'exon00003.2',\n",
       "  'exon00004.2',\n",
       "  'exon00005.2']}"
      ]
     },
     "execution_count": 19,
     "metadata": {},
     "output_type": "execute_result"
    }
   ],
   "source": [
    "gff.features"
   ]
  },
  {
   "cell_type": "code",
   "execution_count": null,
   "metadata": {},
   "outputs": [],
   "source": []
  }
 ],
 "metadata": {
  "kernelspec": {
   "display_name": "Python 3",
   "language": "python",
   "name": "python3"
  },
  "language_info": {
   "codemirror_mode": {
    "name": "ipython",
    "version": 3
   },
   "file_extension": ".py",
   "mimetype": "text/x-python",
   "name": "python",
   "nbconvert_exporter": "python",
   "pygments_lexer": "ipython3",
   "version": "3.6.3"
  }
 },
 "nbformat": 4,
 "nbformat_minor": 2
}
