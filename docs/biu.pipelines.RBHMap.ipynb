{
 "cells": [
  {
   "cell_type": "markdown",
   "metadata": {},
   "source": [
    "# Reciprocal Best Blast Hit Pipeline"
   ]
  },
  {
   "cell_type": "code",
   "execution_count": 1,
   "metadata": {},
   "outputs": [],
   "source": [
    "import biu"
   ]
  },
  {
   "cell_type": "markdown",
   "metadata": {},
   "source": [
    "## Usage\n",
    "\n",
    "To use the pipeline, you must first have two fasta structures. In this case, I will use the same file twice (This way we can also see that it works :P)\n",
    "\n",
    "Usage is: `biu.pipelines.RBHMap(fasta1, fasta2 **options)`\n",
    "\n",
    "Available options are:\n",
    "  * `config={}`: Change default config variables in the pipeline, e.g. e-value threshold\n",
    "  * `diamond=False`: To use diamond in stead of blast.\n",
    "  * others: Pipeline or Snakemake configuration options."
   ]
  },
  {
   "cell_type": "code",
   "execution_count": 2,
   "metadata": {},
   "outputs": [
    {
     "name": "stderr",
     "output_type": "stream",
     "text": [
      "D: Fasta input source is file\n"
     ]
    }
   ],
   "source": [
    "fasta = biu.formats.Fasta('example_files/example.fasta')"
   ]
  },
  {
   "cell_type": "code",
   "execution_count": 6,
   "metadata": {},
   "outputs": [
    {
     "name": "stderr",
     "output_type": "stream",
     "text": [
      "W: The sequence you are trying to translate is not divisible by 3.\n",
      "D: Fasta input source is a list of sequences.\n",
      "W: The sequence you are trying to translate is not divisible by 3.\n",
      "D: Fasta input source is a list of sequences.\n",
      "Building DAG of jobs...\n",
      "Using shell: /bin/bash\n",
      "Provided cores: 1\n",
      "Rules claiming more threads will be scaled down.\n",
      "Job counts:\n",
      "\tcount\tjobs\n",
      "\t1\tmapping\n",
      "\t2\tmappingBlastDB\n",
      "\t2\tmappingBlastQuery\n",
      "\t1\toutput\n",
      "\t6\n",
      "\n",
      "localrule mappingBlastDB:\n",
      "    input: /exports/molepi/tgehrmann/pipeline_runs/temporary_input/RBHMap/digest.5a8dfe15b9c5984451f0f628fdaa41a6\n",
      "    output: /exports/molepi/tgehrmann/pipeline_runs/RBHMap/d7757a774e7992c872254d2ad4eb69a4/blastdb.A.db\n",
      "    jobid: 5\n",
      "    wildcards: genome=A\n",
      "\n",
      "Activating conda environment /exports/molepi/tgehrmann/pipeline_runs/conda/0595e51a.\n",
      "Finished job 5.\n",
      "1 of 6 steps (17%) done\n",
      "\n",
      "localrule mappingBlastDB:\n",
      "    input: /exports/molepi/tgehrmann/pipeline_runs/temporary_input/RBHMap/digest.5a8dfe15b9c5984451f0f628fdaa41a6\n",
      "    output: /exports/molepi/tgehrmann/pipeline_runs/RBHMap/d7757a774e7992c872254d2ad4eb69a4/blastdb.B.db\n",
      "    jobid: 4\n",
      "    wildcards: genome=B\n",
      "\n",
      "Activating conda environment /exports/molepi/tgehrmann/pipeline_runs/conda/0595e51a.\n",
      "Finished job 4.\n",
      "2 of 6 steps (33%) done\n",
      "\n",
      "rule mappingBlastQuery:\n",
      "    input: /exports/molepi/tgehrmann/pipeline_runs/RBHMap/d7757a774e7992c872254d2ad4eb69a4/blastdb.A.db, /exports/molepi/tgehrmann/pipeline_runs/temporary_input/RBHMap/digest.5a8dfe15b9c5984451f0f628fdaa41a6\n",
      "    output: /exports/molepi/tgehrmann/pipeline_runs/RBHMap/d7757a774e7992c872254d2ad4eb69a4/result.A.B.tsv\n",
      "    jobid: 3\n",
      "    wildcards: genome_1=A, genome_2=B\n",
      "\n",
      "Activating conda environment /exports/molepi/tgehrmann/pipeline_runs/conda/0595e51a.\n",
      "Finished job 3.\n",
      "3 of 6 steps (50%) done\n",
      "\n",
      "rule mappingBlastQuery:\n",
      "    input: /exports/molepi/tgehrmann/pipeline_runs/RBHMap/d7757a774e7992c872254d2ad4eb69a4/blastdb.B.db, /exports/molepi/tgehrmann/pipeline_runs/temporary_input/RBHMap/digest.5a8dfe15b9c5984451f0f628fdaa41a6\n",
      "    output: /exports/molepi/tgehrmann/pipeline_runs/RBHMap/d7757a774e7992c872254d2ad4eb69a4/result.B.A.tsv\n",
      "    jobid: 2\n",
      "    wildcards: genome_1=B, genome_2=A\n",
      "\n",
      "Activating conda environment /exports/molepi/tgehrmann/pipeline_runs/conda/0595e51a.\n",
      "Finished job 2.\n",
      "4 of 6 steps (67%) done\n",
      "\n",
      "localrule mapping:\n",
      "    input: /exports/molepi/tgehrmann/pipeline_runs/RBHMap/d7757a774e7992c872254d2ad4eb69a4/result.B.A.tsv, /exports/molepi/tgehrmann/pipeline_runs/RBHMap/d7757a774e7992c872254d2ad4eb69a4/result.A.B.tsv, /exports/molepi/tgehrmann/pipeline_runs/temporary_input/RBHMap/digest.5a8dfe15b9c5984451f0f628fdaa41a6, /exports/molepi/tgehrmann/pipeline_runs/temporary_input/RBHMap/digest.5a8dfe15b9c5984451f0f628fdaa41a6\n",
      "    output: /exports/molepi/tgehrmann/pipeline_runs/RBHMap/d7757a774e7992c872254d2ad4eb69a4/mappingFile.tsv\n",
      "    jobid: 1\n",
      "\n",
      "Finished job 1.\n",
      "5 of 6 steps (83%) done\n",
      "\n",
      "localrule output:\n",
      "    input: /exports/molepi/tgehrmann/pipeline_runs/RBHMap/d7757a774e7992c872254d2ad4eb69a4/mappingFile.tsv\n",
      "    output: /exports/molepi/tgehrmann/pipeline_runs/RBHMap/d7757a774e7992c872254d2ad4eb69a4/mapping.tsv\n",
      "    jobid: 0\n",
      "\n",
      "Finished job 0.\n",
      "6 of 6 steps (100%) done\n",
      "Complete log: /home/tgehrmann/repos/BIU/docs/.snakemake/log/2018-06-29T105631.800380.snakemake.log\n"
     ]
    }
   ],
   "source": [
    "rbh = biu.pipelines.RBHMap(fasta, fasta, diamond=True, rewriteHashedInputFiles=True)#, drmaa=\" -V\", cores=2)"
   ]
  },
  {
   "cell_type": "markdown",
   "metadata": {},
   "source": [
    "## Getting the output\n",
    "\n",
    "There are two different representations of the output.\n",
    " * `rbh.getMapping()`: Get a TSV Map object of the mapping, which can be looked up as a dictionary\n",
    " * `rbh.getMappingDetails()`: Get details of the mappings in a pandas dataframe."
   ]
  },
  {
   "cell_type": "code",
   "execution_count": 4,
   "metadata": {},
   "outputs": [
    {
     "name": "stdout",
     "output_type": "stream",
     "text": [
      "TSV Map object\n",
      " Filename: /exports/molepi/tgehrmann/pipeline_runs/RBHMap/ba5e8dbb61f7b63469c84bd974835070/mapping.tsv\n",
      " 0 -> 1\n",
      " Pickled: Yes\n",
      " From entries: 2\n",
      " To entries: 2\n",
      "\n",
      "['HSBGPG']\n"
     ]
    },
    {
     "name": "stderr",
     "output_type": "stream",
     "text": [
      "D: Generating the index\n",
      "D: Pickling the index\n"
     ]
    }
   ],
   "source": [
    "print(rbh.getMapping(overwritePickle=True))\n",
    "\n",
    "print(rbh.getMapping()['HSBGPG'])"
   ]
  },
  {
   "cell_type": "code",
   "execution_count": 5,
   "metadata": {},
   "outputs": [
    {
     "data": {
      "text/html": [
       "<div>\n",
       "<style scoped>\n",
       "    .dataframe tbody tr th:only-of-type {\n",
       "        vertical-align: middle;\n",
       "    }\n",
       "\n",
       "    .dataframe tbody tr th {\n",
       "        vertical-align: top;\n",
       "    }\n",
       "\n",
       "    .dataframe thead th {\n",
       "        text-align: right;\n",
       "    }\n",
       "</style>\n",
       "<table border=\"1\" class=\"dataframe\">\n",
       "  <thead>\n",
       "    <tr style=\"text-align: right;\">\n",
       "      <th></th>\n",
       "      <th>from</th>\n",
       "      <th>to</th>\n",
       "      <th>evalue</th>\n",
       "      <th>bitscore</th>\n",
       "    </tr>\n",
       "  </thead>\n",
       "  <tbody>\n",
       "    <tr>\n",
       "      <th>0</th>\n",
       "      <td>HSBGPG</td>\n",
       "      <td>HSBGPG</td>\n",
       "      <td>0.0</td>\n",
       "      <td>2274.0</td>\n",
       "    </tr>\n",
       "    <tr>\n",
       "      <th>1</th>\n",
       "      <td>HSGLTH1</td>\n",
       "      <td>HSGLTH1</td>\n",
       "      <td>0.0</td>\n",
       "      <td>1884.0</td>\n",
       "    </tr>\n",
       "  </tbody>\n",
       "</table>\n",
       "</div>"
      ],
      "text/plain": [
       "      from       to  evalue  bitscore\n",
       "0   HSBGPG   HSBGPG     0.0    2274.0\n",
       "1  HSGLTH1  HSGLTH1     0.0    1884.0"
      ]
     },
     "execution_count": 5,
     "metadata": {},
     "output_type": "execute_result"
    }
   ],
   "source": [
    "rbh.getMappingDetails()"
   ]
  },
  {
   "cell_type": "code",
   "execution_count": null,
   "metadata": {},
   "outputs": [],
   "source": []
  }
 ],
 "metadata": {
  "kernelspec": {
   "display_name": "Python 3",
   "language": "python",
   "name": "python3"
  },
  "language_info": {
   "codemirror_mode": {
    "name": "ipython",
    "version": 3
   },
   "file_extension": ".py",
   "mimetype": "text/x-python",
   "name": "python",
   "nbconvert_exporter": "python",
   "pygments_lexer": "ipython3",
   "version": "3.6.3"
  }
 },
 "nbformat": 4,
 "nbformat_minor": 2
}
