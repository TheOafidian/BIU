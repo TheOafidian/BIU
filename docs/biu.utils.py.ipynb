{
 "cells": [
  {
   "cell_type": "markdown",
   "metadata": {},
   "source": [
    "# Additional python utilities"
   ]
  },
  {
   "cell_type": "code",
   "execution_count": 1,
   "metadata": {},
   "outputs": [],
   "source": [
    "import biu"
   ]
  },
  {
   "cell_type": "markdown",
   "metadata": {},
   "source": [
    "## Load a module from a file\n",
    "\n",
    "Suppose we have another file `exapmple_files/exampleModule.py` else that we wish to load, which has a function `myFunction` written in it. We can load it with the `biu.utils.py.loadModuleFromFile` function."
   ]
  },
  {
   "cell_type": "code",
   "execution_count": 4,
   "metadata": {},
   "outputs": [
    {
     "name": "stdout",
     "output_type": "stream",
     "text": [
      "This is a function in the exampleModule.py file\n",
      "<module 'exampleModule'>\n"
     ]
    }
   ],
   "source": [
    "myMod = biu.utils.py.loadModuleFromFile('example_files/exampleModule.py')\n",
    "myMod.myFunction()\n",
    "print(myMod)"
   ]
  },
  {
   "cell_type": "code",
   "execution_count": 7,
   "metadata": {},
   "outputs": [],
   "source": [
    "import importlib"
   ]
  },
  {
   "cell_type": "code",
   "execution_count": 5,
   "metadata": {},
   "outputs": [
    {
     "ename": "SyntaxError",
     "evalue": "invalid syntax (<ipython-input-5-feffc4d0a16e>, line 4)",
     "output_type": "error",
     "traceback": [
      "\u001b[0;36m  File \u001b[0;32m\"<ipython-input-5-feffc4d0a16e>\"\u001b[0;36m, line \u001b[0;32m4\u001b[0m\n\u001b[0;31m    importlib.\u001b[0m\n\u001b[0m              ^\u001b[0m\n\u001b[0;31mSyntaxError\u001b[0m\u001b[0;31m:\u001b[0m invalid syntax\n"
     ]
    }
   ],
   "source": [
    "import importlib\n",
    "\n",
    "def getModule(moduleName, failMessage=None):\n",
    "    try:\n",
    "        mod = importlib.import_module(moduleName)\n",
    "    except ImportError e:\n",
    "        if failMessage is not None:\n",
    "            print(failMessage)\n",
    "        print(e)\n",
    "        return None\n",
    "    "
   ]
  },
  {
   "cell_type": "code",
   "execution_count": null,
   "metadata": {},
   "outputs": [],
   "source": []
  }
 ],
 "metadata": {
  "kernelspec": {
   "display_name": "Python 3",
   "language": "python",
   "name": "python3"
  },
  "language_info": {
   "codemirror_mode": {
    "name": "ipython",
    "version": 3
   },
   "file_extension": ".py",
   "mimetype": "text/x-python",
   "name": "python",
   "nbconvert_exporter": "python",
   "pygments_lexer": "ipython3",
   "version": "3.6.3"
  }
 },
 "nbformat": 4,
 "nbformat_minor": 2
}
