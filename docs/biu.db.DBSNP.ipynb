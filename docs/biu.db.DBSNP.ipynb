{
 "cells": [
  {
   "cell_type": "markdown",
   "metadata": {},
   "source": [
    "# Accessing the dbSNP database\n",
    "The dbSNP database is accessed through a VCF file.\n",
    "It is quite a large VCF file (7GB) which takes some time to download"
   ]
  },
  {
   "cell_type": "code",
   "execution_count": 1,
   "metadata": {},
   "outputs": [],
   "source": [
    "import biu\n",
    "\n",
    "where = '/exports/molepi/tgehrmann/data/'\n",
    "biu.config.settings.setWhere(where)\n",
    "\n",
    "dbsnp = biu.db.DBSNP(\"human_9606_b150_GRCh37p13\")"
   ]
  },
  {
   "cell_type": "code",
   "execution_count": 2,
   "metadata": {},
   "outputs": [
    {
     "name": "stdout",
     "output_type": "stream",
     "text": [
      "DBSNP object\n",
      " Where: /exports/molepi/tgehrmann/data\n",
      " Version : human_9606_b150_GRCh37p13\n",
      " Objects:\n",
      "  * [ ] vcf\n",
      "  * [ ] info\n",
      " Files:\n",
      "  * [X] vcf : /exports/molepi/tgehrmann/data/dbSNP_human_9606_b150_GRCh37p13/all_snps.vcf.bgz\n",
      "  * [X] tbi : /exports/molepi/tgehrmann/data/dbSNP_human_9606_b150_GRCh37p13/all_snps.vcf.bgz.tbi\n",
      "  * [X] info : /exports/molepi/tgehrmann/data/dbSNP_human_9606_b150_GRCh37p13/info_dict.sqldict.sqlite\n",
      "\n"
     ]
    }
   ],
   "source": [
    "print(dbsnp)"
   ]
  },
  {
   "cell_type": "markdown",
   "metadata": {},
   "source": [
    "## Querying the dbSNP database"
   ]
  },
  {
   "cell_type": "code",
   "execution_count": 3,
   "metadata": {},
   "outputs": [
    {
     "name": "stdout",
     "output_type": "stream",
     "text": [
      "775809821 Record(CHROM=1, POS=10019, REF=TA, ALT=[T])\n",
      "978760828 Record(CHROM=1, POS=10039, REF=A, ALT=[C])\n",
      "1008829651 Record(CHROM=1, POS=10043, REF=T, ALT=[A])\n",
      "1052373574 Record(CHROM=1, POS=10051, REF=A, ALT=[G])\n",
      "892501864 Record(CHROM=1, POS=10055, REF=T, ALT=[A])\n",
      "768019142 Record(CHROM=1, POS=10055, REF=T, ALT=[TA])\n",
      "1010989343 Record(CHROM=1, POS=10063, REF=A, ALT=[C])\n",
      "1022805358 Record(CHROM=1, POS=10077, REF=C, ALT=[G])\n",
      "62651026 Record(CHROM=1, POS=10108, REF=C, ALT=[T])\n",
      "376007522 Record(CHROM=1, POS=10109, REF=A, ALT=[T])\n",
      "796688738 Record(CHROM=1, POS=10128, REF=A, ALT=[AC])\n",
      "368469931 Record(CHROM=1, POS=10139, REF=A, ALT=[T])\n",
      "144773400 Record(CHROM=1, POS=10144, REF=TA, ALT=[T])\n",
      "779258992 Record(CHROM=1, POS=10146, REF=AC, ALT=[A])\n",
      "371194064 Record(CHROM=1, POS=10150, REF=C, ALT=[T])\n",
      "796884232 Record(CHROM=1, POS=10165, REF=A, ALT=[AC])\n"
     ]
    },
    {
     "name": "stderr",
     "output_type": "stream",
     "text": [
      "D: Initializing the VCFResourceManager object NOW\n",
      "D: VCF Input source is tabixed file.\n",
      "D: VCF Input source is list of Records.\n"
     ]
    }
   ],
   "source": [
    "for record in dbsnp.query(\"1\", 10019, 10165):\n",
    "    print(record.INFO['RS'], record)"
   ]
  },
  {
   "cell_type": "markdown",
   "metadata": {},
   "source": [
    "## Look up a specific variant"
   ]
  },
  {
   "cell_type": "code",
   "execution_count": 4,
   "metadata": {},
   "outputs": [
    {
     "name": "stderr",
     "output_type": "stream",
     "text": [
      "D: VCF Input source is list of Records.\n"
     ]
    },
    {
     "data": {
      "text/plain": [
       "'rs4894'"
      ]
     },
     "execution_count": 4,
     "metadata": {},
     "output_type": "execute_result"
    }
   ],
   "source": [
    "dbsnp(\"22\", 39917515, \"C\")"
   ]
  },
  {
   "cell_type": "markdown",
   "metadata": {},
   "source": [
    "## Look up the location of a dbSNP ID\n",
    "Currently very time intensive, as may require TWO internet queries (one for position, one for chromosome. More if it was merged!).\n",
    "\n",
    "I managed to speed it up a bit by caching the sequence IDs with sequence numbers."
   ]
  },
  {
   "cell_type": "code",
   "execution_count": 5,
   "metadata": {
    "scrolled": true
   },
   "outputs": [
    {
     "name": "stderr",
     "output_type": "stream",
     "text": [
      "D: Initializing the SQLDictResourceManager object NOW\n",
      "D: Querying for rs945508 via REST.\n"
     ]
    },
    {
     "data": {
      "text/plain": [
       "('1', 156907080)"
      ]
     },
     "execution_count": 5,
     "metadata": {},
     "output_type": "execute_result"
    }
   ],
   "source": [
    "dbsnp[\"rs945508\"]"
   ]
  }
 ],
 "metadata": {
  "kernelspec": {
   "display_name": "Python 3",
   "language": "python",
   "name": "python3"
  },
  "language_info": {
   "codemirror_mode": {
    "name": "ipython",
    "version": 3
   },
   "file_extension": ".py",
   "mimetype": "text/x-python",
   "name": "python",
   "nbconvert_exporter": "python",
   "pygments_lexer": "ipython3",
   "version": "3.6.3"
  }
 },
 "nbformat": 4,
 "nbformat_minor": 2
}
