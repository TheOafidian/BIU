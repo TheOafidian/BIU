{
 "cells": [
  {
   "cell_type": "markdown",
   "metadata": {},
   "source": [
    "# Example BIU Usage"
   ]
  },
  {
   "cell_type": "code",
   "execution_count": 1,
   "metadata": {},
   "outputs": [],
   "source": [
    "where = '/exports/molepi/tgehrmann/data/'\n",
    "import biu as biu\n",
    "import matplotlib.pylab as plt"
   ]
  },
  {
   "cell_type": "markdown",
   "metadata": {},
   "source": [
    "List the available datasets"
   ]
  },
  {
   "cell_type": "code",
   "execution_count": 2,
   "metadata": {},
   "outputs": [
    {
     "name": "stdout",
     "output_type": "stream",
     "text": [
      "CADD:\n",
      "Available versions:\n",
      " * GRCh37\n",
      "\n",
      "ClinVar:\n",
      "Available versions:\n",
      " * GRCh37\n",
      " * GRCh38\n",
      "\n",
      "GnomAD\n",
      "Available versions:\n",
      " * GRCh37\n",
      "\n",
      "Genomes:\n",
      "Available genomes:\n",
      " * GRCh37\n"
     ]
    }
   ],
   "source": [
    "biu.db.list()"
   ]
  },
  {
   "cell_type": "markdown",
   "metadata": {},
   "source": [
    "## Open a genome object and load the GFF file"
   ]
  },
  {
   "cell_type": "markdown",
   "metadata": {},
   "source": [
    "Load the genome, and get the GFF file and parse it"
   ]
  },
  {
   "cell_type": "code",
   "execution_count": 3,
   "metadata": {},
   "outputs": [
    {
     "name": "stdout",
     "output_type": "stream",
     "text": [
      "Genome object\n",
      " Where: /exports/molepi/tgehrmann/data/hg19\n",
      " Genome : GRCh37\n",
      " Files:\n",
      "  * [X] gff : /exports/molepi/tgehrmann/data/hg19/genome.gff3\n",
      "  * [ ] cds : /exports/molepi/tgehrmann/data/hg19/genome.fa\n",
      "  * [ ] chr_1 : /exports/molepi/tgehrmann/data/hg19/chr1.fa.gz\n",
      "  * [ ] chr_2 : /exports/molepi/tgehrmann/data/hg19/chr2.fa.gz\n",
      "  * [ ] chr_3 : /exports/molepi/tgehrmann/data/hg19/chr3.fa.gz\n",
      "  * [ ] chr_4 : /exports/molepi/tgehrmann/data/hg19/chr4.fa.gz\n",
      "  * [ ] chr_5 : /exports/molepi/tgehrmann/data/hg19/chr5.fa.gz\n",
      "  * [ ] chr_6 : /exports/molepi/tgehrmann/data/hg19/chr6.fa.gz\n",
      "  * [ ] chr_7 : /exports/molepi/tgehrmann/data/hg19/chr7.fa.gz\n",
      "  * [ ] chr_8 : /exports/molepi/tgehrmann/data/hg19/chr8.fa.gz\n",
      "  * [ ] chr_9 : /exports/molepi/tgehrmann/data/hg19/chr9.fa.gz\n",
      "  * [ ] chr_10 : /exports/molepi/tgehrmann/data/hg19/chr10.fa.gz\n",
      "  * [ ] chr_11 : /exports/molepi/tgehrmann/data/hg19/chr11.fa.gz\n",
      "  * [ ] chr_12 : /exports/molepi/tgehrmann/data/hg19/chr12.fa.gz\n",
      "  * [ ] chr_13 : /exports/molepi/tgehrmann/data/hg19/chr13.fa.gz\n",
      "  * [ ] chr_14 : /exports/molepi/tgehrmann/data/hg19/chr14.fa.gz\n",
      "  * [ ] chr_15 : /exports/molepi/tgehrmann/data/hg19/chr15.fa.gz\n",
      "  * [ ] chr_16 : /exports/molepi/tgehrmann/data/hg19/chr16.fa.gz\n",
      "  * [ ] chr_17 : /exports/molepi/tgehrmann/data/hg19/chr17.fa.gz\n",
      "  * [ ] chr_18 : /exports/molepi/tgehrmann/data/hg19/chr18.fa.gz\n",
      "  * [ ] chr_19 : /exports/molepi/tgehrmann/data/hg19/chr19.fa.gz\n",
      "  * [ ] chr_20 : /exports/molepi/tgehrmann/data/hg19/chr20.fa.gz\n",
      "  * [ ] chr_21 : /exports/molepi/tgehrmann/data/hg19/chr21.fa.gz\n",
      "  * [ ] chr_22 : /exports/molepi/tgehrmann/data/hg19/chr22.fa.gz\n",
      "  * [ ] chr_X : /exports/molepi/tgehrmann/data/hg19/chrX.fa.gz\n",
      "  * [ ] chr_Y : /exports/molepi/tgehrmann/data/hg19/chrY.fa.gz\n",
      "\n"
     ]
    }
   ],
   "source": [
    "hg = biu.db.Genome(\"GRCh37\", where=\"%s/hg19\" % where)\n",
    "print(hg)"
   ]
  },
  {
   "cell_type": "code",
   "execution_count": 4,
   "metadata": {},
   "outputs": [
    {
     "name": "stdout",
     "output_type": "stream",
     "text": [
      "GFF3 object\n",
      " Where: /exports/molepi/tgehrmann/data/hg19/genome.gff3\n",
      " Entries: 2626677\n",
      " Top level statistics:\n",
      "  * chromosome : 25\n",
      "  * pseudogene : 13985\n",
      "  * lincRNA_gene : 7109\n",
      "  * gene : 26998\n",
      "  * processed_transcript : 514\n",
      "  * snRNA_gene : 1923\n",
      "  * miRNA_gene : 3111\n",
      "  * RNA : 2038\n",
      "  * snoRNA_gene : 1459\n",
      "  * rRNA_gene : 533\n",
      "  * V_gene_segment : 97\n",
      "  * J_gene_segment : 74\n",
      "  * C_gene_segment : 5\n",
      "  * VD_gene_segment : 37\n",
      "  * supercontig : 59\n",
      "  * mt_gene : 22\n",
      "\n"
     ]
    }
   ],
   "source": [
    "#download([\"gff\"]) #(optional, will be done automatically, unless downloadOnDemand=False)\n",
    "print(hg.getGFF())"
   ]
  },
  {
   "cell_type": "code",
   "execution_count": 5,
   "metadata": {},
   "outputs": [
    {
     "data": {
      "image/png": "[encoded data removed]",
      "text/plain": [
       "<matplotlib.figure.Figure at 0x7f88ba3a9f98>"
      ]
     },
     "metadata": {},
     "output_type": "display_data"
    }
   ],
   "source": [
    "nTranscriptsPerGene = []\n",
    "nExonsPerTranscript = []\n",
    "for gene in hg.getGFF().topLevel['gene']:\n",
    "    transcripts = [ cid for (i, cid) in hg.getGFF().index[gene][1] ]\n",
    "    nTranscriptsPerGene.append(len(transcripts))\n",
    "    for trans in transcripts:\n",
    "        nExonsPerTranscript.append(len(hg.getGFF().index[trans][1]))\n",
    "    #efor\n",
    "#efor\n",
    "\n",
    "fig, axes = plt.subplots(figsize=(12,4), ncols=2, nrows=1)\n",
    "axes = axes.flatten()\n",
    "axes[0].hist(nTranscriptsPerGene, bins=20)\n",
    "axes[1].hist(nExonsPerTranscript, bins=20, log=True)\n",
    "plt.show()"
   ]
  },
  {
   "cell_type": "markdown",
   "metadata": {},
   "source": [
    "## Access the ClinVar database"
   ]
  },
  {
   "cell_type": "code",
   "execution_count": 6,
   "metadata": {},
   "outputs": [
    {
     "name": "stdout",
     "output_type": "stream",
     "text": [
      "ClinVar object\n",
      " Where: /exports/molepi/tgehrmann/data/clinVar\n",
      " Version: GRCh37\n",
      " Objects:\n",
      "  * [ ] _vcfSource\n",
      "  * [ ] _summarySource\n",
      " \n",
      " Files:\n",
      "  * [X] vcf : /exports/molepi/tgehrmann/data/clinVar/clinVar.vcf.bgz\n",
      "  * [X] vcf_tbi : /exports/molepi/tgehrmann/data/clinVar/clinVar.vcf.bgz.tbi\n",
      "  * [X] sum : /exports/molepi/tgehrmann/data/clinVar/summary.tsv.bgz\n",
      "  * [X] sum_tbi : /exports/molepi/tgehrmann/data/clinVar/summary.tsv.bgz.tbi\n",
      "\n"
     ]
    }
   ],
   "source": [
    "cv = biu.db.ClinVar(\"GRCh37\", where='%s/clinVar' % where)\n",
    "print(cv)"
   ]
  },
  {
   "cell_type": "code",
   "execution_count": 7,
   "metadata": {},
   "outputs": [
    {
     "data": {
      "image/png": "[encoded data removed]",
      "text/plain": [
       "<matplotlib.figure.Figure at 0x7f88b2b85908>"
      ]
     },
     "metadata": {},
     "output_type": "display_data"
    }
   ],
   "source": [
    "alts = { n : 0 for n in 'ACGT'}\n",
    "for record in cv.queryVCF(1, 949422, 1049422):\n",
    "    for alt in record.ALT:\n",
    "        alt = alt.sequence\n",
    "        if alt in alts:\n",
    "            alts[alt] += 1\n",
    "\n",
    "cImpact = {}\n",
    "for record in cv.querySummary(1, 949422, 1049422):\n",
    "    if record.clinicalsignificance not in cImpact:\n",
    "        cImpact[record.clinicalsignificance] = 0\n",
    "    cImpact[record.clinicalsignificance] += 1\n",
    "\n",
    "fig, axes = plt.subplots(figsize=(12,4), ncols=2, nrows=1)\n",
    "axes = axes.flatten()\n",
    "\n",
    "nbars = axes[0].bar([1,2,3,4], alts.values(), tick_label=list(alts.keys()))\n",
    "\n",
    "nbars = axes[1].bar([ x + 1 for x in range(len(cImpact.keys())) ], cImpact.values(), tick_label=list(cImpact.keys()))\n",
    "plt.xticks(rotation=90)\n",
    "plt.show()"
   ]
  },
  {
   "cell_type": "markdown",
   "metadata": {},
   "source": [
    "## Access the CADD database"
   ]
  },
  {
   "cell_type": "code",
   "execution_count": 8,
   "metadata": {},
   "outputs": [
    {
     "name": "stdout",
     "output_type": "stream",
     "text": [
      "Same symbolic link already exists for 'tsv'\n",
      "Same symbolic link already exists for 'tsv_tbi'\n",
      "CADD object\n",
      " Where: /exports/molepi/tgehrmann/data/cadd/GRCh37\n",
      " Version: GRCh37\n",
      " Objects:\n",
      "  * [ ] _source\n",
      " \n",
      " Files:\n",
      "  * [S] tsv : /exports/molepi/tgehrmann/data/cadd/GRCh37/cadd.tsv.bgz -> /exports/molepi/tgehrmann/GAVIN-reimp/CADD/cadd.tsv.bgz\n",
      "  * [S] tsv_tbi : /exports/molepi/tgehrmann/data/cadd/GRCh37/cadd.tsv.bgz.tbi -> /exports/molepi/tgehrmann/GAVIN-reimp/CADD/cadd.tsv.bgz.tbi\n",
      "\n"
     ]
    }
   ],
   "source": [
    "cadd = biu.db.CADD(where=\"%s/cadd\" % where,\n",
    "                   localCopy = {\"tsv\" : \"/exports/molepi/tgehrmann/GAVIN-reimp/CADD/cadd.tsv.bgz\", \n",
    "                                \"tsv_tbi\" : \"/exports/molepi/tgehrmann/GAVIN-reimp/CADD/cadd.tsv.bgz.tbi\"})\n",
    "print(cadd)"
   ]
  },
  {
   "cell_type": "code",
   "execution_count": 9,
   "metadata": {},
   "outputs": [
    {
     "data": {
      "image/png": "[encoded data removed]",
      "text/plain": [
       "<matplotlib.figure.Figure at 0x7f88b2a6bb38>"
      ]
     },
     "metadata": {},
     "output_type": "display_data"
    }
   ],
   "source": [
    "plt.hist([ float(p) for p in cadd.query(1, 949422, 1049422).values() ], bins=200)\n",
    "plt.show()"
   ]
  },
  {
   "cell_type": "markdown",
   "metadata": {},
   "source": [
    "## Access the GnomAD database"
   ]
  },
  {
   "cell_type": "code",
   "execution_count": 10,
   "metadata": {},
   "outputs": [
    {
     "name": "stdout",
     "output_type": "stream",
     "text": [
      "Same symbolic link already exists for 'vcf'\n",
      "Same symbolic link already exists for 'vcf_tbi'\n",
      "Gnomad object\n",
      " Where: /exports/molepi/tgehrmann/data/cadd\n",
      " Version: GRCh37\n",
      " Objects:\n",
      "  * [ ] _vcfSource\n",
      "  * [ ] _covSource\n",
      " \n",
      " Files:\n",
      "  * [S] vcf : /exports/molepi/tgehrmann/data/cadd/gnomad.vcf.bgz -> /exports/molepi/tgehrmann/GAVIN-reimp/gnomAD/gnomad.vcf.bgz\n",
      "  * [S] vcf_tbi : /exports/molepi/tgehrmann/data/cadd/gnomad.vcf.bgz.tbi -> /exports/molepi/tgehrmann/GAVIN-reimp/gnomAD/gnomad.vcf.bgz.tbi\n",
      "  * [ ] chr_1_cov : /exports/molepi/tgehrmann/data/cadd/gnomad.coverage.chr.1.tsv.bgz\n",
      "  * [ ] chr_1_cov_tbi : /exports/molepi/tgehrmann/data/cadd/gnomad.coverage.chr.1.tsv.bgz.tbi\n",
      "  * [ ] chr_2_cov : /exports/molepi/tgehrmann/data/cadd/gnomad.coverage.chr.2.tsv.bgz\n",
      "  * [ ] chr_2_cov_tbi : /exports/molepi/tgehrmann/data/cadd/gnomad.coverage.chr.2.tsv.bgz.tbi\n",
      "  * [ ] chr_3_cov : /exports/molepi/tgehrmann/data/cadd/gnomad.coverage.chr.3.tsv.bgz\n",
      "  * [ ] chr_3_cov_tbi : /exports/molepi/tgehrmann/data/cadd/gnomad.coverage.chr.3.tsv.bgz.tbi\n",
      "  * [ ] chr_4_cov : /exports/molepi/tgehrmann/data/cadd/gnomad.coverage.chr.4.tsv.bgz\n",
      "  * [ ] chr_4_cov_tbi : /exports/molepi/tgehrmann/data/cadd/gnomad.coverage.chr.4.tsv.bgz.tbi\n",
      "  * [ ] chr_5_cov : /exports/molepi/tgehrmann/data/cadd/gnomad.coverage.chr.5.tsv.bgz\n",
      "  * [ ] chr_5_cov_tbi : /exports/molepi/tgehrmann/data/cadd/gnomad.coverage.chr.5.tsv.bgz.tbi\n",
      "  * [ ] chr_6_cov : /exports/molepi/tgehrmann/data/cadd/gnomad.coverage.chr.6.tsv.bgz\n",
      "  * [ ] chr_6_cov_tbi : /exports/molepi/tgehrmann/data/cadd/gnomad.coverage.chr.6.tsv.bgz.tbi\n",
      "  * [ ] chr_7_cov : /exports/molepi/tgehrmann/data/cadd/gnomad.coverage.chr.7.tsv.bgz\n",
      "  * [ ] chr_7_cov_tbi : /exports/molepi/tgehrmann/data/cadd/gnomad.coverage.chr.7.tsv.bgz.tbi\n",
      "  * [ ] chr_8_cov : /exports/molepi/tgehrmann/data/cadd/gnomad.coverage.chr.8.tsv.bgz\n",
      "  * [ ] chr_8_cov_tbi : /exports/molepi/tgehrmann/data/cadd/gnomad.coverage.chr.8.tsv.bgz.tbi\n",
      "  * [ ] chr_9_cov : /exports/molepi/tgehrmann/data/cadd/gnomad.coverage.chr.9.tsv.bgz\n",
      "  * [ ] chr_9_cov_tbi : /exports/molepi/tgehrmann/data/cadd/gnomad.coverage.chr.9.tsv.bgz.tbi\n",
      "  * [ ] chr_10_cov : /exports/molepi/tgehrmann/data/cadd/gnomad.coverage.chr.10.tsv.bgz\n",
      "  * [ ] chr_10_cov_tbi : /exports/molepi/tgehrmann/data/cadd/gnomad.coverage.chr.10.tsv.bgz.tbi\n",
      "  * [ ] chr_12_cov : /exports/molepi/tgehrmann/data/cadd/gnomad.coverage.chr.12.tsv.bgz\n",
      "  * [ ] chr_12_cov_tbi : /exports/molepi/tgehrmann/data/cadd/gnomad.coverage.chr.12.tsv.bgz.tbi\n",
      "  * [ ] chr_13_cov : /exports/molepi/tgehrmann/data/cadd/gnomad.coverage.chr.13.tsv.bgz\n",
      "  * [ ] chr_13_cov_tbi : /exports/molepi/tgehrmann/data/cadd/gnomad.coverage.chr.13.tsv.bgz.tbi\n",
      "  * [ ] chr_14_cov : /exports/molepi/tgehrmann/data/cadd/gnomad.coverage.chr.14.tsv.bgz\n",
      "  * [ ] chr_14_cov_tbi : /exports/molepi/tgehrmann/data/cadd/gnomad.coverage.chr.14.tsv.bgz.tbi\n",
      "  * [ ] chr_15_cov : /exports/molepi/tgehrmann/data/cadd/gnomad.coverage.chr.15.tsv.bgz\n",
      "  * [ ] chr_15_cov_tbi : /exports/molepi/tgehrmann/data/cadd/gnomad.coverage.chr.15.tsv.bgz.tbi\n",
      "  * [ ] chr_16_cov : /exports/molepi/tgehrmann/data/cadd/gnomad.coverage.chr.16.tsv.bgz\n",
      "  * [ ] chr_16_cov_tbi : /exports/molepi/tgehrmann/data/cadd/gnomad.coverage.chr.16.tsv.bgz.tbi\n",
      "  * [ ] chr_17_cov : /exports/molepi/tgehrmann/data/cadd/gnomad.coverage.chr.17.tsv.bgz\n",
      "  * [ ] chr_17_cov_tbi : /exports/molepi/tgehrmann/data/cadd/gnomad.coverage.chr.17.tsv.bgz.tbi\n",
      "  * [ ] chr_18_cov : /exports/molepi/tgehrmann/data/cadd/gnomad.coverage.chr.18.tsv.bgz\n",
      "  * [ ] chr_18_cov_tbi : /exports/molepi/tgehrmann/data/cadd/gnomad.coverage.chr.18.tsv.bgz.tbi\n",
      "  * [ ] chr_19_cov : /exports/molepi/tgehrmann/data/cadd/gnomad.coverage.chr.19.tsv.bgz\n",
      "  * [ ] chr_19_cov_tbi : /exports/molepi/tgehrmann/data/cadd/gnomad.coverage.chr.19.tsv.bgz.tbi\n",
      "  * [ ] chr_20_cov : /exports/molepi/tgehrmann/data/cadd/gnomad.coverage.chr.20.tsv.bgz\n",
      "  * [ ] chr_20_cov_tbi : /exports/molepi/tgehrmann/data/cadd/gnomad.coverage.chr.20.tsv.bgz.tbi\n",
      "  * [ ] chr_21_cov : /exports/molepi/tgehrmann/data/cadd/gnomad.coverage.chr.21.tsv.bgz\n",
      "  * [ ] chr_21_cov_tbi : /exports/molepi/tgehrmann/data/cadd/gnomad.coverage.chr.21.tsv.bgz.tbi\n",
      "  * [ ] chr_22_cov : /exports/molepi/tgehrmann/data/cadd/gnomad.coverage.chr.22.tsv.bgz\n",
      "  * [ ] chr_22_cov_tbi : /exports/molepi/tgehrmann/data/cadd/gnomad.coverage.chr.22.tsv.bgz.tbi\n",
      "  * [ ] chr_X_cov : /exports/molepi/tgehrmann/data/cadd/gnomad.coverage.chr.X.tsv.bgz\n",
      "  * [ ] chr_X_cov_tbi : /exports/molepi/tgehrmann/data/cadd/gnomad.coverage.chr.X.tsv.bgz.tbi\n",
      "  * [ ] chr_Y_cov : /exports/molepi/tgehrmann/data/cadd/gnomad.coverage.chr.Y.tsv.bgz\n",
      "  * [ ] chr_Y_cov_tbi : /exports/molepi/tgehrmann/data/cadd/gnomad.coverage.chr.Y.tsv.bgz.tbi\n",
      "\n"
     ]
    }
   ],
   "source": [
    "gnomad = biu.db.Gnomad(where = \"%s/cadd\" % where,\n",
    "                       localCopy = { \"vcf\" : \"/exports/molepi/tgehrmann/GAVIN-reimp/gnomAD/gnomad.vcf.bgz\",\n",
    "                                     \"vcf_tbi\" : \"/exports/molepi/tgehrmann/GAVIN-reimp/gnomAD/gnomad.vcf.bgz.tbi\"})\n",
    "print(gnomad)"
   ]
  },
  {
   "cell_type": "code",
   "execution_count": 11,
   "metadata": {},
   "outputs": [
    {
     "data": {
      "image/png": "[encoded data removed]",
      "text/plain": [
       "<matplotlib.figure.Figure at 0x7f88b27c50b8>"
      ]
     },
     "metadata": {},
     "output_type": "display_data"
    }
   ],
   "source": [
    "alts = { n : 0 for n in 'ACGT'}\n",
    "for record in gnomad.queryVCF(1, 12590, 13000):\n",
    "    for alt in record.ALT:\n",
    "        alt = alt.sequence\n",
    "        if alt in alts:\n",
    "            alts[alt] += 1\n",
    "nbars = plt.bar([1,2,3,4], alts.values(), tick_label=list(alts.keys()))"
   ]
  }
 ],
 "metadata": {
  "kernelspec": {
   "display_name": "Python 3",
   "language": "python",
   "name": "python3"
  },
  "language_info": {
   "codemirror_mode": {
    "name": "ipython",
    "version": 3
   },
   "file_extension": ".py",
   "mimetype": "text/x-python",
   "name": "python",
   "nbconvert_exporter": "python",
   "pygments_lexer": "ipython3",
   "version": "3.6.2"
  }
 },
 "nbformat": 4,
 "nbformat_minor": 2
}
