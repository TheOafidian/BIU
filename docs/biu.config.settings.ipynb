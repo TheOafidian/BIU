{
 "cells": [
  {
   "cell_type": "markdown",
   "metadata": {},
   "source": [
    "# Changing global settings for BIU"
   ]
  },
  {
   "cell_type": "code",
   "execution_count": 1,
   "metadata": {},
   "outputs": [],
   "source": [
    "import biu"
   ]
  },
  {
   "cell_type": "markdown",
   "metadata": {},
   "source": [
    "## Settings overview\n",
    "\n",
    "The object which stores all settings is `biu.config.settings`. You can inspect this object:"
   ]
  },
  {
   "cell_type": "code",
   "execution_count": 2,
   "metadata": {},
   "outputs": [
    {
     "name": "stdout",
     "output_type": "stream",
     "text": [
      "Configuration:\n",
      " where : '.'\n",
      " neo4j_install_dir : '/exports/molepi/tgehrmann/src/neo4j'\n",
      " debug_messages : 'True'\n",
      " debug_stream : 'stderr'\n",
      " pipelines_base : '/exports/molepi/tgehrmann/pipeline_runs'\n",
      " pipelines_common_name : 'common'\n",
      " pipelines_temporary_indir_name : 'temporary_input'\n",
      " pipelines_conda_prefix_name : 'conda'\n",
      "\n"
     ]
    }
   ],
   "source": [
    "print(biu.config.settings)"
   ]
  },
  {
   "cell_type": "markdown",
   "metadata": {},
   "source": [
    "## Default dataset location\n",
    "\n",
    "All datasets are downloaded into a specific location.\n",
    "By default, this location is './'.\n",
    "You can specify an alternative directory using `setWhere`, and then all newly created structures will use that location (in this session)"
   ]
  },
  {
   "cell_type": "code",
   "execution_count": 3,
   "metadata": {},
   "outputs": [
    {
     "name": "stdout",
     "output_type": "stream",
     "text": [
      "KEGG object\n",
      " Where: /another/directory\n",
      " Version: human\n",
      " Objects:\n",
      "  * [ ] _orgMap\n",
      "  * [ ] _featureData\n",
      " Files:\n",
      "  * [ ] org_map : /another/directory/kegg_human/org_map.tsv\n",
      "  * [ ] feature_data : /another/directory/kegg_human/feature_data.sqlite\n",
      "\n"
     ]
    }
   ],
   "source": [
    "biu.config.settings.setWhere(\"/another/directory\")\n",
    "dataset = biu.db.KEGG()\n",
    "print(dataset)"
   ]
  },
  {
   "cell_type": "markdown",
   "metadata": {},
   "source": [
    "You can verify the currently set location with `getWhere`"
   ]
  },
  {
   "cell_type": "code",
   "execution_count": 4,
   "metadata": {},
   "outputs": [
    {
     "data": {
      "text/plain": [
       "'/another/directory'"
      ]
     },
     "execution_count": 4,
     "metadata": {},
     "output_type": "execute_result"
    }
   ],
   "source": [
    "biu.config.settings.getWhere()"
   ]
  },
  {
   "cell_type": "markdown",
   "metadata": {},
   "source": [
    "## Toggle debug messages"
   ]
  },
  {
   "cell_type": "code",
   "execution_count": 5,
   "metadata": {},
   "outputs": [
    {
     "name": "stdout",
     "output_type": "stream",
     "text": [
      "Print debug messages: True\n",
      "Print debug messages: False\n"
     ]
    }
   ],
   "source": [
    "print(\"Print debug messages: %s\" % biu.config.settings.getDebugState())\n",
    "\n",
    "biu.config.settings.setDebugState(False)\n",
    "\n",
    "print(\"Print debug messages: %s\" % biu.config.settings.getDebugState())"
   ]
  },
  {
   "cell_type": "markdown",
   "metadata": {},
   "source": [
    "## Pipeline execution locations\n",
    "\n",
    "When you run a pipeline, it is executed in a specific location.\n",
    "You can modify this location with "
   ]
  },
  {
   "cell_type": "code",
   "execution_count": 6,
   "metadata": {},
   "outputs": [
    {
     "name": "stdout",
     "output_type": "stream",
     "text": [
      "/exports/molepi/tgehrmann/pipeline_runs\n"
     ]
    }
   ],
   "source": [
    "biu.config.settings.setPipelineOutdir('another/directory')\n",
    "print(biu.config.settings.getPipelineOutdir())"
   ]
  },
  {
   "cell_type": "markdown",
   "metadata": {},
   "source": [
    "## Setting any setting value\n",
    "\n",
    "Settings are stored in a dictionary that can be viewed with `biu.config.settings.settings`. Most setting variables have reasonable names. You can set any setting variable (or define new ones) with the `setSettings` function. You can retrieve any value with the `getSetting` function."
   ]
  },
  {
   "cell_type": "code",
   "execution_count": 7,
   "metadata": {},
   "outputs": [
    {
     "data": {
      "text/plain": [
       "{'where': '/another/directory',\n",
       " 'neo4j_install_dir': '/exports/molepi/tgehrmann/src/neo4j',\n",
       " 'debug_messages': False,\n",
       " 'debug_stream': 'stderr',\n",
       " 'pipelines_base': '/exports/molepi/tgehrmann/pipeline_runs',\n",
       " 'pipelines_common_name': 'common',\n",
       " 'pipelines_temporary_indir_name': 'temporary_input',\n",
       " 'pipelines_conda_prefix_name': 'conda',\n",
       " 'pipelines_outdir_base': 'another/directory'}"
      ]
     },
     "execution_count": 7,
     "metadata": {},
     "output_type": "execute_result"
    }
   ],
   "source": [
    "biu.config.settings.settings"
   ]
  },
  {
   "cell_type": "code",
   "execution_count": 8,
   "metadata": {},
   "outputs": [
    {
     "data": {
      "text/plain": [
       "'myValue'"
      ]
     },
     "execution_count": 8,
     "metadata": {},
     "output_type": "execute_result"
    }
   ],
   "source": [
    "biu.config.settings.setSettings(my_arbitrary_setting='myValue')\n",
    "biu.config.settings.getSetting(\"my_arbitrary_setting\")"
   ]
  },
  {
   "cell_type": "code",
   "execution_count": null,
   "metadata": {},
   "outputs": [],
   "source": []
  }
 ],
 "metadata": {
  "kernelspec": {
   "display_name": "Python 3",
   "language": "python",
   "name": "python3"
  },
  "language_info": {
   "codemirror_mode": {
    "name": "ipython",
    "version": 3
   },
   "file_extension": ".py",
   "mimetype": "text/x-python",
   "name": "python",
   "nbconvert_exporter": "python",
   "pygments_lexer": "ipython3",
   "version": "3.6.3"
  }
 },
 "nbformat": 4,
 "nbformat_minor": 2
}
